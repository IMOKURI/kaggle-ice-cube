{
 "cells": [
  {
   "cell_type": "code",
   "execution_count": 1,
   "id": "63a84582",
   "metadata": {
    "scrolled": false
   },
   "outputs": [],
   "source": [
    "import os"
   ]
  },
  {
   "cell_type": "code",
   "execution_count": 2,
   "id": "21ac9300-7afc-4c34-b727-3f757bd22d44",
   "metadata": {
    "scrolled": false
   },
   "outputs": [],
   "source": [
    "import logging\n",
    "\n",
    "logging.basicConfig(\n",
    "    # filename=__file__.replace('.py', '.log'),\n",
    "    level=logging.getLevelName(\"INFO\"),\n",
    "    format=\"%(asctime)s [%(levelname)s] [%(module)s] %(message)s\",\n",
    ")\n",
    "\n",
    "log = logging.getLogger(__name__)"
   ]
  },
  {
   "cell_type": "code",
   "execution_count": 3,
   "id": "73d3a3c4-3842-4a75-ade1-8e8490986426",
   "metadata": {
    "scrolled": false
   },
   "outputs": [
    {
     "name": "stderr",
     "output_type": "stream",
     "text": [
      "2023-03-23 10:01:54,570 [INFO] [365646948] in_kaggle: False\n"
     ]
    }
   ],
   "source": [
    "import sys\n",
    "\n",
    "\n",
    "def in_kaggle():\n",
    "    return \"kaggle_web_client\" in sys.modules\n",
    "\n",
    "\n",
    "log.info(f\"in_kaggle: {in_kaggle()}\")"
   ]
  },
  {
   "cell_type": "code",
   "execution_count": 4,
   "id": "d49a168b-dfe3-4b6e-85fe-0eacb0ec3e39",
   "metadata": {
    "scrolled": false
   },
   "outputs": [],
   "source": [
    "##### INSERT SOURCE CODE HERE FOR SUBMISSION #####\n",
    "\n",
    "# PLACE HOLDER"
   ]
  },
  {
   "cell_type": "code",
   "execution_count": 5,
   "id": "1299871f-c46c-4146-97a0-bb5994089400",
   "metadata": {
    "scrolled": false
   },
   "outputs": [
    {
     "name": "stdout",
     "output_type": "stream",
     "text": [
      "/home/jovyan/working\n"
     ]
    }
   ],
   "source": [
    "if in_kaggle():\n",
    "    !cp -r /kaggle/input/graphnet-and-dependencies/software .\n",
    "    !pip install -q /kaggle/working/software/dependencies/torch-1.11.0+cu115-cp37-cp37m-linux_x86_64.whl\n",
    "    !pip install -q /kaggle/working/software/dependencies/torch_cluster-1.6.0-cp37-cp37m-linux_x86_64.whl\n",
    "    !pip install -q /kaggle/working/software/dependencies/torch_scatter-2.0.9-cp37-cp37m-linux_x86_64.whl\n",
    "    !pip install -q /kaggle/working/software/dependencies/torch_sparse-0.6.13-cp37-cp37m-linux_x86_64.whl\n",
    "    !pip install -q /kaggle/working/software/dependencies/torch_geometric-2.2.0.tar.gz\n",
    "    !cd software/graphnet; pip install -q --no-index --find-links=\"/kaggle/working/software/dependencies\" -e .[torch]\n",
    "\n",
    "    !cp -r /kaggle/input/hydra-core /kaggle/working\n",
    "    !mv /kaggle/working/hydra-core/antlr4-python3-runtime-4.9.3.tar.gz.tmp /kaggle/working/hydra-core/antlr4-python3-runtime-4.9.3.tar.gz\n",
    "    !pip install -q /kaggle/working/hydra-core/*\n",
    "\n",
    "else:\n",
    "    %cd .."
   ]
  },
  {
   "cell_type": "code",
   "execution_count": 6,
   "id": "9c2109e9-7667-44a0-83b9-7859477cebd0",
   "metadata": {
    "scrolled": false
   },
   "outputs": [
    {
     "name": "stdout",
     "output_type": "stream",
     "text": [
      "\u001b[1;34mgraphnet\u001b[0m: \u001b[32mINFO    \u001b[0m 2023-03-23 10:01:57 - get_logger - Writing log to \u001b[1mlogs/graphnet_20230323-100157.log\u001b[0m\n",
      "/opt/conda/lib/python3.7/site-packages/torchvision/io/image.py:13: UserWarning: Failed to load image Python extension: /opt/conda/lib/python3.7/site-packages/torchvision/image.so: undefined symbol: _ZN3c104impl8GPUTrace13gpuTraceStateE\n",
      "  warn(f\"Failed to load image Python extension: {e}\")\n",
      "2023-03-23 10:01:58.225361: I tensorflow/core/platform/cpu_feature_guard.cc:193] This TensorFlow binary is optimized with oneAPI Deep Neural Network Library (oneDNN) to use the following CPU instructions in performance-critical operations:  AVX2 AVX512F AVX512_VNNI FMA\n",
      "To enable them in other operations, rebuild TensorFlow with the appropriate compiler flags.\n",
      "2023-03-23 10:01:58.401083: I tensorflow/core/util/port.cc:104] oneDNN custom operations are on. You may see slightly different numerical results due to floating-point round-off errors from different computation orders. To turn them off, set the environment variable `TF_ENABLE_ONEDNN_OPTS=0`.\n",
      "2023-03-23 10:01:59.486467: W tensorflow/compiler/xla/stream_executor/platform/default/dso_loader.cc:64] Could not load dynamic library 'libnvinfer.so.7'; dlerror: libnvinfer.so.7: cannot open shared object file: No such file or directory; LD_LIBRARY_PATH: /usr/local/cuda/lib64:/usr/local/cuda/lib:/usr/local/lib/x86_64-linux-gnu:/usr/local/nvidia/lib:/usr/local/nvidia/lib64:/usr/local/nvidia/lib:/usr/local/nvidia/lib64:/opt/conda/lib\n",
      "2023-03-23 10:01:59.486564: W tensorflow/compiler/xla/stream_executor/platform/default/dso_loader.cc:64] Could not load dynamic library 'libnvinfer_plugin.so.7'; dlerror: libnvinfer_plugin.so.7: cannot open shared object file: No such file or directory; LD_LIBRARY_PATH: /usr/local/cuda/lib64:/usr/local/cuda/lib:/usr/local/lib/x86_64-linux-gnu:/usr/local/nvidia/lib:/usr/local/nvidia/lib64:/usr/local/nvidia/lib:/usr/local/nvidia/lib64:/opt/conda/lib\n",
      "2023-03-23 10:01:59.486575: W tensorflow/compiler/tf2tensorrt/utils/py_utils.cc:38] TF-TRT Warning: Cannot dlopen some TensorRT libraries. If you would like to use Nvidia GPU with TensorRT, please make sure the missing libraries mentioned above are installed properly.\n",
      "\u001b[1;34mgraphnet\u001b[0m: \u001b[33mWARNING \u001b[0m 2023-03-23 10:02:01 - warn_once - `icecube` not available. Some functionality may be missing.\u001b[0m\n",
      "WARNING:graphnet:`icecube` not available. Some functionality may be missing.\n",
      "2023-03-23 10:02:02,272 [INFO][utils] Output directory: output/2023-03-23_10-02-02\n",
      "2023-03-23 10:02:02,272 [INFO][utils] Python version: 3.7.12 | packaged by conda-forge | (default, Oct 26 2021, 06:08:53) \n",
      "[GCC 9.4.0]\n",
      "2023-03-23 10:02:02,272 [INFO][utils] PyTorch version: 1.11.0+cu115\n",
      "2023-03-23 10:02:02,273 [INFO][utils] Fix seed: 440\n",
      "2023-03-23 10:02:07,795 [INFO][11-inference-parquet] Batch [391] ...\n",
      "2023-03-23 10:02:30,890 [INFO][instantiator] Created a temporary directory at /tmp/tmp0_q8z03y\n",
      "2023-03-23 10:02:30,891 [INFO][instantiator] Writing /tmp/tmp0_q8z03y/_remote_module_non_sriptable.py\n",
      "2023-03-23 10:02:31,005 [INFO][model] Load model from: dynedge-pretrained/dynedge_pretrained_batch_1_to_50/state_dict.pth\n",
      "2023-03-23 10:02:31,006 [INFO][11-inference-parquet] Predict by default features.\n",
      "GPU available: True (cuda), used: True\n",
      "TPU available: False, using: 0 TPU cores\n",
      "IPU available: False, using: 0 IPUs\n",
      "HPU available: False, using: 0 HPUs\n",
      "GPU available: True (cuda), used: True\n",
      "TPU available: False, using: 0 TPU cores\n",
      "IPU available: False, using: 0 IPUs\n",
      "HPU available: False, using: 0 HPUs\n",
      "LOCAL_RANK: 0 - CUDA_VISIBLE_DEVICES: [0,1,2]\n",
      "Predicting DataLoader 0: 100%|████████████| 12500/12500 [03:16<00:00, 63.67it/s]\n",
      "2023-03-23 10:05:52,647 [INFO][11-inference-parquet] Predict by features that invert x and y.\n",
      "\u001b[1;34mgraphnet\u001b[0m: \u001b[33mWARNING \u001b[0m 2023-03-23 10:06:15 - StandardModel.warning - A `Trainer` instance has already been constructed, possibly when the model was trained. Will use this to get predictions. Argument `gpus = [0]` will be ignored.\u001b[0m\n",
      "2023-03-23 10:06:15,037 [WARNING][logging] A `Trainer` instance has already been constructed, possibly when the model was trained. Will use this to get predictions. Argument `gpus = [0]` will be ignored.\n",
      "LOCAL_RANK: 0 - CUDA_VISIBLE_DEVICES: [0,1,2]\n",
      "Predicting DataLoader 0: 100%|████████████| 12500/12500 [03:21<00:00, 62.15it/s]\n",
      "2023-03-23 10:09:36,937 [INFO][11-inference-parquet] Ensemble 2.\n",
      "2023-03-23 10:09:38,860 [INFO][11-inference-parquet] Make submission.\n",
      "2023-03-23 10:09:41,336 [INFO][11-inference-parquet] results columns: Index(['event_id', 'direction_x', 'direction_y', 'direction_z',\n",
      "       'direction_kappa', 'zenith_x', 'azimuth_x', 'sigma', 'azimuth_y',\n",
      "       'zenith_y'],\n",
      "      dtype='object')\n",
      "2023-03-23 10:09:41,336 [INFO][11-inference-parquet] submission columns: Index(['azimuth', 'zenith'], dtype='object')\n",
      "2023-03-23 10:09:41,336 [INFO][11-inference-parquet] Done.\n"
     ]
    }
   ],
   "source": [
    "!python 11-inference-parquet.py settings.in_kaggle={in_kaggle()}"
   ]
  },
  {
   "cell_type": "code",
   "execution_count": 7,
   "id": "12977ed4-245a-4130-b9a5-6ca7ed6f9ec9",
   "metadata": {
    "scrolled": false
   },
   "outputs": [
    {
     "name": "stdout",
     "output_type": "stream",
     "text": [
      "2023-03-23 10:09:46,601 [INFO][utils] Output directory: output/2023-03-23_10-09-46\n",
      "2023-03-23 10:09:46,602 [INFO][utils] Python version: 3.7.12 | packaged by conda-forge | (default, Oct 26 2021, 06:08:53) \n",
      "[GCC 9.4.0]\n",
      "2023-03-23 10:09:46,602 [INFO][utils] PyTorch version: 1.11.0+cu115\n",
      "2023-03-23 10:09:46,602 [INFO][utils] Fix seed: 440\n",
      "2023-03-23 10:09:46,980 [INFO][15-validation] Base score: 1.0182490807456754\n",
      "2023-03-23 10:09:46,991 [INFO][15-validation] Num of low sigma events: 51593, Num of high sigma events: 148407\n",
      "2023-03-23 10:09:47,039 [INFO][15-validation] Low sigma score: 0.20877596823773575, High sigma score: 1.2996586254007265\n",
      "2023-03-23 10:09:47,302 [INFO][15-validation] Done.\n"
     ]
    }
   ],
   "source": [
    "!python 15-validation.py settings.in_kaggle={in_kaggle()}"
   ]
  },
  {
   "cell_type": "code",
   "execution_count": 8,
   "id": "aebd616c",
   "metadata": {},
   "outputs": [
    {
     "name": "stdout",
     "output_type": "stream",
     "text": [
      "\u001b[1;34mgraphnet\u001b[0m: \u001b[32mINFO    \u001b[0m 2023-03-23 10:09:50 - get_logger - Writing log to \u001b[1mlogs/graphnet_20230323-100950.log\u001b[0m\n",
      "/opt/conda/lib/python3.7/site-packages/torchvision/io/image.py:13: UserWarning: Failed to load image Python extension: /opt/conda/lib/python3.7/site-packages/torchvision/image.so: undefined symbol: _ZN3c104impl8GPUTrace13gpuTraceStateE\n",
      "  warn(f\"Failed to load image Python extension: {e}\")\n",
      "2023-03-23 10:09:51.446962: I tensorflow/core/platform/cpu_feature_guard.cc:193] This TensorFlow binary is optimized with oneAPI Deep Neural Network Library (oneDNN) to use the following CPU instructions in performance-critical operations:  AVX2 AVX512F AVX512_VNNI FMA\n",
      "To enable them in other operations, rebuild TensorFlow with the appropriate compiler flags.\n",
      "2023-03-23 10:09:51.641485: I tensorflow/core/util/port.cc:104] oneDNN custom operations are on. You may see slightly different numerical results due to floating-point round-off errors from different computation orders. To turn them off, set the environment variable `TF_ENABLE_ONEDNN_OPTS=0`.\n",
      "2023-03-23 10:09:52.701217: W tensorflow/compiler/xla/stream_executor/platform/default/dso_loader.cc:64] Could not load dynamic library 'libnvinfer.so.7'; dlerror: libnvinfer.so.7: cannot open shared object file: No such file or directory; LD_LIBRARY_PATH: /usr/local/cuda/lib64:/usr/local/cuda/lib:/usr/local/lib/x86_64-linux-gnu:/usr/local/nvidia/lib:/usr/local/nvidia/lib64:/usr/local/nvidia/lib:/usr/local/nvidia/lib64:/opt/conda/lib\n",
      "2023-03-23 10:09:52.701315: W tensorflow/compiler/xla/stream_executor/platform/default/dso_loader.cc:64] Could not load dynamic library 'libnvinfer_plugin.so.7'; dlerror: libnvinfer_plugin.so.7: cannot open shared object file: No such file or directory; LD_LIBRARY_PATH: /usr/local/cuda/lib64:/usr/local/cuda/lib:/usr/local/lib/x86_64-linux-gnu:/usr/local/nvidia/lib:/usr/local/nvidia/lib64:/usr/local/nvidia/lib:/usr/local/nvidia/lib64:/opt/conda/lib\n",
      "2023-03-23 10:09:52.701327: W tensorflow/compiler/tf2tensorrt/utils/py_utils.cc:38] TF-TRT Warning: Cannot dlopen some TensorRT libraries. If you would like to use Nvidia GPU with TensorRT, please make sure the missing libraries mentioned above are installed properly.\n",
      "\u001b[1;34mgraphnet\u001b[0m: \u001b[33mWARNING \u001b[0m 2023-03-23 10:09:54 - warn_once - `icecube` not available. Some functionality may be missing.\u001b[0m\n",
      "WARNING:graphnet:`icecube` not available. Some functionality may be missing.\n",
      "2023-03-23 10:09:55,482 [INFO][utils] Output directory: output/2023-03-23_10-09-55\n",
      "2023-03-23 10:09:55,482 [INFO][utils] Python version: 3.7.12 | packaged by conda-forge | (default, Oct 26 2021, 06:08:53) \n",
      "[GCC 9.4.0]\n",
      "2023-03-23 10:09:55,482 [INFO][utils] PyTorch version: 1.11.0+cu115\n",
      "2023-03-23 10:09:55,483 [INFO][utils] Fix seed: 440\n",
      "2023-03-23 10:09:55,484 [INFO][11-inference-parquet] Stage2 inference.\n",
      "2023-03-23 10:10:01,606 [INFO][11-inference-parquet] Batch [391] ...\n",
      "2023-03-23 10:10:24,593 [INFO][instantiator] Created a temporary directory at /tmp/tmpamq29r93\n",
      "2023-03-23 10:10:24,594 [INFO][instantiator] Writing /tmp/tmpamq29r93/_remote_module_non_sriptable.py\n",
      "2023-03-23 10:10:24,687 [INFO][model] Load model from: dynedge-pretrained/dynedge_pretrained_batch_1_to_50/state_dict.pth\n",
      "2023-03-23 10:10:24,688 [INFO][11-inference-parquet] Predict by default features.\n",
      "GPU available: True (cuda), used: True\n",
      "TPU available: False, using: 0 TPU cores\n",
      "IPU available: False, using: 0 IPUs\n",
      "HPU available: False, using: 0 HPUs\n",
      "GPU available: True (cuda), used: True\n",
      "TPU available: False, using: 0 TPU cores\n",
      "IPU available: False, using: 0 IPUs\n",
      "HPU available: False, using: 0 HPUs\n",
      "LOCAL_RANK: 0 - CUDA_VISIBLE_DEVICES: [0,1,2]\n",
      "Predicting DataLoader 0: 100%|██████████████| 3225/3225 [00:50<00:00, 63.96it/s]\n",
      "2023-03-23 10:11:20,238 [INFO][11-inference-parquet] Predict by features that invert x and y.\n",
      "\u001b[1;34mgraphnet\u001b[0m: \u001b[33mWARNING \u001b[0m 2023-03-23 10:11:43 - StandardModel.warning - A `Trainer` instance has already been constructed, possibly when the model was trained. Will use this to get predictions. Argument `gpus = [0]` will be ignored.\u001b[0m\n",
      "2023-03-23 10:11:43,091 [WARNING][logging] A `Trainer` instance has already been constructed, possibly when the model was trained. Will use this to get predictions. Argument `gpus = [0]` will be ignored.\n",
      "LOCAL_RANK: 0 - CUDA_VISIBLE_DEVICES: [0,1,2]\n",
      "Predicting DataLoader 0: 100%|██████████████| 3225/3225 [00:53<00:00, 60.80it/s]\n",
      "2023-03-23 10:12:36,818 [INFO][11-inference-parquet] Ensemble 2.\n",
      "2023-03-23 10:12:39,251 [INFO][11-inference-parquet] Make submission.\n",
      "2023-03-23 10:12:40,149 [INFO][11-inference-parquet] results columns: Index(['event_id', 'direction_x', 'direction_y', 'direction_z',\n",
      "       'direction_kappa', 'zenith_x', 'azimuth_x', 'sigma', 'azimuth_y',\n",
      "       'zenith_y'],\n",
      "      dtype='object')\n",
      "2023-03-23 10:12:40,150 [INFO][11-inference-parquet] submission columns: Index(['azimuth', 'zenith'], dtype='object')\n",
      "2023-03-23 10:12:40,150 [INFO][11-inference-parquet] Done.\n"
     ]
    }
   ],
   "source": [
    "!python 11-inference-parquet.py settings.in_kaggle={in_kaggle()} training_params.stage2=True"
   ]
  },
  {
   "cell_type": "code",
   "execution_count": 9,
   "id": "d0235fb8",
   "metadata": {},
   "outputs": [
    {
     "name": "stdout",
     "output_type": "stream",
     "text": [
      "2023-03-23 10:12:45,386 [INFO][utils] Output directory: output/2023-03-23_10-12-45\n",
      "2023-03-23 10:12:45,386 [INFO][utils] Python version: 3.7.12 | packaged by conda-forge | (default, Oct 26 2021, 06:08:53) \n",
      "[GCC 9.4.0]\n",
      "2023-03-23 10:12:45,386 [INFO][utils] PyTorch version: 1.11.0+cu115\n",
      "2023-03-23 10:12:45,386 [INFO][utils] Fix seed: 440\n",
      "2023-03-23 10:12:45,490 [INFO][15-validation] Base score: 0.20902303516008708\n",
      "2023-03-23 10:12:45,493 [INFO][15-validation] Num of low sigma events: 51251, Num of high sigma events: 342\n",
      "2023-03-23 10:12:45,511 [INFO][15-validation] Low sigma score: 0.20501445372633975, High sigma score: 0.8097359213033148\n",
      "2023-03-23 10:12:45,511 [INFO][15-validation] Done.\n"
     ]
    }
   ],
   "source": [
    "!python 15-validation.py settings.in_kaggle={in_kaggle()} training_params.stage2=True"
   ]
  },
  {
   "cell_type": "code",
   "execution_count": 17,
   "id": "6772437e",
   "metadata": {},
   "outputs": [
    {
     "name": "stdout",
     "output_type": "stream",
     "text": [
      "2023-03-23 12:29:49,367 [INFO][utils] Output directory: output/2023-03-23_12-29-49\n",
      "2023-03-23 12:29:49,367 [INFO][utils] Python version: 3.7.12 | packaged by conda-forge | (default, Oct 26 2021, 06:08:53) \n",
      "[GCC 9.4.0]\n",
      "2023-03-23 12:29:49,367 [INFO][utils] PyTorch version: 1.11.0+cu115\n",
      "2023-03-23 12:29:49,367 [INFO][utils] Fix seed: 440\n",
      "2023-03-23 12:29:55,460 [INFO][12-inference-linear-regression] Batch [391] ...\n",
      "100%|██████████████████████████████████| 148407/148407 [04:39<00:00, 530.20it/s]\n",
      "2023-03-23 12:34:40,825 [INFO][12-inference-linear-regression] Make submission.\n",
      "2023-03-23 12:34:42,850 [INFO][12-inference-linear-regression] results columns: Index(['event_id', 'azimuth_x', 'zenith_x', 'direction_x', 'direction_y',\n",
      "       'direction_z', 'azimuth_y', 'zenith_y'],\n",
      "      dtype='object')\n",
      "2023-03-23 12:34:42,850 [INFO][12-inference-linear-regression] submission columns: Index(['azimuth', 'zenith'], dtype='object')\n",
      "2023-03-23 12:34:42,850 [INFO][12-inference-linear-regression] Done.\n",
      "\u001b[0m"
     ]
    }
   ],
   "source": [
    "# !python 12-inference-linear-regression.py settings.in_kaggle={in_kaggle()}"
   ]
  },
  {
   "cell_type": "code",
   "execution_count": 18,
   "id": "2d438b5b",
   "metadata": {},
   "outputs": [
    {
     "name": "stdout",
     "output_type": "stream",
     "text": [
      "2023-03-23 12:36:34,746 [INFO][utils] Output directory: output/2023-03-23_12-36-34\n",
      "2023-03-23 12:36:34,746 [INFO][utils] Python version: 3.7.12 | packaged by conda-forge | (default, Oct 26 2021, 06:08:53) \n",
      "[GCC 9.4.0]\n",
      "2023-03-23 12:36:34,746 [INFO][utils] PyTorch version: 1.11.0+cu115\n",
      "2023-03-23 12:36:34,746 [INFO][utils] Fix seed: 440\n",
      "2023-03-23 12:36:34,747 [INFO][15-validation] Validation linear regression.\n",
      "2023-03-23 12:36:35,034 [INFO][15-validation] Base score: 1.5496008113343298\n",
      "2023-03-23 12:36:35,034 [INFO][15-validation] Done.\n"
     ]
    }
   ],
   "source": [
    "# !python 15-validation.py settings.in_kaggle={in_kaggle()} training_params.linear_regression=True"
   ]
  },
  {
   "cell_type": "code",
   "execution_count": 10,
   "id": "2a82123b",
   "metadata": {},
   "outputs": [
    {
     "name": "stdout",
     "output_type": "stream",
     "text": [
      "2023-03-23 10:12:48,731 [INFO][utils] Output directory: output/2023-03-23_10-12-48\n",
      "2023-03-23 10:12:48,731 [INFO][utils] Python version: 3.7.12 | packaged by conda-forge | (default, Oct 26 2021, 06:08:53) \n",
      "[GCC 9.4.0]\n",
      "2023-03-23 10:12:48,731 [INFO][utils] PyTorch version: 1.11.0+cu115\n",
      "2023-03-23 10:12:48,731 [INFO][utils] Fix seed: 440\n",
      "2023-03-23 10:12:49,237 [INFO][20-ensemble] Base score: 1.0178417468823535\n",
      "2023-03-23 10:12:49,264 [INFO][20-ensemble] Num of low sigma events: 51401, Num of high sigma events: 148599\n",
      "2023-03-23 10:12:49,312 [INFO][20-ensemble] Low sigma score: 0.2080248179986346, High sigma score: 1.2990279614745834\n",
      "2023-03-23 10:12:49,312 [INFO][20-ensemble] Done.\n"
     ]
    }
   ],
   "source": [
    "!python 20-ensemble.py settings.in_kaggle={in_kaggle()}"
   ]
  },
  {
   "cell_type": "code",
   "execution_count": null,
   "id": "fa8d13a6",
   "metadata": {},
   "outputs": [],
   "source": []
  }
 ],
 "metadata": {
  "kernelspec": {
   "display_name": "Python 3 (ipykernel)",
   "language": "python",
   "name": "python3"
  },
  "language_info": {
   "codemirror_mode": {
    "name": "ipython",
    "version": 3
   },
   "file_extension": ".py",
   "mimetype": "text/x-python",
   "name": "python",
   "nbconvert_exporter": "python",
   "pygments_lexer": "ipython3",
   "version": "3.7.12"
  }
 },
 "nbformat": 4,
 "nbformat_minor": 5
}
