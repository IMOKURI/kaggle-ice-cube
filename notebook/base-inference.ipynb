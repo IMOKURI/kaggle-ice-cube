{
 "cells": [
  {
   "cell_type": "code",
   "execution_count": 1,
   "id": "63a84582",
   "metadata": {
    "scrolled": false
   },
   "outputs": [],
   "source": [
    "import os"
   ]
  },
  {
   "cell_type": "code",
   "execution_count": 2,
   "id": "21ac9300-7afc-4c34-b727-3f757bd22d44",
   "metadata": {
    "scrolled": false
   },
   "outputs": [],
   "source": [
    "import logging\n",
    "\n",
    "logging.basicConfig(\n",
    "    # filename=__file__.replace('.py', '.log'),\n",
    "    level=logging.getLevelName(\"INFO\"),\n",
    "    format=\"%(asctime)s [%(levelname)s] [%(module)s] %(message)s\",\n",
    ")\n",
    "\n",
    "log = logging.getLogger(__name__)"
   ]
  },
  {
   "cell_type": "code",
   "execution_count": 3,
   "id": "73d3a3c4-3842-4a75-ade1-8e8490986426",
   "metadata": {
    "scrolled": false
   },
   "outputs": [
    {
     "name": "stderr",
     "output_type": "stream",
     "text": [
      "2023-03-21 12:12:27,520 [INFO] [365646948] in_kaggle: False\n"
     ]
    }
   ],
   "source": [
    "import sys\n",
    "\n",
    "\n",
    "def in_kaggle():\n",
    "    return \"kaggle_web_client\" in sys.modules\n",
    "\n",
    "\n",
    "log.info(f\"in_kaggle: {in_kaggle()}\")"
   ]
  },
  {
   "cell_type": "code",
   "execution_count": 4,
   "id": "d49a168b-dfe3-4b6e-85fe-0eacb0ec3e39",
   "metadata": {
    "scrolled": false
   },
   "outputs": [],
   "source": [
    "##### INSERT SOURCE CODE HERE FOR SUBMISSION #####\n",
    "\n",
    "# PLACE HOLDER"
   ]
  },
  {
   "cell_type": "code",
   "execution_count": 5,
   "id": "1299871f-c46c-4146-97a0-bb5994089400",
   "metadata": {
    "scrolled": false
   },
   "outputs": [
    {
     "name": "stdout",
     "output_type": "stream",
     "text": [
      "/home/jovyan/working\n"
     ]
    }
   ],
   "source": [
    "if in_kaggle():\n",
    "    !cp -r /kaggle/input/graphnet-and-dependencies/software .\n",
    "    !pip install -q /kaggle/working/software/dependencies/torch-1.11.0+cu115-cp37-cp37m-linux_x86_64.whl\n",
    "    !pip install -q /kaggle/working/software/dependencies/torch_cluster-1.6.0-cp37-cp37m-linux_x86_64.whl\n",
    "    !pip install -q /kaggle/working/software/dependencies/torch_scatter-2.0.9-cp37-cp37m-linux_x86_64.whl\n",
    "    !pip install -q /kaggle/working/software/dependencies/torch_sparse-0.6.13-cp37-cp37m-linux_x86_64.whl\n",
    "    !pip install -q /kaggle/working/software/dependencies/torch_geometric-2.2.0.tar.gz\n",
    "    !cd software/graphnet; pip install -q --no-index --find-links=\"/kaggle/working/software/dependencies\" -e .[torch]\n",
    "\n",
    "    !cp -r /kaggle/input/hydra-core /kaggle/working\n",
    "    !mv /kaggle/working/hydra-core/antlr4-python3-runtime-4.9.3.tar.gz.tmp /kaggle/working/hydra-core/antlr4-python3-runtime-4.9.3.tar.gz\n",
    "    !pip install -q /kaggle/working/hydra-core/*\n",
    "\n",
    "else:\n",
    "    %cd .."
   ]
  },
  {
   "cell_type": "code",
   "execution_count": 6,
   "id": "9c2109e9-7667-44a0-83b9-7859477cebd0",
   "metadata": {
    "scrolled": false
   },
   "outputs": [
    {
     "name": "stdout",
     "output_type": "stream",
     "text": [
      "\u001b[1;34mgraphnet\u001b[0m: \u001b[32mINFO    \u001b[0m 2023-03-21 12:12:32 - get_logger - Writing log to \u001b[1mlogs/graphnet_20230321-121232.log\u001b[0m\n",
      "/opt/conda/lib/python3.7/site-packages/torchvision/io/image.py:13: UserWarning: Failed to load image Python extension: /opt/conda/lib/python3.7/site-packages/torchvision/image.so: undefined symbol: _ZN3c104impl8GPUTrace13gpuTraceStateE\n",
      "  warn(f\"Failed to load image Python extension: {e}\")\n",
      "2023-03-21 12:12:33.408717: I tensorflow/core/platform/cpu_feature_guard.cc:193] This TensorFlow binary is optimized with oneAPI Deep Neural Network Library (oneDNN) to use the following CPU instructions in performance-critical operations:  AVX2 AVX512F AVX512_VNNI FMA\n",
      "To enable them in other operations, rebuild TensorFlow with the appropriate compiler flags.\n",
      "2023-03-21 12:12:33.552985: I tensorflow/core/util/port.cc:104] oneDNN custom operations are on. You may see slightly different numerical results due to floating-point round-off errors from different computation orders. To turn them off, set the environment variable `TF_ENABLE_ONEDNN_OPTS=0`.\n",
      "2023-03-21 12:12:34.619486: W tensorflow/compiler/xla/stream_executor/platform/default/dso_loader.cc:64] Could not load dynamic library 'libnvinfer.so.7'; dlerror: libnvinfer.so.7: cannot open shared object file: No such file or directory; LD_LIBRARY_PATH: /usr/local/cuda/lib64:/usr/local/cuda/lib:/usr/local/lib/x86_64-linux-gnu:/usr/local/nvidia/lib:/usr/local/nvidia/lib64:/usr/local/nvidia/lib:/usr/local/nvidia/lib64:/opt/conda/lib\n",
      "2023-03-21 12:12:34.619587: W tensorflow/compiler/xla/stream_executor/platform/default/dso_loader.cc:64] Could not load dynamic library 'libnvinfer_plugin.so.7'; dlerror: libnvinfer_plugin.so.7: cannot open shared object file: No such file or directory; LD_LIBRARY_PATH: /usr/local/cuda/lib64:/usr/local/cuda/lib:/usr/local/lib/x86_64-linux-gnu:/usr/local/nvidia/lib:/usr/local/nvidia/lib64:/usr/local/nvidia/lib:/usr/local/nvidia/lib64:/opt/conda/lib\n",
      "2023-03-21 12:12:34.619599: W tensorflow/compiler/tf2tensorrt/utils/py_utils.cc:38] TF-TRT Warning: Cannot dlopen some TensorRT libraries. If you would like to use Nvidia GPU with TensorRT, please make sure the missing libraries mentioned above are installed properly.\n",
      "\u001b[1;34mgraphnet\u001b[0m: \u001b[33mWARNING \u001b[0m 2023-03-21 12:12:36 - warn_once - `icecube` not available. Some functionality may be missing.\u001b[0m\n",
      "WARNING:graphnet:`icecube` not available. Some functionality may be missing.\n",
      "2023-03-21 12:12:37,388 [INFO][utils] Output directory: output/2023-03-21_12-12-37\n",
      "2023-03-21 12:12:37,388 [INFO][utils] Python version: 3.7.12 | packaged by conda-forge | (default, Oct 26 2021, 06:08:53) \n",
      "[GCC 9.4.0]\n",
      "2023-03-21 12:12:37,388 [INFO][utils] PyTorch version: 1.11.0+cu115\n",
      "2023-03-21 12:12:37,388 [INFO][utils] Fix seed: 440\n",
      "2023-03-21 12:12:43,334 [INFO][11-inference-parquet] Batch [391] ...\n",
      "2023-03-21 12:13:06,463 [INFO][instantiator] Created a temporary directory at /tmp/tmp3v8jzyup\n",
      "2023-03-21 12:13:06,464 [INFO][instantiator] Writing /tmp/tmp3v8jzyup/_remote_module_non_sriptable.py\n",
      "2023-03-21 12:13:06,597 [INFO][11-inference-parquet] Predict by default features.\n",
      "GPU available: True (cuda), used: True\n",
      "TPU available: False, using: 0 TPU cores\n",
      "IPU available: False, using: 0 IPUs\n",
      "HPU available: False, using: 0 HPUs\n",
      "GPU available: True (cuda), used: True\n",
      "TPU available: False, using: 0 TPU cores\n",
      "IPU available: False, using: 0 IPUs\n",
      "HPU available: False, using: 0 HPUs\n",
      "LOCAL_RANK: 0 - CUDA_VISIBLE_DEVICES: [0,1,2]\n",
      "Predicting DataLoader 0: 100%|████████████| 12500/12500 [03:20<00:00, 62.21it/s]\n",
      "2023-03-21 12:16:32,806 [INFO][11-inference-parquet] Predict by features that invert x and y.\n",
      "\u001b[1;34mgraphnet\u001b[0m: \u001b[33mWARNING \u001b[0m 2023-03-21 12:16:55 - StandardModel.warning - A `Trainer` instance has already been constructed, possibly when the model was trained. Will use this to get predictions. Argument `gpus = [0]` will be ignored.\u001b[0m\n",
      "2023-03-21 12:16:55,273 [WARNING][logging] A `Trainer` instance has already been constructed, possibly when the model was trained. Will use this to get predictions. Argument `gpus = [0]` will be ignored.\n",
      "LOCAL_RANK: 0 - CUDA_VISIBLE_DEVICES: [0,1,2]\n",
      "Predicting DataLoader 0: 100%|████████████| 12500/12500 [03:19<00:00, 62.59it/s]\n",
      "2023-03-21 12:20:15,769 [INFO][11-inference-parquet] Ensemble 2.\n",
      "2023-03-21 12:20:18,508 [INFO][11-inference-parquet] Make submission.\n",
      "2023-03-21 12:20:20,849 [INFO][11-inference-parquet] Done.\n"
     ]
    }
   ],
   "source": [
    "!python 11-inference-parquet.py settings.in_kaggle={in_kaggle()}"
   ]
  },
  {
   "cell_type": "code",
   "execution_count": 7,
   "id": "12977ed4-245a-4130-b9a5-6ca7ed6f9ec9",
   "metadata": {
    "scrolled": false
   },
   "outputs": [
    {
     "name": "stdout",
     "output_type": "stream",
     "text": [
      "2023-03-21 12:21:02,221 [INFO][utils] Output directory: output/2023-03-21_12-21-02\n",
      "2023-03-21 12:21:02,221 [INFO][utils] Python version: 3.7.12 | packaged by conda-forge | (default, Oct 26 2021, 06:08:53) \n",
      "[GCC 9.4.0]\n",
      "2023-03-21 12:21:02,221 [INFO][utils] PyTorch version: 1.11.0+cu115\n",
      "2023-03-21 12:21:02,222 [INFO][utils] Fix seed: 440\n",
      "2023-03-21 12:21:02,602 [INFO][15-validation] Base score: 1.018252933236456\n",
      "2023-03-21 12:21:02,675 [INFO][15-validation] Num of low sigma events: 51596, Num of high sigma events: 148404\n",
      "2023-03-21 12:21:02,744 [INFO][15-validation] Low sigma score: 0.2088351391454522, High sigma score: 1.2996652968348734\n",
      "2023-03-21 12:21:03,005 [INFO][15-validation] Done.\n"
     ]
    }
   ],
   "source": [
    "!python 15-validation.py settings.in_kaggle={in_kaggle()}"
   ]
  },
  {
   "cell_type": "code",
   "execution_count": 10,
   "id": "aebd616c",
   "metadata": {},
   "outputs": [
    {
     "name": "stdout",
     "output_type": "stream",
     "text": [
      "\u001b[1;34mgraphnet\u001b[0m: \u001b[32mINFO    \u001b[0m 2023-03-21 12:34:01 - get_logger - Writing log to \u001b[1mlogs/graphnet_20230321-123401.log\u001b[0m\n",
      "/opt/conda/lib/python3.7/site-packages/torchvision/io/image.py:13: UserWarning: Failed to load image Python extension: /opt/conda/lib/python3.7/site-packages/torchvision/image.so: undefined symbol: _ZN3c104impl8GPUTrace13gpuTraceStateE\n",
      "  warn(f\"Failed to load image Python extension: {e}\")\n",
      "2023-03-21 12:34:03.329757: I tensorflow/core/platform/cpu_feature_guard.cc:193] This TensorFlow binary is optimized with oneAPI Deep Neural Network Library (oneDNN) to use the following CPU instructions in performance-critical operations:  AVX2 AVX512F AVX512_VNNI FMA\n",
      "To enable them in other operations, rebuild TensorFlow with the appropriate compiler flags.\n",
      "2023-03-21 12:34:03.562444: I tensorflow/core/util/port.cc:104] oneDNN custom operations are on. You may see slightly different numerical results due to floating-point round-off errors from different computation orders. To turn them off, set the environment variable `TF_ENABLE_ONEDNN_OPTS=0`.\n",
      "2023-03-21 12:34:04.628418: W tensorflow/compiler/xla/stream_executor/platform/default/dso_loader.cc:64] Could not load dynamic library 'libnvinfer.so.7'; dlerror: libnvinfer.so.7: cannot open shared object file: No such file or directory; LD_LIBRARY_PATH: /usr/local/cuda/lib64:/usr/local/cuda/lib:/usr/local/lib/x86_64-linux-gnu:/usr/local/nvidia/lib:/usr/local/nvidia/lib64:/usr/local/nvidia/lib:/usr/local/nvidia/lib64:/opt/conda/lib\n",
      "2023-03-21 12:34:04.628514: W tensorflow/compiler/xla/stream_executor/platform/default/dso_loader.cc:64] Could not load dynamic library 'libnvinfer_plugin.so.7'; dlerror: libnvinfer_plugin.so.7: cannot open shared object file: No such file or directory; LD_LIBRARY_PATH: /usr/local/cuda/lib64:/usr/local/cuda/lib:/usr/local/lib/x86_64-linux-gnu:/usr/local/nvidia/lib:/usr/local/nvidia/lib64:/usr/local/nvidia/lib:/usr/local/nvidia/lib64:/opt/conda/lib\n",
      "2023-03-21 12:34:04.628526: W tensorflow/compiler/tf2tensorrt/utils/py_utils.cc:38] TF-TRT Warning: Cannot dlopen some TensorRT libraries. If you would like to use Nvidia GPU with TensorRT, please make sure the missing libraries mentioned above are installed properly.\n",
      "\u001b[1;34mgraphnet\u001b[0m: \u001b[33mWARNING \u001b[0m 2023-03-21 12:34:06 - warn_once - `icecube` not available. Some functionality may be missing.\u001b[0m\n",
      "WARNING:graphnet:`icecube` not available. Some functionality may be missing.\n",
      "2023-03-21 12:34:07,407 [INFO][utils] Output directory: output/2023-03-21_12-34-07\n",
      "2023-03-21 12:34:07,407 [INFO][utils] Python version: 3.7.12 | packaged by conda-forge | (default, Oct 26 2021, 06:08:53) \n",
      "[GCC 9.4.0]\n",
      "2023-03-21 12:34:07,407 [INFO][utils] PyTorch version: 1.11.0+cu115\n",
      "2023-03-21 12:34:07,408 [INFO][utils] Fix seed: 440\n",
      "2023-03-21 12:34:07,409 [INFO][11-inference-parquet] Stage2 inference.\n",
      "2023-03-21 12:34:13,576 [INFO][11-inference-parquet] Batch [391] ...\n",
      "2023-03-21 12:34:36,805 [INFO][instantiator] Created a temporary directory at /tmp/tmp0mkomd3c\n",
      "2023-03-21 12:34:36,805 [INFO][instantiator] Writing /tmp/tmp0mkomd3c/_remote_module_non_sriptable.py\n",
      "2023-03-21 12:34:36,891 [INFO][11-inference-parquet] Predict by default features.\n",
      "GPU available: True (cuda), used: True\n",
      "TPU available: False, using: 0 TPU cores\n",
      "IPU available: False, using: 0 IPUs\n",
      "HPU available: False, using: 0 HPUs\n",
      "GPU available: True (cuda), used: True\n",
      "TPU available: False, using: 0 TPU cores\n",
      "IPU available: False, using: 0 IPUs\n",
      "HPU available: False, using: 0 HPUs\n",
      "LOCAL_RANK: 0 - CUDA_VISIBLE_DEVICES: [0,1,2]\n",
      "Predicting DataLoader 0: 100%|██████████████| 3225/3225 [00:50<00:00, 63.98it/s]\n",
      "2023-03-21 12:35:32,523 [INFO][11-inference-parquet] Predict by features that invert x and y.\n",
      "\u001b[1;34mgraphnet\u001b[0m: \u001b[33mWARNING \u001b[0m 2023-03-21 12:35:54 - StandardModel.warning - A `Trainer` instance has already been constructed, possibly when the model was trained. Will use this to get predictions. Argument `gpus = [0]` will be ignored.\u001b[0m\n",
      "2023-03-21 12:35:54,873 [WARNING][logging] A `Trainer` instance has already been constructed, possibly when the model was trained. Will use this to get predictions. Argument `gpus = [0]` will be ignored.\n",
      "LOCAL_RANK: 0 - CUDA_VISIBLE_DEVICES: [0,1,2]\n",
      "Predicting DataLoader 0: 100%|██████████████| 3225/3225 [00:50<00:00, 63.93it/s]\n",
      "2023-03-21 12:36:45,883 [INFO][11-inference-parquet] Ensemble 2.\n",
      "2023-03-21 12:36:48,666 [INFO][11-inference-parquet] Make submission.\n",
      "2023-03-21 12:36:49,544 [INFO][11-inference-parquet] Done.\n"
     ]
    }
   ],
   "source": [
    "!python 11-inference-parquet.py settings.in_kaggle={in_kaggle()} training_params.stage2=True"
   ]
  },
  {
   "cell_type": "code",
   "execution_count": 11,
   "id": "d0235fb8",
   "metadata": {},
   "outputs": [
    {
     "name": "stdout",
     "output_type": "stream",
     "text": [
      "2023-03-21 12:37:06,020 [INFO][utils] Output directory: output/2023-03-21_12-37-05\n",
      "2023-03-21 12:37:06,020 [INFO][utils] Python version: 3.7.12 | packaged by conda-forge | (default, Oct 26 2021, 06:08:53) \n",
      "[GCC 9.4.0]\n",
      "2023-03-21 12:37:06,020 [INFO][utils] PyTorch version: 1.11.0+cu115\n",
      "2023-03-21 12:37:06,021 [INFO][utils] Fix seed: 440\n",
      "2023-03-21 12:37:06,123 [INFO][15-validation] Base score: 0.3201601521530674\n",
      "2023-03-21 12:37:06,149 [INFO][15-validation] Num of low sigma events: 43957, Num of high sigma events: 7639\n",
      "2023-03-21 12:37:06,169 [INFO][15-validation] Low sigma score: 0.2302707297098179, High sigma score: 0.8374096929099706\n",
      "2023-03-21 12:37:06,169 [INFO][15-validation] Done.\n"
     ]
    }
   ],
   "source": [
    "!python 15-validation.py settings.in_kaggle={in_kaggle()} training_params.stage2=True"
   ]
  },
  {
   "cell_type": "code",
   "execution_count": 12,
   "id": "2a82123b",
   "metadata": {},
   "outputs": [
    {
     "name": "stdout",
     "output_type": "stream",
     "text": [
      "2023-03-21 12:50:52,547 [INFO][utils] Output directory: output/2023-03-21_12-50-52\n",
      "2023-03-21 12:50:52,547 [INFO][utils] Python version: 3.7.12 | packaged by conda-forge | (default, Oct 26 2021, 06:08:53) \n",
      "[GCC 9.4.0]\n",
      "2023-03-21 12:50:52,547 [INFO][utils] PyTorch version: 1.11.0+cu115\n",
      "2023-03-21 12:50:52,548 [INFO][utils] Fix seed: 440\n",
      "2023-03-21 12:50:53,074 [INFO][20-ensemble] Base score: 1.026111886917367\n",
      "2023-03-21 12:50:53,157 [INFO][20-ensemble] Num of low sigma events: 48363, Num of high sigma events: 151637\n",
      "2023-03-21 12:50:53,215 [INFO][20-ensemble] Low sigma score: 0.20841635731724756, High sigma score: 1.286907134106711\n",
      "2023-03-21 12:50:53,215 [INFO][20-ensemble] Done.\n"
     ]
    }
   ],
   "source": [
    "!python 20-ensemble.py settings.in_kaggle={in_kaggle()}"
   ]
  },
  {
   "cell_type": "code",
   "execution_count": null,
   "id": "fa8d13a6",
   "metadata": {},
   "outputs": [],
   "source": []
  }
 ],
 "metadata": {
  "kernelspec": {
   "display_name": "Python 3 (ipykernel)",
   "language": "python",
   "name": "python3"
  },
  "language_info": {
   "codemirror_mode": {
    "name": "ipython",
    "version": 3
   },
   "file_extension": ".py",
   "mimetype": "text/x-python",
   "name": "python",
   "nbconvert_exporter": "python",
   "pygments_lexer": "ipython3",
   "version": "3.7.12"
  }
 },
 "nbformat": 4,
 "nbformat_minor": 5
}
