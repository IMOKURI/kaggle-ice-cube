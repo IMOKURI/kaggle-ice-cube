{
 "cells": [
  {
   "cell_type": "code",
   "execution_count": 1,
   "id": "bb5a2282-f990-4e42-81e5-98261ec70ba1",
   "metadata": {},
   "outputs": [],
   "source": [
    "import os"
   ]
  },
  {
   "cell_type": "code",
   "execution_count": 2,
   "id": "21ac9300-7afc-4c34-b727-3f757bd22d44",
   "metadata": {},
   "outputs": [],
   "source": [
    "import logging\n",
    "\n",
    "logging.basicConfig(\n",
    "    # filename=__file__.replace('.py', '.log'),\n",
    "    level=logging.getLevelName(\"INFO\"),\n",
    "    format=\"%(asctime)s [%(levelname)s] [%(module)s] %(message)s\",\n",
    ")\n",
    "\n",
    "log = logging.getLogger(__name__)"
   ]
  },
  {
   "cell_type": "code",
   "execution_count": 3,
   "id": "73d3a3c4-3842-4a75-ade1-8e8490986426",
   "metadata": {},
   "outputs": [
    {
     "name": "stderr",
     "output_type": "stream",
     "text": [
      "2023-02-22 01:18:13,401 [INFO] [365646948] in_kaggle: False\n"
     ]
    }
   ],
   "source": [
    "import sys\n",
    "\n",
    "\n",
    "def in_kaggle():\n",
    "    return \"kaggle_web_client\" in sys.modules\n",
    "\n",
    "\n",
    "log.info(f\"in_kaggle: {in_kaggle()}\")"
   ]
  },
  {
   "cell_type": "code",
   "execution_count": 4,
   "id": "d49a168b-dfe3-4b6e-85fe-0eacb0ec3e39",
   "metadata": {},
   "outputs": [],
   "source": [
    "##### INSERT SOURCE CODE HERE FOR SUBMISSION #####\n",
    "\n",
    "# PLACE HOLDER"
   ]
  },
  {
   "cell_type": "code",
   "execution_count": 5,
   "id": "1299871f-c46c-4146-97a0-bb5994089400",
   "metadata": {},
   "outputs": [
    {
     "name": "stdout",
     "output_type": "stream",
     "text": [
      "/home/jovyan/ice-cube\n"
     ]
    }
   ],
   "source": [
    "if in_kaggle():\n",
    "    !cp -r /kaggle/input/graphnet-and-dependencies/software .\n",
    "    !pip install -q /kaggle/working/software/dependencies/torch-1.11.0+cu115-cp37-cp37m-linux_x86_64.whl\n",
    "    !pip install -q /kaggle/working/software/dependencies/torch_cluster-1.6.0-cp37-cp37m-linux_x86_64.whl\n",
    "    !pip install -q /kaggle/working/software/dependencies/torch_scatter-2.0.9-cp37-cp37m-linux_x86_64.whl\n",
    "    !pip install -q /kaggle/working/software/dependencies/torch_sparse-0.6.13-cp37-cp37m-linux_x86_64.whl\n",
    "    !pip install -q /kaggle/working/software/dependencies/torch_geometric-2.0.4.tar.gz\n",
    "    !cd software/graphnet; pip install -q --no-index --find-links=\"/kaggle/working/software/dependencies\" -e .[torch]\n",
    "\n",
    "    !cp -r /kaggle/input/hydra-core /kaggle/working\n",
    "    !mv /kaggle/working/hydra-core/antlr4-python3-runtime-4.9.3.tar.gz.tmp /kaggle/working/hydra-core/antlr4-python3-runtime-4.9.3.tar.gz\n",
    "    !pip install -q /kaggle/working/hydra-core/*\n",
    "\n",
    "else:\n",
    "    %cd .."
   ]
  },
  {
   "cell_type": "code",
   "execution_count": 6,
   "id": "c1c5d506-7c97-4171-8a53-5ffe081ec053",
   "metadata": {},
   "outputs": [],
   "source": [
    "from omegaconf import OmegaConf\n",
    "\n",
    "omega_conf_dir = \"config\"\n",
    "\n",
    "c_main = OmegaConf.load(os.path.join(omega_conf_dir, \"main.yaml\"))\n",
    "c_data = OmegaConf.load(os.path.join(omega_conf_dir, \"data.yaml\"))\n",
    "c = OmegaConf.merge(c_main, c_data)\n",
    "\n",
    "c.settings.debug = False\n",
    "c.wandb.enabled = False"
   ]
  },
  {
   "cell_type": "code",
   "execution_count": 7,
   "id": "2d186387-e9a3-4b0b-bb7b-a521756b6c38",
   "metadata": {},
   "outputs": [
    {
     "name": "stdout",
     "output_type": "stream",
     "text": [
      "/bin/bash: /opt/conda/lib/libtinfo.so.6: no version information available (required by /bin/bash)\n",
      "\u001b[1;34mgraphnet\u001b[0m: \u001b[32mINFO    \u001b[0m 2023-02-22 01:18:15 - get_logger - Writing log to \u001b[1mlogs/graphnet_20230222-011815.log\u001b[0m\n",
      "\u001b[1;34mgraphnet\u001b[0m: \u001b[33mWARNING \u001b[0m 2023-02-22 01:18:15 - warn_once - `icecube` not available. Some functionality may be missing.\u001b[0m\n",
      "/opt/conda/lib/python3.7/site-packages/torchvision/io/image.py:13: UserWarning: Failed to load image Python extension: /opt/conda/lib/python3.7/site-packages/torchvision/image.so: undefined symbol: _ZN5torch3jit17parseSchemaOrNameERKNSt7__cxx1112basic_stringIcSt11char_traitsIcESaIcEEE\n",
      "  warn(f\"Failed to load image Python extension: {e}\")\n",
      "2023-02-22 01:18:17,352 [INFO][utils] Output directory: ../output/2023-02-22_01-18-17\n",
      "2023-02-22 01:18:17,352 [INFO][utils] Python version: 3.7.12 | packaged by conda-forge | (default, Oct 26 2021, 06:08:53) \n",
      "[GCC 9.4.0]\n",
      "2023-02-22 01:18:17,352 [INFO][utils] PyTorch version: 1.11.0+cu115\n",
      "2023-02-22 01:18:17,352 [INFO][utils] Fix seed: 442\n",
      "2023-02-22 01:18:20,434 [INFO][sqlite] ./dataset/train_0_db.db . [1] ...\n",
      "2023-02-22 01:25:24,239 [INFO][sqlite] Conversion Complete!. Database available at ./dataset/train_0_db.db\n",
      "2023-02-22 01:25:24,240 [INFO][00-create-db] Done.\n"
     ]
    }
   ],
   "source": [
    "!python 00-create-db.py settings.in_kaggle={in_kaggle()}"
   ]
  },
  {
   "cell_type": "code",
   "execution_count": 12,
   "id": "9c2109e9-7667-44a0-83b9-7859477cebd0",
   "metadata": {},
   "outputs": [
    {
     "name": "stdout",
     "output_type": "stream",
     "text": [
      "/bin/bash: /opt/conda/lib/libtinfo.so.6: no version information available (required by /bin/bash)\n",
      "\u001b[1;34mgraphnet\u001b[0m: \u001b[32mINFO    \u001b[0m 2023-02-22 06:47:58 - get_logger - Writing log to \u001b[1mlogs/graphnet_20230222-064758.log\u001b[0m\n",
      "/opt/conda/lib/python3.7/site-packages/torchvision/io/image.py:13: UserWarning: Failed to load image Python extension: /opt/conda/lib/python3.7/site-packages/torchvision/image.so: undefined symbol: _ZN5torch3jit17parseSchemaOrNameERKNSt7__cxx1112basic_stringIcSt11char_traitsIcESaIcEEE\n",
      "  warn(f\"Failed to load image Python extension: {e}\")\n",
      "\u001b[1;34mgraphnet\u001b[0m: \u001b[33mWARNING \u001b[0m 2023-02-22 06:48:00 - warn_once - `icecube` not available. Some functionality may be missing.\u001b[0m\n",
      "2023-02-22 06:48:00,820 [INFO][utils] Output directory: ../output/2023-02-22_06-48-00\n",
      "2023-02-22 06:48:00,820 [INFO][utils] Python version: 3.7.12 | packaged by conda-forge | (default, Oct 26 2021, 06:08:53) \n",
      "[GCC 9.4.0]\n",
      "2023-02-22 06:48:00,820 [INFO][utils] PyTorch version: 1.11.0+cu115\n",
      "2023-02-22 06:48:00,820 [INFO][utils] Fix seed: 442\n",
      "2023-02-22 06:48:01,303 [INFO][instantiator] Created a temporary directory at /tmp/tmpn7risx_q\n",
      "2023-02-22 06:48:01,304 [INFO][instantiator] Writing /tmp/tmpn7risx_q/_remote_module_non_sriptable.py\n",
      "GPU available: True (cuda), used: True\n",
      "TPU available: False, using: 0 TPU cores\n",
      "IPU available: False, using: 0 IPUs\n",
      "HPU available: False, using: 0 HPUs\n",
      "GPU available: True (cuda), used: True\n",
      "TPU available: False, using: 0 TPU cores\n",
      "IPU available: False, using: 0 IPUs\n",
      "HPU available: False, using: 0 HPUs\n",
      "LOCAL_RANK: 0 - CUDA_VISIBLE_DEVICES: [0]\n",
      "Predicting DataLoader 0: 100%|████████████| 10000/10000 [03:58<00:00, 41.86it/s]\n",
      "2023-02-22 06:53:03,947 [INFO][09-inference] score: 1.0168567337397583\n",
      "2023-02-22 06:53:04,528 [INFO][09-inference] Done.\n"
     ]
    }
   ],
   "source": [
    "!python 09-inference.py settings.in_kaggle={in_kaggle()}"
   ]
  },
  {
   "cell_type": "code",
   "execution_count": null,
   "id": "80cf1cf3-0c7d-40e6-bb1a-f4406004fdba",
   "metadata": {},
   "outputs": [],
   "source": []
  }
 ],
 "metadata": {
  "kernelspec": {
   "display_name": "Python 3 (ipykernel)",
   "language": "python",
   "name": "python3"
  },
  "language_info": {
   "codemirror_mode": {
    "name": "ipython",
    "version": 3
   },
   "file_extension": ".py",
   "mimetype": "text/x-python",
   "name": "python",
   "nbconvert_exporter": "python",
   "pygments_lexer": "ipython3",
   "version": "3.7.12"
  }
 },
 "nbformat": 4,
 "nbformat_minor": 5
}
