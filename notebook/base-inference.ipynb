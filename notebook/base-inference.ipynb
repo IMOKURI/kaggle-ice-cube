{
 "cells": [
  {
   "cell_type": "code",
   "execution_count": 1,
   "id": "63a84582",
   "metadata": {
    "scrolled": false
   },
   "outputs": [],
   "source": [
    "import os"
   ]
  },
  {
   "cell_type": "code",
   "execution_count": 2,
   "id": "21ac9300-7afc-4c34-b727-3f757bd22d44",
   "metadata": {
    "scrolled": false
   },
   "outputs": [],
   "source": [
    "import logging\n",
    "\n",
    "logging.basicConfig(\n",
    "    # filename=__file__.replace('.py', '.log'),\n",
    "    level=logging.getLevelName(\"INFO\"),\n",
    "    format=\"%(asctime)s [%(levelname)s] [%(module)s] %(message)s\",\n",
    ")\n",
    "\n",
    "log = logging.getLogger(__name__)"
   ]
  },
  {
   "cell_type": "code",
   "execution_count": 3,
   "id": "73d3a3c4-3842-4a75-ade1-8e8490986426",
   "metadata": {
    "scrolled": false
   },
   "outputs": [
    {
     "name": "stderr",
     "output_type": "stream",
     "text": [
      "2023-04-06 03:49:30,658 [INFO] [365646948] in_kaggle: False\n"
     ]
    }
   ],
   "source": [
    "import sys\n",
    "\n",
    "\n",
    "def in_kaggle():\n",
    "    return \"kaggle_web_client\" in sys.modules\n",
    "\n",
    "\n",
    "log.info(f\"in_kaggle: {in_kaggle()}\")"
   ]
  },
  {
   "cell_type": "code",
   "execution_count": 4,
   "id": "d49a168b-dfe3-4b6e-85fe-0eacb0ec3e39",
   "metadata": {
    "scrolled": false
   },
   "outputs": [],
   "source": [
    "##### INSERT SOURCE CODE HERE FOR SUBMISSION #####\n",
    "\n",
    "# PLACE HOLDER"
   ]
  },
  {
   "cell_type": "code",
   "execution_count": 5,
   "id": "1299871f-c46c-4146-97a0-bb5994089400",
   "metadata": {
    "scrolled": false
   },
   "outputs": [
    {
     "name": "stdout",
     "output_type": "stream",
     "text": [
      "/home/jovyan/working\n"
     ]
    }
   ],
   "source": [
    "if in_kaggle():\n",
    "    !cp -r /kaggle/input/graphnet-and-dependencies/software .\n",
    "    !pip install -q /kaggle/working/software/dependencies/torch-1.11.0+cu115-cp37-cp37m-linux_x86_64.whl\n",
    "    !pip install -q /kaggle/working/software/dependencies/torch_cluster-1.6.0-cp37-cp37m-linux_x86_64.whl\n",
    "    !pip install -q /kaggle/working/software/dependencies/torch_scatter-2.0.9-cp37-cp37m-linux_x86_64.whl\n",
    "    !pip install -q /kaggle/working/software/dependencies/torch_sparse-0.6.13-cp37-cp37m-linux_x86_64.whl\n",
    "    !pip install -q /kaggle/working/software/dependencies/torch_geometric-2.2.0.tar.gz\n",
    "    !cd software/graphnet; pip install -q --no-index --find-links=\"/kaggle/working/software/dependencies\" -e .[torch]\n",
    "\n",
    "    !cp -r /kaggle/input/hydra-core /kaggle/working\n",
    "    !mv /kaggle/working/hydra-core/antlr4-python3-runtime-4.9.3.tar.gz.tmp /kaggle/working/hydra-core/antlr4-python3-runtime-4.9.3.tar.gz\n",
    "    !pip install -q /kaggle/working/hydra-core/*\n",
    "\n",
    "else:\n",
    "    %cd .."
   ]
  },
  {
   "cell_type": "code",
   "execution_count": 6,
   "id": "9c2109e9-7667-44a0-83b9-7859477cebd0",
   "metadata": {
    "scrolled": false
   },
   "outputs": [
    {
     "name": "stdout",
     "output_type": "stream",
     "text": [
      "\u001b[1;34mgraphnet\u001b[0m: \u001b[32mINFO    \u001b[0m 2023-04-06 03:49:33 - get_logger - Writing log to \u001b[1mlogs/graphnet_20230406-034933.log\u001b[0m\n",
      "\u001b[1;34mgraphnet\u001b[0m: \u001b[33mWARNING \u001b[0m 2023-04-06 03:49:33 - warn_once - `icecube` not available. Some functionality may be missing.\u001b[0m\n",
      "/opt/conda/lib/python3.7/site-packages/torchvision/io/image.py:13: UserWarning: Failed to load image Python extension: /opt/conda/lib/python3.7/site-packages/torchvision/image.so: undefined symbol: _ZN3c104impl8GPUTrace13gpuTraceStateE\n",
      "  warn(f\"Failed to load image Python extension: {e}\")\n",
      "2023-04-06 03:49:34.563230: I tensorflow/core/platform/cpu_feature_guard.cc:193] This TensorFlow binary is optimized with oneAPI Deep Neural Network Library (oneDNN) to use the following CPU instructions in performance-critical operations:  AVX2 AVX512F AVX512_VNNI FMA\n",
      "To enable them in other operations, rebuild TensorFlow with the appropriate compiler flags.\n",
      "2023-04-06 03:49:34.736533: I tensorflow/core/util/port.cc:104] oneDNN custom operations are on. You may see slightly different numerical results due to floating-point round-off errors from different computation orders. To turn them off, set the environment variable `TF_ENABLE_ONEDNN_OPTS=0`.\n",
      "2023-04-06 03:49:35.794642: W tensorflow/compiler/xla/stream_executor/platform/default/dso_loader.cc:64] Could not load dynamic library 'libnvinfer.so.7'; dlerror: libnvinfer.so.7: cannot open shared object file: No such file or directory; LD_LIBRARY_PATH: /usr/local/cuda/lib64:/usr/local/cuda/lib:/usr/local/lib/x86_64-linux-gnu:/usr/local/nvidia/lib:/usr/local/nvidia/lib64:/usr/local/nvidia/lib:/usr/local/nvidia/lib64:/opt/conda/lib\n",
      "2023-04-06 03:49:35.794743: W tensorflow/compiler/xla/stream_executor/platform/default/dso_loader.cc:64] Could not load dynamic library 'libnvinfer_plugin.so.7'; dlerror: libnvinfer_plugin.so.7: cannot open shared object file: No such file or directory; LD_LIBRARY_PATH: /usr/local/cuda/lib64:/usr/local/cuda/lib:/usr/local/lib/x86_64-linux-gnu:/usr/local/nvidia/lib:/usr/local/nvidia/lib64:/usr/local/nvidia/lib:/usr/local/nvidia/lib64:/opt/conda/lib\n",
      "2023-04-06 03:49:35.794754: W tensorflow/compiler/tf2tensorrt/utils/py_utils.cc:38] TF-TRT Warning: Cannot dlopen some TensorRT libraries. If you would like to use Nvidia GPU with TensorRT, please make sure the missing libraries mentioned above are installed properly.\n",
      "2023-04-06 03:49:38,202 [INFO][utils] Output directory: output/2023-04-06_03-49-38\n",
      "2023-04-06 03:49:38,202 [INFO][utils] Python version: 3.7.12 | packaged by conda-forge | (default, Oct 26 2021, 06:08:53) \n",
      "[GCC 9.4.0]\n",
      "2023-04-06 03:49:38,202 [INFO][utils] PyTorch version: 1.11.0+cu115\n",
      "2023-04-06 03:49:38,203 [INFO][utils] Fix seed: 440\n",
      "2023-04-06 03:49:44,100 [INFO][11-inference-parquet] Batch [391] ...\n",
      "2023-04-06 03:50:07,868 [INFO][instantiator] Created a temporary directory at /tmp/tmpd_igxrk8\n",
      "2023-04-06 03:50:07,869 [INFO][instantiator] Writing /tmp/tmpd_igxrk8/_remote_module_non_sriptable.py\n",
      "2023-04-06 03:50:07,958 [INFO][model] Load model from: dynedge-pretrained/dynedge_pretrained_batch_1_to_50/state_dict.pth\n",
      "2023-04-06 03:50:07,959 [INFO][11-inference-parquet] Predict by default features.\n",
      "GPU available: True (cuda), used: True\n",
      "TPU available: False, using: 0 TPU cores\n",
      "IPU available: False, using: 0 IPUs\n",
      "HPU available: False, using: 0 HPUs\n",
      "GPU available: True (cuda), used: True\n",
      "TPU available: False, using: 0 TPU cores\n",
      "IPU available: False, using: 0 IPUs\n",
      "HPU available: False, using: 0 HPUs\n",
      "LOCAL_RANK: 0 - CUDA_VISIBLE_DEVICES: [0,1,2]\n",
      "Predicting DataLoader 0: 100%|██████████████| 6250/6250 [03:12<00:00, 32.48it/s]\n",
      "2023-04-06 03:53:25,730 [INFO][utils] Fix seed: 620\n",
      "2023-04-06 03:53:25,734 [INFO][11-inference-parquet] Predict by features that invert x and y.\n",
      "\u001b[1;34mgraphnet\u001b[0m: \u001b[33mWARNING \u001b[0m 2023-04-06 03:53:25 - StandardModel.warning - A `Trainer` instance has already been constructed, possibly when the model was trained. Will use this to get predictions. Argument `gpus = [0]` will be ignored.\u001b[0m\n",
      "2023-04-06 03:53:25,956 [WARNING][logging] A `Trainer` instance has already been constructed, possibly when the model was trained. Will use this to get predictions. Argument `gpus = [0]` will be ignored.\n",
      "LOCAL_RANK: 0 - CUDA_VISIBLE_DEVICES: [0,1,2]\n",
      "Predicting DataLoader 0: 100%|██████████████| 6250/6250 [03:20<00:00, 31.22it/s]\n",
      "2023-04-06 03:56:46,891 [INFO][utils] Fix seed: 530\n",
      "2023-04-06 03:56:46,892 [INFO][11-inference-parquet] Predict by features that invert x.\n",
      "\u001b[1;34mgraphnet\u001b[0m: \u001b[33mWARNING \u001b[0m 2023-04-06 03:56:47 - StandardModel.warning - A `Trainer` instance has already been constructed, possibly when the model was trained. Will use this to get predictions. Argument `gpus = [0]` will be ignored.\u001b[0m\n",
      "2023-04-06 03:56:47,166 [WARNING][logging] A `Trainer` instance has already been constructed, possibly when the model was trained. Will use this to get predictions. Argument `gpus = [0]` will be ignored.\n",
      "LOCAL_RANK: 0 - CUDA_VISIBLE_DEVICES: [0,1,2]\n",
      "Predicting DataLoader 0: 100%|██████████████| 6250/6250 [03:19<00:00, 31.31it/s]\n",
      "2023-04-06 04:00:07,853 [INFO][utils] Fix seed: 710\n",
      "2023-04-06 04:00:07,854 [INFO][11-inference-parquet] Predict by features that invert y.\n",
      "\u001b[1;34mgraphnet\u001b[0m: \u001b[33mWARNING \u001b[0m 2023-04-06 04:00:08 - StandardModel.warning - A `Trainer` instance has already been constructed, possibly when the model was trained. Will use this to get predictions. Argument `gpus = [0]` will be ignored.\u001b[0m\n",
      "2023-04-06 04:00:08,104 [WARNING][logging] A `Trainer` instance has already been constructed, possibly when the model was trained. Will use this to get predictions. Argument `gpus = [0]` will be ignored.\n",
      "LOCAL_RANK: 0 - CUDA_VISIBLE_DEVICES: [0,1,2]\n",
      "Predicting DataLoader 0: 100%|██████████████| 6250/6250 [03:21<00:00, 31.06it/s]\n",
      "2023-04-06 04:03:30,371 [INFO][11-inference-parquet] Num of ensemble: 4.\n",
      "2023-04-06 04:03:33,292 [INFO][11-inference-parquet] Make submission.\n",
      "2023-04-06 04:03:35,896 [INFO][11-inference-parquet] results columns: Index(['event_id', 'direction_x', 'direction_y', 'direction_z',\n",
      "       'direction_kappa', 'zenith_x', 'azimuth_x', 'sigma', 'azimuth_y',\n",
      "       'zenith_y'],\n",
      "      dtype='object')\n",
      "2023-04-06 04:03:35,897 [INFO][11-inference-parquet] submission columns: Index(['azimuth', 'zenith'], dtype='object')\n",
      "2023-04-06 04:03:35,897 [INFO][11-inference-parquet] Done.\n"
     ]
    }
   ],
   "source": [
    "!python 11-inference-parquet.py settings.in_kaggle={in_kaggle()}"
   ]
  },
  {
   "cell_type": "code",
   "execution_count": 7,
   "id": "12977ed4-245a-4130-b9a5-6ca7ed6f9ec9",
   "metadata": {
    "scrolled": false
   },
   "outputs": [
    {
     "name": "stdout",
     "output_type": "stream",
     "text": [
      "2023-04-06 04:03:40,821 [INFO][utils] Output directory: output/2023-04-06_04-03-40\n",
      "2023-04-06 04:03:40,821 [INFO][utils] Python version: 3.7.12 | packaged by conda-forge | (default, Oct 26 2021, 06:08:53) \n",
      "[GCC 9.4.0]\n",
      "2023-04-06 04:03:40,821 [INFO][utils] PyTorch version: 1.11.0+cu115\n",
      "2023-04-06 04:03:40,821 [INFO][utils] Fix seed: 440\n",
      "2023-04-06 04:03:40,822 [INFO][15-validation] Validation stage 1.\n",
      "2023-04-06 04:03:41,195 [INFO][15-validation] Base score: 1.0141627366718835\n",
      "2023-04-06 04:03:41,207 [INFO][15-validation] Num of low sigma events: 52483, Num of high sigma events: 147517\n",
      "2023-04-06 04:03:41,255 [INFO][15-validation] Low sigma score: 0.2109929984713962, High sigma score: 1.29991120884781\n",
      "2023-04-06 04:03:41,255 [INFO][15-validation] Done.\n"
     ]
    }
   ],
   "source": [
    "!python 15-validation.py settings.in_kaggle={in_kaggle()}"
   ]
  },
  {
   "cell_type": "code",
   "execution_count": 8,
   "id": "eb187ea7",
   "metadata": {},
   "outputs": [],
   "source": [
    "!mv results.csv results_stage2.csv"
   ]
  },
  {
   "cell_type": "code",
   "execution_count": 9,
   "id": "6f37ccb1",
   "metadata": {},
   "outputs": [
    {
     "name": "stdout",
     "output_type": "stream",
     "text": [
      "\u001b[1;34mgraphnet\u001b[0m: \u001b[32mINFO    \u001b[0m 2023-04-06 04:03:44 - get_logger - Writing log to \u001b[1mlogs/graphnet_20230406-040344.log\u001b[0m\n",
      "\u001b[1;34mgraphnet\u001b[0m: \u001b[33mWARNING \u001b[0m 2023-04-06 04:03:44 - warn_once - `icecube` not available. Some functionality may be missing.\u001b[0m\n",
      "/opt/conda/lib/python3.7/site-packages/torchvision/io/image.py:13: UserWarning: Failed to load image Python extension: /opt/conda/lib/python3.7/site-packages/torchvision/image.so: undefined symbol: _ZN3c104impl8GPUTrace13gpuTraceStateE\n",
      "  warn(f\"Failed to load image Python extension: {e}\")\n",
      "2023-04-06 04:03:45.866696: I tensorflow/core/platform/cpu_feature_guard.cc:193] This TensorFlow binary is optimized with oneAPI Deep Neural Network Library (oneDNN) to use the following CPU instructions in performance-critical operations:  AVX2 AVX512F AVX512_VNNI FMA\n",
      "To enable them in other operations, rebuild TensorFlow with the appropriate compiler flags.\n",
      "2023-04-06 04:03:46.036589: I tensorflow/core/util/port.cc:104] oneDNN custom operations are on. You may see slightly different numerical results due to floating-point round-off errors from different computation orders. To turn them off, set the environment variable `TF_ENABLE_ONEDNN_OPTS=0`.\n",
      "2023-04-06 04:03:47.077524: W tensorflow/compiler/xla/stream_executor/platform/default/dso_loader.cc:64] Could not load dynamic library 'libnvinfer.so.7'; dlerror: libnvinfer.so.7: cannot open shared object file: No such file or directory; LD_LIBRARY_PATH: /usr/local/cuda/lib64:/usr/local/cuda/lib:/usr/local/lib/x86_64-linux-gnu:/usr/local/nvidia/lib:/usr/local/nvidia/lib64:/usr/local/nvidia/lib:/usr/local/nvidia/lib64:/opt/conda/lib\n",
      "2023-04-06 04:03:47.077620: W tensorflow/compiler/xla/stream_executor/platform/default/dso_loader.cc:64] Could not load dynamic library 'libnvinfer_plugin.so.7'; dlerror: libnvinfer_plugin.so.7: cannot open shared object file: No such file or directory; LD_LIBRARY_PATH: /usr/local/cuda/lib64:/usr/local/cuda/lib:/usr/local/lib/x86_64-linux-gnu:/usr/local/nvidia/lib:/usr/local/nvidia/lib64:/usr/local/nvidia/lib:/usr/local/nvidia/lib64:/opt/conda/lib\n",
      "2023-04-06 04:03:47.077634: W tensorflow/compiler/tf2tensorrt/utils/py_utils.cc:38] TF-TRT Warning: Cannot dlopen some TensorRT libraries. If you would like to use Nvidia GPU with TensorRT, please make sure the missing libraries mentioned above are installed properly.\n",
      "2023-04-06 04:03:49,488 [INFO][utils] Output directory: output/2023-04-06_04-03-49\n",
      "2023-04-06 04:03:49,488 [INFO][utils] Python version: 3.7.12 | packaged by conda-forge | (default, Oct 26 2021, 06:08:53) \n",
      "[GCC 9.4.0]\n",
      "2023-04-06 04:03:49,488 [INFO][utils] PyTorch version: 1.11.0+cu115\n",
      "2023-04-06 04:03:49,488 [INFO][utils] Fix seed: 1440\n",
      "2023-04-06 04:03:55,062 [INFO][11-inference-parquet] Batch [391] ...\n",
      "2023-04-06 04:04:18,215 [INFO][instantiator] Created a temporary directory at /tmp/tmph0vlbspg\n",
      "2023-04-06 04:04:18,215 [INFO][instantiator] Writing /tmp/tmph0vlbspg/_remote_module_non_sriptable.py\n",
      "2023-04-06 04:04:18,338 [INFO][model] Load model from: icecube/model_1_100.pth\n",
      "2023-04-06 04:04:18,338 [INFO][11-inference-parquet] Predict by default features.\n",
      "GPU available: True (cuda), used: True\n",
      "TPU available: False, using: 0 TPU cores\n",
      "IPU available: False, using: 0 IPUs\n",
      "HPU available: False, using: 0 HPUs\n",
      "GPU available: True (cuda), used: True\n",
      "TPU available: False, using: 0 TPU cores\n",
      "IPU available: False, using: 0 IPUs\n",
      "HPU available: False, using: 0 HPUs\n",
      "LOCAL_RANK: 0 - CUDA_VISIBLE_DEVICES: [0,1,2]\n",
      "Predicting DataLoader 0: 100%|██████████████| 6250/6250 [03:21<00:00, 31.03it/s]\n",
      "2023-04-06 04:07:45,018 [INFO][utils] Fix seed: 1620\n",
      "2023-04-06 04:07:45,020 [INFO][11-inference-parquet] Predict by features that invert x and y.\n",
      "\u001b[1;34mgraphnet\u001b[0m: \u001b[33mWARNING \u001b[0m 2023-04-06 04:07:45 - StandardModel.warning - A `Trainer` instance has already been constructed, possibly when the model was trained. Will use this to get predictions. Argument `gpus = [0]` will be ignored.\u001b[0m\n",
      "2023-04-06 04:07:45,279 [WARNING][logging] A `Trainer` instance has already been constructed, possibly when the model was trained. Will use this to get predictions. Argument `gpus = [0]` will be ignored.\n",
      "LOCAL_RANK: 0 - CUDA_VISIBLE_DEVICES: [0,1,2]\n",
      "Predicting DataLoader 0: 100%|██████████████| 6250/6250 [03:19<00:00, 31.33it/s]\n",
      "2023-04-06 04:11:05,582 [INFO][utils] Fix seed: 1530\n",
      "2023-04-06 04:11:05,584 [INFO][11-inference-parquet] Predict by features that invert x.\n",
      "\u001b[1;34mgraphnet\u001b[0m: \u001b[33mWARNING \u001b[0m 2023-04-06 04:11:05 - StandardModel.warning - A `Trainer` instance has already been constructed, possibly when the model was trained. Will use this to get predictions. Argument `gpus = [0]` will be ignored.\u001b[0m\n",
      "2023-04-06 04:11:05,845 [WARNING][logging] A `Trainer` instance has already been constructed, possibly when the model was trained. Will use this to get predictions. Argument `gpus = [0]` will be ignored.\n",
      "LOCAL_RANK: 0 - CUDA_VISIBLE_DEVICES: [0,1,2]\n",
      "Predicting DataLoader 0: 100%|██████████████| 6250/6250 [03:20<00:00, 31.18it/s]\n",
      "2023-04-06 04:14:27,147 [INFO][utils] Fix seed: 1710\n",
      "2023-04-06 04:14:27,148 [INFO][11-inference-parquet] Predict by features that invert y.\n",
      "\u001b[1;34mgraphnet\u001b[0m: \u001b[33mWARNING \u001b[0m 2023-04-06 04:14:27 - StandardModel.warning - A `Trainer` instance has already been constructed, possibly when the model was trained. Will use this to get predictions. Argument `gpus = [0]` will be ignored.\u001b[0m\n",
      "2023-04-06 04:14:27,383 [WARNING][logging] A `Trainer` instance has already been constructed, possibly when the model was trained. Will use this to get predictions. Argument `gpus = [0]` will be ignored.\n",
      "LOCAL_RANK: 0 - CUDA_VISIBLE_DEVICES: [0,1,2]\n",
      "Predicting DataLoader 0: 100%|██████████████| 6250/6250 [03:21<00:00, 31.05it/s]\n",
      "2023-04-06 04:17:49,515 [INFO][11-inference-parquet] Num of ensemble: 4.\n",
      "2023-04-06 04:17:52,414 [INFO][11-inference-parquet] Make submission.\n",
      "2023-04-06 04:17:54,930 [INFO][11-inference-parquet] results columns: Index(['event_id', 'direction_x', 'direction_y', 'direction_z',\n",
      "       'direction_kappa', 'zenith_x', 'azimuth_x', 'sigma', 'azimuth_y',\n",
      "       'zenith_y'],\n",
      "      dtype='object')\n",
      "2023-04-06 04:17:54,930 [INFO][11-inference-parquet] submission columns: Index(['azimuth', 'zenith'], dtype='object')\n",
      "2023-04-06 04:17:54,930 [INFO][11-inference-parquet] Done.\n"
     ]
    }
   ],
   "source": [
    "!python 11-inference-parquet.py settings.in_kaggle={in_kaggle()} inference_params.model_path=icecube/model_1_100.pth global_params.seed=1440"
   ]
  },
  {
   "cell_type": "code",
   "execution_count": 10,
   "id": "435ea799",
   "metadata": {},
   "outputs": [
    {
     "name": "stdout",
     "output_type": "stream",
     "text": [
      "2023-04-06 04:17:59,942 [INFO][utils] Output directory: output/2023-04-06_04-17-59\n",
      "2023-04-06 04:17:59,942 [INFO][utils] Python version: 3.7.12 | packaged by conda-forge | (default, Oct 26 2021, 06:08:53) \n",
      "[GCC 9.4.0]\n",
      "2023-04-06 04:17:59,942 [INFO][utils] PyTorch version: 1.11.0+cu115\n",
      "2023-04-06 04:17:59,942 [INFO][utils] Fix seed: 440\n",
      "2023-04-06 04:17:59,944 [INFO][15-validation] Validation stage 1.\n",
      "2023-04-06 04:18:00,320 [INFO][15-validation] Base score: 1.0140286220873347\n",
      "2023-04-06 04:18:00,331 [INFO][15-validation] Num of low sigma events: 51159, Num of high sigma events: 148841\n",
      "2023-04-06 04:18:00,379 [INFO][15-validation] Low sigma score: 0.2067213735405639, High sigma score: 1.291512860492104\n",
      "2023-04-06 04:18:00,379 [INFO][15-validation] Done.\n"
     ]
    }
   ],
   "source": [
    "!python 15-validation.py settings.in_kaggle={in_kaggle()}"
   ]
  },
  {
   "cell_type": "code",
   "execution_count": 11,
   "id": "bb69ed7e",
   "metadata": {},
   "outputs": [
    {
     "name": "stdout",
     "output_type": "stream",
     "text": [
      "2023-04-06 04:18:03,541 [INFO][utils] Output directory: output/2023-04-06_04-18-03\n",
      "2023-04-06 04:18:03,541 [INFO][utils] Python version: 3.7.12 | packaged by conda-forge | (default, Oct 26 2021, 06:08:53) \n",
      "[GCC 9.4.0]\n",
      "2023-04-06 04:18:03,541 [INFO][utils] PyTorch version: 1.11.0+cu115\n",
      "2023-04-06 04:18:03,541 [INFO][utils] Fix seed: 440\n",
      "2023-04-06 04:18:04,040 [INFO][20-ensemble] Results has same index.\n",
      "2023-04-06 04:18:04,818 [INFO][20-ensemble] Base score: 1.018052678751734\n",
      "2023-04-06 04:18:04,844 [INFO][20-ensemble] Num of low sigma events: 51476, Num of high sigma events: 148524\n",
      "2023-04-06 04:18:04,890 [INFO][20-ensemble] Low sigma score: 0.21027608622758714, High sigma score: 1.2980148927829545\n",
      "2023-04-06 04:18:04,890 [INFO][20-ensemble] Done.\n"
     ]
    }
   ],
   "source": [
    "!python 20-ensemble.py settings.in_kaggle={in_kaggle()}"
   ]
  },
  {
   "cell_type": "code",
   "execution_count": null,
   "id": "56ba85b2",
   "metadata": {},
   "outputs": [],
   "source": []
  }
 ],
 "metadata": {
  "kernelspec": {
   "display_name": "Python 3 (ipykernel)",
   "language": "python",
   "name": "python3"
  },
  "language_info": {
   "codemirror_mode": {
    "name": "ipython",
    "version": 3
   },
   "file_extension": ".py",
   "mimetype": "text/x-python",
   "name": "python",
   "nbconvert_exporter": "python",
   "pygments_lexer": "ipython3",
   "version": "3.7.12"
  }
 },
 "nbformat": 4,
 "nbformat_minor": 5
}
