{
 "cells": [
  {
   "cell_type": "code",
   "execution_count": 1,
   "id": "bb5a2282-f990-4e42-81e5-98261ec70ba1",
   "metadata": {},
   "outputs": [],
   "source": [
    "import os"
   ]
  },
  {
   "cell_type": "code",
   "execution_count": 2,
   "id": "21ac9300-7afc-4c34-b727-3f757bd22d44",
   "metadata": {},
   "outputs": [],
   "source": [
    "import logging\n",
    "\n",
    "logging.basicConfig(\n",
    "    # filename=__file__.replace('.py', '.log'),\n",
    "    level=logging.getLevelName(\"INFO\"),\n",
    "    format=\"%(asctime)s [%(levelname)s] [%(module)s] %(message)s\",\n",
    ")\n",
    "\n",
    "log = logging.getLogger(__name__)"
   ]
  },
  {
   "cell_type": "code",
   "execution_count": 3,
   "id": "73d3a3c4-3842-4a75-ade1-8e8490986426",
   "metadata": {},
   "outputs": [
    {
     "name": "stderr",
     "output_type": "stream",
     "text": [
      "2023-02-21 12:06:48,233 [INFO] [365646948] in_kaggle: False\n"
     ]
    }
   ],
   "source": [
    "import sys\n",
    "\n",
    "\n",
    "def in_kaggle():\n",
    "    return \"kaggle_web_client\" in sys.modules\n",
    "\n",
    "\n",
    "log.info(f\"in_kaggle: {in_kaggle()}\")"
   ]
  },
  {
   "cell_type": "code",
   "execution_count": 4,
   "id": "d49a168b-dfe3-4b6e-85fe-0eacb0ec3e39",
   "metadata": {},
   "outputs": [],
   "source": [
    "##### INSERT SOURCE CODE HERE FOR SUBMISSION #####\n",
    "\n",
    "# PLACE HOLDER"
   ]
  },
  {
   "cell_type": "code",
   "execution_count": 5,
   "id": "1299871f-c46c-4146-97a0-bb5994089400",
   "metadata": {},
   "outputs": [
    {
     "name": "stdout",
     "output_type": "stream",
     "text": [
      "/home/jovyan/ice-cube\n"
     ]
    }
   ],
   "source": [
    "if in_kaggle():\n",
    "    !cp -r /kaggle/input/graphnet-and-dependencies/software .\n",
    "    !pip install /kaggle/working/software/dependencies/torch-1.11.0+cu115-cp37-cp37m-linux_x86_64.whl\n",
    "    !pip install /kaggle/working/software/dependencies/torch_cluster-1.6.0-cp37-cp37m-linux_x86_64.whl\n",
    "    !pip install /kaggle/working/software/dependencies/torch_scatter-2.0.9-cp37-cp37m-linux_x86_64.whl\n",
    "    !pip install /kaggle/working/software/dependencies/torch_sparse-0.6.13-cp37-cp37m-linux_x86_64.whl\n",
    "    !pip install /kaggle/working/software/dependencies/torch_geometric-2.0.4.tar.gz\n",
    "    !cd software/graphnet;pip install --no-index --find-links=\"/kaggle/working/software/dependencies\" -e .[torch]\n",
    "\n",
    "    # https://www.kaggle.com/speeddemon/install-hydra-offline-from-dataset\n",
    "    !cp -r /kaggle/input/hydracore105 /kaggle/working\n",
    "    !mv /kaggle/working/hydracore105/antlr4-python3-runtime-4.8.tar.gz.tmp /kaggle/working/hydracore105/antlr4-python3-runtime-4.8.tar.gz\n",
    "    !ls /kaggle/working/hydracore105\n",
    "    !pip install -qq /kaggle/working/hydracore105/* --ignore-installed PyYAML\n",
    "\n",
    "    sys.path.append(\"../input/omegaconf/omegaconf-master\")\n",
    "    omega_conf_dir = \"config\"\n",
    "\n",
    "else:\n",
    "    %cd ..\n",
    "\n",
    "    omega_conf_dir = \"./config\""
   ]
  },
  {
   "cell_type": "code",
   "execution_count": 6,
   "id": "c1c5d506-7c97-4171-8a53-5ffe081ec053",
   "metadata": {},
   "outputs": [],
   "source": [
    "from omegaconf import OmegaConf\n",
    "\n",
    "c_main = OmegaConf.load(os.path.join(omega_conf_dir, \"main.yaml\"))\n",
    "c_data = OmegaConf.load(os.path.join(omega_conf_dir, \"data.yaml\"))\n",
    "c = OmegaConf.merge(c_main, c_data)\n",
    "\n",
    "c.settings.debug = False\n",
    "c.wandb.enabled = False\n",
    "c.settings.is_training = False"
   ]
  },
  {
   "cell_type": "code",
   "execution_count": 7,
   "id": "7ad267c6-d3e7-4c9b-a6d6-9e2d5ebd4616",
   "metadata": {},
   "outputs": [],
   "source": [
    "if in_kaggle():\n",
    "    c.data.dir.pretrained = \"/kaggle/input/dynedge-pretrained\""
   ]
  },
  {
   "cell_type": "code",
   "execution_count": 8,
   "id": "2c1b4537-ac99-433d-86c1-c462321b9b06",
   "metadata": {},
   "outputs": [
    {
     "name": "stderr",
     "output_type": "stream",
     "text": [
      "2023-02-21 12:06:48,404 [INFO] [2742257138] ./test_db.db\n"
     ]
    }
   ],
   "source": [
    "if c.settings.is_training:\n",
    "    database_path = os.path.join(c.data.dir.working, \"train_db.db\")\n",
    "else:\n",
    "    database_path = os.path.join(c.data.dir.working, \"test_db.db\")\n",
    "\n",
    "log.info(database_path)"
   ]
  },
  {
   "cell_type": "code",
   "execution_count": 9,
   "id": "2d186387-e9a3-4b0b-bb7b-a521756b6c38",
   "metadata": {},
   "outputs": [
    {
     "name": "stdout",
     "output_type": "stream",
     "text": [
      "/bin/bash: /opt/conda/lib/libtinfo.so.6: no version information available (required by /bin/bash)\n",
      "/bin/bash: /opt/conda/lib/libtinfo.so.6: no version information available (required by /bin/bash)\n",
      "\u001b[1;34mgraphnet\u001b[0m: \u001b[32mINFO    \u001b[0m 2023-02-21 12:06:50 - get_logger - Writing log to \u001b[1mlogs/graphnet_20230221-120650.log\u001b[0m\n",
      "\u001b[1;34mgraphnet\u001b[0m: \u001b[33mWARNING \u001b[0m 2023-02-21 12:06:50 - warn_once - `icecube` not available. Some functionality may be missing.\u001b[0m\n",
      "/opt/conda/lib/python3.7/site-packages/torchvision/io/image.py:13: UserWarning: Failed to load image Python extension: /opt/conda/lib/python3.7/site-packages/torchvision/image.so: undefined symbol: _ZN5torch3jit17parseSchemaOrNameERKNSt7__cxx1112basic_stringIcSt11char_traitsIcESaIcEEE\n",
      "  warn(f\"Failed to load image Python extension: {e}\")\n",
      "2023-02-21 12:06:52,283 [INFO][utils] Output directory: ../output/2023-02-21_12-06-52\n",
      "2023-02-21 12:06:52,283 [INFO][utils] Python version: 3.7.12 | packaged by conda-forge | (default, Oct 26 2021, 06:08:53) \n",
      "[GCC 9.4.0]\n",
      "2023-02-21 12:06:52,283 [INFO][utils] PyTorch version: 1.11.0+cu115\n",
      "2023-02-21 12:06:52,283 [INFO][utils] Enable debug mode.\n",
      "2023-02-21 12:06:52,345 [INFO][utils] Fix seed: 442\n",
      "2023-02-21 12:06:52,374 [INFO][sqlite] ./test_db.db . [661] ...\n",
      "2023-02-21 12:06:52,399 [INFO][sqlite] Conversion Complete!. Database available at\n",
      " ./test_db.db\n",
      "2023-02-21 12:06:52,399 [INFO][00-create-db] Done.\n"
     ]
    }
   ],
   "source": [
    "!rm -f {database_path}\n",
    "!python 00-create-db.py"
   ]
  },
  {
   "cell_type": "code",
   "execution_count": 10,
   "id": "c1769a7e-7056-48e2-a61e-de0d5216f592",
   "metadata": {},
   "outputs": [
    {
     "name": "stdout",
     "output_type": "stream",
     "text": [
      "\u001b[1;34mgraphnet\u001b[0m: \u001b[32mINFO    \u001b[0m 2023-02-21 12:06:53 - get_logger - Writing log to \u001b[1mlogs/graphnet_20230221-120653.log\u001b[0m\n"
     ]
    },
    {
     "name": "stderr",
     "output_type": "stream",
     "text": [
      "2023-02-21 12:06:53,154 [INFO] [logging] Writing log to \u001b[1mlogs/graphnet_20230221-120653.log\u001b[0m\n",
      "/opt/conda/lib/python3.7/site-packages/torchvision/io/image.py:13: UserWarning: Failed to load image Python extension: /opt/conda/lib/python3.7/site-packages/torchvision/image.so: undefined symbol: _ZN5torch3jit17parseSchemaOrNameERKNSt7__cxx1112basic_stringIcSt11char_traitsIcESaIcEEE\n",
      "  warn(f\"Failed to load image Python extension: {e}\")\n"
     ]
    },
    {
     "name": "stdout",
     "output_type": "stream",
     "text": [
      "\u001b[1;34mgraphnet\u001b[0m: \u001b[33mWARNING \u001b[0m 2023-02-21 12:06:55 - warn_once - `icecube` not available. Some functionality may be missing.\u001b[0m\n"
     ]
    },
    {
     "name": "stderr",
     "output_type": "stream",
     "text": [
      "2023-02-21 12:06:55,526 [WARNING] [logging] `icecube` not available. Some functionality may be missing.\n"
     ]
    }
   ],
   "source": [
    "from src.ice_cube.data_loader import make_test_dataloader\n",
    "from src.ice_cube.model import load_pretrained_model\n",
    "from src.ice_cube.submission import to_submission_df"
   ]
  },
  {
   "cell_type": "code",
   "execution_count": 11,
   "id": "c2074e56-30ec-4aa7-a348-4cf32c186c90",
   "metadata": {},
   "outputs": [
    {
     "name": "stdout",
     "output_type": "stream",
     "text": [
      "\u001b[1;34mgraphnet\u001b[0m: \u001b[33mWARNING \u001b[0m 2023-02-21 12:06:55 - SQLiteDataset.warning - Removing the following (missing) truth variables: zenith, azimuth\u001b[0m\n"
     ]
    },
    {
     "name": "stderr",
     "output_type": "stream",
     "text": [
      "2023-02-21 12:06:55,735 [WARNING] [logging] Removing the following (missing) truth variables: zenith, azimuth\n"
     ]
    }
   ],
   "source": [
    "test_loader = make_test_dataloader(c)"
   ]
  },
  {
   "cell_type": "code",
   "execution_count": 12,
   "id": "f23aa7e7-013e-439a-896a-6ba9668b3c4a",
   "metadata": {},
   "outputs": [
    {
     "name": "stdout",
     "output_type": "stream",
     "text": [
      "\u001b[1;34mgraphnet\u001b[0m: \u001b[33mWARNING \u001b[0m 2023-02-21 12:06:55 - SQLiteDataset.warning - Removing the following (missing) truth variables: zenith, azimuth\u001b[0m\n"
     ]
    },
    {
     "name": "stderr",
     "output_type": "stream",
     "text": [
      "2023-02-21 12:06:55,742 [WARNING] [logging] Removing the following (missing) truth variables: zenith, azimuth\n",
      "2023-02-21 12:06:55,747 [INFO] [instantiator] Created a temporary directory at /tmp/tmpa2ogxlyg\n",
      "2023-02-21 12:06:55,748 [INFO] [instantiator] Writing /tmp/tmpa2ogxlyg/_remote_module_non_sriptable.py\n"
     ]
    }
   ],
   "source": [
    "model = load_pretrained_model(c)"
   ]
  },
  {
   "cell_type": "code",
   "execution_count": 13,
   "id": "3e411cc0-d1c8-4526-b710-993bf3e2ee3d",
   "metadata": {},
   "outputs": [
    {
     "name": "stderr",
     "output_type": "stream",
     "text": [
      "2023-02-21 12:06:55,841 [INFO] [rank_zero] GPU available: True (cuda), used: True\n",
      "2023-02-21 12:06:55,842 [INFO] [rank_zero] TPU available: False, using: 0 TPU cores\n",
      "2023-02-21 12:06:55,842 [INFO] [rank_zero] IPU available: False, using: 0 IPUs\n",
      "2023-02-21 12:06:55,842 [INFO] [rank_zero] HPU available: False, using: 0 HPUs\n",
      "2023-02-21 12:06:55,845 [INFO] [rank_zero] GPU available: True (cuda), used: True\n",
      "2023-02-21 12:06:55,845 [INFO] [rank_zero] TPU available: False, using: 0 TPU cores\n",
      "2023-02-21 12:06:55,846 [INFO] [rank_zero] IPU available: False, using: 0 IPUs\n",
      "2023-02-21 12:06:55,846 [INFO] [rank_zero] HPU available: False, using: 0 HPUs\n",
      "2023-02-21 12:06:58,270 [INFO] [cuda] LOCAL_RANK: 0 - CUDA_VISIBLE_DEVICES: [0]\n"
     ]
    },
    {
     "data": {
      "application/vnd.jupyter.widget-view+json": {
       "model_id": "722ce4b804f64aa593247a4649c58bb6",
       "version_major": 2,
       "version_minor": 0
      },
      "text/plain": [
       "Predicting: 0it [00:00, ?it/s]"
      ]
     },
     "metadata": {},
     "output_type": "display_data"
    }
   ],
   "source": [
    "results = model.predict_as_dataframe(\n",
    "    gpus=[0],\n",
    "    dataloader=test_loader,\n",
    "    prediction_columns=model.prediction_columns,\n",
    "    additional_attributes=[c.settings.index_name],\n",
    ")"
   ]
  },
  {
   "cell_type": "code",
   "execution_count": 14,
   "id": "55c7dd68-bd4f-4214-9734-ebdb5e1f6bfe",
   "metadata": {},
   "outputs": [
    {
     "name": "stdout",
     "output_type": "stream",
     "text": [
      "<class 'pandas.core.frame.DataFrame'>\n",
      "RangeIndex: 3 entries, 0 to 2\n",
      "Data columns (total 5 columns):\n",
      " #   Column           Non-Null Count  Dtype  \n",
      "---  ------           --------------  -----  \n",
      " 0   direction_x      3 non-null      float64\n",
      " 1   direction_y      3 non-null      float64\n",
      " 2   direction_z      3 non-null      float64\n",
      " 3   direction_kappa  3 non-null      float64\n",
      " 4   event_id         3 non-null      float64\n",
      "dtypes: float64(5)\n",
      "memory usage: 248.0 bytes\n"
     ]
    }
   ],
   "source": [
    "results.info()"
   ]
  },
  {
   "cell_type": "code",
   "execution_count": 15,
   "id": "613c3e47-5d71-4905-bb41-983eaf5a7d52",
   "metadata": {},
   "outputs": [
    {
     "data": {
      "text/html": [
       "<div>\n",
       "<style scoped>\n",
       "    .dataframe tbody tr th:only-of-type {\n",
       "        vertical-align: middle;\n",
       "    }\n",
       "\n",
       "    .dataframe tbody tr th {\n",
       "        vertical-align: top;\n",
       "    }\n",
       "\n",
       "    .dataframe thead th {\n",
       "        text-align: right;\n",
       "    }\n",
       "</style>\n",
       "<table border=\"1\" class=\"dataframe\">\n",
       "  <thead>\n",
       "    <tr style=\"text-align: right;\">\n",
       "      <th></th>\n",
       "      <th>direction_x</th>\n",
       "      <th>direction_y</th>\n",
       "      <th>direction_z</th>\n",
       "      <th>direction_kappa</th>\n",
       "      <th>event_id</th>\n",
       "    </tr>\n",
       "  </thead>\n",
       "  <tbody>\n",
       "    <tr>\n",
       "      <th>0</th>\n",
       "      <td>0.987893</td>\n",
       "      <td>-0.148705</td>\n",
       "      <td>0.044195</td>\n",
       "      <td>2.946700</td>\n",
       "      <td>2092.0</td>\n",
       "    </tr>\n",
       "    <tr>\n",
       "      <th>1</th>\n",
       "      <td>-0.551074</td>\n",
       "      <td>-0.254085</td>\n",
       "      <td>-0.794832</td>\n",
       "      <td>6.980622</td>\n",
       "      <td>7344.0</td>\n",
       "    </tr>\n",
       "    <tr>\n",
       "      <th>2</th>\n",
       "      <td>-0.164367</td>\n",
       "      <td>-0.986232</td>\n",
       "      <td>0.018184</td>\n",
       "      <td>86.766502</td>\n",
       "      <td>9482.0</td>\n",
       "    </tr>\n",
       "  </tbody>\n",
       "</table>\n",
       "</div>"
      ],
      "text/plain": [
       "   direction_x  direction_y  direction_z  direction_kappa  event_id\n",
       "0     0.987893    -0.148705     0.044195         2.946700    2092.0\n",
       "1    -0.551074    -0.254085    -0.794832         6.980622    7344.0\n",
       "2    -0.164367    -0.986232     0.018184        86.766502    9482.0"
      ]
     },
     "execution_count": 15,
     "metadata": {},
     "output_type": "execute_result"
    }
   ],
   "source": [
    "results.head()"
   ]
  },
  {
   "cell_type": "code",
   "execution_count": 16,
   "id": "f723b990-2c0d-484b-acbf-ef5d82bc8be9",
   "metadata": {},
   "outputs": [],
   "source": [
    "submission_df = to_submission_df(results)"
   ]
  },
  {
   "cell_type": "code",
   "execution_count": 17,
   "id": "c9fb938d-ff9b-4829-afb1-da55f390d5ab",
   "metadata": {},
   "outputs": [],
   "source": [
    "submission_df.to_csv(\"submission.csv\")"
   ]
  },
  {
   "cell_type": "code",
   "execution_count": 18,
   "id": "9f122017-229e-40ac-ae74-7a47a0fbdb8d",
   "metadata": {},
   "outputs": [
    {
     "data": {
      "text/html": [
       "<div>\n",
       "<style scoped>\n",
       "    .dataframe tbody tr th:only-of-type {\n",
       "        vertical-align: middle;\n",
       "    }\n",
       "\n",
       "    .dataframe tbody tr th {\n",
       "        vertical-align: top;\n",
       "    }\n",
       "\n",
       "    .dataframe thead th {\n",
       "        text-align: right;\n",
       "    }\n",
       "</style>\n",
       "<table border=\"1\" class=\"dataframe\">\n",
       "  <thead>\n",
       "    <tr style=\"text-align: right;\">\n",
       "      <th></th>\n",
       "      <th>azimuth</th>\n",
       "      <th>zenith</th>\n",
       "    </tr>\n",
       "    <tr>\n",
       "      <th>event_id</th>\n",
       "      <th></th>\n",
       "      <th></th>\n",
       "    </tr>\n",
       "  </thead>\n",
       "  <tbody>\n",
       "    <tr>\n",
       "      <th>2092.0</th>\n",
       "      <td>6.133779</td>\n",
       "      <td>1.526587</td>\n",
       "    </tr>\n",
       "    <tr>\n",
       "      <th>7344.0</th>\n",
       "      <td>3.573616</td>\n",
       "      <td>2.489527</td>\n",
       "    </tr>\n",
       "    <tr>\n",
       "      <th>9482.0</th>\n",
       "      <td>4.547245</td>\n",
       "      <td>1.552611</td>\n",
       "    </tr>\n",
       "  </tbody>\n",
       "</table>\n",
       "</div>"
      ],
      "text/plain": [
       "           azimuth    zenith\n",
       "event_id                    \n",
       "2092.0    6.133779  1.526587\n",
       "7344.0    3.573616  2.489527\n",
       "9482.0    4.547245  1.552611"
      ]
     },
     "execution_count": 18,
     "metadata": {},
     "output_type": "execute_result"
    }
   ],
   "source": [
    "submission_df.head()"
   ]
  },
  {
   "cell_type": "code",
   "execution_count": null,
   "id": "a2ce30a1-81b4-456a-bb06-72e564b10fcc",
   "metadata": {},
   "outputs": [],
   "source": []
  }
 ],
 "metadata": {
  "kernelspec": {
   "display_name": "Python 3 (ipykernel)",
   "language": "python",
   "name": "python3"
  },
  "language_info": {
   "codemirror_mode": {
    "name": "ipython",
    "version": 3
   },
   "file_extension": ".py",
   "mimetype": "text/x-python",
   "name": "python",
   "nbconvert_exporter": "python",
   "pygments_lexer": "ipython3",
   "version": "3.7.12"
  }
 },
 "nbformat": 4,
 "nbformat_minor": 5
}
