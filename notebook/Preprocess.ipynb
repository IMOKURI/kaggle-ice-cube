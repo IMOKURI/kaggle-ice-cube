{
 "cells": [
  {
   "cell_type": "code",
   "execution_count": 1,
   "id": "bb5a2282-f990-4e42-81e5-98261ec70ba1",
   "metadata": {},
   "outputs": [],
   "source": [
    "import os"
   ]
  },
  {
   "cell_type": "code",
   "execution_count": 2,
   "id": "21ac9300-7afc-4c34-b727-3f757bd22d44",
   "metadata": {},
   "outputs": [],
   "source": [
    "import logging\n",
    "\n",
    "logging.basicConfig(\n",
    "    # filename=__file__.replace('.py', '.log'),\n",
    "    level=logging.getLevelName(\"INFO\"),\n",
    "    format=\"%(asctime)s [%(levelname)s] [%(module)s] %(message)s\",\n",
    ")\n",
    "\n",
    "log = logging.getLogger(__name__)"
   ]
  },
  {
   "cell_type": "code",
   "execution_count": 3,
   "id": "73d3a3c4-3842-4a75-ade1-8e8490986426",
   "metadata": {},
   "outputs": [
    {
     "name": "stderr",
     "output_type": "stream",
     "text": [
      "2023-02-21 11:17:46,163 [INFO] [365646948] in_kaggle: False\n"
     ]
    }
   ],
   "source": [
    "import sys\n",
    "\n",
    "\n",
    "def in_kaggle():\n",
    "    return \"kaggle_web_client\" in sys.modules\n",
    "\n",
    "\n",
    "log.info(f\"in_kaggle: {in_kaggle()}\")"
   ]
  },
  {
   "cell_type": "code",
   "execution_count": 4,
   "id": "d49a168b-dfe3-4b6e-85fe-0eacb0ec3e39",
   "metadata": {},
   "outputs": [],
   "source": [
    "##### INSERT SOURCE CODE HERE FOR SUBMISSION #####"
   ]
  },
  {
   "cell_type": "code",
   "execution_count": 5,
   "id": "1299871f-c46c-4146-97a0-bb5994089400",
   "metadata": {},
   "outputs": [
    {
     "name": "stdout",
     "output_type": "stream",
     "text": [
      "/home/jovyan/ice-cube\n"
     ]
    }
   ],
   "source": [
    "if in_kaggle():\n",
    "    # https://www.kaggle.com/speeddemon/install-hydra-offline-from-dataset\n",
    "    !cp -r /kaggle/input/hydracore105 /kaggle/working\n",
    "    !mv /kaggle/working/hydracore105/antlr4-python3-runtime-4.8.tar.gz.tmp /kaggle/working/hydracore105/antlr4-python3-runtime-4.8.tar.gz\n",
    "    !ls /kaggle/working/hydracore105\n",
    "    !pip install -qq /kaggle/working/hydracore105/* --ignore-installed PyYAML\n",
    "\n",
    "    sys.path.append(\"../input/omegaconf/omegaconf-master\")\n",
    "    omega_conf_dir = \"config\"\n",
    "\n",
    "else:\n",
    "    %cd ..\n",
    "\n",
    "    omega_conf_dir = \"./config\""
   ]
  },
  {
   "cell_type": "code",
   "execution_count": 6,
   "id": "c1c5d506-7c97-4171-8a53-5ffe081ec053",
   "metadata": {},
   "outputs": [],
   "source": [
    "from omegaconf import OmegaConf\n",
    "\n",
    "c_main = OmegaConf.load(os.path.join(omega_conf_dir, \"main.yaml\"))\n",
    "c_data = OmegaConf.load(os.path.join(omega_conf_dir, \"data.yaml\"))\n",
    "c = OmegaConf.merge(c_main, c_data)\n",
    "\n",
    "c.settings.debug = False\n",
    "c.wandb.enabled = False"
   ]
  },
  {
   "cell_type": "code",
   "execution_count": 7,
   "id": "2c1b4537-ac99-433d-86c1-c462321b9b06",
   "metadata": {},
   "outputs": [
    {
     "name": "stderr",
     "output_type": "stream",
     "text": [
      "2023-02-21 11:17:46,324 [INFO] [837051953] ./test_db.db\n"
     ]
    },
    {
     "name": "stdout",
     "output_type": "stream",
     "text": [
      "/bin/bash: /opt/conda/lib/libtinfo.so.6: no version information available (required by /bin/bash)\n"
     ]
    }
   ],
   "source": [
    "if c.settings.is_training:\n",
    "    database_path = os.path.join(c.data.dir.working, \"train_db.db\")\n",
    "else:\n",
    "    database_path = os.path.join(c.data.dir.working, \"test_db.db\")\n",
    "\n",
    "log.info(database_path)\n",
    "!rm -f {database_path}"
   ]
  },
  {
   "cell_type": "code",
   "execution_count": 8,
   "id": "2d186387-e9a3-4b0b-bb7b-a521756b6c38",
   "metadata": {},
   "outputs": [
    {
     "name": "stdout",
     "output_type": "stream",
     "text": [
      "/bin/bash: /opt/conda/lib/libtinfo.so.6: no version information available (required by /bin/bash)\n",
      "\u001b[1;34mgraphnet\u001b[0m: \u001b[32mINFO    \u001b[0m 2023-02-21 11:17:48 - get_logger - Writing log to \u001b[1mlogs/graphnet_20230221-111748.log\u001b[0m\n",
      "\u001b[1;34mgraphnet\u001b[0m: \u001b[33mWARNING \u001b[0m 2023-02-21 11:17:48 - warn_once - `icecube` not available. Some functionality may be missing.\u001b[0m\n",
      "/opt/conda/lib/python3.7/site-packages/torchvision/io/image.py:13: UserWarning: Failed to load image Python extension: /opt/conda/lib/python3.7/site-packages/torchvision/image.so: undefined symbol: _ZN5torch3jit17parseSchemaOrNameERKNSt7__cxx1112basic_stringIcSt11char_traitsIcESaIcEEE\n",
      "  warn(f\"Failed to load image Python extension: {e}\")\n",
      "2023-02-21 11:17:50,171 [INFO][utils] Output directory: ../output/2023-02-21_11-17-50\n",
      "2023-02-21 11:17:50,171 [INFO][utils] Python version: 3.7.12 | packaged by conda-forge | (default, Oct 26 2021, 06:08:53) \n",
      "[GCC 9.4.0]\n",
      "2023-02-21 11:17:50,171 [INFO][utils] PyTorch version: 1.11.0+cu115\n",
      "2023-02-21 11:17:50,171 [INFO][utils] Enable debug mode.\n",
      "2023-02-21 11:17:50,232 [INFO][utils] Fix seed: 442\n",
      "2023-02-21 11:17:50,262 [INFO][sqlite] ./test_db.db . [661] ...\n",
      "2023-02-21 11:17:50,289 [INFO][sqlite] Conversion Complete!. Database available at\n",
      " ./test_db.db\n",
      "2023-02-21 11:17:50,289 [INFO][00-create-db] Done.\n"
     ]
    }
   ],
   "source": [
    "!python 00-create-db.py"
   ]
  },
  {
   "cell_type": "code",
   "execution_count": null,
   "id": "986dc152-5645-488d-af40-eac9b450c1b1",
   "metadata": {},
   "outputs": [],
   "source": []
  },
  {
   "cell_type": "code",
   "execution_count": null,
   "id": "c1769a7e-7056-48e2-a61e-de0d5216f592",
   "metadata": {},
   "outputs": [],
   "source": []
  },
  {
   "cell_type": "code",
   "execution_count": null,
   "id": "f23aa7e7-013e-439a-896a-6ba9668b3c4a",
   "metadata": {},
   "outputs": [],
   "source": []
  }
 ],
 "metadata": {
  "kernelspec": {
   "display_name": "Python 3 (ipykernel)",
   "language": "python",
   "name": "python3"
  },
  "language_info": {
   "codemirror_mode": {
    "name": "ipython",
    "version": 3
   },
   "file_extension": ".py",
   "mimetype": "text/x-python",
   "name": "python",
   "nbconvert_exporter": "python",
   "pygments_lexer": "ipython3",
   "version": "3.7.12"
  }
 },
 "nbformat": 4,
 "nbformat_minor": 5
}
