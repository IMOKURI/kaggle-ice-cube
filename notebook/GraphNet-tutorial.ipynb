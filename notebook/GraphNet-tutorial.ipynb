{
 "cells": [
  {
   "cell_type": "code",
   "execution_count": 1,
   "id": "0fff391e-c337-49db-857f-2984538a1f43",
   "metadata": {},
   "outputs": [
    {
     "name": "stdout",
     "output_type": "stream",
     "text": [
      "/home/jovyan/working\n"
     ]
    }
   ],
   "source": [
    "%cd .."
   ]
  },
  {
   "cell_type": "code",
   "execution_count": 2,
   "id": "bb5a2282-f990-4e42-81e5-98261ec70ba1",
   "metadata": {},
   "outputs": [],
   "source": [
    "import math\n",
    "import os\n",
    "\n",
    "import pandas as pd\n",
    "import torch"
   ]
  },
  {
   "cell_type": "code",
   "execution_count": 3,
   "id": "21ac9300-7afc-4c34-b727-3f757bd22d44",
   "metadata": {},
   "outputs": [],
   "source": [
    "import logging\n",
    "\n",
    "logging.basicConfig(\n",
    "    # filename=__file__.replace('.py', '.log'),\n",
    "    level=logging.getLevelName(\"INFO\"),\n",
    "    format=\"%(asctime)s [%(levelname)s] [%(module)s] %(message)s\",\n",
    ")\n",
    "\n",
    "log = logging.getLogger(__name__)"
   ]
  },
  {
   "cell_type": "code",
   "execution_count": 4,
   "id": "c1c5d506-7c97-4171-8a53-5ffe081ec053",
   "metadata": {},
   "outputs": [],
   "source": [
    "from omegaconf import OmegaConf\n",
    "\n",
    "omega_conf_dir = \"./config\"\n",
    "\n",
    "c_main = OmegaConf.load(os.path.join(omega_conf_dir, \"main.yaml\"))\n",
    "c_data = OmegaConf.load(os.path.join(omega_conf_dir, \"data.yaml\"))\n",
    "c = OmegaConf.merge(c_main, c_data)\n",
    "\n",
    "c.wandb.enabled = False"
   ]
  },
  {
   "cell_type": "code",
   "execution_count": 5,
   "id": "5add80b5-7ed9-46c9-9b12-d5ec0386ecdb",
   "metadata": {},
   "outputs": [
    {
     "name": "stdout",
     "output_type": "stream",
     "text": [
      "\u001b[1;34mgraphnet\u001b[0m: \u001b[32mINFO    \u001b[0m 2023-03-19 13:57:34 - get_logger - Writing log to \u001b[1mlogs/graphnet_20230319-135734.log\u001b[0m\n"
     ]
    },
    {
     "name": "stderr",
     "output_type": "stream",
     "text": [
      "2023-03-19 13:57:34,916 [INFO] [logging] Writing log to \u001b[1mlogs/graphnet_20230319-135734.log\u001b[0m\n"
     ]
    },
    {
     "name": "stdout",
     "output_type": "stream",
     "text": [
      "\u001b[1;34mgraphnet\u001b[0m: \u001b[33mWARNING \u001b[0m 2023-03-19 13:57:34 - warn_once - `icecube` not available. Some functionality may be missing.\u001b[0m\n"
     ]
    },
    {
     "name": "stderr",
     "output_type": "stream",
     "text": [
      "2023-03-19 13:57:34,924 [WARNING] [logging] `icecube` not available. Some functionality may be missing.\n",
      "/opt/conda/lib/python3.7/site-packages/torchvision/io/image.py:13: UserWarning: Failed to load image Python extension: /opt/conda/lib/python3.7/site-packages/torchvision/image.so: undefined symbol: _ZN3c104impl8GPUTrace13gpuTraceStateE\n",
      "  warn(f\"Failed to load image Python extension: {e}\")\n",
      "2023-03-19 13:57:36.230482: I tensorflow/core/platform/cpu_feature_guard.cc:193] This TensorFlow binary is optimized with oneAPI Deep Neural Network Library (oneDNN) to use the following CPU instructions in performance-critical operations:  AVX2 AVX512F AVX512_VNNI FMA\n",
      "To enable them in other operations, rebuild TensorFlow with the appropriate compiler flags.\n",
      "2023-03-19 13:57:36.370397: I tensorflow/core/util/port.cc:104] oneDNN custom operations are on. You may see slightly different numerical results due to floating-point round-off errors from different computation orders. To turn them off, set the environment variable `TF_ENABLE_ONEDNN_OPTS=0`.\n",
      "2023-03-19 13:57:37.211551: W tensorflow/compiler/xla/stream_executor/platform/default/dso_loader.cc:64] Could not load dynamic library 'libnvinfer.so.7'; dlerror: libnvinfer.so.7: cannot open shared object file: No such file or directory; LD_LIBRARY_PATH: /usr/local/cuda/lib64:/usr/local/cuda/lib:/usr/local/lib/x86_64-linux-gnu:/usr/local/nvidia/lib:/usr/local/nvidia/lib64:/usr/local/nvidia/lib:/usr/local/nvidia/lib64:/opt/conda/lib\n",
      "2023-03-19 13:57:37.211640: W tensorflow/compiler/xla/stream_executor/platform/default/dso_loader.cc:64] Could not load dynamic library 'libnvinfer_plugin.so.7'; dlerror: libnvinfer_plugin.so.7: cannot open shared object file: No such file or directory; LD_LIBRARY_PATH: /usr/local/cuda/lib64:/usr/local/cuda/lib:/usr/local/lib/x86_64-linux-gnu:/usr/local/nvidia/lib:/usr/local/nvidia/lib64:/usr/local/nvidia/lib:/usr/local/nvidia/lib64:/opt/conda/lib\n",
      "2023-03-19 13:57:37.211648: W tensorflow/compiler/tf2tensorrt/utils/py_utils.cc:38] TF-TRT Warning: Cannot dlopen some TensorRT libraries. If you would like to use Nvidia GPU with TensorRT, please make sure the missing libraries mentioned above are installed properly.\n"
     ]
    }
   ],
   "source": [
    "from src.ice_cube.data_loader import (\n",
    "    collate_fn_minus_minus,\n",
    "    collate_fn_minus_plus,\n",
    "    collate_fn_plus_minus,\n",
    "    make_test_dataloader,\n",
    ")\n",
    "from src.ice_cube.model import load_pretrained_model\n",
    "from src.ice_cube.scoring import angular_dist_score\n",
    "from src.ice_cube.submission import to_submission_df"
   ]
  },
  {
   "cell_type": "markdown",
   "id": "ffa9ac2b-09b9-4712-b061-0422c703c88c",
   "metadata": {},
   "source": [
    "## SQLiteDataset"
   ]
  },
  {
   "cell_type": "code",
   "execution_count": 6,
   "id": "293117e4-e949-4008-b7c3-d9a0cf705a13",
   "metadata": {},
   "outputs": [
    {
     "name": "stdout",
     "output_type": "stream",
     "text": [
      "\u001b[1;34mgraphnet\u001b[0m: \u001b[33mWARNING \u001b[0m 2023-03-19 13:57:39 - SQLiteDataset.warning - Removing the following (missing) truth variables: zenith, azimuth\u001b[0m\n"
     ]
    },
    {
     "name": "stderr",
     "output_type": "stream",
     "text": [
      "2023-03-19 13:57:39,738 [WARNING] [logging] Removing the following (missing) truth variables: zenith, azimuth\n"
     ]
    }
   ],
   "source": [
    "database_path = os.path.join(c.data.dir.dataset, \"test_db.db\")\n",
    "dataloader = make_test_dataloader(c, database_path)"
   ]
  },
  {
   "cell_type": "markdown",
   "id": "ac4ac0c0-a5fc-4de3-b153-2778fe54ace0",
   "metadata": {
    "jp-MarkdownHeadingCollapsed": true,
    "tags": []
   },
   "source": [
    "## Test Data"
   ]
  },
  {
   "cell_type": "code",
   "execution_count": 7,
   "id": "12662235-6b92-43e1-b1c4-522007de57db",
   "metadata": {},
   "outputs": [
    {
     "name": "stderr",
     "output_type": "stream",
     "text": [
      "2023-03-19 13:57:39,749 [INFO] [instantiator] Created a temporary directory at /tmp/tmp712b9u0u\n",
      "2023-03-19 13:57:39,750 [INFO] [instantiator] Writing /tmp/tmp712b9u0u/_remote_module_non_sriptable.py\n"
     ]
    }
   ],
   "source": [
    "model = load_pretrained_model(c, dataloader, state_dict_path=c.inference_params.model_path)"
   ]
  },
  {
   "cell_type": "code",
   "execution_count": 8,
   "id": "7687578f-6aeb-41c3-bb70-03b344b3f996",
   "metadata": {},
   "outputs": [
    {
     "name": "stderr",
     "output_type": "stream",
     "text": [
      "2023-03-19 13:57:39,929 [INFO] [rank_zero] GPU available: True (cuda), used: True\n",
      "2023-03-19 13:57:39,931 [INFO] [rank_zero] TPU available: False, using: 0 TPU cores\n",
      "2023-03-19 13:57:39,932 [INFO] [rank_zero] IPU available: False, using: 0 IPUs\n",
      "2023-03-19 13:57:39,932 [INFO] [rank_zero] HPU available: False, using: 0 HPUs\n",
      "2023-03-19 13:57:39,936 [INFO] [rank_zero] GPU available: True (cuda), used: True\n",
      "2023-03-19 13:57:39,937 [INFO] [rank_zero] TPU available: False, using: 0 TPU cores\n",
      "2023-03-19 13:57:39,938 [INFO] [rank_zero] IPU available: False, using: 0 IPUs\n",
      "2023-03-19 13:57:39,938 [INFO] [rank_zero] HPU available: False, using: 0 HPUs\n",
      "2023-03-19 13:57:44,114 [INFO] [cuda] LOCAL_RANK: 0 - CUDA_VISIBLE_DEVICES: [0,1,2]\n"
     ]
    },
    {
     "data": {
      "application/vnd.jupyter.widget-view+json": {
       "model_id": "bc50157196664f8eaf5f7e164333850f",
       "version_major": 2,
       "version_minor": 0
      },
      "text/plain": [
       "Predicting: 0it [00:00, ?it/s]"
      ]
     },
     "metadata": {},
     "output_type": "display_data"
    }
   ],
   "source": [
    "results = model.predict(\n",
    "    gpus=[0],\n",
    "    dataloader=dataloader,\n",
    "    #prediction_columns=model.prediction_columns,\n",
    "    #additional_attributes=[c.settings.index_name],\n",
    ")"
   ]
  },
  {
   "cell_type": "code",
   "execution_count": 9,
   "id": "6e95ecf0",
   "metadata": {},
   "outputs": [],
   "source": [
    "predictions = (\n",
    "    torch.cat(results, dim=1).detach().cpu().numpy()\n",
    ")"
   ]
  },
  {
   "cell_type": "code",
   "execution_count": 10,
   "id": "c1e8a221",
   "metadata": {},
   "outputs": [
    {
     "data": {
      "text/plain": [
       "array([[ 9.9333233e-01,  4.9131688e-02, -1.0429241e-01,  2.8534021e+00],\n",
       "       [-5.6608284e-01, -2.3402302e-01, -7.9043239e-01,  7.8869848e+00],\n",
       "       [-1.7325106e-01, -9.8453736e-01,  2.5886854e-02,  7.9658882e+01]],\n",
       "      dtype=float32)"
      ]
     },
     "execution_count": 10,
     "metadata": {},
     "output_type": "execute_result"
    }
   ],
   "source": [
    "predictions"
   ]
  },
  {
   "cell_type": "code",
   "execution_count": 12,
   "id": "3c2fd850-e9e2-465d-86f3-5b3982fe20f6",
   "metadata": {},
   "outputs": [
    {
     "name": "stderr",
     "output_type": "stream",
     "text": [
      "2023-03-19 13:58:11,732 [INFO] [3411257887] ['x', 'y', 'z', 'time', 'charge', 'auxiliary']\n",
      "2023-03-19 13:58:11,735 [INFO] [3411257887] torch.Size([35, 6])\n",
      "2023-03-19 13:58:11,737 [INFO] [3411257887] tensor([-1.0970e+01,  6.7200e+00, -4.2333e+02,  5.9290e+03,  1.0250e+00,\n",
      "         1.0000e+00])\n",
      "2023-03-19 13:58:11,740 [INFO] [3411257887] tensor(6.7200)\n",
      "2023-03-19 13:58:11,743 [INFO] [3411257887] tensor(-423.3300)\n",
      "2023-03-19 13:58:11,746 [INFO] [3411257887] tensor(5929.)\n",
      "2023-03-19 13:58:11,748 [INFO] [3411257887] tensor(1.0250)\n"
     ]
    }
   ],
   "source": [
    "for i in dataloader:\n",
    "    log.info(i.get_example(1).features)\n",
    "    log.info(i.get_example(1).x.shape)\n",
    "    log.info(i.get_example(1).x[0])\n",
    "    log.info(i.get_example(1).y[0])\n",
    "    log.info(i.get_example(1).z[0])\n",
    "    log.info(i.get_example(1).time[0])\n",
    "    log.info(i.get_example(1).charge[0])\n",
    "    # log.info(i.get_example(1).to_namedtuple())\n",
    "    break"
   ]
  },
  {
   "cell_type": "code",
   "execution_count": null,
   "id": "a3f1f7da-150e-4e9f-82fd-862ddaa42220",
   "metadata": {},
   "outputs": [],
   "source": []
  }
 ],
 "metadata": {
  "kernelspec": {
   "display_name": "Python 3 (ipykernel)",
   "language": "python",
   "name": "python3"
  },
  "language_info": {
   "codemirror_mode": {
    "name": "ipython",
    "version": 3
   },
   "file_extension": ".py",
   "mimetype": "text/x-python",
   "name": "python",
   "nbconvert_exporter": "python",
   "pygments_lexer": "ipython3",
   "version": "3.7.12"
  }
 },
 "nbformat": 4,
 "nbformat_minor": 5
}
