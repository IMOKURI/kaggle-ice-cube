{
 "cells": [
  {
   "cell_type": "code",
   "execution_count": 1,
   "id": "0fff391e-c337-49db-857f-2984538a1f43",
   "metadata": {},
   "outputs": [
    {
     "name": "stdout",
     "output_type": "stream",
     "text": [
      "/home/jovyan/ice-cube\n"
     ]
    }
   ],
   "source": [
    "%cd .."
   ]
  },
  {
   "cell_type": "code",
   "execution_count": 2,
   "id": "bb5a2282-f990-4e42-81e5-98261ec70ba1",
   "metadata": {},
   "outputs": [],
   "source": [
    "import math\n",
    "import os\n",
    "\n",
    "import pandas as pd\n",
    "import torch"
   ]
  },
  {
   "cell_type": "code",
   "execution_count": 3,
   "id": "21ac9300-7afc-4c34-b727-3f757bd22d44",
   "metadata": {},
   "outputs": [],
   "source": [
    "import logging\n",
    "\n",
    "logging.basicConfig(\n",
    "    # filename=__file__.replace('.py', '.log'),\n",
    "    level=logging.getLevelName(\"INFO\"),\n",
    "    format=\"%(asctime)s [%(levelname)s] [%(module)s] %(message)s\",\n",
    ")\n",
    "\n",
    "log = logging.getLogger(__name__)"
   ]
  },
  {
   "cell_type": "code",
   "execution_count": 4,
   "id": "d49a168b-dfe3-4b6e-85fe-0eacb0ec3e39",
   "metadata": {},
   "outputs": [],
   "source": [
    "##### INSERT SOURCE CODE HERE FOR SUBMISSION #####"
   ]
  },
  {
   "cell_type": "code",
   "execution_count": 5,
   "id": "c1c5d506-7c97-4171-8a53-5ffe081ec053",
   "metadata": {},
   "outputs": [],
   "source": [
    "from omegaconf import OmegaConf\n",
    "\n",
    "omega_conf_dir = \"./config\"\n",
    "\n",
    "c_main = OmegaConf.load(os.path.join(omega_conf_dir, \"main.yaml\"))\n",
    "c_data = OmegaConf.load(os.path.join(omega_conf_dir, \"data.yaml\"))\n",
    "c = OmegaConf.merge(c_main, c_data)\n",
    "\n",
    "c.wandb.enabled = False"
   ]
  },
  {
   "cell_type": "code",
   "execution_count": 6,
   "id": "5add80b5-7ed9-46c9-9b12-d5ec0386ecdb",
   "metadata": {},
   "outputs": [
    {
     "name": "stdout",
     "output_type": "stream",
     "text": [
      "\u001b[1;34mgraphnet\u001b[0m: \u001b[32mINFO    \u001b[0m 2023-02-24 06:48:57 - get_logger - Writing log to \u001b[1mlogs/graphnet_20230224-064857.log\u001b[0m\n"
     ]
    },
    {
     "name": "stderr",
     "output_type": "stream",
     "text": [
      "2023-02-24 06:48:57,234 [INFO] [logging] Writing log to \u001b[1mlogs/graphnet_20230224-064857.log\u001b[0m\n"
     ]
    },
    {
     "name": "stdout",
     "output_type": "stream",
     "text": [
      "\u001b[1;34mgraphnet\u001b[0m: \u001b[33mWARNING \u001b[0m 2023-02-24 06:48:57 - warn_once - `icecube` not available. Some functionality may be missing.\u001b[0m\n"
     ]
    },
    {
     "name": "stderr",
     "output_type": "stream",
     "text": [
      "2023-02-24 06:48:57,241 [WARNING] [logging] `icecube` not available. Some functionality may be missing.\n",
      "/opt/conda/lib/python3.7/site-packages/torchvision/io/image.py:13: UserWarning: Failed to load image Python extension: /opt/conda/lib/python3.7/site-packages/torchvision/image.so: undefined symbol: _ZN5torch3jit17parseSchemaOrNameERKNSt7__cxx1112basic_stringIcSt11char_traitsIcESaIcEEE\n",
      "  warn(f\"Failed to load image Python extension: {e}\")\n"
     ]
    }
   ],
   "source": [
    "from src.ice_cube.data_loader import (\n",
    "    make_test_dataloader,\n",
    "    make_test_dataloader_plus_minus,\n",
    "    make_train_dataloader,\n",
    ")\n",
    "from src.ice_cube.model import load_pretrained_model\n",
    "from src.ice_cube.scoring import angular_dist_score\n",
    "from src.ice_cube.submission import to_submission_df"
   ]
  },
  {
   "cell_type": "markdown",
   "id": "ffa9ac2b-09b9-4712-b061-0422c703c88c",
   "metadata": {},
   "source": [
    "## SQLiteDataset"
   ]
  },
  {
   "cell_type": "code",
   "execution_count": 7,
   "id": "ec85ae17-ad8a-4b3b-b56f-98a7951c0b62",
   "metadata": {},
   "outputs": [],
   "source": [
    "train_loader, valid_loader = make_train_dataloader(c)"
   ]
  },
  {
   "cell_type": "code",
   "execution_count": 8,
   "id": "293117e4-e949-4008-b7c3-d9a0cf705a13",
   "metadata": {},
   "outputs": [
    {
     "name": "stdout",
     "output_type": "stream",
     "text": [
      "\u001b[1;34mgraphnet\u001b[0m: \u001b[33mWARNING \u001b[0m 2023-02-24 06:48:59 - SQLiteDataset.warning - Removing the following (missing) truth variables: zenith, azimuth\u001b[0m\n"
     ]
    },
    {
     "name": "stderr",
     "output_type": "stream",
     "text": [
      "2023-02-24 06:48:59,908 [WARNING] [logging] Removing the following (missing) truth variables: zenith, azimuth\n"
     ]
    }
   ],
   "source": [
    "test_loader = make_test_dataloader(c)"
   ]
  },
  {
   "cell_type": "code",
   "execution_count": 9,
   "id": "d0fe499f-cc66-4087-ac74-6154ee371651",
   "metadata": {},
   "outputs": [
    {
     "name": "stdout",
     "output_type": "stream",
     "text": [
      "\u001b[1;34mgraphnet\u001b[0m: \u001b[33mWARNING \u001b[0m 2023-02-24 06:48:59 - SQLiteDataset.warning - Removing the following (missing) truth variables: zenith, azimuth\u001b[0m\n"
     ]
    },
    {
     "name": "stderr",
     "output_type": "stream",
     "text": [
      "2023-02-24 06:48:59,917 [WARNING] [logging] Removing the following (missing) truth variables: zenith, azimuth\n"
     ]
    }
   ],
   "source": [
    "test_pm_loader = make_test_dataloader_plus_minus(c)"
   ]
  },
  {
   "cell_type": "markdown",
   "id": "ac4ac0c0-a5fc-4de3-b153-2778fe54ace0",
   "metadata": {
    "jp-MarkdownHeadingCollapsed": true,
    "tags": []
   },
   "source": [
    "## Valid Data"
   ]
  },
  {
   "cell_type": "code",
   "execution_count": 10,
   "id": "db34a4ca-69d9-438b-a293-710e27f51947",
   "metadata": {},
   "outputs": [
    {
     "data": {
      "text/plain": [
       "graphnet.data.sqlite.sqlite_dataset.SQLiteDataset"
      ]
     },
     "execution_count": 10,
     "metadata": {},
     "output_type": "execute_result"
    }
   ],
   "source": [
    "type(valid_loader.dataset)"
   ]
  },
  {
   "cell_type": "code",
   "execution_count": 11,
   "id": "1ea9f971-8274-4c7f-9ba7-a265bcd8de67",
   "metadata": {},
   "outputs": [],
   "source": [
    "train_label = train_loader.dataset.query_table(\n",
    "    \"meta_table\", [\"event_id\", \"azimuth\", \"zenith\"]\n",
    ")"
   ]
  },
  {
   "cell_type": "code",
   "execution_count": 12,
   "id": "52bc47a4-e417-4187-9470-049ae7fd974c",
   "metadata": {},
   "outputs": [],
   "source": [
    "valid_label = valid_loader.dataset.query_table(\n",
    "    \"meta_table\", [\"event_id\", \"azimuth\", \"zenith\"]\n",
    ")"
   ]
  },
  {
   "cell_type": "code",
   "execution_count": 13,
   "id": "403e2ac5-f8e7-4e69-af36-444289a0abaa",
   "metadata": {},
   "outputs": [],
   "source": [
    "train_df = pd.DataFrame(\n",
    "    train_label, columns=[\"event_id\", \"azimuth\", \"zenith\"]\n",
    ").set_index(\"event_id\")"
   ]
  },
  {
   "cell_type": "code",
   "execution_count": 14,
   "id": "85cfec2d-057a-4f29-b2ef-afa9aa9b0d39",
   "metadata": {},
   "outputs": [],
   "source": [
    "valid_df = pd.DataFrame(\n",
    "    valid_label, columns=[\"event_id\", \"azimuth\", \"zenith\"]\n",
    ").set_index(\"event_id\")"
   ]
  },
  {
   "cell_type": "code",
   "execution_count": 15,
   "id": "24e4cfae-a69d-4a7e-ab84-464db5b3f90d",
   "metadata": {},
   "outputs": [
    {
     "name": "stdout",
     "output_type": "stream",
     "text": [
      "<class 'pandas.core.frame.DataFrame'>\n",
      "Int64Index: 200000 entries, 24 to 3266196\n",
      "Data columns (total 2 columns):\n",
      " #   Column   Non-Null Count   Dtype  \n",
      "---  ------   --------------   -----  \n",
      " 0   azimuth  200000 non-null  float64\n",
      " 1   zenith   200000 non-null  float64\n",
      "dtypes: float64(2)\n",
      "memory usage: 4.6 MB\n"
     ]
    }
   ],
   "source": [
    "train_df.info()"
   ]
  },
  {
   "cell_type": "code",
   "execution_count": 16,
   "id": "1422aae2-5914-43ed-8bfe-27a998ab2f5d",
   "metadata": {},
   "outputs": [
    {
     "name": "stdout",
     "output_type": "stream",
     "text": [
      "<class 'pandas.core.frame.DataFrame'>\n",
      "Int64Index: 200000 entries, 24 to 3266196\n",
      "Data columns (total 2 columns):\n",
      " #   Column   Non-Null Count   Dtype  \n",
      "---  ------   --------------   -----  \n",
      " 0   azimuth  200000 non-null  float64\n",
      " 1   zenith   200000 non-null  float64\n",
      "dtypes: float64(2)\n",
      "memory usage: 4.6 MB\n"
     ]
    }
   ],
   "source": [
    "valid_df.info()"
   ]
  },
  {
   "cell_type": "code",
   "execution_count": 17,
   "id": "12662235-6b92-43e1-b1c4-522007de57db",
   "metadata": {},
   "outputs": [],
   "source": [
    "# model = load_pretrained_model(c, valid_loader)"
   ]
  },
  {
   "cell_type": "code",
   "execution_count": 18,
   "id": "7687578f-6aeb-41c3-bb70-03b344b3f996",
   "metadata": {},
   "outputs": [],
   "source": [
    "# results = model.predict_as_dataframe(\n",
    "#     gpus=[0],\n",
    "#     dataloader=valid_loader,\n",
    "#     prediction_columns=model.prediction_columns,\n",
    "#     additional_attributes=[c.settings.index_name],\n",
    "# )"
   ]
  },
  {
   "cell_type": "code",
   "execution_count": 19,
   "id": "4672da4d-0c7e-446e-831a-461a24a22466",
   "metadata": {},
   "outputs": [],
   "source": [
    "# results.info()"
   ]
  },
  {
   "cell_type": "code",
   "execution_count": 20,
   "id": "a8b1690b-57ad-4045-b161-812cf4c9862c",
   "metadata": {},
   "outputs": [],
   "source": [
    "# submission_df = to_submission_df(results)"
   ]
  },
  {
   "cell_type": "code",
   "execution_count": 21,
   "id": "c4637f07-3f84-4308-9347-18a17db5e23a",
   "metadata": {},
   "outputs": [],
   "source": [
    "# submission_df.info()"
   ]
  },
  {
   "cell_type": "code",
   "execution_count": 22,
   "id": "92d70611-6fca-4e80-b491-8c9c6625cf6a",
   "metadata": {},
   "outputs": [],
   "source": [
    "# part_valid_df = valid_df.loc[submission_df.index, :]"
   ]
  },
  {
   "cell_type": "code",
   "execution_count": 23,
   "id": "d84834fb-2408-43f7-ba2c-1e3c7c47c1b6",
   "metadata": {},
   "outputs": [],
   "source": [
    "# part_valid_df.info()"
   ]
  },
  {
   "cell_type": "code",
   "execution_count": 24,
   "id": "21752bed-244a-4fcf-b1cf-78d69155e15e",
   "metadata": {},
   "outputs": [],
   "source": [
    "# score = angular_dist_score(\n",
    "#     part_valid_df[\"azimuth\"],\n",
    "#     part_valid_df[\"zenith\"],\n",
    "#     submission_df[\"azimuth\"],\n",
    "#     submission_df[\"zenith\"],\n",
    "# )"
   ]
  },
  {
   "cell_type": "code",
   "execution_count": 25,
   "id": "3fe0c661-4770-4168-900b-a3a38622af70",
   "metadata": {},
   "outputs": [],
   "source": [
    "# score"
   ]
  },
  {
   "cell_type": "markdown",
   "id": "5955e064-5428-4100-8e99-52463e55f21c",
   "metadata": {},
   "source": [
    "## Test Data"
   ]
  },
  {
   "cell_type": "code",
   "execution_count": 26,
   "id": "a539e02d-7e05-499f-ad52-5257deb5e278",
   "metadata": {},
   "outputs": [
    {
     "name": "stderr",
     "output_type": "stream",
     "text": [
      "2023-02-24 06:49:00,437 [INFO] [instantiator] Created a temporary directory at /tmp/tmpkq7rt1ey\n",
      "2023-02-24 06:49:00,438 [INFO] [instantiator] Writing /tmp/tmpkq7rt1ey/_remote_module_non_sriptable.py\n"
     ]
    }
   ],
   "source": [
    "model = load_pretrained_model(c, test_loader)"
   ]
  },
  {
   "cell_type": "code",
   "execution_count": 27,
   "id": "e632be27-67fb-4057-9fe9-ac4c2b0d30ee",
   "metadata": {},
   "outputs": [
    {
     "name": "stderr",
     "output_type": "stream",
     "text": [
      "2023-02-24 06:49:00,527 [INFO] [rank_zero] GPU available: True (cuda), used: True\n",
      "2023-02-24 06:49:00,529 [INFO] [rank_zero] TPU available: False, using: 0 TPU cores\n",
      "2023-02-24 06:49:00,529 [INFO] [rank_zero] IPU available: False, using: 0 IPUs\n",
      "2023-02-24 06:49:00,530 [INFO] [rank_zero] HPU available: False, using: 0 HPUs\n",
      "2023-02-24 06:49:00,533 [INFO] [rank_zero] GPU available: True (cuda), used: True\n",
      "2023-02-24 06:49:00,533 [INFO] [rank_zero] TPU available: False, using: 0 TPU cores\n",
      "2023-02-24 06:49:00,533 [INFO] [rank_zero] IPU available: False, using: 0 IPUs\n",
      "2023-02-24 06:49:00,534 [INFO] [rank_zero] HPU available: False, using: 0 HPUs\n",
      "2023-02-24 06:49:02,885 [INFO] [cuda] LOCAL_RANK: 0 - CUDA_VISIBLE_DEVICES: [0]\n"
     ]
    },
    {
     "data": {
      "application/vnd.jupyter.widget-view+json": {
       "model_id": "42f4b443698c42749db707fe9a82034a",
       "version_major": 2,
       "version_minor": 0
      },
      "text/plain": [
       "Predicting: 0it [00:00, ?it/s]"
      ]
     },
     "metadata": {},
     "output_type": "display_data"
    }
   ],
   "source": [
    "results = model.predict_as_dataframe(\n",
    "    gpus=[0],\n",
    "    dataloader=test_loader,\n",
    "    prediction_columns=model.prediction_columns,\n",
    "    additional_attributes=[c.settings.index_name],\n",
    ")"
   ]
  },
  {
   "cell_type": "code",
   "execution_count": 28,
   "id": "3da20d91-13e2-4987-bf8d-2cf23b7b9aa6",
   "metadata": {},
   "outputs": [
    {
     "data": {
      "text/html": [
       "<div>\n",
       "<style scoped>\n",
       "    .dataframe tbody tr th:only-of-type {\n",
       "        vertical-align: middle;\n",
       "    }\n",
       "\n",
       "    .dataframe tbody tr th {\n",
       "        vertical-align: top;\n",
       "    }\n",
       "\n",
       "    .dataframe thead th {\n",
       "        text-align: right;\n",
       "    }\n",
       "</style>\n",
       "<table border=\"1\" class=\"dataframe\">\n",
       "  <thead>\n",
       "    <tr style=\"text-align: right;\">\n",
       "      <th></th>\n",
       "      <th>direction_x</th>\n",
       "      <th>direction_y</th>\n",
       "      <th>direction_z</th>\n",
       "      <th>direction_kappa</th>\n",
       "      <th>event_id</th>\n",
       "    </tr>\n",
       "  </thead>\n",
       "  <tbody>\n",
       "    <tr>\n",
       "      <th>0</th>\n",
       "      <td>0.987893</td>\n",
       "      <td>-0.148705</td>\n",
       "      <td>0.044195</td>\n",
       "      <td>2.946703</td>\n",
       "      <td>2092.0</td>\n",
       "    </tr>\n",
       "    <tr>\n",
       "      <th>1</th>\n",
       "      <td>-0.551074</td>\n",
       "      <td>-0.254085</td>\n",
       "      <td>-0.794832</td>\n",
       "      <td>6.980618</td>\n",
       "      <td>7344.0</td>\n",
       "    </tr>\n",
       "    <tr>\n",
       "      <th>2</th>\n",
       "      <td>-0.164367</td>\n",
       "      <td>-0.986232</td>\n",
       "      <td>0.018184</td>\n",
       "      <td>86.766510</td>\n",
       "      <td>9482.0</td>\n",
       "    </tr>\n",
       "  </tbody>\n",
       "</table>\n",
       "</div>"
      ],
      "text/plain": [
       "   direction_x  direction_y  direction_z  direction_kappa  event_id\n",
       "0     0.987893    -0.148705     0.044195         2.946703    2092.0\n",
       "1    -0.551074    -0.254085    -0.794832         6.980618    7344.0\n",
       "2    -0.164367    -0.986232     0.018184        86.766510    9482.0"
      ]
     },
     "execution_count": 28,
     "metadata": {},
     "output_type": "execute_result"
    }
   ],
   "source": [
    "results"
   ]
  },
  {
   "cell_type": "code",
   "execution_count": 29,
   "id": "924cdfc2-52a8-4a58-a44c-d03c79d14bc0",
   "metadata": {},
   "outputs": [],
   "source": [
    "submission_df = to_submission_df(results)"
   ]
  },
  {
   "cell_type": "code",
   "execution_count": 30,
   "id": "e07f6048-8882-4bad-be7a-53d8ad66b0c0",
   "metadata": {},
   "outputs": [
    {
     "data": {
      "text/html": [
       "<div>\n",
       "<style scoped>\n",
       "    .dataframe tbody tr th:only-of-type {\n",
       "        vertical-align: middle;\n",
       "    }\n",
       "\n",
       "    .dataframe tbody tr th {\n",
       "        vertical-align: top;\n",
       "    }\n",
       "\n",
       "    .dataframe thead th {\n",
       "        text-align: right;\n",
       "    }\n",
       "</style>\n",
       "<table border=\"1\" class=\"dataframe\">\n",
       "  <thead>\n",
       "    <tr style=\"text-align: right;\">\n",
       "      <th></th>\n",
       "      <th>azimuth</th>\n",
       "      <th>zenith</th>\n",
       "    </tr>\n",
       "    <tr>\n",
       "      <th>event_id</th>\n",
       "      <th></th>\n",
       "      <th></th>\n",
       "    </tr>\n",
       "  </thead>\n",
       "  <tbody>\n",
       "    <tr>\n",
       "      <th>2092.0</th>\n",
       "      <td>6.133780</td>\n",
       "      <td>1.526587</td>\n",
       "    </tr>\n",
       "    <tr>\n",
       "      <th>7344.0</th>\n",
       "      <td>3.573616</td>\n",
       "      <td>2.489527</td>\n",
       "    </tr>\n",
       "    <tr>\n",
       "      <th>9482.0</th>\n",
       "      <td>4.547245</td>\n",
       "      <td>1.552611</td>\n",
       "    </tr>\n",
       "  </tbody>\n",
       "</table>\n",
       "</div>"
      ],
      "text/plain": [
       "           azimuth    zenith\n",
       "event_id                    \n",
       "2092.0    6.133780  1.526587\n",
       "7344.0    3.573616  2.489527\n",
       "9482.0    4.547245  1.552611"
      ]
     },
     "execution_count": 30,
     "metadata": {},
     "output_type": "execute_result"
    }
   ],
   "source": [
    "submission_df"
   ]
  },
  {
   "cell_type": "code",
   "execution_count": 31,
   "id": "5264edca-8f74-457d-bd53-6d405ddc297a",
   "metadata": {},
   "outputs": [],
   "source": [
    "model = load_pretrained_model(c, test_pm_loader)"
   ]
  },
  {
   "cell_type": "code",
   "execution_count": 32,
   "id": "cf45c187-c7a2-4714-b662-25f1edb7119f",
   "metadata": {},
   "outputs": [
    {
     "name": "stderr",
     "output_type": "stream",
     "text": [
      "2023-02-24 06:49:03,777 [INFO] [rank_zero] GPU available: True (cuda), used: True\n",
      "2023-02-24 06:49:03,778 [INFO] [rank_zero] TPU available: False, using: 0 TPU cores\n",
      "2023-02-24 06:49:03,779 [INFO] [rank_zero] IPU available: False, using: 0 IPUs\n",
      "2023-02-24 06:49:03,779 [INFO] [rank_zero] HPU available: False, using: 0 HPUs\n",
      "2023-02-24 06:49:03,782 [INFO] [rank_zero] GPU available: True (cuda), used: True\n",
      "2023-02-24 06:49:03,783 [INFO] [rank_zero] TPU available: False, using: 0 TPU cores\n",
      "2023-02-24 06:49:03,784 [INFO] [rank_zero] IPU available: False, using: 0 IPUs\n",
      "2023-02-24 06:49:03,784 [INFO] [rank_zero] HPU available: False, using: 0 HPUs\n",
      "2023-02-24 06:49:03,790 [INFO] [cuda] LOCAL_RANK: 0 - CUDA_VISIBLE_DEVICES: [0]\n"
     ]
    },
    {
     "data": {
      "application/vnd.jupyter.widget-view+json": {
       "model_id": "f6e5b7b325ed4e39809b7b39a06a6f71",
       "version_major": 2,
       "version_minor": 0
      },
      "text/plain": [
       "Predicting: 0it [00:00, ?it/s]"
      ]
     },
     "metadata": {},
     "output_type": "display_data"
    }
   ],
   "source": [
    "results = model.predict_as_dataframe(\n",
    "    gpus=[0],\n",
    "    dataloader=test_pm_loader,\n",
    "    prediction_columns=model.prediction_columns,\n",
    "    additional_attributes=[c.settings.index_name],\n",
    ")"
   ]
  },
  {
   "cell_type": "code",
   "execution_count": 33,
   "id": "3ee02d6f-4397-4318-9dd8-6b2c53eb0d92",
   "metadata": {},
   "outputs": [
    {
     "data": {
      "text/html": [
       "<div>\n",
       "<style scoped>\n",
       "    .dataframe tbody tr th:only-of-type {\n",
       "        vertical-align: middle;\n",
       "    }\n",
       "\n",
       "    .dataframe tbody tr th {\n",
       "        vertical-align: top;\n",
       "    }\n",
       "\n",
       "    .dataframe thead th {\n",
       "        text-align: right;\n",
       "    }\n",
       "</style>\n",
       "<table border=\"1\" class=\"dataframe\">\n",
       "  <thead>\n",
       "    <tr style=\"text-align: right;\">\n",
       "      <th></th>\n",
       "      <th>direction_x</th>\n",
       "      <th>direction_y</th>\n",
       "      <th>direction_z</th>\n",
       "      <th>direction_kappa</th>\n",
       "      <th>event_id</th>\n",
       "    </tr>\n",
       "  </thead>\n",
       "  <tbody>\n",
       "    <tr>\n",
       "      <th>0</th>\n",
       "      <td>-0.717383</td>\n",
       "      <td>0.607155</td>\n",
       "      <td>0.341649</td>\n",
       "      <td>11.453881</td>\n",
       "      <td>2092.0</td>\n",
       "    </tr>\n",
       "    <tr>\n",
       "      <th>1</th>\n",
       "      <td>0.494068</td>\n",
       "      <td>0.071199</td>\n",
       "      <td>0.866503</td>\n",
       "      <td>0.832128</td>\n",
       "      <td>7344.0</td>\n",
       "    </tr>\n",
       "    <tr>\n",
       "      <th>2</th>\n",
       "      <td>0.098816</td>\n",
       "      <td>0.994516</td>\n",
       "      <td>-0.034239</td>\n",
       "      <td>83.222397</td>\n",
       "      <td>9482.0</td>\n",
       "    </tr>\n",
       "  </tbody>\n",
       "</table>\n",
       "</div>"
      ],
      "text/plain": [
       "   direction_x  direction_y  direction_z  direction_kappa  event_id\n",
       "0    -0.717383     0.607155     0.341649        11.453881    2092.0\n",
       "1     0.494068     0.071199     0.866503         0.832128    7344.0\n",
       "2     0.098816     0.994516    -0.034239        83.222397    9482.0"
      ]
     },
     "execution_count": 33,
     "metadata": {},
     "output_type": "execute_result"
    }
   ],
   "source": [
    "results"
   ]
  },
  {
   "cell_type": "code",
   "execution_count": 40,
   "id": "e46b2a0e-0996-48d5-8202-0f6215d49d9a",
   "metadata": {},
   "outputs": [],
   "source": [
    "results[\"direction_x\"] = -results[\"direction_x\"]\n",
    "results[\"direction_y\"] = -results[\"direction_y\"]\n",
    "results[\"direction_z\"] = -results[\"direction_z\"]"
   ]
  },
  {
   "cell_type": "code",
   "execution_count": 41,
   "id": "802176c1-11d8-43a7-bf33-f7ac9d52ec13",
   "metadata": {},
   "outputs": [],
   "source": [
    "submission_tta_df = to_submission_df(results)"
   ]
  },
  {
   "cell_type": "code",
   "execution_count": 42,
   "id": "0768534f-b62e-4d1e-ad6d-22bf3f9f5ac0",
   "metadata": {},
   "outputs": [
    {
     "data": {
      "text/html": [
       "<div>\n",
       "<style scoped>\n",
       "    .dataframe tbody tr th:only-of-type {\n",
       "        vertical-align: middle;\n",
       "    }\n",
       "\n",
       "    .dataframe tbody tr th {\n",
       "        vertical-align: top;\n",
       "    }\n",
       "\n",
       "    .dataframe thead th {\n",
       "        text-align: right;\n",
       "    }\n",
       "</style>\n",
       "<table border=\"1\" class=\"dataframe\">\n",
       "  <thead>\n",
       "    <tr style=\"text-align: right;\">\n",
       "      <th></th>\n",
       "      <th>azimuth</th>\n",
       "      <th>zenith</th>\n",
       "    </tr>\n",
       "    <tr>\n",
       "      <th>event_id</th>\n",
       "      <th></th>\n",
       "      <th></th>\n",
       "    </tr>\n",
       "  </thead>\n",
       "  <tbody>\n",
       "    <tr>\n",
       "      <th>2092.0</th>\n",
       "      <td>5.580815</td>\n",
       "      <td>1.919467</td>\n",
       "    </tr>\n",
       "    <tr>\n",
       "      <th>7344.0</th>\n",
       "      <td>3.284714</td>\n",
       "      <td>2.618950</td>\n",
       "    </tr>\n",
       "    <tr>\n",
       "      <th>9482.0</th>\n",
       "      <td>4.613353</td>\n",
       "      <td>1.536550</td>\n",
       "    </tr>\n",
       "  </tbody>\n",
       "</table>\n",
       "</div>"
      ],
      "text/plain": [
       "           azimuth    zenith\n",
       "event_id                    \n",
       "2092.0    5.580815  1.919467\n",
       "7344.0    3.284714  2.618950\n",
       "9482.0    4.613353  1.536550"
      ]
     },
     "execution_count": 42,
     "metadata": {},
     "output_type": "execute_result"
    }
   ],
   "source": [
    "submission_tta_df"
   ]
  },
  {
   "cell_type": "code",
   "execution_count": 44,
   "id": "273d95f9-3ddb-4f9a-83a4-d0fca4e664df",
   "metadata": {},
   "outputs": [
    {
     "data": {
      "text/plain": [
       "0.31426566129194694"
      ]
     },
     "execution_count": 44,
     "metadata": {},
     "output_type": "execute_result"
    }
   ],
   "source": [
    "score = angular_dist_score(\n",
    "    submission_df[\"azimuth\"],\n",
    "    submission_df[\"zenith\"],\n",
    "    submission_tta_df[\"azimuth\"],\n",
    "    submission_tta_df[\"zenith\"],\n",
    ")\n",
    "score"
   ]
  },
  {
   "cell_type": "code",
   "execution_count": 47,
   "id": "9a42ac9f-d6c9-4c5c-9ad5-7913e78d70e4",
   "metadata": {},
   "outputs": [
    {
     "data": {
      "text/plain": [
       "18.0060960379164"
      ]
     },
     "execution_count": 47,
     "metadata": {},
     "output_type": "execute_result"
    }
   ],
   "source": [
    "score * 180 / math.pi"
   ]
  },
  {
   "cell_type": "code",
   "execution_count": null,
   "id": "d6378e7a-7a43-4534-b1d2-4fe34ac06855",
   "metadata": {},
   "outputs": [],
   "source": []
  },
  {
   "cell_type": "code",
   "execution_count": 36,
   "id": "3c2fd850-e9e2-465d-86f3-5b3982fe20f6",
   "metadata": {},
   "outputs": [
    {
     "name": "stderr",
     "output_type": "stream",
     "text": [
      "2023-02-24 06:49:04,308 [INFO] [3122733060] ['x', 'y', 'z', 'time', 'charge', 'auxiliary']\n",
      "2023-02-24 06:49:04,309 [INFO] [3122733060] torch.Size([36, 6])\n",
      "2023-02-24 06:49:04,309 [INFO] [3122733060] tensor([-1.0970e+01,  6.7200e+00, -4.2333e+02,  5.9290e+03,  1.0250e+00,\n",
      "         1.0000e+00])\n",
      "2023-02-24 06:49:04,311 [INFO] [3122733060] tensor(6.7200)\n",
      "2023-02-24 06:49:04,312 [INFO] [3122733060] tensor(-423.3300)\n",
      "2023-02-24 06:49:04,313 [INFO] [3122733060] tensor(5929.)\n",
      "2023-02-24 06:49:04,314 [INFO] [3122733060] tensor(1.0250)\n"
     ]
    }
   ],
   "source": [
    "for i in test_loader:\n",
    "    log.info(i.get_example(1).features)\n",
    "    log.info(i.get_example(1).x.shape)\n",
    "    log.info(i.get_example(1).x[0])\n",
    "    log.info(i.get_example(1).y[0])\n",
    "    log.info(i.get_example(1).z[0])\n",
    "    log.info(i.get_example(1).time[0])\n",
    "    log.info(i.get_example(1).charge[0])\n",
    "    # log.info(i.get_example(1).to_namedtuple())\n",
    "    break"
   ]
  },
  {
   "cell_type": "code",
   "execution_count": 37,
   "id": "e30ef482-5ec0-4fa7-9486-663bd534f5d8",
   "metadata": {},
   "outputs": [
    {
     "name": "stderr",
     "output_type": "stream",
     "text": [
      "2023-02-24 06:49:04,342 [INFO] [1029255878] ['x', 'y', 'z', 'time', 'charge', 'auxiliary']\n",
      "2023-02-24 06:49:04,343 [INFO] [1029255878] torch.Size([36, 6])\n",
      "2023-02-24 06:49:04,344 [INFO] [1029255878] tensor([ 1.0970e+01, -6.7200e+00,  4.2333e+02,  5.9290e+03,  1.0250e+00,\n",
      "         1.0000e+00])\n",
      "2023-02-24 06:49:04,345 [INFO] [1029255878] tensor(-6.7200)\n",
      "2023-02-24 06:49:04,346 [INFO] [1029255878] tensor(423.3300)\n",
      "2023-02-24 06:49:04,346 [INFO] [1029255878] tensor(5929.)\n",
      "2023-02-24 06:49:04,347 [INFO] [1029255878] tensor(1.0250)\n"
     ]
    }
   ],
   "source": [
    "for i in test_pm_loader:\n",
    "    log.info(i.get_example(1).features)\n",
    "    log.info(i.get_example(1).x.shape)\n",
    "    log.info(i.get_example(1).x[0])\n",
    "    log.info(i.get_example(1).y[0])\n",
    "    log.info(i.get_example(1).z[0])\n",
    "    log.info(i.get_example(1).time[0])\n",
    "    log.info(i.get_example(1).charge[0])\n",
    "    break"
   ]
  },
  {
   "cell_type": "code",
   "execution_count": null,
   "id": "a3f1f7da-150e-4e9f-82fd-862ddaa42220",
   "metadata": {},
   "outputs": [],
   "source": []
  }
 ],
 "metadata": {
  "kernelspec": {
   "display_name": "Python 3 (ipykernel)",
   "language": "python",
   "name": "python3"
  },
  "language_info": {
   "codemirror_mode": {
    "name": "ipython",
    "version": 3
   },
   "file_extension": ".py",
   "mimetype": "text/x-python",
   "name": "python",
   "nbconvert_exporter": "python",
   "pygments_lexer": "ipython3",
   "version": "3.7.12"
  }
 },
 "nbformat": 4,
 "nbformat_minor": 5
}
