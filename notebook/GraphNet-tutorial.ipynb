{
 "cells": [
  {
   "cell_type": "code",
   "execution_count": 1,
   "id": "0fff391e-c337-49db-857f-2984538a1f43",
   "metadata": {},
   "outputs": [
    {
     "name": "stdout",
     "output_type": "stream",
     "text": [
      "/home/jovyan/ice-cube\n"
     ]
    }
   ],
   "source": [
    "%cd .."
   ]
  },
  {
   "cell_type": "code",
   "execution_count": 35,
   "id": "bb5a2282-f990-4e42-81e5-98261ec70ba1",
   "metadata": {},
   "outputs": [],
   "source": [
    "import os\n",
    "\n",
    "import pandas as pd"
   ]
  },
  {
   "cell_type": "code",
   "execution_count": 3,
   "id": "21ac9300-7afc-4c34-b727-3f757bd22d44",
   "metadata": {},
   "outputs": [],
   "source": [
    "import logging\n",
    "\n",
    "logging.basicConfig(\n",
    "    # filename=__file__.replace('.py', '.log'),\n",
    "    level=logging.getLevelName(\"INFO\"),\n",
    "    format=\"%(asctime)s [%(levelname)s] [%(module)s] %(message)s\",\n",
    ")\n",
    "\n",
    "log = logging.getLogger(__name__)"
   ]
  },
  {
   "cell_type": "code",
   "execution_count": 4,
   "id": "d49a168b-dfe3-4b6e-85fe-0eacb0ec3e39",
   "metadata": {},
   "outputs": [],
   "source": [
    "##### INSERT SOURCE CODE HERE FOR SUBMISSION #####"
   ]
  },
  {
   "cell_type": "code",
   "execution_count": 5,
   "id": "c1c5d506-7c97-4171-8a53-5ffe081ec053",
   "metadata": {},
   "outputs": [],
   "source": [
    "from omegaconf import OmegaConf\n",
    "\n",
    "omega_conf_dir = \"./config\"\n",
    "\n",
    "c_main = OmegaConf.load(os.path.join(omega_conf_dir, \"main.yaml\"))\n",
    "c_data = OmegaConf.load(os.path.join(omega_conf_dir, \"data.yaml\"))\n",
    "c = OmegaConf.merge(c_main, c_data)\n",
    "\n",
    "c.wandb.enabled = False"
   ]
  },
  {
   "cell_type": "code",
   "execution_count": 58,
   "id": "5add80b5-7ed9-46c9-9b12-d5ec0386ecdb",
   "metadata": {},
   "outputs": [],
   "source": [
    "from src.ice_cube.data_loader import make_test_dataloader, make_train_dataloader\n",
    "from src.ice_cube.model import load_pretrained_model\n",
    "from src.ice_cube.scoring import angular_dist_score\n",
    "from src.ice_cube.submission import to_submission_df"
   ]
  },
  {
   "cell_type": "markdown",
   "id": "ffa9ac2b-09b9-4712-b061-0422c703c88c",
   "metadata": {},
   "source": [
    "## SQLiteDataset"
   ]
  },
  {
   "cell_type": "code",
   "execution_count": 7,
   "id": "ec85ae17-ad8a-4b3b-b56f-98a7951c0b62",
   "metadata": {},
   "outputs": [],
   "source": [
    "train_loader, valid_loader = make_train_dataloader(c)"
   ]
  },
  {
   "cell_type": "code",
   "execution_count": 8,
   "id": "293117e4-e949-4008-b7c3-d9a0cf705a13",
   "metadata": {},
   "outputs": [
    {
     "name": "stdout",
     "output_type": "stream",
     "text": [
      "\u001b[1;34mgraphnet\u001b[0m: \u001b[33mWARNING \u001b[0m 2023-02-22 01:54:11 - SQLiteDataset.warning - Removing the following (missing) truth variables: zenith, azimuth\u001b[0m\n"
     ]
    },
    {
     "name": "stderr",
     "output_type": "stream",
     "text": [
      "2023-02-22 01:54:11,826 [WARNING] [logging] Removing the following (missing) truth variables: zenith, azimuth\n"
     ]
    }
   ],
   "source": [
    "test_loader = make_test_dataloader(c)"
   ]
  },
  {
   "cell_type": "code",
   "execution_count": 10,
   "id": "db34a4ca-69d9-438b-a293-710e27f51947",
   "metadata": {},
   "outputs": [
    {
     "data": {
      "text/plain": [
       "graphnet.data.sqlite.sqlite_dataset.SQLiteDataset"
      ]
     },
     "execution_count": 10,
     "metadata": {},
     "output_type": "execute_result"
    }
   ],
   "source": [
    "type(valid_loader.dataset)"
   ]
  },
  {
   "cell_type": "code",
   "execution_count": 51,
   "id": "1ea9f971-8274-4c7f-9ba7-a265bcd8de67",
   "metadata": {},
   "outputs": [],
   "source": [
    "train_label = train_loader.dataset.query_table(\n",
    "    \"meta_table\", [\"event_id\", \"azimuth\", \"zenith\"]\n",
    ")"
   ]
  },
  {
   "cell_type": "code",
   "execution_count": 29,
   "id": "52bc47a4-e417-4187-9470-049ae7fd974c",
   "metadata": {},
   "outputs": [],
   "source": [
    "valid_label = valid_loader.dataset.query_table(\n",
    "    \"meta_table\", [\"event_id\", \"azimuth\", \"zenith\"]\n",
    ")"
   ]
  },
  {
   "cell_type": "code",
   "execution_count": 52,
   "id": "403e2ac5-f8e7-4e69-af36-444289a0abaa",
   "metadata": {},
   "outputs": [],
   "source": [
    "train_df = pd.DataFrame(\n",
    "    train_label, columns=[\"event_id\", \"azimuth\", \"zenith\"]\n",
    ").set_index(\"event_id\")"
   ]
  },
  {
   "cell_type": "code",
   "execution_count": 42,
   "id": "85cfec2d-057a-4f29-b2ef-afa9aa9b0d39",
   "metadata": {},
   "outputs": [],
   "source": [
    "valid_df = pd.DataFrame(\n",
    "    valid_label, columns=[\"event_id\", \"azimuth\", \"zenith\"]\n",
    ").set_index(\"event_id\")"
   ]
  },
  {
   "cell_type": "code",
   "execution_count": 53,
   "id": "24e4cfae-a69d-4a7e-ab84-464db5b3f90d",
   "metadata": {},
   "outputs": [
    {
     "name": "stdout",
     "output_type": "stream",
     "text": [
      "<class 'pandas.core.frame.DataFrame'>\n",
      "Int64Index: 200000 entries, 24 to 3266196\n",
      "Data columns (total 2 columns):\n",
      " #   Column   Non-Null Count   Dtype  \n",
      "---  ------   --------------   -----  \n",
      " 0   azimuth  200000 non-null  float64\n",
      " 1   zenith   200000 non-null  float64\n",
      "dtypes: float64(2)\n",
      "memory usage: 4.6 MB\n"
     ]
    }
   ],
   "source": [
    "train_df.info()"
   ]
  },
  {
   "cell_type": "code",
   "execution_count": 43,
   "id": "1422aae2-5914-43ed-8bfe-27a998ab2f5d",
   "metadata": {},
   "outputs": [
    {
     "name": "stdout",
     "output_type": "stream",
     "text": [
      "<class 'pandas.core.frame.DataFrame'>\n",
      "Int64Index: 200000 entries, 24 to 3266196\n",
      "Data columns (total 2 columns):\n",
      " #   Column   Non-Null Count   Dtype  \n",
      "---  ------   --------------   -----  \n",
      " 0   azimuth  200000 non-null  float64\n",
      " 1   zenith   200000 non-null  float64\n",
      "dtypes: float64(2)\n",
      "memory usage: 4.6 MB\n"
     ]
    }
   ],
   "source": [
    "valid_df.info()"
   ]
  },
  {
   "cell_type": "code",
   "execution_count": 46,
   "id": "12662235-6b92-43e1-b1c4-522007de57db",
   "metadata": {},
   "outputs": [
    {
     "name": "stderr",
     "output_type": "stream",
     "text": [
      "2023-02-22 03:50:07,940 [INFO] [instantiator] Created a temporary directory at /tmp/tmphv18e9qy\n",
      "2023-02-22 03:50:07,941 [INFO] [instantiator] Writing /tmp/tmphv18e9qy/_remote_module_non_sriptable.py\n"
     ]
    }
   ],
   "source": [
    "model = load_pretrained_model(c, valid_loader)"
   ]
  },
  {
   "cell_type": "code",
   "execution_count": 47,
   "id": "7687578f-6aeb-41c3-bb70-03b344b3f996",
   "metadata": {},
   "outputs": [
    {
     "name": "stderr",
     "output_type": "stream",
     "text": [
      "2023-02-22 03:50:57,079 [INFO] [rank_zero] GPU available: True (cuda), used: True\n",
      "2023-02-22 03:50:57,080 [INFO] [rank_zero] TPU available: False, using: 0 TPU cores\n",
      "2023-02-22 03:50:57,081 [INFO] [rank_zero] IPU available: False, using: 0 IPUs\n",
      "2023-02-22 03:50:57,081 [INFO] [rank_zero] HPU available: False, using: 0 HPUs\n",
      "2023-02-22 03:50:57,083 [INFO] [rank_zero] GPU available: True (cuda), used: True\n",
      "2023-02-22 03:50:57,084 [INFO] [rank_zero] TPU available: False, using: 0 TPU cores\n",
      "2023-02-22 03:50:57,084 [INFO] [rank_zero] IPU available: False, using: 0 IPUs\n",
      "2023-02-22 03:50:57,085 [INFO] [rank_zero] HPU available: False, using: 0 HPUs\n",
      "2023-02-22 03:50:59,483 [INFO] [cuda] LOCAL_RANK: 0 - CUDA_VISIBLE_DEVICES: [0]\n"
     ]
    },
    {
     "data": {
      "application/vnd.jupyter.widget-view+json": {
       "model_id": "27032071ee064885a8fae67ad3b03948",
       "version_major": 2,
       "version_minor": 0
      },
      "text/plain": [
       "Predicting: 0it [00:00, ?it/s]"
      ]
     },
     "metadata": {},
     "output_type": "display_data"
    }
   ],
   "source": [
    "results = model.predict_as_dataframe(\n",
    "    gpus=[0],\n",
    "    dataloader=valid_loader,\n",
    "    prediction_columns=model.prediction_columns,\n",
    "    additional_attributes=[c.settings.index_name],\n",
    ")"
   ]
  },
  {
   "cell_type": "code",
   "execution_count": 55,
   "id": "4672da4d-0c7e-446e-831a-461a24a22466",
   "metadata": {},
   "outputs": [
    {
     "name": "stdout",
     "output_type": "stream",
     "text": [
      "<class 'pandas.core.frame.DataFrame'>\n",
      "RangeIndex: 66000 entries, 0 to 65999\n",
      "Data columns (total 7 columns):\n",
      " #   Column           Non-Null Count  Dtype  \n",
      "---  ------           --------------  -----  \n",
      " 0   direction_x      66000 non-null  float64\n",
      " 1   direction_y      66000 non-null  float64\n",
      " 2   direction_z      66000 non-null  float64\n",
      " 3   direction_kappa  66000 non-null  float64\n",
      " 4   event_id         66000 non-null  float64\n",
      " 5   zenith           66000 non-null  float64\n",
      " 6   azimuth          66000 non-null  float64\n",
      "dtypes: float64(7)\n",
      "memory usage: 3.5 MB\n"
     ]
    }
   ],
   "source": [
    "results.info()"
   ]
  },
  {
   "cell_type": "code",
   "execution_count": 49,
   "id": "a8b1690b-57ad-4045-b161-812cf4c9862c",
   "metadata": {},
   "outputs": [],
   "source": [
    "submission_df = to_submission_df(results)"
   ]
  },
  {
   "cell_type": "code",
   "execution_count": 50,
   "id": "c4637f07-3f84-4308-9347-18a17db5e23a",
   "metadata": {},
   "outputs": [
    {
     "name": "stdout",
     "output_type": "stream",
     "text": [
      "<class 'pandas.core.frame.DataFrame'>\n",
      "Float64Index: 66000 entries, 1863447.0 to 1513735.0\n",
      "Data columns (total 2 columns):\n",
      " #   Column   Non-Null Count  Dtype  \n",
      "---  ------   --------------  -----  \n",
      " 0   azimuth  66000 non-null  float64\n",
      " 1   zenith   66000 non-null  float64\n",
      "dtypes: float64(2)\n",
      "memory usage: 1.5 MB\n"
     ]
    }
   ],
   "source": [
    "submission_df.info()"
   ]
  },
  {
   "cell_type": "code",
   "execution_count": 56,
   "id": "92d70611-6fca-4e80-b491-8c9c6625cf6a",
   "metadata": {},
   "outputs": [],
   "source": [
    "part_valid_df = valid_df.loc[submission_df.index, :]"
   ]
  },
  {
   "cell_type": "code",
   "execution_count": 57,
   "id": "d84834fb-2408-43f7-ba2c-1e3c7c47c1b6",
   "metadata": {},
   "outputs": [
    {
     "name": "stdout",
     "output_type": "stream",
     "text": [
      "<class 'pandas.core.frame.DataFrame'>\n",
      "Float64Index: 66000 entries, 1863447.0 to 1513735.0\n",
      "Data columns (total 2 columns):\n",
      " #   Column   Non-Null Count  Dtype  \n",
      "---  ------   --------------  -----  \n",
      " 0   azimuth  66000 non-null  float64\n",
      " 1   zenith   66000 non-null  float64\n",
      "dtypes: float64(2)\n",
      "memory usage: 1.5 MB\n"
     ]
    }
   ],
   "source": [
    "part_valid_df.info()"
   ]
  },
  {
   "cell_type": "code",
   "execution_count": 59,
   "id": "21752bed-244a-4fcf-b1cf-78d69155e15e",
   "metadata": {},
   "outputs": [],
   "source": [
    "score = angular_dist_score(\n",
    "    part_valid_df[\"azimuth\"],\n",
    "    part_valid_df[\"zenith\"],\n",
    "    submission_df[\"azimuth\"],\n",
    "    submission_df[\"zenith\"],\n",
    ")"
   ]
  },
  {
   "cell_type": "code",
   "execution_count": 60,
   "id": "3fe0c661-4770-4168-900b-a3a38622af70",
   "metadata": {},
   "outputs": [
    {
     "data": {
      "text/plain": [
       "1.0166950435635094"
      ]
     },
     "execution_count": 60,
     "metadata": {},
     "output_type": "execute_result"
    }
   ],
   "source": [
    "score"
   ]
  },
  {
   "cell_type": "code",
   "execution_count": null,
   "id": "a539e02d-7e05-499f-ad52-5257deb5e278",
   "metadata": {},
   "outputs": [],
   "source": []
  }
 ],
 "metadata": {
  "kernelspec": {
   "display_name": "Python 3 (ipykernel)",
   "language": "python",
   "name": "python3"
  },
  "language_info": {
   "codemirror_mode": {
    "name": "ipython",
    "version": 3
   },
   "file_extension": ".py",
   "mimetype": "text/x-python",
   "name": "python",
   "nbconvert_exporter": "python",
   "pygments_lexer": "ipython3",
   "version": "3.7.12"
  }
 },
 "nbformat": 4,
 "nbformat_minor": 5
}
