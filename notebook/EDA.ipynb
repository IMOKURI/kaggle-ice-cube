{
 "cells": [
  {
   "cell_type": "markdown",
   "id": "1af9b133-1342-4c24-9522-898cbbbc0c36",
   "metadata": {},
   "source": [
    "# IceCube - EDA"
   ]
  },
  {
   "cell_type": "markdown",
   "id": "364b55f1-0570-4dde-bc34-21c7988c58db",
   "metadata": {},
   "source": [
    "## Load Data"
   ]
  },
  {
   "cell_type": "code",
   "execution_count": 1,
   "id": "d96581fe-ffcb-4a0e-a504-92d8f49ddf21",
   "metadata": {},
   "outputs": [
    {
     "name": "stdout",
     "output_type": "stream",
     "text": [
      "/home/jovyan/ice-cube\n"
     ]
    }
   ],
   "source": [
    "%cd .."
   ]
  },
  {
   "cell_type": "code",
   "execution_count": 2,
   "id": "0fd42d91-b40a-49b3-bd10-62ee39847cc4",
   "metadata": {},
   "outputs": [],
   "source": [
    "import sys\n",
    "\n",
    "sys.path.append(\".\")"
   ]
  },
  {
   "cell_type": "code",
   "execution_count": 3,
   "id": "27e11088-d975-45ea-b19b-11d14ef7a336",
   "metadata": {},
   "outputs": [],
   "source": [
    "import logging\n",
    "\n",
    "logging.basicConfig(\n",
    "    # filename=__file__.replace('.py', '.log'),\n",
    "    level=logging.getLevelName(\"INFO\"),\n",
    "    format=\"%(asctime)s [%(levelname)s] [%(module)s] %(message)s\",\n",
    ")\n",
    "\n",
    "log = logging.getLogger(__name__)"
   ]
  },
  {
   "cell_type": "code",
   "execution_count": 4,
   "id": "7b120070-476c-4208-a944-9b0502b845ae",
   "metadata": {},
   "outputs": [],
   "source": [
    "import glob\n",
    "import os\n",
    "import re\n",
    "\n",
    "import matplotlib.animation as animation\n",
    "import matplotlib.pyplot as plt\n",
    "import numpy as np\n",
    "import pandas as pd\n",
    "import polars as pl\n",
    "import scipy.stats as stats\n",
    "import seaborn as sns\n",
    "from omegaconf import OmegaConf\n",
    "from src.load_data import LoadData\n",
    "from src.utils import choice_seed, df_stats, fix_seed\n",
    "\n",
    "# from pandas_profiling import ProfileReport\n",
    "# from src.get_score import get_score\n",
    "\n",
    "# pd.set_option(\"display.max_rows\", None)\n",
    "# pd.set_option(\"display.max_columns\", None)\n",
    "# pd.set_option(\"display.max_colwidth\", None)"
   ]
  },
  {
   "cell_type": "code",
   "execution_count": 5,
   "id": "9311d8b5-9100-4d82-a8ac-c131a61198b3",
   "metadata": {},
   "outputs": [],
   "source": [
    "# Competition specific packages\n",
    "import os\n",
    "import sqlite3\n",
    "from typing import Any, Dict, List, Optional\n",
    "\n",
    "import pyarrow.parquet as pq\n",
    "from mpl_toolkits.mplot3d import Axes3D\n",
    "from tqdm import tqdm\n",
    "\n",
    "# import sqlalchemy\n",
    "# import graphnet\n",
    "# from graphnet.data.sqlite.sqlite_utilities import create_table"
   ]
  },
  {
   "cell_type": "code",
   "execution_count": 6,
   "id": "1041b98b-ec51-4c46-af18-daae79465af3",
   "metadata": {},
   "outputs": [
    {
     "name": "stderr",
     "output_type": "stream",
     "text": [
      "2023-02-27 13:09:12,270 [INFO] [utils] Fix seed: 440\n"
     ]
    }
   ],
   "source": [
    "c_main = OmegaConf.load(\"./config/main.yaml\")\n",
    "c_data = OmegaConf.load(\"./config/data.yaml\")\n",
    "c = OmegaConf.merge(c_main, c_data)\n",
    "\n",
    "fix_seed(choice_seed(c))"
   ]
  },
  {
   "cell_type": "code",
   "execution_count": 7,
   "id": "d02d231d-5778-402a-9ff7-a5d5eb3b5371",
   "metadata": {},
   "outputs": [
    {
     "name": "stderr",
     "output_type": "stream",
     "text": [
      "2023-02-27 13:09:12,276 [INFO] [load_data] Load original file. path: ../input/icecube-neutrinos-in-deep-ice/train_meta.parquet\n",
      "2023-02-27 13:09:20,410 [INFO] [load_data] Load original file. path: ../input/icecube-neutrinos-in-deep-ice/test_meta.parquet\n",
      "2023-02-27 13:09:20,416 [INFO] [load_data] Load original file. path: ../input/icecube-neutrinos-in-deep-ice/sample_submission.parquet\n",
      "2023-02-27 13:09:20,419 [INFO] [load_data] Load original file. path: ../input/icecube-neutrinos-in-deep-ice/sensor_geometry.csv\n"
     ]
    }
   ],
   "source": [
    "input = LoadData(c, use_fold=False, do_preprocess=False)"
   ]
  },
  {
   "cell_type": "code",
   "execution_count": 8,
   "id": "8d1b53bd-e001-44a3-8632-4edf5b12d3ba",
   "metadata": {},
   "outputs": [
    {
     "data": {
      "text/plain": [
       "['c', 'sample_submission', 'sensor_geometry', 'test_meta', 'train_meta']"
      ]
     },
     "execution_count": 8,
     "metadata": {},
     "output_type": "execute_result"
    }
   ],
   "source": [
    "[col for col in dir(input) if not col.startswith(\"__\")]"
   ]
  },
  {
   "cell_type": "markdown",
   "id": "ee4c148f-0efd-4379-b1e3-88fdd62ac7d3",
   "metadata": {
    "tags": []
   },
   "source": [
    "## Check Data"
   ]
  },
  {
   "cell_type": "code",
   "execution_count": 9,
   "id": "13ed965f-0960-4936-8243-7cf5cdc51730",
   "metadata": {},
   "outputs": [
    {
     "data": {
      "text/plain": [
       "(3, 3)"
      ]
     },
     "execution_count": 9,
     "metadata": {},
     "output_type": "execute_result"
    }
   ],
   "source": [
    "input.sample_submission.shape"
   ]
  },
  {
   "cell_type": "code",
   "execution_count": 10,
   "id": "040d20a0-4ba7-4bba-9fe6-08ef38b0934d",
   "metadata": {},
   "outputs": [
    {
     "data": {
      "text/html": [
       "<div>\n",
       "<style scoped>\n",
       "    .dataframe tbody tr th:only-of-type {\n",
       "        vertical-align: middle;\n",
       "    }\n",
       "\n",
       "    .dataframe tbody tr th {\n",
       "        vertical-align: top;\n",
       "    }\n",
       "\n",
       "    .dataframe thead th {\n",
       "        text-align: right;\n",
       "    }\n",
       "</style>\n",
       "<table border=\"1\" class=\"dataframe\">\n",
       "  <thead>\n",
       "    <tr style=\"text-align: right;\">\n",
       "      <th></th>\n",
       "      <th>event_id</th>\n",
       "      <th>azimuth</th>\n",
       "      <th>zenith</th>\n",
       "    </tr>\n",
       "  </thead>\n",
       "  <tbody>\n",
       "    <tr>\n",
       "      <th>0</th>\n",
       "      <td>2092</td>\n",
       "      <td>1</td>\n",
       "      <td>1</td>\n",
       "    </tr>\n",
       "    <tr>\n",
       "      <th>1</th>\n",
       "      <td>7344</td>\n",
       "      <td>1</td>\n",
       "      <td>1</td>\n",
       "    </tr>\n",
       "    <tr>\n",
       "      <th>2</th>\n",
       "      <td>9482</td>\n",
       "      <td>1</td>\n",
       "      <td>1</td>\n",
       "    </tr>\n",
       "  </tbody>\n",
       "</table>\n",
       "</div>"
      ],
      "text/plain": [
       "   event_id  azimuth  zenith\n",
       "0      2092        1       1\n",
       "1      7344        1       1\n",
       "2      9482        1       1"
      ]
     },
     "execution_count": 10,
     "metadata": {},
     "output_type": "execute_result"
    }
   ],
   "source": [
    "input.sample_submission"
   ]
  },
  {
   "cell_type": "code",
   "execution_count": 11,
   "id": "dbfc0f08-da50-40dc-92c4-d9ce6fd7bf6d",
   "metadata": {},
   "outputs": [
    {
     "data": {
      "text/plain": [
       "(5160, 4)"
      ]
     },
     "execution_count": 11,
     "metadata": {},
     "output_type": "execute_result"
    }
   ],
   "source": [
    "input.sensor_geometry.shape"
   ]
  },
  {
   "cell_type": "code",
   "execution_count": 12,
   "id": "9b05cc73-5d93-4dda-9d39-0afdb2aef212",
   "metadata": {},
   "outputs": [
    {
     "data": {
      "text/html": [
       "<div>\n",
       "<style scoped>\n",
       "    .dataframe tbody tr th:only-of-type {\n",
       "        vertical-align: middle;\n",
       "    }\n",
       "\n",
       "    .dataframe tbody tr th {\n",
       "        vertical-align: top;\n",
       "    }\n",
       "\n",
       "    .dataframe thead th {\n",
       "        text-align: right;\n",
       "    }\n",
       "</style>\n",
       "<table border=\"1\" class=\"dataframe\">\n",
       "  <thead>\n",
       "    <tr style=\"text-align: right;\">\n",
       "      <th></th>\n",
       "      <th>sensor_id</th>\n",
       "      <th>x</th>\n",
       "      <th>y</th>\n",
       "      <th>z</th>\n",
       "    </tr>\n",
       "  </thead>\n",
       "  <tbody>\n",
       "    <tr>\n",
       "      <th>0</th>\n",
       "      <td>0</td>\n",
       "      <td>-256.14</td>\n",
       "      <td>-521.08</td>\n",
       "      <td>496.03</td>\n",
       "    </tr>\n",
       "    <tr>\n",
       "      <th>1</th>\n",
       "      <td>1</td>\n",
       "      <td>-256.14</td>\n",
       "      <td>-521.08</td>\n",
       "      <td>479.01</td>\n",
       "    </tr>\n",
       "    <tr>\n",
       "      <th>2</th>\n",
       "      <td>2</td>\n",
       "      <td>-256.14</td>\n",
       "      <td>-521.08</td>\n",
       "      <td>461.99</td>\n",
       "    </tr>\n",
       "    <tr>\n",
       "      <th>3</th>\n",
       "      <td>3</td>\n",
       "      <td>-256.14</td>\n",
       "      <td>-521.08</td>\n",
       "      <td>444.97</td>\n",
       "    </tr>\n",
       "    <tr>\n",
       "      <th>4</th>\n",
       "      <td>4</td>\n",
       "      <td>-256.14</td>\n",
       "      <td>-521.08</td>\n",
       "      <td>427.95</td>\n",
       "    </tr>\n",
       "    <tr>\n",
       "      <th>...</th>\n",
       "      <td>...</td>\n",
       "      <td>...</td>\n",
       "      <td>...</td>\n",
       "      <td>...</td>\n",
       "    </tr>\n",
       "    <tr>\n",
       "      <th>5155</th>\n",
       "      <td>5155</td>\n",
       "      <td>-10.97</td>\n",
       "      <td>6.72</td>\n",
       "      <td>-472.39</td>\n",
       "    </tr>\n",
       "    <tr>\n",
       "      <th>5156</th>\n",
       "      <td>5156</td>\n",
       "      <td>-10.97</td>\n",
       "      <td>6.72</td>\n",
       "      <td>-479.39</td>\n",
       "    </tr>\n",
       "    <tr>\n",
       "      <th>5157</th>\n",
       "      <td>5157</td>\n",
       "      <td>-10.97</td>\n",
       "      <td>6.72</td>\n",
       "      <td>-486.40</td>\n",
       "    </tr>\n",
       "    <tr>\n",
       "      <th>5158</th>\n",
       "      <td>5158</td>\n",
       "      <td>-10.97</td>\n",
       "      <td>6.72</td>\n",
       "      <td>-493.41</td>\n",
       "    </tr>\n",
       "    <tr>\n",
       "      <th>5159</th>\n",
       "      <td>5159</td>\n",
       "      <td>-10.97</td>\n",
       "      <td>6.72</td>\n",
       "      <td>-500.73</td>\n",
       "    </tr>\n",
       "  </tbody>\n",
       "</table>\n",
       "<p>5160 rows × 4 columns</p>\n",
       "</div>"
      ],
      "text/plain": [
       "      sensor_id       x       y       z\n",
       "0             0 -256.14 -521.08  496.03\n",
       "1             1 -256.14 -521.08  479.01\n",
       "2             2 -256.14 -521.08  461.99\n",
       "3             3 -256.14 -521.08  444.97\n",
       "4             4 -256.14 -521.08  427.95\n",
       "...         ...     ...     ...     ...\n",
       "5155       5155  -10.97    6.72 -472.39\n",
       "5156       5156  -10.97    6.72 -479.39\n",
       "5157       5157  -10.97    6.72 -486.40\n",
       "5158       5158  -10.97    6.72 -493.41\n",
       "5159       5159  -10.97    6.72 -500.73\n",
       "\n",
       "[5160 rows x 4 columns]"
      ]
     },
     "execution_count": 12,
     "metadata": {},
     "output_type": "execute_result"
    }
   ],
   "source": [
    "input.sensor_geometry"
   ]
  },
  {
   "cell_type": "code",
   "execution_count": 13,
   "id": "a0ed4e10-c184-4bed-858c-901ec58547c6",
   "metadata": {},
   "outputs": [
    {
     "data": {
      "text/plain": [
       "(3, 4)"
      ]
     },
     "execution_count": 13,
     "metadata": {},
     "output_type": "execute_result"
    }
   ],
   "source": [
    "input.test_meta.shape"
   ]
  },
  {
   "cell_type": "code",
   "execution_count": 14,
   "id": "b997872d-68b3-444c-aec2-dfedb9ab0c75",
   "metadata": {},
   "outputs": [
    {
     "data": {
      "text/html": [
       "<div>\n",
       "<style scoped>\n",
       "    .dataframe tbody tr th:only-of-type {\n",
       "        vertical-align: middle;\n",
       "    }\n",
       "\n",
       "    .dataframe tbody tr th {\n",
       "        vertical-align: top;\n",
       "    }\n",
       "\n",
       "    .dataframe thead th {\n",
       "        text-align: right;\n",
       "    }\n",
       "</style>\n",
       "<table border=\"1\" class=\"dataframe\">\n",
       "  <thead>\n",
       "    <tr style=\"text-align: right;\">\n",
       "      <th></th>\n",
       "      <th>batch_id</th>\n",
       "      <th>event_id</th>\n",
       "      <th>first_pulse_index</th>\n",
       "      <th>last_pulse_index</th>\n",
       "    </tr>\n",
       "  </thead>\n",
       "  <tbody>\n",
       "    <tr>\n",
       "      <th>0</th>\n",
       "      <td>661</td>\n",
       "      <td>2092</td>\n",
       "      <td>0</td>\n",
       "      <td>298</td>\n",
       "    </tr>\n",
       "    <tr>\n",
       "      <th>1</th>\n",
       "      <td>661</td>\n",
       "      <td>7344</td>\n",
       "      <td>299</td>\n",
       "      <td>334</td>\n",
       "    </tr>\n",
       "    <tr>\n",
       "      <th>2</th>\n",
       "      <td>661</td>\n",
       "      <td>9482</td>\n",
       "      <td>335</td>\n",
       "      <td>377</td>\n",
       "    </tr>\n",
       "  </tbody>\n",
       "</table>\n",
       "</div>"
      ],
      "text/plain": [
       "   batch_id  event_id  first_pulse_index  last_pulse_index\n",
       "0       661      2092                  0               298\n",
       "1       661      7344                299               334\n",
       "2       661      9482                335               377"
      ]
     },
     "execution_count": 14,
     "metadata": {},
     "output_type": "execute_result"
    }
   ],
   "source": [
    "input.test_meta"
   ]
  },
  {
   "cell_type": "code",
   "execution_count": 15,
   "id": "cc253900-dfdd-418a-b2ac-fda6580907b4",
   "metadata": {},
   "outputs": [
    {
     "data": {
      "text/plain": [
       "(131953924, 6)"
      ]
     },
     "execution_count": 15,
     "metadata": {},
     "output_type": "execute_result"
    }
   ],
   "source": [
    "input.train_meta.shape"
   ]
  },
  {
   "cell_type": "code",
   "execution_count": 16,
   "id": "43697918-b4cd-4b29-b3ab-b36076f67e3e",
   "metadata": {},
   "outputs": [
    {
     "data": {
      "text/html": [
       "<div>\n",
       "<style scoped>\n",
       "    .dataframe tbody tr th:only-of-type {\n",
       "        vertical-align: middle;\n",
       "    }\n",
       "\n",
       "    .dataframe tbody tr th {\n",
       "        vertical-align: top;\n",
       "    }\n",
       "\n",
       "    .dataframe thead th {\n",
       "        text-align: right;\n",
       "    }\n",
       "</style>\n",
       "<table border=\"1\" class=\"dataframe\">\n",
       "  <thead>\n",
       "    <tr style=\"text-align: right;\">\n",
       "      <th></th>\n",
       "      <th>batch_id</th>\n",
       "      <th>event_id</th>\n",
       "      <th>first_pulse_index</th>\n",
       "      <th>last_pulse_index</th>\n",
       "      <th>azimuth</th>\n",
       "      <th>zenith</th>\n",
       "    </tr>\n",
       "  </thead>\n",
       "  <tbody>\n",
       "    <tr>\n",
       "      <th>0</th>\n",
       "      <td>1</td>\n",
       "      <td>24</td>\n",
       "      <td>0</td>\n",
       "      <td>60</td>\n",
       "      <td>5.029555</td>\n",
       "      <td>2.087498</td>\n",
       "    </tr>\n",
       "    <tr>\n",
       "      <th>1</th>\n",
       "      <td>1</td>\n",
       "      <td>41</td>\n",
       "      <td>61</td>\n",
       "      <td>111</td>\n",
       "      <td>0.417742</td>\n",
       "      <td>1.549686</td>\n",
       "    </tr>\n",
       "    <tr>\n",
       "      <th>2</th>\n",
       "      <td>1</td>\n",
       "      <td>59</td>\n",
       "      <td>112</td>\n",
       "      <td>147</td>\n",
       "      <td>1.160466</td>\n",
       "      <td>2.401942</td>\n",
       "    </tr>\n",
       "    <tr>\n",
       "      <th>3</th>\n",
       "      <td>1</td>\n",
       "      <td>67</td>\n",
       "      <td>148</td>\n",
       "      <td>289</td>\n",
       "      <td>5.845952</td>\n",
       "      <td>0.759054</td>\n",
       "    </tr>\n",
       "    <tr>\n",
       "      <th>4</th>\n",
       "      <td>1</td>\n",
       "      <td>72</td>\n",
       "      <td>290</td>\n",
       "      <td>351</td>\n",
       "      <td>0.653719</td>\n",
       "      <td>0.939117</td>\n",
       "    </tr>\n",
       "    <tr>\n",
       "      <th>...</th>\n",
       "      <td>...</td>\n",
       "      <td>...</td>\n",
       "      <td>...</td>\n",
       "      <td>...</td>\n",
       "      <td>...</td>\n",
       "      <td>...</td>\n",
       "    </tr>\n",
       "    <tr>\n",
       "      <th>131953919</th>\n",
       "      <td>660</td>\n",
       "      <td>2147483597</td>\n",
       "      <td>24339210</td>\n",
       "      <td>24339349</td>\n",
       "      <td>5.895612</td>\n",
       "      <td>0.333071</td>\n",
       "    </tr>\n",
       "    <tr>\n",
       "      <th>131953920</th>\n",
       "      <td>660</td>\n",
       "      <td>2147483603</td>\n",
       "      <td>24339350</td>\n",
       "      <td>24339383</td>\n",
       "      <td>3.273695</td>\n",
       "      <td>1.503301</td>\n",
       "    </tr>\n",
       "    <tr>\n",
       "      <th>131953921</th>\n",
       "      <td>660</td>\n",
       "      <td>2147483617</td>\n",
       "      <td>24339384</td>\n",
       "      <td>24339424</td>\n",
       "      <td>2.945376</td>\n",
       "      <td>1.723253</td>\n",
       "    </tr>\n",
       "    <tr>\n",
       "      <th>131953922</th>\n",
       "      <td>660</td>\n",
       "      <td>2147483626</td>\n",
       "      <td>24339425</td>\n",
       "      <td>24339499</td>\n",
       "      <td>1.616582</td>\n",
       "      <td>1.937025</td>\n",
       "    </tr>\n",
       "    <tr>\n",
       "      <th>131953923</th>\n",
       "      <td>660</td>\n",
       "      <td>2147483627</td>\n",
       "      <td>24339500</td>\n",
       "      <td>24339550</td>\n",
       "      <td>3.062654</td>\n",
       "      <td>1.842630</td>\n",
       "    </tr>\n",
       "  </tbody>\n",
       "</table>\n",
       "<p>131953924 rows × 6 columns</p>\n",
       "</div>"
      ],
      "text/plain": [
       "           batch_id    event_id  first_pulse_index  last_pulse_index  \\\n",
       "0                 1          24                  0                60   \n",
       "1                 1          41                 61               111   \n",
       "2                 1          59                112               147   \n",
       "3                 1          67                148               289   \n",
       "4                 1          72                290               351   \n",
       "...             ...         ...                ...               ...   \n",
       "131953919       660  2147483597           24339210          24339349   \n",
       "131953920       660  2147483603           24339350          24339383   \n",
       "131953921       660  2147483617           24339384          24339424   \n",
       "131953922       660  2147483626           24339425          24339499   \n",
       "131953923       660  2147483627           24339500          24339550   \n",
       "\n",
       "            azimuth    zenith  \n",
       "0          5.029555  2.087498  \n",
       "1          0.417742  1.549686  \n",
       "2          1.160466  2.401942  \n",
       "3          5.845952  0.759054  \n",
       "4          0.653719  0.939117  \n",
       "...             ...       ...  \n",
       "131953919  5.895612  0.333071  \n",
       "131953920  3.273695  1.503301  \n",
       "131953921  2.945376  1.723253  \n",
       "131953922  1.616582  1.937025  \n",
       "131953923  3.062654  1.842630  \n",
       "\n",
       "[131953924 rows x 6 columns]"
      ]
     },
     "execution_count": 16,
     "metadata": {},
     "output_type": "execute_result"
    }
   ],
   "source": [
    "input.train_meta"
   ]
  },
  {
   "cell_type": "code",
   "execution_count": null,
   "id": "e96a3de4-c051-467d-b378-64c5758d0ca5",
   "metadata": {},
   "outputs": [],
   "source": []
  },
  {
   "cell_type": "markdown",
   "id": "1c949018-ae66-4080-bc55-fd6fec6e30ee",
   "metadata": {
    "tags": []
   },
   "source": [
    "## Read single batch"
   ]
  },
  {
   "cell_type": "code",
   "execution_count": 17,
   "id": "0f5a6433-15d3-4b7c-8997-7c23665e3cf0",
   "metadata": {},
   "outputs": [],
   "source": [
    "batch_num = 1\n",
    "batch = pd.read_parquet(\n",
    "    os.path.join(c.data.dir.input_train, f\"batch_{batch_num}.parquet\")\n",
    ").reset_index()"
   ]
  },
  {
   "cell_type": "code",
   "execution_count": 18,
   "id": "4989dfe4-61c9-44e0-bd7a-2069507e80c7",
   "metadata": {},
   "outputs": [
    {
     "data": {
      "text/plain": [
       "(32792416, 5)"
      ]
     },
     "execution_count": 18,
     "metadata": {},
     "output_type": "execute_result"
    }
   ],
   "source": [
    "batch.shape"
   ]
  },
  {
   "cell_type": "code",
   "execution_count": 19,
   "id": "d444760e-d693-46fd-8709-e66b049d7333",
   "metadata": {},
   "outputs": [
    {
     "data": {
      "text/html": [
       "<div>\n",
       "<style scoped>\n",
       "    .dataframe tbody tr th:only-of-type {\n",
       "        vertical-align: middle;\n",
       "    }\n",
       "\n",
       "    .dataframe tbody tr th {\n",
       "        vertical-align: top;\n",
       "    }\n",
       "\n",
       "    .dataframe thead th {\n",
       "        text-align: right;\n",
       "    }\n",
       "</style>\n",
       "<table border=\"1\" class=\"dataframe\">\n",
       "  <thead>\n",
       "    <tr style=\"text-align: right;\">\n",
       "      <th></th>\n",
       "      <th>event_id</th>\n",
       "      <th>sensor_id</th>\n",
       "      <th>time</th>\n",
       "      <th>charge</th>\n",
       "      <th>auxiliary</th>\n",
       "    </tr>\n",
       "  </thead>\n",
       "  <tbody>\n",
       "    <tr>\n",
       "      <th>0</th>\n",
       "      <td>24</td>\n",
       "      <td>3918</td>\n",
       "      <td>5928</td>\n",
       "      <td>1.325</td>\n",
       "      <td>True</td>\n",
       "    </tr>\n",
       "    <tr>\n",
       "      <th>1</th>\n",
       "      <td>24</td>\n",
       "      <td>4157</td>\n",
       "      <td>6115</td>\n",
       "      <td>1.175</td>\n",
       "      <td>True</td>\n",
       "    </tr>\n",
       "    <tr>\n",
       "      <th>2</th>\n",
       "      <td>24</td>\n",
       "      <td>3520</td>\n",
       "      <td>6492</td>\n",
       "      <td>0.925</td>\n",
       "      <td>True</td>\n",
       "    </tr>\n",
       "    <tr>\n",
       "      <th>3</th>\n",
       "      <td>24</td>\n",
       "      <td>5041</td>\n",
       "      <td>6665</td>\n",
       "      <td>0.225</td>\n",
       "      <td>True</td>\n",
       "    </tr>\n",
       "    <tr>\n",
       "      <th>4</th>\n",
       "      <td>24</td>\n",
       "      <td>2948</td>\n",
       "      <td>8054</td>\n",
       "      <td>1.575</td>\n",
       "      <td>True</td>\n",
       "    </tr>\n",
       "    <tr>\n",
       "      <th>...</th>\n",
       "      <td>...</td>\n",
       "      <td>...</td>\n",
       "      <td>...</td>\n",
       "      <td>...</td>\n",
       "      <td>...</td>\n",
       "    </tr>\n",
       "    <tr>\n",
       "      <th>32792411</th>\n",
       "      <td>3266196</td>\n",
       "      <td>1961</td>\n",
       "      <td>17617</td>\n",
       "      <td>0.975</td>\n",
       "      <td>True</td>\n",
       "    </tr>\n",
       "    <tr>\n",
       "      <th>32792412</th>\n",
       "      <td>3266196</td>\n",
       "      <td>36</td>\n",
       "      <td>17705</td>\n",
       "      <td>0.625</td>\n",
       "      <td>True</td>\n",
       "    </tr>\n",
       "    <tr>\n",
       "      <th>32792413</th>\n",
       "      <td>3266196</td>\n",
       "      <td>356</td>\n",
       "      <td>18192</td>\n",
       "      <td>0.725</td>\n",
       "      <td>True</td>\n",
       "    </tr>\n",
       "    <tr>\n",
       "      <th>32792414</th>\n",
       "      <td>3266196</td>\n",
       "      <td>2826</td>\n",
       "      <td>18609</td>\n",
       "      <td>0.575</td>\n",
       "      <td>True</td>\n",
       "    </tr>\n",
       "    <tr>\n",
       "      <th>32792415</th>\n",
       "      <td>3266196</td>\n",
       "      <td>5013</td>\n",
       "      <td>18741</td>\n",
       "      <td>1.375</td>\n",
       "      <td>True</td>\n",
       "    </tr>\n",
       "  </tbody>\n",
       "</table>\n",
       "<p>32792416 rows × 5 columns</p>\n",
       "</div>"
      ],
      "text/plain": [
       "          event_id  sensor_id   time  charge  auxiliary\n",
       "0               24       3918   5928   1.325       True\n",
       "1               24       4157   6115   1.175       True\n",
       "2               24       3520   6492   0.925       True\n",
       "3               24       5041   6665   0.225       True\n",
       "4               24       2948   8054   1.575       True\n",
       "...            ...        ...    ...     ...        ...\n",
       "32792411   3266196       1961  17617   0.975       True\n",
       "32792412   3266196         36  17705   0.625       True\n",
       "32792413   3266196        356  18192   0.725       True\n",
       "32792414   3266196       2826  18609   0.575       True\n",
       "32792415   3266196       5013  18741   1.375       True\n",
       "\n",
       "[32792416 rows x 5 columns]"
      ]
     },
     "execution_count": 19,
     "metadata": {},
     "output_type": "execute_result"
    }
   ],
   "source": [
    "batch"
   ]
  },
  {
   "cell_type": "code",
   "execution_count": null,
   "id": "ab148f11-44dc-47af-bdd3-6f10b0bb3e71",
   "metadata": {},
   "outputs": [],
   "source": []
  },
  {
   "cell_type": "code",
   "execution_count": 20,
   "id": "916b5a5c-ab10-4a78-8389-f9e8fcd9348e",
   "metadata": {},
   "outputs": [],
   "source": [
    "batch = pd.merge(batch, input.sensor_geometry, on=\"sensor_id\")"
   ]
  },
  {
   "cell_type": "code",
   "execution_count": 21,
   "id": "cf7c50e0-54f6-4dfe-aeee-65b92a874335",
   "metadata": {},
   "outputs": [
    {
     "data": {
      "text/html": [
       "<div>\n",
       "<style scoped>\n",
       "    .dataframe tbody tr th:only-of-type {\n",
       "        vertical-align: middle;\n",
       "    }\n",
       "\n",
       "    .dataframe tbody tr th {\n",
       "        vertical-align: top;\n",
       "    }\n",
       "\n",
       "    .dataframe thead th {\n",
       "        text-align: right;\n",
       "    }\n",
       "</style>\n",
       "<table border=\"1\" class=\"dataframe\">\n",
       "  <thead>\n",
       "    <tr style=\"text-align: right;\">\n",
       "      <th></th>\n",
       "      <th>event_id</th>\n",
       "      <th>sensor_id</th>\n",
       "      <th>time</th>\n",
       "      <th>charge</th>\n",
       "      <th>auxiliary</th>\n",
       "      <th>x</th>\n",
       "      <th>y</th>\n",
       "      <th>z</th>\n",
       "    </tr>\n",
       "  </thead>\n",
       "  <tbody>\n",
       "    <tr>\n",
       "      <th>0</th>\n",
       "      <td>24</td>\n",
       "      <td>3918</td>\n",
       "      <td>5928</td>\n",
       "      <td>1.325</td>\n",
       "      <td>True</td>\n",
       "      <td>303.41</td>\n",
       "      <td>335.64</td>\n",
       "      <td>206.58</td>\n",
       "    </tr>\n",
       "    <tr>\n",
       "      <th>1</th>\n",
       "      <td>2743</td>\n",
       "      <td>3918</td>\n",
       "      <td>10813</td>\n",
       "      <td>0.975</td>\n",
       "      <td>True</td>\n",
       "      <td>303.41</td>\n",
       "      <td>335.64</td>\n",
       "      <td>206.58</td>\n",
       "    </tr>\n",
       "    <tr>\n",
       "      <th>2</th>\n",
       "      <td>3007</td>\n",
       "      <td>3918</td>\n",
       "      <td>10290</td>\n",
       "      <td>0.925</td>\n",
       "      <td>False</td>\n",
       "      <td>303.41</td>\n",
       "      <td>335.64</td>\n",
       "      <td>206.58</td>\n",
       "    </tr>\n",
       "    <tr>\n",
       "      <th>3</th>\n",
       "      <td>3007</td>\n",
       "      <td>3918</td>\n",
       "      <td>10515</td>\n",
       "      <td>0.625</td>\n",
       "      <td>False</td>\n",
       "      <td>303.41</td>\n",
       "      <td>335.64</td>\n",
       "      <td>206.58</td>\n",
       "    </tr>\n",
       "    <tr>\n",
       "      <th>4</th>\n",
       "      <td>3007</td>\n",
       "      <td>3918</td>\n",
       "      <td>10688</td>\n",
       "      <td>0.925</td>\n",
       "      <td>False</td>\n",
       "      <td>303.41</td>\n",
       "      <td>335.64</td>\n",
       "      <td>206.58</td>\n",
       "    </tr>\n",
       "    <tr>\n",
       "      <th>...</th>\n",
       "      <td>...</td>\n",
       "      <td>...</td>\n",
       "      <td>...</td>\n",
       "      <td>...</td>\n",
       "      <td>...</td>\n",
       "      <td>...</td>\n",
       "      <td>...</td>\n",
       "      <td>...</td>\n",
       "    </tr>\n",
       "    <tr>\n",
       "      <th>32792411</th>\n",
       "      <td>3261719</td>\n",
       "      <td>1835</td>\n",
       "      <td>15175</td>\n",
       "      <td>0.475</td>\n",
       "      <td>True</td>\n",
       "      <td>-570.90</td>\n",
       "      <td>-125.14</td>\n",
       "      <td>-96.12</td>\n",
       "    </tr>\n",
       "    <tr>\n",
       "      <th>32792412</th>\n",
       "      <td>3263862</td>\n",
       "      <td>1835</td>\n",
       "      <td>23327</td>\n",
       "      <td>1.075</td>\n",
       "      <td>False</td>\n",
       "      <td>-570.90</td>\n",
       "      <td>-125.14</td>\n",
       "      <td>-96.12</td>\n",
       "    </tr>\n",
       "    <tr>\n",
       "      <th>32792413</th>\n",
       "      <td>3263862</td>\n",
       "      <td>1835</td>\n",
       "      <td>23522</td>\n",
       "      <td>0.575</td>\n",
       "      <td>False</td>\n",
       "      <td>-570.90</td>\n",
       "      <td>-125.14</td>\n",
       "      <td>-96.12</td>\n",
       "    </tr>\n",
       "    <tr>\n",
       "      <th>32792414</th>\n",
       "      <td>3264992</td>\n",
       "      <td>1835</td>\n",
       "      <td>13440</td>\n",
       "      <td>1.025</td>\n",
       "      <td>False</td>\n",
       "      <td>-570.90</td>\n",
       "      <td>-125.14</td>\n",
       "      <td>-96.12</td>\n",
       "    </tr>\n",
       "    <tr>\n",
       "      <th>32792415</th>\n",
       "      <td>3264992</td>\n",
       "      <td>1835</td>\n",
       "      <td>15251</td>\n",
       "      <td>0.525</td>\n",
       "      <td>False</td>\n",
       "      <td>-570.90</td>\n",
       "      <td>-125.14</td>\n",
       "      <td>-96.12</td>\n",
       "    </tr>\n",
       "  </tbody>\n",
       "</table>\n",
       "<p>32792416 rows × 8 columns</p>\n",
       "</div>"
      ],
      "text/plain": [
       "          event_id  sensor_id   time  charge  auxiliary       x       y  \\\n",
       "0               24       3918   5928   1.325       True  303.41  335.64   \n",
       "1             2743       3918  10813   0.975       True  303.41  335.64   \n",
       "2             3007       3918  10290   0.925      False  303.41  335.64   \n",
       "3             3007       3918  10515   0.625      False  303.41  335.64   \n",
       "4             3007       3918  10688   0.925      False  303.41  335.64   \n",
       "...            ...        ...    ...     ...        ...     ...     ...   \n",
       "32792411   3261719       1835  15175   0.475       True -570.90 -125.14   \n",
       "32792412   3263862       1835  23327   1.075      False -570.90 -125.14   \n",
       "32792413   3263862       1835  23522   0.575      False -570.90 -125.14   \n",
       "32792414   3264992       1835  13440   1.025      False -570.90 -125.14   \n",
       "32792415   3264992       1835  15251   0.525      False -570.90 -125.14   \n",
       "\n",
       "               z  \n",
       "0         206.58  \n",
       "1         206.58  \n",
       "2         206.58  \n",
       "3         206.58  \n",
       "4         206.58  \n",
       "...          ...  \n",
       "32792411  -96.12  \n",
       "32792412  -96.12  \n",
       "32792413  -96.12  \n",
       "32792414  -96.12  \n",
       "32792415  -96.12  \n",
       "\n",
       "[32792416 rows x 8 columns]"
      ]
     },
     "execution_count": 21,
     "metadata": {},
     "output_type": "execute_result"
    }
   ],
   "source": [
    "batch"
   ]
  },
  {
   "cell_type": "code",
   "execution_count": 22,
   "id": "0b841b2d-856d-492d-be10-1f5b40dfce44",
   "metadata": {},
   "outputs": [],
   "source": [
    "batch_event = batch[(batch[\"event_id\"] == 59)] #  & (batch[\"auxiliary\"] == False)"
   ]
  },
  {
   "cell_type": "code",
   "execution_count": 23,
   "id": "349d1c92-a421-4420-97ac-f9d8078943be",
   "metadata": {},
   "outputs": [
    {
     "data": {
      "text/html": [
       "<div>\n",
       "<style scoped>\n",
       "    .dataframe tbody tr th:only-of-type {\n",
       "        vertical-align: middle;\n",
       "    }\n",
       "\n",
       "    .dataframe tbody tr th {\n",
       "        vertical-align: top;\n",
       "    }\n",
       "\n",
       "    .dataframe thead th {\n",
       "        text-align: right;\n",
       "    }\n",
       "</style>\n",
       "<table border=\"1\" class=\"dataframe\">\n",
       "  <thead>\n",
       "    <tr style=\"text-align: right;\">\n",
       "      <th></th>\n",
       "      <th>event_id</th>\n",
       "      <th>sensor_id</th>\n",
       "      <th>time</th>\n",
       "      <th>charge</th>\n",
       "      <th>auxiliary</th>\n",
       "      <th>x</th>\n",
       "      <th>y</th>\n",
       "      <th>z</th>\n",
       "    </tr>\n",
       "  </thead>\n",
       "  <tbody>\n",
       "    <tr>\n",
       "      <th>605136</th>\n",
       "      <td>59</td>\n",
       "      <td>4685</td>\n",
       "      <td>6601</td>\n",
       "      <td>1.225</td>\n",
       "      <td>True</td>\n",
       "      <td>31.25</td>\n",
       "      <td>-72.93</td>\n",
       "      <td>138.23</td>\n",
       "    </tr>\n",
       "    <tr>\n",
       "      <th>611588</th>\n",
       "      <td>59</td>\n",
       "      <td>3925</td>\n",
       "      <td>6896</td>\n",
       "      <td>0.775</td>\n",
       "      <td>True</td>\n",
       "      <td>303.41</td>\n",
       "      <td>335.64</td>\n",
       "      <td>87.44</td>\n",
       "    </tr>\n",
       "    <tr>\n",
       "      <th>617220</th>\n",
       "      <td>59</td>\n",
       "      <td>15</td>\n",
       "      <td>7826</td>\n",
       "      <td>0.325</td>\n",
       "      <td>True</td>\n",
       "      <td>-256.14</td>\n",
       "      <td>-521.08</td>\n",
       "      <td>240.72</td>\n",
       "    </tr>\n",
       "    <tr>\n",
       "      <th>622120</th>\n",
       "      <td>59</td>\n",
       "      <td>2583</td>\n",
       "      <td>7866</td>\n",
       "      <td>1.275</td>\n",
       "      <td>True</td>\n",
       "      <td>-156.23</td>\n",
       "      <td>43.37</td>\n",
       "      <td>449.77</td>\n",
       "    </tr>\n",
       "    <tr>\n",
       "      <th>622121</th>\n",
       "      <td>59</td>\n",
       "      <td>2583</td>\n",
       "      <td>11861</td>\n",
       "      <td>0.275</td>\n",
       "      <td>True</td>\n",
       "      <td>-156.23</td>\n",
       "      <td>43.37</td>\n",
       "      <td>449.77</td>\n",
       "    </tr>\n",
       "  </tbody>\n",
       "</table>\n",
       "</div>"
      ],
      "text/plain": [
       "        event_id  sensor_id   time  charge  auxiliary       x       y       z\n",
       "605136        59       4685   6601   1.225       True   31.25  -72.93  138.23\n",
       "611588        59       3925   6896   0.775       True  303.41  335.64   87.44\n",
       "617220        59         15   7826   0.325       True -256.14 -521.08  240.72\n",
       "622120        59       2583   7866   1.275       True -156.23   43.37  449.77\n",
       "622121        59       2583  11861   0.275       True -156.23   43.37  449.77"
      ]
     },
     "execution_count": 23,
     "metadata": {},
     "output_type": "execute_result"
    }
   ],
   "source": [
    "batch_event.head()"
   ]
  },
  {
   "cell_type": "code",
   "execution_count": 24,
   "id": "162a43e0-5866-40c9-bcab-2d5fff7379d3",
   "metadata": {},
   "outputs": [
    {
     "data": {
      "text/plain": [
       "True     23\n",
       "False    13\n",
       "Name: auxiliary, dtype: int64"
      ]
     },
     "execution_count": 24,
     "metadata": {},
     "output_type": "execute_result"
    }
   ],
   "source": [
    "batch_event[\"auxiliary\"].value_counts()"
   ]
  },
  {
   "cell_type": "code",
   "execution_count": 25,
   "id": "14cf3ab9-eca1-4a8f-9423-5891f13ab069",
   "metadata": {},
   "outputs": [
    {
     "data": {
      "image/png": "[encoded data removed]",
      "text/plain": [
       "<Figure size 800x800 with 2 Axes>"
      ]
     },
     "metadata": {},
     "output_type": "display_data"
    }
   ],
   "source": [
    "fig = plt.figure(figsize=(8, 8))\n",
    "\n",
    "ax = fig.add_subplot(projection=\"3d\")\n",
    "ax.set_title(\"Event plot\")\n",
    "\n",
    "ax.set_xlabel(\"x\")\n",
    "ax.set_ylabel(\"y\")\n",
    "ax.set_zlabel(\"z\")\n",
    "\n",
    "ax.set_xticks([-600, -300, 0.0, 300, 600])\n",
    "ax.set_yticks([-600, -300, 0.0, 300, 600])\n",
    "ax.set_zticks([-600, -300, 0.0, 300, 600])\n",
    "\n",
    "# 散布図を描画\n",
    "scatter = ax.scatter(\n",
    "    batch_event[\"x\"],\n",
    "    batch_event[\"y\"],\n",
    "    batch_event[\"z\"],\n",
    "    s=batch_event[\"charge\"] * 50,\n",
    "    c=batch_event[\"time\"],\n",
    ")\n",
    "\n",
    "cbar = fig.colorbar(scatter, shrink=0.5, pad=0.1)\n",
    "cbar.set_label(\"Time\")\n",
    "\n",
    "plt.show()"
   ]
  },
  {
   "cell_type": "code",
   "execution_count": null,
   "id": "64f3eafd-1ee1-4b00-9270-0b9032c9c902",
   "metadata": {},
   "outputs": [],
   "source": []
  },
  {
   "cell_type": "code",
   "execution_count": null,
   "id": "a5457860-3ea6-4bb5-a5f8-2325e79bf032",
   "metadata": {},
   "outputs": [],
   "source": []
  }
 ],
 "metadata": {
  "kernelspec": {
   "display_name": "Python 3 (ipykernel)",
   "language": "python",
   "name": "python3"
  },
  "language_info": {
   "codemirror_mode": {
    "name": "ipython",
    "version": 3
   },
   "file_extension": ".py",
   "mimetype": "text/x-python",
   "name": "python",
   "nbconvert_exporter": "python",
   "pygments_lexer": "ipython3",
   "version": "3.7.12"
  }
 },
 "nbformat": 4,
 "nbformat_minor": 5
}
