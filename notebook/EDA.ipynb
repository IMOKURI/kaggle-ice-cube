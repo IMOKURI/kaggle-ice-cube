{
 "cells": [
  {
   "cell_type": "markdown",
   "id": "1af9b133-1342-4c24-9522-898cbbbc0c36",
   "metadata": {},
   "source": [
    "# IceCube - EDA"
   ]
  },
  {
   "cell_type": "markdown",
   "id": "364b55f1-0570-4dde-bc34-21c7988c58db",
   "metadata": {},
   "source": [
    "## Load Data"
   ]
  },
  {
   "cell_type": "code",
   "execution_count": 1,
   "id": "d96581fe-ffcb-4a0e-a504-92d8f49ddf21",
   "metadata": {},
   "outputs": [
    {
     "name": "stdout",
     "output_type": "stream",
     "text": [
      "/home/jovyan/working\n"
     ]
    }
   ],
   "source": [
    "%cd .."
   ]
  },
  {
   "cell_type": "code",
   "execution_count": 2,
   "id": "0fd42d91-b40a-49b3-bd10-62ee39847cc4",
   "metadata": {},
   "outputs": [],
   "source": [
    "import sys\n",
    "\n",
    "sys.path.append(\".\")"
   ]
  },
  {
   "cell_type": "code",
   "execution_count": 3,
   "id": "27e11088-d975-45ea-b19b-11d14ef7a336",
   "metadata": {},
   "outputs": [],
   "source": [
    "import logging\n",
    "\n",
    "logging.basicConfig(\n",
    "    # filename=__file__.replace('.py', '.log'),\n",
    "    level=logging.getLevelName(\"INFO\"),\n",
    "    format=\"%(asctime)s [%(levelname)s] [%(module)s] %(message)s\",\n",
    ")\n",
    "\n",
    "log = logging.getLogger(__name__)"
   ]
  },
  {
   "cell_type": "code",
   "execution_count": 4,
   "id": "7b120070-476c-4208-a944-9b0502b845ae",
   "metadata": {},
   "outputs": [],
   "source": [
    "import glob\n",
    "import math\n",
    "import os\n",
    "import re\n",
    "\n",
    "import matplotlib.animation as animation\n",
    "import matplotlib.pyplot as plt\n",
    "import numpy as np\n",
    "import pandas as pd\n",
    "import polars as pl\n",
    "import scipy.stats as stats\n",
    "import seaborn as sns\n",
    "from omegaconf import OmegaConf\n",
    "from scipy.cluster.hierarchy import dendrogram, fcluster, linkage\n",
    "from scipy.spatial.distance import euclidean, pdist, squareform, cdist\n",
    "\n",
    "# from pandas_profiling import ProfileReport\n",
    "\n",
    "# pd.set_option(\"display.max_rows\", None)\n",
    "# pd.set_option(\"display.max_columns\", None)\n",
    "# pd.set_option(\"display.max_colwidth\", None)"
   ]
  },
  {
   "cell_type": "code",
   "execution_count": 5,
   "id": "5b64109b-11f1-435c-bc99-6497e590c2e6",
   "metadata": {},
   "outputs": [
    {
     "name": "stdout",
     "output_type": "stream",
     "text": [
      "\u001b[1;34mgraphnet\u001b[0m: \u001b[32mINFO    \u001b[0m 2023-03-10 00:23:39 - get_logger - Writing log to \u001b[1mlogs/graphnet_20230310-002339.log\u001b[0m\n"
     ]
    },
    {
     "name": "stderr",
     "output_type": "stream",
     "text": [
      "2023-03-10 00:23:39,931 [INFO] [logging] Writing log to \u001b[1mlogs/graphnet_20230310-002339.log\u001b[0m\n"
     ]
    },
    {
     "name": "stdout",
     "output_type": "stream",
     "text": [
      "\u001b[1;34mgraphnet\u001b[0m: \u001b[33mWARNING \u001b[0m 2023-03-10 00:23:39 - warn_once - `icecube` not available. Some functionality may be missing.\u001b[0m\n"
     ]
    },
    {
     "name": "stderr",
     "output_type": "stream",
     "text": [
      "2023-03-10 00:23:39,939 [WARNING] [logging] `icecube` not available. Some functionality may be missing.\n",
      "/opt/conda/lib/python3.7/site-packages/torchvision/io/image.py:13: UserWarning: Failed to load image Python extension: /opt/conda/lib/python3.7/site-packages/torchvision/image.so: undefined symbol: _ZN3c104impl8GPUTrace13gpuTraceStateE\n",
      "  warn(f\"Failed to load image Python extension: {e}\")\n",
      "2023-03-10 00:23:41.136224: I tensorflow/core/platform/cpu_feature_guard.cc:193] This TensorFlow binary is optimized with oneAPI Deep Neural Network Library (oneDNN) to use the following CPU instructions in performance-critical operations:  AVX2 AVX512F AVX512_VNNI FMA\n",
      "To enable them in other operations, rebuild TensorFlow with the appropriate compiler flags.\n",
      "2023-03-10 00:23:41.277591: I tensorflow/core/util/port.cc:104] oneDNN custom operations are on. You may see slightly different numerical results due to floating-point round-off errors from different computation orders. To turn them off, set the environment variable `TF_ENABLE_ONEDNN_OPTS=0`.\n",
      "2023-03-10 00:23:42.289587: W tensorflow/compiler/xla/stream_executor/platform/default/dso_loader.cc:64] Could not load dynamic library 'libnvinfer.so.7'; dlerror: libnvinfer.so.7: cannot open shared object file: No such file or directory; LD_LIBRARY_PATH: /usr/local/cuda/lib64:/usr/local/cuda/lib:/usr/local/lib/x86_64-linux-gnu:/usr/local/nvidia/lib:/usr/local/nvidia/lib64:/usr/local/nvidia/lib:/usr/local/nvidia/lib64:/opt/conda/lib\n",
      "2023-03-10 00:23:42.289676: W tensorflow/compiler/xla/stream_executor/platform/default/dso_loader.cc:64] Could not load dynamic library 'libnvinfer_plugin.so.7'; dlerror: libnvinfer_plugin.so.7: cannot open shared object file: No such file or directory; LD_LIBRARY_PATH: /usr/local/cuda/lib64:/usr/local/cuda/lib:/usr/local/lib/x86_64-linux-gnu:/usr/local/nvidia/lib:/usr/local/nvidia/lib64:/usr/local/nvidia/lib:/usr/local/nvidia/lib64:/opt/conda/lib\n",
      "2023-03-10 00:23:42.289686: W tensorflow/compiler/tf2tensorrt/utils/py_utils.cc:38] TF-TRT Warning: Cannot dlopen some TensorRT libraries. If you would like to use Nvidia GPU with TensorRT, please make sure the missing libraries mentioned above are installed properly.\n"
     ]
    }
   ],
   "source": [
    "from src.ice_cube.data_loader import make_test_dataloader\n",
    "from src.ice_cube.model import load_pretrained_model\n",
    "from src.ice_cube.scoring import angular_dist_score\n",
    "from src.load_data import LoadData\n",
    "from src.preprocesses.cache import fit_instance, transform_data\n",
    "from src.preprocesses.p001_dist_transformer import DistTransformer\n",
    "from src.ice_cube.submission import to_submission_df\n",
    "from src.ice_cube.sqlite import world_dist\n",
    "from src.utils import choice_seed, df_stats, fix_seed"
   ]
  },
  {
   "cell_type": "code",
   "execution_count": 6,
   "id": "9311d8b5-9100-4d82-a8ac-c131a61198b3",
   "metadata": {},
   "outputs": [],
   "source": [
    "# Competition specific packages\n",
    "import os\n",
    "import sqlite3\n",
    "from typing import Any, Dict, List, Optional\n",
    "\n",
    "import pyarrow.parquet as pq\n",
    "from mpl_toolkits.mplot3d import Axes3D\n",
    "from tqdm import tqdm\n",
    "\n",
    "from graphnet.data.constants import FEATURES, TRUTH\n",
    "from graphnet.data.sqlite import SQLiteDataset\n",
    "\n",
    "# import sqlalchemy\n",
    "# import graphnet\n",
    "# from graphnet.data.sqlite.sqlite_utilities import create_table"
   ]
  },
  {
   "cell_type": "code",
   "execution_count": 7,
   "id": "1041b98b-ec51-4c46-af18-daae79465af3",
   "metadata": {},
   "outputs": [
    {
     "name": "stderr",
     "output_type": "stream",
     "text": [
      "2023-03-10 00:23:44,813 [INFO] [utils] Fix seed: 440\n"
     ]
    }
   ],
   "source": [
    "c_main = OmegaConf.load(\"./config/main.yaml\")\n",
    "c_data = OmegaConf.load(\"./config/data.yaml\")\n",
    "c = OmegaConf.merge(c_main, c_data)\n",
    "\n",
    "fix_seed(choice_seed(c))"
   ]
  },
  {
   "cell_type": "code",
   "execution_count": 8,
   "id": "d02d231d-5778-402a-9ff7-a5d5eb3b5371",
   "metadata": {},
   "outputs": [
    {
     "name": "stderr",
     "output_type": "stream",
     "text": [
      "2023-03-10 00:23:44,821 [INFO] [load_data] Load original file. path: ../input/icecube-neutrinos-in-deep-ice/train_meta.parquet\n",
      "2023-03-10 00:23:54,316 [INFO] [load_data] Load original file. path: ../input/icecube-neutrinos-in-deep-ice/test_meta.parquet\n",
      "2023-03-10 00:23:54,321 [INFO] [load_data] Load original file. path: ../input/icecube-neutrinos-in-deep-ice/sample_submission.parquet\n",
      "2023-03-10 00:23:54,324 [INFO] [load_data] Load original file. path: ../input/icecube-neutrinos-in-deep-ice/sensor_geometry.csv\n"
     ]
    }
   ],
   "source": [
    "input = LoadData(c, use_fold=False, do_preprocess=False)"
   ]
  },
  {
   "cell_type": "code",
   "execution_count": 9,
   "id": "8d1b53bd-e001-44a3-8632-4edf5b12d3ba",
   "metadata": {},
   "outputs": [
    {
     "data": {
      "text/plain": [
       "['c', 'sample_submission', 'sensor_geometry', 'test_meta', 'train_meta']"
      ]
     },
     "execution_count": 9,
     "metadata": {},
     "output_type": "execute_result"
    }
   ],
   "source": [
    "[col for col in dir(input) if not col.startswith(\"__\")]"
   ]
  },
  {
   "cell_type": "code",
   "execution_count": 10,
   "id": "5bc034c9-5c59-4b15-9c37-d93007604efe",
   "metadata": {},
   "outputs": [],
   "source": [
    "results = pd.read_csv(\"results.csv\")\n",
    "#submission_low_sigma = pd.read_csv(\"submission_low_sigma.csv\")\n",
    "#submission_high_sigma = pd.read_csv(\"submission_high_sigma.csv\")\n",
    "submission_df = pd.read_csv(\"submission.csv\")\n",
    "valid_df = pd.read_csv(\"valid.csv\")"
   ]
  },
  {
   "cell_type": "code",
   "execution_count": 11,
   "id": "05c8c6a0",
   "metadata": {},
   "outputs": [],
   "source": [
    "results_pub = pd.read_csv(\"results_pub.csv\")\n",
    "submission_pub_df = pd.read_csv(\"submission_pub.csv\")"
   ]
  },
  {
   "cell_type": "code",
   "execution_count": 12,
   "id": "f4d7b922",
   "metadata": {},
   "outputs": [],
   "source": [
    "results2 = pd.read_csv(\"results2.csv\")\n",
    "submission_low_sigma2 = pd.read_csv(\"submission_low_sigma2.csv\")\n",
    "submission_high_sigma2 = pd.read_csv(\"submission_high_sigma2.csv\")\n",
    "submission2_df = pd.read_csv(\"submission2.csv\")\n",
    "valid2_df = pd.read_csv(\"valid2.csv\")"
   ]
  },
  {
   "cell_type": "markdown",
   "id": "ee4c148f-0efd-4379-b1e3-88fdd62ac7d3",
   "metadata": {
    "tags": []
   },
   "source": [
    "## Check Data"
   ]
  },
  {
   "cell_type": "code",
   "execution_count": 11,
   "id": "13ed965f-0960-4936-8243-7cf5cdc51730",
   "metadata": {},
   "outputs": [
    {
     "data": {
      "text/plain": [
       "(3, 3)"
      ]
     },
     "execution_count": 11,
     "metadata": {},
     "output_type": "execute_result"
    }
   ],
   "source": [
    "input.sample_submission.shape"
   ]
  },
  {
   "cell_type": "code",
   "execution_count": 12,
   "id": "040d20a0-4ba7-4bba-9fe6-08ef38b0934d",
   "metadata": {},
   "outputs": [
    {
     "data": {
      "text/html": [
       "<div>\n",
       "<style scoped>\n",
       "    .dataframe tbody tr th:only-of-type {\n",
       "        vertical-align: middle;\n",
       "    }\n",
       "\n",
       "    .dataframe tbody tr th {\n",
       "        vertical-align: top;\n",
       "    }\n",
       "\n",
       "    .dataframe thead th {\n",
       "        text-align: right;\n",
       "    }\n",
       "</style>\n",
       "<table border=\"1\" class=\"dataframe\">\n",
       "  <thead>\n",
       "    <tr style=\"text-align: right;\">\n",
       "      <th></th>\n",
       "      <th>event_id</th>\n",
       "      <th>azimuth</th>\n",
       "      <th>zenith</th>\n",
       "    </tr>\n",
       "  </thead>\n",
       "  <tbody>\n",
       "    <tr>\n",
       "      <th>0</th>\n",
       "      <td>2092</td>\n",
       "      <td>1</td>\n",
       "      <td>1</td>\n",
       "    </tr>\n",
       "    <tr>\n",
       "      <th>1</th>\n",
       "      <td>7344</td>\n",
       "      <td>1</td>\n",
       "      <td>1</td>\n",
       "    </tr>\n",
       "    <tr>\n",
       "      <th>2</th>\n",
       "      <td>9482</td>\n",
       "      <td>1</td>\n",
       "      <td>1</td>\n",
       "    </tr>\n",
       "  </tbody>\n",
       "</table>\n",
       "</div>"
      ],
      "text/plain": [
       "   event_id  azimuth  zenith\n",
       "0      2092        1       1\n",
       "1      7344        1       1\n",
       "2      9482        1       1"
      ]
     },
     "execution_count": 12,
     "metadata": {},
     "output_type": "execute_result"
    }
   ],
   "source": [
    "input.sample_submission"
   ]
  },
  {
   "cell_type": "code",
   "execution_count": 13,
   "id": "dbfc0f08-da50-40dc-92c4-d9ce6fd7bf6d",
   "metadata": {},
   "outputs": [
    {
     "data": {
      "text/plain": [
       "(5160, 4)"
      ]
     },
     "execution_count": 13,
     "metadata": {},
     "output_type": "execute_result"
    }
   ],
   "source": [
    "input.sensor_geometry.shape"
   ]
  },
  {
   "cell_type": "code",
   "execution_count": 14,
   "id": "9b05cc73-5d93-4dda-9d39-0afdb2aef212",
   "metadata": {},
   "outputs": [
    {
     "data": {
      "text/html": [
       "<div>\n",
       "<style scoped>\n",
       "    .dataframe tbody tr th:only-of-type {\n",
       "        vertical-align: middle;\n",
       "    }\n",
       "\n",
       "    .dataframe tbody tr th {\n",
       "        vertical-align: top;\n",
       "    }\n",
       "\n",
       "    .dataframe thead th {\n",
       "        text-align: right;\n",
       "    }\n",
       "</style>\n",
       "<table border=\"1\" class=\"dataframe\">\n",
       "  <thead>\n",
       "    <tr style=\"text-align: right;\">\n",
       "      <th></th>\n",
       "      <th>sensor_id</th>\n",
       "      <th>x</th>\n",
       "      <th>y</th>\n",
       "      <th>z</th>\n",
       "    </tr>\n",
       "  </thead>\n",
       "  <tbody>\n",
       "    <tr>\n",
       "      <th>0</th>\n",
       "      <td>0</td>\n",
       "      <td>-256.14</td>\n",
       "      <td>-521.08</td>\n",
       "      <td>496.03</td>\n",
       "    </tr>\n",
       "    <tr>\n",
       "      <th>1</th>\n",
       "      <td>1</td>\n",
       "      <td>-256.14</td>\n",
       "      <td>-521.08</td>\n",
       "      <td>479.01</td>\n",
       "    </tr>\n",
       "    <tr>\n",
       "      <th>2</th>\n",
       "      <td>2</td>\n",
       "      <td>-256.14</td>\n",
       "      <td>-521.08</td>\n",
       "      <td>461.99</td>\n",
       "    </tr>\n",
       "    <tr>\n",
       "      <th>3</th>\n",
       "      <td>3</td>\n",
       "      <td>-256.14</td>\n",
       "      <td>-521.08</td>\n",
       "      <td>444.97</td>\n",
       "    </tr>\n",
       "    <tr>\n",
       "      <th>4</th>\n",
       "      <td>4</td>\n",
       "      <td>-256.14</td>\n",
       "      <td>-521.08</td>\n",
       "      <td>427.95</td>\n",
       "    </tr>\n",
       "    <tr>\n",
       "      <th>...</th>\n",
       "      <td>...</td>\n",
       "      <td>...</td>\n",
       "      <td>...</td>\n",
       "      <td>...</td>\n",
       "    </tr>\n",
       "    <tr>\n",
       "      <th>5155</th>\n",
       "      <td>5155</td>\n",
       "      <td>-10.97</td>\n",
       "      <td>6.72</td>\n",
       "      <td>-472.39</td>\n",
       "    </tr>\n",
       "    <tr>\n",
       "      <th>5156</th>\n",
       "      <td>5156</td>\n",
       "      <td>-10.97</td>\n",
       "      <td>6.72</td>\n",
       "      <td>-479.39</td>\n",
       "    </tr>\n",
       "    <tr>\n",
       "      <th>5157</th>\n",
       "      <td>5157</td>\n",
       "      <td>-10.97</td>\n",
       "      <td>6.72</td>\n",
       "      <td>-486.40</td>\n",
       "    </tr>\n",
       "    <tr>\n",
       "      <th>5158</th>\n",
       "      <td>5158</td>\n",
       "      <td>-10.97</td>\n",
       "      <td>6.72</td>\n",
       "      <td>-493.41</td>\n",
       "    </tr>\n",
       "    <tr>\n",
       "      <th>5159</th>\n",
       "      <td>5159</td>\n",
       "      <td>-10.97</td>\n",
       "      <td>6.72</td>\n",
       "      <td>-500.73</td>\n",
       "    </tr>\n",
       "  </tbody>\n",
       "</table>\n",
       "<p>5160 rows × 4 columns</p>\n",
       "</div>"
      ],
      "text/plain": [
       "      sensor_id       x       y       z\n",
       "0             0 -256.14 -521.08  496.03\n",
       "1             1 -256.14 -521.08  479.01\n",
       "2             2 -256.14 -521.08  461.99\n",
       "3             3 -256.14 -521.08  444.97\n",
       "4             4 -256.14 -521.08  427.95\n",
       "...         ...     ...     ...     ...\n",
       "5155       5155  -10.97    6.72 -472.39\n",
       "5156       5156  -10.97    6.72 -479.39\n",
       "5157       5157  -10.97    6.72 -486.40\n",
       "5158       5158  -10.97    6.72 -493.41\n",
       "5159       5159  -10.97    6.72 -500.73\n",
       "\n",
       "[5160 rows x 4 columns]"
      ]
     },
     "execution_count": 14,
     "metadata": {},
     "output_type": "execute_result"
    }
   ],
   "source": [
    "input.sensor_geometry"
   ]
  },
  {
   "cell_type": "code",
   "execution_count": 15,
   "id": "284c4a23-b4db-4918-94cf-9b6035b56f0d",
   "metadata": {},
   "outputs": [
    {
     "data": {
      "text/html": [
       "<div>\n",
       "<style scoped>\n",
       "    .dataframe tbody tr th:only-of-type {\n",
       "        vertical-align: middle;\n",
       "    }\n",
       "\n",
       "    .dataframe tbody tr th {\n",
       "        vertical-align: top;\n",
       "    }\n",
       "\n",
       "    .dataframe thead th {\n",
       "        text-align: right;\n",
       "    }\n",
       "</style>\n",
       "<table border=\"1\" class=\"dataframe\">\n",
       "  <thead>\n",
       "    <tr style=\"text-align: right;\">\n",
       "      <th></th>\n",
       "      <th>sensor_id</th>\n",
       "      <th>x</th>\n",
       "      <th>y</th>\n",
       "      <th>z</th>\n",
       "    </tr>\n",
       "  </thead>\n",
       "  <tbody>\n",
       "    <tr>\n",
       "      <th>count</th>\n",
       "      <td>5160.000000</td>\n",
       "      <td>5160.000000</td>\n",
       "      <td>5160.000000</td>\n",
       "      <td>5160.000000</td>\n",
       "    </tr>\n",
       "    <tr>\n",
       "      <th>mean</th>\n",
       "      <td>2579.500000</td>\n",
       "      <td>5.870829</td>\n",
       "      <td>-2.518609</td>\n",
       "      <td>-23.905766</td>\n",
       "    </tr>\n",
       "    <tr>\n",
       "      <th>std</th>\n",
       "      <td>1489.708025</td>\n",
       "      <td>285.151213</td>\n",
       "      <td>269.409729</td>\n",
       "      <td>296.456563</td>\n",
       "    </tr>\n",
       "    <tr>\n",
       "      <th>min</th>\n",
       "      <td>0.000000</td>\n",
       "      <td>-570.900000</td>\n",
       "      <td>-521.080000</td>\n",
       "      <td>-512.820000</td>\n",
       "    </tr>\n",
       "    <tr>\n",
       "      <th>25%</th>\n",
       "      <td>1289.750000</td>\n",
       "      <td>-224.090000</td>\n",
       "      <td>-209.070000</td>\n",
       "      <td>-283.200000</td>\n",
       "    </tr>\n",
       "    <tr>\n",
       "      <th>50%</th>\n",
       "      <td>2579.500000</td>\n",
       "      <td>16.990000</td>\n",
       "      <td>-6.055000</td>\n",
       "      <td>-35.115000</td>\n",
       "    </tr>\n",
       "    <tr>\n",
       "      <th>75%</th>\n",
       "      <td>3869.250000</td>\n",
       "      <td>224.580000</td>\n",
       "      <td>211.660000</td>\n",
       "      <td>228.557500</td>\n",
       "    </tr>\n",
       "    <tr>\n",
       "      <th>max</th>\n",
       "      <td>5159.000000</td>\n",
       "      <td>576.370000</td>\n",
       "      <td>509.500000</td>\n",
       "      <td>524.560000</td>\n",
       "    </tr>\n",
       "  </tbody>\n",
       "</table>\n",
       "</div>"
      ],
      "text/plain": [
       "         sensor_id            x            y            z\n",
       "count  5160.000000  5160.000000  5160.000000  5160.000000\n",
       "mean   2579.500000     5.870829    -2.518609   -23.905766\n",
       "std    1489.708025   285.151213   269.409729   296.456563\n",
       "min       0.000000  -570.900000  -521.080000  -512.820000\n",
       "25%    1289.750000  -224.090000  -209.070000  -283.200000\n",
       "50%    2579.500000    16.990000    -6.055000   -35.115000\n",
       "75%    3869.250000   224.580000   211.660000   228.557500\n",
       "max    5159.000000   576.370000   509.500000   524.560000"
      ]
     },
     "execution_count": 15,
     "metadata": {},
     "output_type": "execute_result"
    }
   ],
   "source": [
    "input.sensor_geometry.describe()"
   ]
  },
  {
   "cell_type": "code",
   "execution_count": 16,
   "id": "a0ed4e10-c184-4bed-858c-901ec58547c6",
   "metadata": {},
   "outputs": [
    {
     "data": {
      "text/plain": [
       "(3, 4)"
      ]
     },
     "execution_count": 16,
     "metadata": {},
     "output_type": "execute_result"
    }
   ],
   "source": [
    "input.test_meta.shape"
   ]
  },
  {
   "cell_type": "code",
   "execution_count": 17,
   "id": "b997872d-68b3-444c-aec2-dfedb9ab0c75",
   "metadata": {},
   "outputs": [
    {
     "data": {
      "text/html": [
       "<div>\n",
       "<style scoped>\n",
       "    .dataframe tbody tr th:only-of-type {\n",
       "        vertical-align: middle;\n",
       "    }\n",
       "\n",
       "    .dataframe tbody tr th {\n",
       "        vertical-align: top;\n",
       "    }\n",
       "\n",
       "    .dataframe thead th {\n",
       "        text-align: right;\n",
       "    }\n",
       "</style>\n",
       "<table border=\"1\" class=\"dataframe\">\n",
       "  <thead>\n",
       "    <tr style=\"text-align: right;\">\n",
       "      <th></th>\n",
       "      <th>batch_id</th>\n",
       "      <th>event_id</th>\n",
       "      <th>first_pulse_index</th>\n",
       "      <th>last_pulse_index</th>\n",
       "    </tr>\n",
       "  </thead>\n",
       "  <tbody>\n",
       "    <tr>\n",
       "      <th>0</th>\n",
       "      <td>661</td>\n",
       "      <td>2092</td>\n",
       "      <td>0</td>\n",
       "      <td>298</td>\n",
       "    </tr>\n",
       "    <tr>\n",
       "      <th>1</th>\n",
       "      <td>661</td>\n",
       "      <td>7344</td>\n",
       "      <td>299</td>\n",
       "      <td>334</td>\n",
       "    </tr>\n",
       "    <tr>\n",
       "      <th>2</th>\n",
       "      <td>661</td>\n",
       "      <td>9482</td>\n",
       "      <td>335</td>\n",
       "      <td>377</td>\n",
       "    </tr>\n",
       "  </tbody>\n",
       "</table>\n",
       "</div>"
      ],
      "text/plain": [
       "   batch_id  event_id  first_pulse_index  last_pulse_index\n",
       "0       661      2092                  0               298\n",
       "1       661      7344                299               334\n",
       "2       661      9482                335               377"
      ]
     },
     "execution_count": 17,
     "metadata": {},
     "output_type": "execute_result"
    }
   ],
   "source": [
    "input.test_meta"
   ]
  },
  {
   "cell_type": "code",
   "execution_count": 18,
   "id": "cc253900-dfdd-418a-b2ac-fda6580907b4",
   "metadata": {},
   "outputs": [
    {
     "data": {
      "text/plain": [
       "(131953924, 6)"
      ]
     },
     "execution_count": 18,
     "metadata": {},
     "output_type": "execute_result"
    }
   ],
   "source": [
    "input.train_meta.shape"
   ]
  },
  {
   "cell_type": "code",
   "execution_count": 19,
   "id": "43697918-b4cd-4b29-b3ab-b36076f67e3e",
   "metadata": {},
   "outputs": [
    {
     "data": {
      "text/html": [
       "<div>\n",
       "<style scoped>\n",
       "    .dataframe tbody tr th:only-of-type {\n",
       "        vertical-align: middle;\n",
       "    }\n",
       "\n",
       "    .dataframe tbody tr th {\n",
       "        vertical-align: top;\n",
       "    }\n",
       "\n",
       "    .dataframe thead th {\n",
       "        text-align: right;\n",
       "    }\n",
       "</style>\n",
       "<table border=\"1\" class=\"dataframe\">\n",
       "  <thead>\n",
       "    <tr style=\"text-align: right;\">\n",
       "      <th></th>\n",
       "      <th>batch_id</th>\n",
       "      <th>event_id</th>\n",
       "      <th>first_pulse_index</th>\n",
       "      <th>last_pulse_index</th>\n",
       "      <th>azimuth</th>\n",
       "      <th>zenith</th>\n",
       "    </tr>\n",
       "  </thead>\n",
       "  <tbody>\n",
       "    <tr>\n",
       "      <th>0</th>\n",
       "      <td>1</td>\n",
       "      <td>24</td>\n",
       "      <td>0</td>\n",
       "      <td>60</td>\n",
       "      <td>5.029555</td>\n",
       "      <td>2.087498</td>\n",
       "    </tr>\n",
       "    <tr>\n",
       "      <th>1</th>\n",
       "      <td>1</td>\n",
       "      <td>41</td>\n",
       "      <td>61</td>\n",
       "      <td>111</td>\n",
       "      <td>0.417742</td>\n",
       "      <td>1.549686</td>\n",
       "    </tr>\n",
       "    <tr>\n",
       "      <th>2</th>\n",
       "      <td>1</td>\n",
       "      <td>59</td>\n",
       "      <td>112</td>\n",
       "      <td>147</td>\n",
       "      <td>1.160466</td>\n",
       "      <td>2.401942</td>\n",
       "    </tr>\n",
       "    <tr>\n",
       "      <th>3</th>\n",
       "      <td>1</td>\n",
       "      <td>67</td>\n",
       "      <td>148</td>\n",
       "      <td>289</td>\n",
       "      <td>5.845952</td>\n",
       "      <td>0.759054</td>\n",
       "    </tr>\n",
       "    <tr>\n",
       "      <th>4</th>\n",
       "      <td>1</td>\n",
       "      <td>72</td>\n",
       "      <td>290</td>\n",
       "      <td>351</td>\n",
       "      <td>0.653719</td>\n",
       "      <td>0.939117</td>\n",
       "    </tr>\n",
       "    <tr>\n",
       "      <th>...</th>\n",
       "      <td>...</td>\n",
       "      <td>...</td>\n",
       "      <td>...</td>\n",
       "      <td>...</td>\n",
       "      <td>...</td>\n",
       "      <td>...</td>\n",
       "    </tr>\n",
       "    <tr>\n",
       "      <th>131953919</th>\n",
       "      <td>660</td>\n",
       "      <td>2147483597</td>\n",
       "      <td>24339210</td>\n",
       "      <td>24339349</td>\n",
       "      <td>5.895612</td>\n",
       "      <td>0.333071</td>\n",
       "    </tr>\n",
       "    <tr>\n",
       "      <th>131953920</th>\n",
       "      <td>660</td>\n",
       "      <td>2147483603</td>\n",
       "      <td>24339350</td>\n",
       "      <td>24339383</td>\n",
       "      <td>3.273695</td>\n",
       "      <td>1.503301</td>\n",
       "    </tr>\n",
       "    <tr>\n",
       "      <th>131953921</th>\n",
       "      <td>660</td>\n",
       "      <td>2147483617</td>\n",
       "      <td>24339384</td>\n",
       "      <td>24339424</td>\n",
       "      <td>2.945376</td>\n",
       "      <td>1.723253</td>\n",
       "    </tr>\n",
       "    <tr>\n",
       "      <th>131953922</th>\n",
       "      <td>660</td>\n",
       "      <td>2147483626</td>\n",
       "      <td>24339425</td>\n",
       "      <td>24339499</td>\n",
       "      <td>1.616582</td>\n",
       "      <td>1.937025</td>\n",
       "    </tr>\n",
       "    <tr>\n",
       "      <th>131953923</th>\n",
       "      <td>660</td>\n",
       "      <td>2147483627</td>\n",
       "      <td>24339500</td>\n",
       "      <td>24339550</td>\n",
       "      <td>3.062654</td>\n",
       "      <td>1.842630</td>\n",
       "    </tr>\n",
       "  </tbody>\n",
       "</table>\n",
       "<p>131953924 rows × 6 columns</p>\n",
       "</div>"
      ],
      "text/plain": [
       "           batch_id    event_id  first_pulse_index  last_pulse_index  \\\n",
       "0                 1          24                  0                60   \n",
       "1                 1          41                 61               111   \n",
       "2                 1          59                112               147   \n",
       "3                 1          67                148               289   \n",
       "4                 1          72                290               351   \n",
       "...             ...         ...                ...               ...   \n",
       "131953919       660  2147483597           24339210          24339349   \n",
       "131953920       660  2147483603           24339350          24339383   \n",
       "131953921       660  2147483617           24339384          24339424   \n",
       "131953922       660  2147483626           24339425          24339499   \n",
       "131953923       660  2147483627           24339500          24339550   \n",
       "\n",
       "            azimuth    zenith  \n",
       "0          5.029555  2.087498  \n",
       "1          0.417742  1.549686  \n",
       "2          1.160466  2.401942  \n",
       "3          5.845952  0.759054  \n",
       "4          0.653719  0.939117  \n",
       "...             ...       ...  \n",
       "131953919  5.895612  0.333071  \n",
       "131953920  3.273695  1.503301  \n",
       "131953921  2.945376  1.723253  \n",
       "131953922  1.616582  1.937025  \n",
       "131953923  3.062654  1.842630  \n",
       "\n",
       "[131953924 rows x 6 columns]"
      ]
     },
     "execution_count": 19,
     "metadata": {},
     "output_type": "execute_result"
    }
   ],
   "source": [
    "input.train_meta"
   ]
  },
  {
   "cell_type": "code",
   "execution_count": 20,
   "id": "5e09862c-58d4-4cb7-9212-5bab95d9d932",
   "metadata": {},
   "outputs": [
    {
     "data": {
      "text/html": [
       "<div>\n",
       "<style scoped>\n",
       "    .dataframe tbody tr th:only-of-type {\n",
       "        vertical-align: middle;\n",
       "    }\n",
       "\n",
       "    .dataframe tbody tr th {\n",
       "        vertical-align: top;\n",
       "    }\n",
       "\n",
       "    .dataframe thead th {\n",
       "        text-align: right;\n",
       "    }\n",
       "</style>\n",
       "<table border=\"1\" class=\"dataframe\">\n",
       "  <thead>\n",
       "    <tr style=\"text-align: right;\">\n",
       "      <th></th>\n",
       "      <th>batch_id</th>\n",
       "      <th>event_id</th>\n",
       "      <th>first_pulse_index</th>\n",
       "      <th>last_pulse_index</th>\n",
       "      <th>azimuth</th>\n",
       "      <th>zenith</th>\n",
       "    </tr>\n",
       "  </thead>\n",
       "  <tbody>\n",
       "    <tr>\n",
       "      <th>87800000</th>\n",
       "      <td>440</td>\n",
       "      <td>1428988469</td>\n",
       "      <td>0</td>\n",
       "      <td>68</td>\n",
       "      <td>0.043206</td>\n",
       "      <td>1.044615</td>\n",
       "    </tr>\n",
       "    <tr>\n",
       "      <th>87800001</th>\n",
       "      <td>440</td>\n",
       "      <td>1428988485</td>\n",
       "      <td>69</td>\n",
       "      <td>127</td>\n",
       "      <td>4.788015</td>\n",
       "      <td>1.519801</td>\n",
       "    </tr>\n",
       "    <tr>\n",
       "      <th>87800002</th>\n",
       "      <td>440</td>\n",
       "      <td>1428988489</td>\n",
       "      <td>128</td>\n",
       "      <td>168</td>\n",
       "      <td>6.002178</td>\n",
       "      <td>1.839276</td>\n",
       "    </tr>\n",
       "    <tr>\n",
       "      <th>87800003</th>\n",
       "      <td>440</td>\n",
       "      <td>1428988503</td>\n",
       "      <td>169</td>\n",
       "      <td>272</td>\n",
       "      <td>1.292094</td>\n",
       "      <td>1.340804</td>\n",
       "    </tr>\n",
       "    <tr>\n",
       "      <th>87800004</th>\n",
       "      <td>440</td>\n",
       "      <td>1428988518</td>\n",
       "      <td>273</td>\n",
       "      <td>2249</td>\n",
       "      <td>1.894584</td>\n",
       "      <td>2.006880</td>\n",
       "    </tr>\n",
       "    <tr>\n",
       "      <th>...</th>\n",
       "      <td>...</td>\n",
       "      <td>...</td>\n",
       "      <td>...</td>\n",
       "      <td>...</td>\n",
       "      <td>...</td>\n",
       "      <td>...</td>\n",
       "    </tr>\n",
       "    <tr>\n",
       "      <th>87999995</th>\n",
       "      <td>440</td>\n",
       "      <td>1432234735</td>\n",
       "      <td>33121697</td>\n",
       "      <td>33121749</td>\n",
       "      <td>3.702434</td>\n",
       "      <td>2.157144</td>\n",
       "    </tr>\n",
       "    <tr>\n",
       "      <th>87999996</th>\n",
       "      <td>440</td>\n",
       "      <td>1432234738</td>\n",
       "      <td>33121750</td>\n",
       "      <td>33121793</td>\n",
       "      <td>4.382589</td>\n",
       "      <td>1.891504</td>\n",
       "    </tr>\n",
       "    <tr>\n",
       "      <th>87999997</th>\n",
       "      <td>440</td>\n",
       "      <td>1432234762</td>\n",
       "      <td>33121794</td>\n",
       "      <td>33121934</td>\n",
       "      <td>3.655561</td>\n",
       "      <td>2.414422</td>\n",
       "    </tr>\n",
       "    <tr>\n",
       "      <th>87999998</th>\n",
       "      <td>440</td>\n",
       "      <td>1432234772</td>\n",
       "      <td>33121935</td>\n",
       "      <td>33121990</td>\n",
       "      <td>2.190492</td>\n",
       "      <td>2.276862</td>\n",
       "    </tr>\n",
       "    <tr>\n",
       "      <th>87999999</th>\n",
       "      <td>440</td>\n",
       "      <td>1432234780</td>\n",
       "      <td>33121991</td>\n",
       "      <td>33122045</td>\n",
       "      <td>0.481789</td>\n",
       "      <td>1.791732</td>\n",
       "    </tr>\n",
       "  </tbody>\n",
       "</table>\n",
       "<p>200000 rows × 6 columns</p>\n",
       "</div>"
      ],
      "text/plain": [
       "          batch_id    event_id  first_pulse_index  last_pulse_index   azimuth  \\\n",
       "87800000       440  1428988469                  0                68  0.043206   \n",
       "87800001       440  1428988485                 69               127  4.788015   \n",
       "87800002       440  1428988489                128               168  6.002178   \n",
       "87800003       440  1428988503                169               272  1.292094   \n",
       "87800004       440  1428988518                273              2249  1.894584   \n",
       "...            ...         ...                ...               ...       ...   \n",
       "87999995       440  1432234735           33121697          33121749  3.702434   \n",
       "87999996       440  1432234738           33121750          33121793  4.382589   \n",
       "87999997       440  1432234762           33121794          33121934  3.655561   \n",
       "87999998       440  1432234772           33121935          33121990  2.190492   \n",
       "87999999       440  1432234780           33121991          33122045  0.481789   \n",
       "\n",
       "            zenith  \n",
       "87800000  1.044615  \n",
       "87800001  1.519801  \n",
       "87800002  1.839276  \n",
       "87800003  1.340804  \n",
       "87800004  2.006880  \n",
       "...            ...  \n",
       "87999995  2.157144  \n",
       "87999996  1.891504  \n",
       "87999997  2.414422  \n",
       "87999998  2.276862  \n",
       "87999999  1.791732  \n",
       "\n",
       "[200000 rows x 6 columns]"
      ]
     },
     "execution_count": 20,
     "metadata": {},
     "output_type": "execute_result"
    }
   ],
   "source": [
    "input.train_meta[input.train_meta[\"batch_id\"] == 440]"
   ]
  },
  {
   "cell_type": "code",
   "execution_count": null,
   "id": "e96a3de4-c051-467d-b378-64c5758d0ca5",
   "metadata": {},
   "outputs": [],
   "source": []
  },
  {
   "cell_type": "code",
   "execution_count": 21,
   "id": "43c92ddd-63cd-47f6-859e-08388d3fea13",
   "metadata": {},
   "outputs": [
    {
     "name": "stdout",
     "output_type": "stream",
     "text": [
      "<class 'pandas.core.frame.DataFrame'>\n",
      "RangeIndex: 148544 entries, 0 to 148543\n",
      "Data columns (total 3 columns):\n",
      " #   Column    Non-Null Count   Dtype  \n",
      "---  ------    --------------   -----  \n",
      " 0   event_id  148544 non-null  float64\n",
      " 1   azimuth   148544 non-null  float64\n",
      " 2   zenith    148544 non-null  float64\n",
      "dtypes: float64(3)\n",
      "memory usage: 3.4 MB\n"
     ]
    }
   ],
   "source": [
    "submission_high_sigma.info()"
   ]
  },
  {
   "cell_type": "code",
   "execution_count": 22,
   "id": "907d8529-949a-4081-8192-415ed1d61550",
   "metadata": {},
   "outputs": [
    {
     "data": {
      "text/html": [
       "<div>\n",
       "<style scoped>\n",
       "    .dataframe tbody tr th:only-of-type {\n",
       "        vertical-align: middle;\n",
       "    }\n",
       "\n",
       "    .dataframe tbody tr th {\n",
       "        vertical-align: top;\n",
       "    }\n",
       "\n",
       "    .dataframe thead th {\n",
       "        text-align: right;\n",
       "    }\n",
       "</style>\n",
       "<table border=\"1\" class=\"dataframe\">\n",
       "  <thead>\n",
       "    <tr style=\"text-align: right;\">\n",
       "      <th></th>\n",
       "      <th>event_id</th>\n",
       "      <th>azimuth</th>\n",
       "      <th>zenith</th>\n",
       "    </tr>\n",
       "  </thead>\n",
       "  <tbody>\n",
       "    <tr>\n",
       "      <th>0</th>\n",
       "      <td>1.432235e+09</td>\n",
       "      <td>1.643871</td>\n",
       "      <td>1.595458</td>\n",
       "    </tr>\n",
       "    <tr>\n",
       "      <th>1</th>\n",
       "      <td>1.432235e+09</td>\n",
       "      <td>0.777158</td>\n",
       "      <td>1.973433</td>\n",
       "    </tr>\n",
       "    <tr>\n",
       "      <th>2</th>\n",
       "      <td>1.432235e+09</td>\n",
       "      <td>4.068247</td>\n",
       "      <td>0.610144</td>\n",
       "    </tr>\n",
       "    <tr>\n",
       "      <th>3</th>\n",
       "      <td>1.432235e+09</td>\n",
       "      <td>3.589098</td>\n",
       "      <td>1.522334</td>\n",
       "    </tr>\n",
       "    <tr>\n",
       "      <th>4</th>\n",
       "      <td>1.432235e+09</td>\n",
       "      <td>3.469211</td>\n",
       "      <td>2.925182</td>\n",
       "    </tr>\n",
       "  </tbody>\n",
       "</table>\n",
       "</div>"
      ],
      "text/plain": [
       "       event_id   azimuth    zenith\n",
       "0  1.432235e+09  1.643871  1.595458\n",
       "1  1.432235e+09  0.777158  1.973433\n",
       "2  1.432235e+09  4.068247  0.610144\n",
       "3  1.432235e+09  3.589098  1.522334\n",
       "4  1.432235e+09  3.469211  2.925182"
      ]
     },
     "execution_count": 22,
     "metadata": {},
     "output_type": "execute_result"
    }
   ],
   "source": [
    "submission_high_sigma.head()"
   ]
  },
  {
   "cell_type": "code",
   "execution_count": 23,
   "id": "039304f2-0db9-4568-b61c-13e26d7ccbe6",
   "metadata": {},
   "outputs": [],
   "source": [
    "submission_high_sigma[\"event_id\"] = submission_high_sigma[\"event_id\"].astype(int)"
   ]
  },
  {
   "cell_type": "code",
   "execution_count": 25,
   "id": "1c315b28-fa69-4f9f-ad38-2687978c4b9b",
   "metadata": {},
   "outputs": [],
   "source": [
    "submission_high_sigma.columns = [\"event_id\", \"azimuth_preds\", \"zenith_preds\"]"
   ]
  },
  {
   "cell_type": "code",
   "execution_count": null,
   "id": "4ad9e0c2-1d19-4edf-bf78-e7c73f3d87fc",
   "metadata": {},
   "outputs": [],
   "source": []
  },
  {
   "cell_type": "code",
   "execution_count": 30,
   "id": "c87880b1-4839-4cc5-bbb6-d35d0668a7fe",
   "metadata": {},
   "outputs": [],
   "source": [
    "meta_high_sigma = pd.merge(\n",
    "    input.train_meta[input.train_meta[\"batch_id\"] == 441],\n",
    "    submission_high_sigma,\n",
    "    on=\"event_id\",\n",
    ")"
   ]
  },
  {
   "cell_type": "code",
   "execution_count": 31,
   "id": "e13a8ed5-7681-4e10-8bd0-8660713c51d3",
   "metadata": {},
   "outputs": [
    {
     "data": {
      "text/plain": [
       "(148544, 8)"
      ]
     },
     "execution_count": 31,
     "metadata": {},
     "output_type": "execute_result"
    }
   ],
   "source": [
    "meta_high_sigma.shape"
   ]
  },
  {
   "cell_type": "code",
   "execution_count": 32,
   "id": "92114ca0-a9b6-4fd4-b793-a730537efbe5",
   "metadata": {},
   "outputs": [
    {
     "data": {
      "text/html": [
       "<div>\n",
       "<style scoped>\n",
       "    .dataframe tbody tr th:only-of-type {\n",
       "        vertical-align: middle;\n",
       "    }\n",
       "\n",
       "    .dataframe tbody tr th {\n",
       "        vertical-align: top;\n",
       "    }\n",
       "\n",
       "    .dataframe thead th {\n",
       "        text-align: right;\n",
       "    }\n",
       "</style>\n",
       "<table border=\"1\" class=\"dataframe\">\n",
       "  <thead>\n",
       "    <tr style=\"text-align: right;\">\n",
       "      <th></th>\n",
       "      <th>batch_id</th>\n",
       "      <th>event_id</th>\n",
       "      <th>first_pulse_index</th>\n",
       "      <th>last_pulse_index</th>\n",
       "      <th>azimuth</th>\n",
       "      <th>zenith</th>\n",
       "      <th>azimuth_preds</th>\n",
       "      <th>zenith_preds</th>\n",
       "    </tr>\n",
       "  </thead>\n",
       "  <tbody>\n",
       "    <tr>\n",
       "      <th>0</th>\n",
       "      <td>441</td>\n",
       "      <td>1432234834</td>\n",
       "      <td>0</td>\n",
       "      <td>51</td>\n",
       "      <td>1.927610</td>\n",
       "      <td>2.137743</td>\n",
       "      <td>1.643871</td>\n",
       "      <td>1.595458</td>\n",
       "    </tr>\n",
       "    <tr>\n",
       "      <th>1</th>\n",
       "      <td>441</td>\n",
       "      <td>1432234838</td>\n",
       "      <td>52</td>\n",
       "      <td>109</td>\n",
       "      <td>0.605587</td>\n",
       "      <td>0.864771</td>\n",
       "      <td>0.777158</td>\n",
       "      <td>1.973433</td>\n",
       "    </tr>\n",
       "    <tr>\n",
       "      <th>2</th>\n",
       "      <td>441</td>\n",
       "      <td>1432234846</td>\n",
       "      <td>110</td>\n",
       "      <td>171</td>\n",
       "      <td>6.110872</td>\n",
       "      <td>1.286081</td>\n",
       "      <td>4.068247</td>\n",
       "      <td>0.610144</td>\n",
       "    </tr>\n",
       "    <tr>\n",
       "      <th>3</th>\n",
       "      <td>441</td>\n",
       "      <td>1432234917</td>\n",
       "      <td>346</td>\n",
       "      <td>411</td>\n",
       "      <td>2.362682</td>\n",
       "      <td>2.656823</td>\n",
       "      <td>3.589098</td>\n",
       "      <td>1.522334</td>\n",
       "    </tr>\n",
       "    <tr>\n",
       "      <th>4</th>\n",
       "      <td>441</td>\n",
       "      <td>1432234937</td>\n",
       "      <td>505</td>\n",
       "      <td>554</td>\n",
       "      <td>3.397901</td>\n",
       "      <td>2.148571</td>\n",
       "      <td>3.469211</td>\n",
       "      <td>2.925182</td>\n",
       "    </tr>\n",
       "  </tbody>\n",
       "</table>\n",
       "</div>"
      ],
      "text/plain": [
       "   batch_id    event_id  first_pulse_index  last_pulse_index   azimuth  \\\n",
       "0       441  1432234834                  0                51  1.927610   \n",
       "1       441  1432234838                 52               109  0.605587   \n",
       "2       441  1432234846                110               171  6.110872   \n",
       "3       441  1432234917                346               411  2.362682   \n",
       "4       441  1432234937                505               554  3.397901   \n",
       "\n",
       "     zenith  azimuth_preds  zenith_preds  \n",
       "0  2.137743       1.643871      1.595458  \n",
       "1  0.864771       0.777158      1.973433  \n",
       "2  1.286081       4.068247      0.610144  \n",
       "3  2.656823       3.589098      1.522334  \n",
       "4  2.148571       3.469211      2.925182  "
      ]
     },
     "execution_count": 32,
     "metadata": {},
     "output_type": "execute_result"
    }
   ],
   "source": [
    "meta_high_sigma.head()"
   ]
  },
  {
   "cell_type": "code",
   "execution_count": 39,
   "id": "83dc5ff7-85b6-40df-bfef-54bb585ac801",
   "metadata": {},
   "outputs": [],
   "source": [
    "event_ids_high_sigma = meta_high_sigma[\"event_id\"].to_numpy()"
   ]
  },
  {
   "cell_type": "code",
   "execution_count": 229,
   "id": "2463f31c-b52d-46ea-b1e7-792c45582ed4",
   "metadata": {},
   "outputs": [
    {
     "data": {
      "text/plain": [
       "array([1432234834, 1432234838, 1432234846, ..., 1435497101, 1435497111,\n",
       "       1435497125], dtype=object)"
      ]
     },
     "execution_count": 229,
     "metadata": {},
     "output_type": "execute_result"
    }
   ],
   "source": [
    "event_ids_high_sigma"
   ]
  },
  {
   "cell_type": "code",
   "execution_count": null,
   "id": "bf79a080-c764-4571-b38e-0fd7c4a7d343",
   "metadata": {},
   "outputs": [],
   "source": []
  },
  {
   "cell_type": "code",
   "execution_count": 131,
   "id": "a081877d-d7be-4e92-bf38-98f58c3db23c",
   "metadata": {},
   "outputs": [
    {
     "data": {
      "text/html": [
       "<div>\n",
       "<style scoped>\n",
       "    .dataframe tbody tr th:only-of-type {\n",
       "        vertical-align: middle;\n",
       "    }\n",
       "\n",
       "    .dataframe tbody tr th {\n",
       "        vertical-align: top;\n",
       "    }\n",
       "\n",
       "    .dataframe thead th {\n",
       "        text-align: right;\n",
       "    }\n",
       "</style>\n",
       "<table border=\"1\" class=\"dataframe\">\n",
       "  <thead>\n",
       "    <tr style=\"text-align: right;\">\n",
       "      <th></th>\n",
       "      <th>batch_id</th>\n",
       "      <th>event_id</th>\n",
       "      <th>first_pulse_index</th>\n",
       "      <th>last_pulse_index</th>\n",
       "      <th>azimuth</th>\n",
       "      <th>zenith</th>\n",
       "      <th>azimuth_preds</th>\n",
       "      <th>zenith_preds</th>\n",
       "    </tr>\n",
       "  </thead>\n",
       "  <tbody>\n",
       "    <tr>\n",
       "      <th>269</th>\n",
       "      <td>441</td>\n",
       "      <td>1432240503</td>\n",
       "      <td>61906</td>\n",
       "      <td>62023</td>\n",
       "      <td>2.127084</td>\n",
       "      <td>0.713541</td>\n",
       "      <td>4.142732</td>\n",
       "      <td>1.233107</td>\n",
       "    </tr>\n",
       "  </tbody>\n",
       "</table>\n",
       "</div>"
      ],
      "text/plain": [
       "     batch_id    event_id  first_pulse_index  last_pulse_index   azimuth  \\\n",
       "269       441  1432240503              61906             62023  2.127084   \n",
       "\n",
       "       zenith  azimuth_preds  zenith_preds  \n",
       "269  0.713541       4.142732      1.233107  "
      ]
     },
     "execution_count": 131,
     "metadata": {},
     "output_type": "execute_result"
    }
   ],
   "source": [
    "meta_high_sigma[meta_high_sigma[\"event_id\"] == 1432240503]"
   ]
  },
  {
   "cell_type": "code",
   "execution_count": 133,
   "id": "6a1f804f-70c7-400a-a92d-89fef9c72fca",
   "metadata": {},
   "outputs": [
    {
     "data": {
      "text/plain": [
       "1.5860584923139365"
      ]
     },
     "execution_count": 133,
     "metadata": {},
     "output_type": "execute_result"
    }
   ],
   "source": [
    "angular_dist_score(2.127084, 0.713541, 4.142732, 1.233107)"
   ]
  },
  {
   "cell_type": "code",
   "execution_count": null,
   "id": "f9eac14c-4d9c-4564-b356-08e24cf9934a",
   "metadata": {},
   "outputs": [],
   "source": []
  },
  {
   "cell_type": "markdown",
   "id": "1c949018-ae66-4080-bc55-fd6fec6e30ee",
   "metadata": {
    "tags": []
   },
   "source": [
    "## Read single batch"
   ]
  },
  {
   "cell_type": "code",
   "execution_count": 20,
   "id": "bdbe30f1-94f9-4916-9947-c2c59b76d5de",
   "metadata": {},
   "outputs": [],
   "source": [
    "batch_num = 661\n",
    "batch = pd.read_parquet(\n",
    "    os.path.join(c.data.dir.input_test, f\"batch_{batch_num}.parquet\")\n",
    ").reset_index()"
   ]
  },
  {
   "cell_type": "code",
   "execution_count": 21,
   "id": "51b31c18-1cf5-49e5-87b8-afb3f49b03ff",
   "metadata": {},
   "outputs": [
    {
     "data": {
      "text/plain": [
       "(378, 5)"
      ]
     },
     "execution_count": 21,
     "metadata": {},
     "output_type": "execute_result"
    }
   ],
   "source": [
    "batch.shape"
   ]
  },
  {
   "cell_type": "code",
   "execution_count": 22,
   "id": "11824758-55ed-4509-8ba3-8c8cc0699f7b",
   "metadata": {},
   "outputs": [
    {
     "data": {
      "text/html": [
       "<div>\n",
       "<style scoped>\n",
       "    .dataframe tbody tr th:only-of-type {\n",
       "        vertical-align: middle;\n",
       "    }\n",
       "\n",
       "    .dataframe tbody tr th {\n",
       "        vertical-align: top;\n",
       "    }\n",
       "\n",
       "    .dataframe thead th {\n",
       "        text-align: right;\n",
       "    }\n",
       "</style>\n",
       "<table border=\"1\" class=\"dataframe\">\n",
       "  <thead>\n",
       "    <tr style=\"text-align: right;\">\n",
       "      <th></th>\n",
       "      <th>event_id</th>\n",
       "      <th>sensor_id</th>\n",
       "      <th>time</th>\n",
       "      <th>charge</th>\n",
       "      <th>auxiliary</th>\n",
       "    </tr>\n",
       "  </thead>\n",
       "  <tbody>\n",
       "    <tr>\n",
       "      <th>0</th>\n",
       "      <td>2092</td>\n",
       "      <td>4066</td>\n",
       "      <td>6170</td>\n",
       "      <td>1.275</td>\n",
       "      <td>True</td>\n",
       "    </tr>\n",
       "    <tr>\n",
       "      <th>1</th>\n",
       "      <td>2092</td>\n",
       "      <td>3512</td>\n",
       "      <td>6374</td>\n",
       "      <td>0.975</td>\n",
       "      <td>True</td>\n",
       "    </tr>\n",
       "    <tr>\n",
       "      <th>2</th>\n",
       "      <td>2092</td>\n",
       "      <td>897</td>\n",
       "      <td>6378</td>\n",
       "      <td>1.475</td>\n",
       "      <td>True</td>\n",
       "    </tr>\n",
       "    <tr>\n",
       "      <th>3</th>\n",
       "      <td>2092</td>\n",
       "      <td>2060</td>\n",
       "      <td>6590</td>\n",
       "      <td>0.925</td>\n",
       "      <td>True</td>\n",
       "    </tr>\n",
       "    <tr>\n",
       "      <th>4</th>\n",
       "      <td>2092</td>\n",
       "      <td>3072</td>\n",
       "      <td>6625</td>\n",
       "      <td>1.075</td>\n",
       "      <td>True</td>\n",
       "    </tr>\n",
       "    <tr>\n",
       "      <th>...</th>\n",
       "      <td>...</td>\n",
       "      <td>...</td>\n",
       "      <td>...</td>\n",
       "      <td>...</td>\n",
       "      <td>...</td>\n",
       "    </tr>\n",
       "    <tr>\n",
       "      <th>294</th>\n",
       "      <td>2092</td>\n",
       "      <td>4998</td>\n",
       "      <td>22868</td>\n",
       "      <td>1.125</td>\n",
       "      <td>True</td>\n",
       "    </tr>\n",
       "    <tr>\n",
       "      <th>295</th>\n",
       "      <td>2092</td>\n",
       "      <td>2152</td>\n",
       "      <td>24147</td>\n",
       "      <td>0.925</td>\n",
       "      <td>True</td>\n",
       "    </tr>\n",
       "    <tr>\n",
       "      <th>296</th>\n",
       "      <td>2092</td>\n",
       "      <td>3229</td>\n",
       "      <td>24502</td>\n",
       "      <td>0.525</td>\n",
       "      <td>True</td>\n",
       "    </tr>\n",
       "    <tr>\n",
       "      <th>297</th>\n",
       "      <td>2092</td>\n",
       "      <td>5156</td>\n",
       "      <td>25399</td>\n",
       "      <td>0.875</td>\n",
       "      <td>True</td>\n",
       "    </tr>\n",
       "    <tr>\n",
       "      <th>298</th>\n",
       "      <td>2092</td>\n",
       "      <td>4066</td>\n",
       "      <td>25695</td>\n",
       "      <td>0.275</td>\n",
       "      <td>True</td>\n",
       "    </tr>\n",
       "  </tbody>\n",
       "</table>\n",
       "<p>299 rows × 5 columns</p>\n",
       "</div>"
      ],
      "text/plain": [
       "     event_id  sensor_id   time  charge  auxiliary\n",
       "0        2092       4066   6170   1.275       True\n",
       "1        2092       3512   6374   0.975       True\n",
       "2        2092        897   6378   1.475       True\n",
       "3        2092       2060   6590   0.925       True\n",
       "4        2092       3072   6625   1.075       True\n",
       "..        ...        ...    ...     ...        ...\n",
       "294      2092       4998  22868   1.125       True\n",
       "295      2092       2152  24147   0.925       True\n",
       "296      2092       3229  24502   0.525       True\n",
       "297      2092       5156  25399   0.875       True\n",
       "298      2092       4066  25695   0.275       True\n",
       "\n",
       "[299 rows x 5 columns]"
      ]
     },
     "execution_count": 22,
     "metadata": {},
     "output_type": "execute_result"
    }
   ],
   "source": [
    "batch.loc[0:298, :]"
   ]
  },
  {
   "cell_type": "code",
   "execution_count": 23,
   "id": "a48ec99d-8256-4715-ae8d-b7dc5cc1f320",
   "metadata": {},
   "outputs": [
    {
     "data": {
      "text/plain": [
       "count    378.000000\n",
       "mean       0.989947\n",
       "std        0.465175\n",
       "min        0.125000\n",
       "10%        0.475000\n",
       "50%        0.975000\n",
       "90%        1.475000\n",
       "max        4.775000\n",
       "Name: charge, dtype: float64"
      ]
     },
     "execution_count": 23,
     "metadata": {},
     "output_type": "execute_result"
    }
   ],
   "source": [
    "batch[\"charge\"].describe(percentiles=[0.1, 0.9])"
   ]
  },
  {
   "cell_type": "code",
   "execution_count": null,
   "id": "7392b630-42eb-498d-a263-475351d0a6f1",
   "metadata": {},
   "outputs": [],
   "source": []
  },
  {
   "cell_type": "code",
   "execution_count": 33,
   "id": "0f5a6433-15d3-4b7c-8997-7c23665e3cf0",
   "metadata": {},
   "outputs": [],
   "source": [
    "batch_num = 441\n",
    "batch = pd.read_parquet(\n",
    "    os.path.join(c.data.dir.input_train, f\"batch_{batch_num}.parquet\")\n",
    ").reset_index()"
   ]
  },
  {
   "cell_type": "code",
   "execution_count": 13,
   "id": "4989dfe4-61c9-44e0-bd7a-2069507e80c7",
   "metadata": {},
   "outputs": [
    {
     "data": {
      "text/plain": [
       "(32996025, 5)"
      ]
     },
     "execution_count": 13,
     "metadata": {},
     "output_type": "execute_result"
    }
   ],
   "source": [
    "batch.shape"
   ]
  },
  {
   "cell_type": "code",
   "execution_count": 14,
   "id": "d444760e-d693-46fd-8709-e66b049d7333",
   "metadata": {},
   "outputs": [
    {
     "data": {
      "text/html": [
       "<div>\n",
       "<style scoped>\n",
       "    .dataframe tbody tr th:only-of-type {\n",
       "        vertical-align: middle;\n",
       "    }\n",
       "\n",
       "    .dataframe tbody tr th {\n",
       "        vertical-align: top;\n",
       "    }\n",
       "\n",
       "    .dataframe thead th {\n",
       "        text-align: right;\n",
       "    }\n",
       "</style>\n",
       "<table border=\"1\" class=\"dataframe\">\n",
       "  <thead>\n",
       "    <tr style=\"text-align: right;\">\n",
       "      <th></th>\n",
       "      <th>event_id</th>\n",
       "      <th>sensor_id</th>\n",
       "      <th>time</th>\n",
       "      <th>charge</th>\n",
       "      <th>auxiliary</th>\n",
       "    </tr>\n",
       "  </thead>\n",
       "  <tbody>\n",
       "    <tr>\n",
       "      <th>0</th>\n",
       "      <td>1432234834</td>\n",
       "      <td>1420</td>\n",
       "      <td>5893</td>\n",
       "      <td>1.575</td>\n",
       "      <td>True</td>\n",
       "    </tr>\n",
       "    <tr>\n",
       "      <th>1</th>\n",
       "      <td>1432234834</td>\n",
       "      <td>5143</td>\n",
       "      <td>6010</td>\n",
       "      <td>1.075</td>\n",
       "      <td>True</td>\n",
       "    </tr>\n",
       "    <tr>\n",
       "      <th>2</th>\n",
       "      <td>1432234834</td>\n",
       "      <td>842</td>\n",
       "      <td>6332</td>\n",
       "      <td>0.975</td>\n",
       "      <td>True</td>\n",
       "    </tr>\n",
       "    <tr>\n",
       "      <th>3</th>\n",
       "      <td>1432234834</td>\n",
       "      <td>541</td>\n",
       "      <td>6732</td>\n",
       "      <td>0.825</td>\n",
       "      <td>True</td>\n",
       "    </tr>\n",
       "    <tr>\n",
       "      <th>4</th>\n",
       "      <td>1432234834</td>\n",
       "      <td>685</td>\n",
       "      <td>6855</td>\n",
       "      <td>1.175</td>\n",
       "      <td>True</td>\n",
       "    </tr>\n",
       "    <tr>\n",
       "      <th>...</th>\n",
       "      <td>...</td>\n",
       "      <td>...</td>\n",
       "      <td>...</td>\n",
       "      <td>...</td>\n",
       "      <td>...</td>\n",
       "    </tr>\n",
       "    <tr>\n",
       "      <th>32996020</th>\n",
       "      <td>1435497129</td>\n",
       "      <td>2574</td>\n",
       "      <td>15041</td>\n",
       "      <td>0.975</td>\n",
       "      <td>True</td>\n",
       "    </tr>\n",
       "    <tr>\n",
       "      <th>32996021</th>\n",
       "      <td>1435497129</td>\n",
       "      <td>1041</td>\n",
       "      <td>15338</td>\n",
       "      <td>1.075</td>\n",
       "      <td>True</td>\n",
       "    </tr>\n",
       "    <tr>\n",
       "      <th>32996022</th>\n",
       "      <td>1435497129</td>\n",
       "      <td>620</td>\n",
       "      <td>15575</td>\n",
       "      <td>0.575</td>\n",
       "      <td>True</td>\n",
       "    </tr>\n",
       "    <tr>\n",
       "      <th>32996023</th>\n",
       "      <td>1435497129</td>\n",
       "      <td>620</td>\n",
       "      <td>15587</td>\n",
       "      <td>1.075</td>\n",
       "      <td>True</td>\n",
       "    </tr>\n",
       "    <tr>\n",
       "      <th>32996024</th>\n",
       "      <td>1435497129</td>\n",
       "      <td>5005</td>\n",
       "      <td>15815</td>\n",
       "      <td>0.875</td>\n",
       "      <td>True</td>\n",
       "    </tr>\n",
       "  </tbody>\n",
       "</table>\n",
       "<p>32996025 rows × 5 columns</p>\n",
       "</div>"
      ],
      "text/plain": [
       "            event_id  sensor_id   time  charge  auxiliary\n",
       "0         1432234834       1420   5893   1.575       True\n",
       "1         1432234834       5143   6010   1.075       True\n",
       "2         1432234834        842   6332   0.975       True\n",
       "3         1432234834        541   6732   0.825       True\n",
       "4         1432234834        685   6855   1.175       True\n",
       "...              ...        ...    ...     ...        ...\n",
       "32996020  1435497129       2574  15041   0.975       True\n",
       "32996021  1435497129       1041  15338   1.075       True\n",
       "32996022  1435497129        620  15575   0.575       True\n",
       "32996023  1435497129        620  15587   1.075       True\n",
       "32996024  1435497129       5005  15815   0.875       True\n",
       "\n",
       "[32996025 rows x 5 columns]"
      ]
     },
     "execution_count": 14,
     "metadata": {},
     "output_type": "execute_result"
    }
   ],
   "source": [
    "batch"
   ]
  },
  {
   "cell_type": "code",
   "execution_count": 15,
   "id": "40edfbb7-47e8-447d-829b-699240261b55",
   "metadata": {},
   "outputs": [
    {
     "data": {
      "text/plain": [
       "(200000,)"
      ]
     },
     "execution_count": 15,
     "metadata": {},
     "output_type": "execute_result"
    }
   ],
   "source": [
    "batch[\"event_id\"].unique().shape"
   ]
  },
  {
   "cell_type": "code",
   "execution_count": 16,
   "id": "33e4c47c-4383-4de0-afff-03e77003e5aa",
   "metadata": {},
   "outputs": [
    {
     "data": {
      "text/plain": [
       "2902.925048828125"
      ]
     },
     "execution_count": 16,
     "metadata": {},
     "output_type": "execute_result"
    }
   ],
   "source": [
    "max(batch[\"charge\"])"
   ]
  },
  {
   "cell_type": "code",
   "execution_count": 17,
   "id": "ab148f11-44dc-47af-bdd3-6f10b0bb3e71",
   "metadata": {},
   "outputs": [
    {
     "data": {
      "text/plain": [
       "count    3.299602e+07\n",
       "mean     3.998304e+00\n",
       "std      1.608011e+01\n",
       "min      2.500000e-02\n",
       "5%       3.750000e-01\n",
       "50%      1.075000e+00\n",
       "90%      5.675000e+00\n",
       "max      2.902925e+03\n",
       "Name: charge, dtype: float64"
      ]
     },
     "execution_count": 17,
     "metadata": {},
     "output_type": "execute_result"
    }
   ],
   "source": [
    "batch[\"charge\"].describe(percentiles=[0.05, 0.9])"
   ]
  },
  {
   "cell_type": "code",
   "execution_count": null,
   "id": "edc83114-c667-4d73-b2d0-0d60b37bed0c",
   "metadata": {},
   "outputs": [],
   "source": []
  },
  {
   "cell_type": "code",
   "execution_count": 34,
   "id": "916b5a5c-ab10-4a78-8389-f9e8fcd9348e",
   "metadata": {},
   "outputs": [],
   "source": [
    "batch = pd.merge(batch, input.sensor_geometry, on=\"sensor_id\")"
   ]
  },
  {
   "cell_type": "code",
   "execution_count": 19,
   "id": "cf7c50e0-54f6-4dfe-aeee-65b92a874335",
   "metadata": {},
   "outputs": [
    {
     "data": {
      "text/html": [
       "<div>\n",
       "<style scoped>\n",
       "    .dataframe tbody tr th:only-of-type {\n",
       "        vertical-align: middle;\n",
       "    }\n",
       "\n",
       "    .dataframe tbody tr th {\n",
       "        vertical-align: top;\n",
       "    }\n",
       "\n",
       "    .dataframe thead th {\n",
       "        text-align: right;\n",
       "    }\n",
       "</style>\n",
       "<table border=\"1\" class=\"dataframe\">\n",
       "  <thead>\n",
       "    <tr style=\"text-align: right;\">\n",
       "      <th></th>\n",
       "      <th>event_id</th>\n",
       "      <th>sensor_id</th>\n",
       "      <th>time</th>\n",
       "      <th>charge</th>\n",
       "      <th>auxiliary</th>\n",
       "      <th>x</th>\n",
       "      <th>y</th>\n",
       "      <th>z</th>\n",
       "    </tr>\n",
       "  </thead>\n",
       "  <tbody>\n",
       "    <tr>\n",
       "      <th>0</th>\n",
       "      <td>1432234834</td>\n",
       "      <td>1420</td>\n",
       "      <td>5893</td>\n",
       "      <td>1.575</td>\n",
       "      <td>True</td>\n",
       "      <td>-245.65</td>\n",
       "      <td>-190.49</td>\n",
       "      <td>-178.97</td>\n",
       "    </tr>\n",
       "    <tr>\n",
       "      <th>1</th>\n",
       "      <td>1432235925</td>\n",
       "      <td>1420</td>\n",
       "      <td>10697</td>\n",
       "      <td>0.975</td>\n",
       "      <td>False</td>\n",
       "      <td>-245.65</td>\n",
       "      <td>-190.49</td>\n",
       "      <td>-178.97</td>\n",
       "    </tr>\n",
       "    <tr>\n",
       "      <th>2</th>\n",
       "      <td>1432235925</td>\n",
       "      <td>1420</td>\n",
       "      <td>10714</td>\n",
       "      <td>0.325</td>\n",
       "      <td>False</td>\n",
       "      <td>-245.65</td>\n",
       "      <td>-190.49</td>\n",
       "      <td>-178.97</td>\n",
       "    </tr>\n",
       "    <tr>\n",
       "      <th>3</th>\n",
       "      <td>1432240503</td>\n",
       "      <td>1420</td>\n",
       "      <td>10995</td>\n",
       "      <td>0.525</td>\n",
       "      <td>False</td>\n",
       "      <td>-245.65</td>\n",
       "      <td>-190.49</td>\n",
       "      <td>-178.97</td>\n",
       "    </tr>\n",
       "    <tr>\n",
       "      <th>4</th>\n",
       "      <td>1432240503</td>\n",
       "      <td>1420</td>\n",
       "      <td>11980</td>\n",
       "      <td>0.925</td>\n",
       "      <td>False</td>\n",
       "      <td>-245.65</td>\n",
       "      <td>-190.49</td>\n",
       "      <td>-178.97</td>\n",
       "    </tr>\n",
       "    <tr>\n",
       "      <th>...</th>\n",
       "      <td>...</td>\n",
       "      <td>...</td>\n",
       "      <td>...</td>\n",
       "      <td>...</td>\n",
       "      <td>...</td>\n",
       "      <td>...</td>\n",
       "      <td>...</td>\n",
       "      <td>...</td>\n",
       "    </tr>\n",
       "    <tr>\n",
       "      <th>32996020</th>\n",
       "      <td>1435489061</td>\n",
       "      <td>1957</td>\n",
       "      <td>12546</td>\n",
       "      <td>0.675</td>\n",
       "      <td>False</td>\n",
       "      <td>-324.39</td>\n",
       "      <td>-93.43</td>\n",
       "      <td>-129.63</td>\n",
       "    </tr>\n",
       "    <tr>\n",
       "      <th>32996021</th>\n",
       "      <td>1435490661</td>\n",
       "      <td>1957</td>\n",
       "      <td>8859</td>\n",
       "      <td>0.775</td>\n",
       "      <td>True</td>\n",
       "      <td>-324.39</td>\n",
       "      <td>-93.43</td>\n",
       "      <td>-129.63</td>\n",
       "    </tr>\n",
       "    <tr>\n",
       "      <th>32996022</th>\n",
       "      <td>1435491737</td>\n",
       "      <td>1957</td>\n",
       "      <td>10671</td>\n",
       "      <td>1.375</td>\n",
       "      <td>False</td>\n",
       "      <td>-324.39</td>\n",
       "      <td>-93.43</td>\n",
       "      <td>-129.63</td>\n",
       "    </tr>\n",
       "    <tr>\n",
       "      <th>32996023</th>\n",
       "      <td>1435491737</td>\n",
       "      <td>1957</td>\n",
       "      <td>10712</td>\n",
       "      <td>1.125</td>\n",
       "      <td>False</td>\n",
       "      <td>-324.39</td>\n",
       "      <td>-93.43</td>\n",
       "      <td>-129.63</td>\n",
       "    </tr>\n",
       "    <tr>\n",
       "      <th>32996024</th>\n",
       "      <td>1435494037</td>\n",
       "      <td>1957</td>\n",
       "      <td>7533</td>\n",
       "      <td>1.125</td>\n",
       "      <td>True</td>\n",
       "      <td>-324.39</td>\n",
       "      <td>-93.43</td>\n",
       "      <td>-129.63</td>\n",
       "    </tr>\n",
       "  </tbody>\n",
       "</table>\n",
       "<p>32996025 rows × 8 columns</p>\n",
       "</div>"
      ],
      "text/plain": [
       "            event_id  sensor_id   time  charge  auxiliary       x       y  \\\n",
       "0         1432234834       1420   5893   1.575       True -245.65 -190.49   \n",
       "1         1432235925       1420  10697   0.975      False -245.65 -190.49   \n",
       "2         1432235925       1420  10714   0.325      False -245.65 -190.49   \n",
       "3         1432240503       1420  10995   0.525      False -245.65 -190.49   \n",
       "4         1432240503       1420  11980   0.925      False -245.65 -190.49   \n",
       "...              ...        ...    ...     ...        ...     ...     ...   \n",
       "32996020  1435489061       1957  12546   0.675      False -324.39  -93.43   \n",
       "32996021  1435490661       1957   8859   0.775       True -324.39  -93.43   \n",
       "32996022  1435491737       1957  10671   1.375      False -324.39  -93.43   \n",
       "32996023  1435491737       1957  10712   1.125      False -324.39  -93.43   \n",
       "32996024  1435494037       1957   7533   1.125       True -324.39  -93.43   \n",
       "\n",
       "               z  \n",
       "0        -178.97  \n",
       "1        -178.97  \n",
       "2        -178.97  \n",
       "3        -178.97  \n",
       "4        -178.97  \n",
       "...          ...  \n",
       "32996020 -129.63  \n",
       "32996021 -129.63  \n",
       "32996022 -129.63  \n",
       "32996023 -129.63  \n",
       "32996024 -129.63  \n",
       "\n",
       "[32996025 rows x 8 columns]"
      ]
     },
     "execution_count": 19,
     "metadata": {},
     "output_type": "execute_result"
    }
   ],
   "source": [
    "batch"
   ]
  },
  {
   "cell_type": "code",
   "execution_count": null,
   "id": "77cdfa20-fa45-4ef1-a73c-df6acb25c395",
   "metadata": {},
   "outputs": [],
   "source": []
  },
  {
   "cell_type": "code",
   "execution_count": 41,
   "id": "fe6ac317-c176-4a0e-bc2f-c24f932a52fb",
   "metadata": {},
   "outputs": [],
   "source": [
    "batch_high_sigma = batch[batch[\"event_id\"].isin(event_ids_high_sigma)]"
   ]
  },
  {
   "cell_type": "code",
   "execution_count": 42,
   "id": "567112e0-8ef8-4de4-a9c4-704081ec264b",
   "metadata": {},
   "outputs": [
    {
     "data": {
      "text/plain": [
       "(11677588, 5)"
      ]
     },
     "execution_count": 42,
     "metadata": {},
     "output_type": "execute_result"
    }
   ],
   "source": [
    "batch_high_sigma.shape"
   ]
  },
  {
   "cell_type": "code",
   "execution_count": 43,
   "id": "be39d4ae-6d92-43b4-9993-16a806daa04e",
   "metadata": {},
   "outputs": [],
   "source": [
    "batch_high_sigma = pd.merge(batch_high_sigma, input.sensor_geometry, on=\"sensor_id\")"
   ]
  },
  {
   "cell_type": "code",
   "execution_count": 44,
   "id": "1278cdc7-2d3c-4ddd-b099-64f5ebbfbbb7",
   "metadata": {},
   "outputs": [
    {
     "data": {
      "text/html": [
       "<div>\n",
       "<style scoped>\n",
       "    .dataframe tbody tr th:only-of-type {\n",
       "        vertical-align: middle;\n",
       "    }\n",
       "\n",
       "    .dataframe tbody tr th {\n",
       "        vertical-align: top;\n",
       "    }\n",
       "\n",
       "    .dataframe thead th {\n",
       "        text-align: right;\n",
       "    }\n",
       "</style>\n",
       "<table border=\"1\" class=\"dataframe\">\n",
       "  <thead>\n",
       "    <tr style=\"text-align: right;\">\n",
       "      <th></th>\n",
       "      <th>event_id</th>\n",
       "      <th>sensor_id</th>\n",
       "      <th>time</th>\n",
       "      <th>charge</th>\n",
       "      <th>auxiliary</th>\n",
       "      <th>x</th>\n",
       "      <th>y</th>\n",
       "      <th>z</th>\n",
       "    </tr>\n",
       "  </thead>\n",
       "  <tbody>\n",
       "    <tr>\n",
       "      <th>0</th>\n",
       "      <td>1432234834</td>\n",
       "      <td>1420</td>\n",
       "      <td>5893</td>\n",
       "      <td>1.575</td>\n",
       "      <td>True</td>\n",
       "      <td>-245.65</td>\n",
       "      <td>-190.49</td>\n",
       "      <td>-178.97</td>\n",
       "    </tr>\n",
       "    <tr>\n",
       "      <th>1</th>\n",
       "      <td>1432240503</td>\n",
       "      <td>1420</td>\n",
       "      <td>10995</td>\n",
       "      <td>0.525</td>\n",
       "      <td>False</td>\n",
       "      <td>-245.65</td>\n",
       "      <td>-190.49</td>\n",
       "      <td>-178.97</td>\n",
       "    </tr>\n",
       "    <tr>\n",
       "      <th>2</th>\n",
       "      <td>1432240503</td>\n",
       "      <td>1420</td>\n",
       "      <td>11980</td>\n",
       "      <td>0.925</td>\n",
       "      <td>False</td>\n",
       "      <td>-245.65</td>\n",
       "      <td>-190.49</td>\n",
       "      <td>-178.97</td>\n",
       "    </tr>\n",
       "    <tr>\n",
       "      <th>3</th>\n",
       "      <td>1432244447</td>\n",
       "      <td>1420</td>\n",
       "      <td>11636</td>\n",
       "      <td>1.625</td>\n",
       "      <td>False</td>\n",
       "      <td>-245.65</td>\n",
       "      <td>-190.49</td>\n",
       "      <td>-178.97</td>\n",
       "    </tr>\n",
       "    <tr>\n",
       "      <th>4</th>\n",
       "      <td>1432246299</td>\n",
       "      <td>1420</td>\n",
       "      <td>21451</td>\n",
       "      <td>1.175</td>\n",
       "      <td>True</td>\n",
       "      <td>-245.65</td>\n",
       "      <td>-190.49</td>\n",
       "      <td>-178.97</td>\n",
       "    </tr>\n",
       "  </tbody>\n",
       "</table>\n",
       "</div>"
      ],
      "text/plain": [
       "     event_id  sensor_id   time  charge  auxiliary       x       y       z\n",
       "0  1432234834       1420   5893   1.575       True -245.65 -190.49 -178.97\n",
       "1  1432240503       1420  10995   0.525      False -245.65 -190.49 -178.97\n",
       "2  1432240503       1420  11980   0.925      False -245.65 -190.49 -178.97\n",
       "3  1432244447       1420  11636   1.625      False -245.65 -190.49 -178.97\n",
       "4  1432246299       1420  21451   1.175       True -245.65 -190.49 -178.97"
      ]
     },
     "execution_count": 44,
     "metadata": {},
     "output_type": "execute_result"
    }
   ],
   "source": [
    "batch_high_sigma.head()"
   ]
  },
  {
   "cell_type": "code",
   "execution_count": null,
   "id": "d072c83c-abe0-4471-bd5f-b372aa2d4a69",
   "metadata": {},
   "outputs": [],
   "source": []
  },
  {
   "cell_type": "markdown",
   "id": "160c8a1d-1b62-4d04-812e-b7b676f49c4d",
   "metadata": {
    "tags": []
   },
   "source": [
    "## Single Event"
   ]
  },
  {
   "cell_type": "code",
   "execution_count": 150,
   "id": "4ddcf247-718b-4d35-83d1-b5cd4005c1b0",
   "metadata": {},
   "outputs": [],
   "source": [
    "event_id = 1432234834"
   ]
  },
  {
   "cell_type": "code",
   "execution_count": 151,
   "id": "4d7518ea-5516-45ad-8ca5-fa89e94babdf",
   "metadata": {},
   "outputs": [
    {
     "data": {
      "text/plain": [
       "(array([1.92761014]), array([2.13774254]))"
      ]
     },
     "execution_count": 151,
     "metadata": {},
     "output_type": "execute_result"
    }
   ],
   "source": [
    "azimuth_event = input.train_meta[input.train_meta[\"event_id\"] == event_id][\n",
    "    \"azimuth\"\n",
    "].to_numpy()\n",
    "zenith_event = input.train_meta[input.train_meta[\"event_id\"] == event_id][\n",
    "    \"zenith\"\n",
    "].to_numpy()\n",
    "azimuth_event, zenith_event"
   ]
  },
  {
   "cell_type": "code",
   "execution_count": 152,
   "id": "2d88743c-1311-4f6b-ad31-9ebdbbe2be30",
   "metadata": {},
   "outputs": [],
   "source": [
    "line_x = math.cos(azimuth_event) * math.sin(zenith_event)\n",
    "line_x_details = (-line_x * 500, line_x * 500)\n",
    "line_y = math.sin(azimuth_event) * math.sin(zenith_event)\n",
    "line_y_details = (-line_y * 500, line_y * 500)\n",
    "line_z = math.cos(zenith_event)\n",
    "line_z_details = (-line_z * 500, line_z * 500)\n",
    "line_color, line_style, line_width = \"r\", \"-\", 2"
   ]
  },
  {
   "cell_type": "code",
   "execution_count": 153,
   "id": "0b841b2d-856d-492d-be10-1f5b40dfce44",
   "metadata": {},
   "outputs": [
    {
     "data": {
      "text/plain": [
       "(52, 8)"
      ]
     },
     "execution_count": 153,
     "metadata": {},
     "output_type": "execute_result"
    }
   ],
   "source": [
    "batch_event = batch[(batch[\"event_id\"] == event_id)]\n",
    "# batch_event = batch[(batch[\"event_id\"] == event_id) & (batch[\"auxiliary\"] == False)]\n",
    "# batch_event = batch[(batch[\"event_id\"] == event_id) & (batch[\"charge\"] < 1)]\n",
    "batch_event.shape"
   ]
  },
  {
   "cell_type": "code",
   "execution_count": 154,
   "id": "f9be416f-042e-401a-9ce9-9ac6de093b03",
   "metadata": {},
   "outputs": [
    {
     "data": {
      "text/html": [
       "<div>\n",
       "<style scoped>\n",
       "    .dataframe tbody tr th:only-of-type {\n",
       "        vertical-align: middle;\n",
       "    }\n",
       "\n",
       "    .dataframe tbody tr th {\n",
       "        vertical-align: top;\n",
       "    }\n",
       "\n",
       "    .dataframe thead th {\n",
       "        text-align: right;\n",
       "    }\n",
       "</style>\n",
       "<table border=\"1\" class=\"dataframe\">\n",
       "  <thead>\n",
       "    <tr style=\"text-align: right;\">\n",
       "      <th></th>\n",
       "      <th>event_id</th>\n",
       "      <th>sensor_id</th>\n",
       "      <th>time</th>\n",
       "      <th>charge</th>\n",
       "      <th>x</th>\n",
       "      <th>y</th>\n",
       "      <th>z</th>\n",
       "    </tr>\n",
       "  </thead>\n",
       "  <tbody>\n",
       "    <tr>\n",
       "      <th>count</th>\n",
       "      <td>5.200000e+01</td>\n",
       "      <td>52.000000</td>\n",
       "      <td>52.000000</td>\n",
       "      <td>52.000000</td>\n",
       "      <td>52.000000</td>\n",
       "      <td>52.000000</td>\n",
       "      <td>52.000000</td>\n",
       "    </tr>\n",
       "    <tr>\n",
       "      <th>mean</th>\n",
       "      <td>1.432235e+09</td>\n",
       "      <td>2315.000000</td>\n",
       "      <td>10947.288462</td>\n",
       "      <td>0.855769</td>\n",
       "      <td>73.650962</td>\n",
       "      <td>-56.547692</td>\n",
       "      <td>102.108077</td>\n",
       "    </tr>\n",
       "    <tr>\n",
       "      <th>std</th>\n",
       "      <td>0.000000e+00</td>\n",
       "      <td>1534.512926</td>\n",
       "      <td>2683.135474</td>\n",
       "      <td>0.302304</td>\n",
       "      <td>339.956728</td>\n",
       "      <td>265.997519</td>\n",
       "      <td>271.288934</td>\n",
       "    </tr>\n",
       "    <tr>\n",
       "      <th>min</th>\n",
       "      <td>1.432235e+09</td>\n",
       "      <td>3.000000</td>\n",
       "      <td>5893.000000</td>\n",
       "      <td>0.325000</td>\n",
       "      <td>-570.900000</td>\n",
       "      <td>-521.080000</td>\n",
       "      <td>-476.480000</td>\n",
       "    </tr>\n",
       "    <tr>\n",
       "      <th>25%</th>\n",
       "      <td>1.432235e+09</td>\n",
       "      <td>848.000000</td>\n",
       "      <td>9398.250000</td>\n",
       "      <td>0.612500</td>\n",
       "      <td>-259.330000</td>\n",
       "      <td>-307.380000</td>\n",
       "      <td>12.525000</td>\n",
       "    </tr>\n",
       "    <tr>\n",
       "      <th>50%</th>\n",
       "      <td>1.432235e+09</td>\n",
       "      <td>2358.000000</td>\n",
       "      <td>10626.500000</td>\n",
       "      <td>0.875000</td>\n",
       "      <td>40.915000</td>\n",
       "      <td>-66.700000</td>\n",
       "      <td>144.985000</td>\n",
       "    </tr>\n",
       "    <tr>\n",
       "      <th>75%</th>\n",
       "      <td>1.432235e+09</td>\n",
       "      <td>3201.000000</td>\n",
       "      <td>13037.750000</td>\n",
       "      <td>1.037500</td>\n",
       "      <td>388.220000</td>\n",
       "      <td>148.060000</td>\n",
       "      <td>300.625000</td>\n",
       "    </tr>\n",
       "    <tr>\n",
       "      <th>max</th>\n",
       "      <td>1.432235e+09</td>\n",
       "      <td>5143.000000</td>\n",
       "      <td>15568.000000</td>\n",
       "      <td>1.575000</td>\n",
       "      <td>576.370000</td>\n",
       "      <td>490.220000</td>\n",
       "      <td>497.250000</td>\n",
       "    </tr>\n",
       "  </tbody>\n",
       "</table>\n",
       "</div>"
      ],
      "text/plain": [
       "           event_id    sensor_id          time     charge           x  \\\n",
       "count  5.200000e+01    52.000000     52.000000  52.000000   52.000000   \n",
       "mean   1.432235e+09  2315.000000  10947.288462   0.855769   73.650962   \n",
       "std    0.000000e+00  1534.512926   2683.135474   0.302304  339.956728   \n",
       "min    1.432235e+09     3.000000   5893.000000   0.325000 -570.900000   \n",
       "25%    1.432235e+09   848.000000   9398.250000   0.612500 -259.330000   \n",
       "50%    1.432235e+09  2358.000000  10626.500000   0.875000   40.915000   \n",
       "75%    1.432235e+09  3201.000000  13037.750000   1.037500  388.220000   \n",
       "max    1.432235e+09  5143.000000  15568.000000   1.575000  576.370000   \n",
       "\n",
       "                y           z  \n",
       "count   52.000000   52.000000  \n",
       "mean   -56.547692  102.108077  \n",
       "std    265.997519  271.288934  \n",
       "min   -521.080000 -476.480000  \n",
       "25%   -307.380000   12.525000  \n",
       "50%    -66.700000  144.985000  \n",
       "75%    148.060000  300.625000  \n",
       "max    490.220000  497.250000  "
      ]
     },
     "execution_count": 154,
     "metadata": {},
     "output_type": "execute_result"
    }
   ],
   "source": [
    "batch_event.describe()"
   ]
  },
  {
   "cell_type": "code",
   "execution_count": 155,
   "id": "349d1c92-a421-4420-97ac-f9d8078943be",
   "metadata": {},
   "outputs": [
    {
     "data": {
      "text/html": [
       "<div>\n",
       "<style scoped>\n",
       "    .dataframe tbody tr th:only-of-type {\n",
       "        vertical-align: middle;\n",
       "    }\n",
       "\n",
       "    .dataframe tbody tr th {\n",
       "        vertical-align: top;\n",
       "    }\n",
       "\n",
       "    .dataframe thead th {\n",
       "        text-align: right;\n",
       "    }\n",
       "</style>\n",
       "<table border=\"1\" class=\"dataframe\">\n",
       "  <thead>\n",
       "    <tr style=\"text-align: right;\">\n",
       "      <th></th>\n",
       "      <th>event_id</th>\n",
       "      <th>sensor_id</th>\n",
       "      <th>time</th>\n",
       "      <th>charge</th>\n",
       "      <th>auxiliary</th>\n",
       "      <th>x</th>\n",
       "      <th>y</th>\n",
       "      <th>z</th>\n",
       "    </tr>\n",
       "  </thead>\n",
       "  <tbody>\n",
       "    <tr>\n",
       "      <th>0</th>\n",
       "      <td>1432234834</td>\n",
       "      <td>1420</td>\n",
       "      <td>5893</td>\n",
       "      <td>1.575</td>\n",
       "      <td>True</td>\n",
       "      <td>-245.65</td>\n",
       "      <td>-190.49</td>\n",
       "      <td>-178.97</td>\n",
       "    </tr>\n",
       "    <tr>\n",
       "      <th>6198</th>\n",
       "      <td>1432234834</td>\n",
       "      <td>5143</td>\n",
       "      <td>6010</td>\n",
       "      <td>1.075</td>\n",
       "      <td>True</td>\n",
       "      <td>-10.97</td>\n",
       "      <td>6.72</td>\n",
       "      <td>-388.28</td>\n",
       "    </tr>\n",
       "    <tr>\n",
       "      <th>17100</th>\n",
       "      <td>1432234834</td>\n",
       "      <td>842</td>\n",
       "      <td>6332</td>\n",
       "      <td>0.975</td>\n",
       "      <td>True</td>\n",
       "      <td>-290.66</td>\n",
       "      <td>-307.38</td>\n",
       "      <td>469.98</td>\n",
       "    </tr>\n",
       "    <tr>\n",
       "      <th>21955</th>\n",
       "      <td>1432234834</td>\n",
       "      <td>541</td>\n",
       "      <td>6732</td>\n",
       "      <td>0.825</td>\n",
       "      <td>True</td>\n",
       "      <td>35.54</td>\n",
       "      <td>-364.83</td>\n",
       "      <td>480.69</td>\n",
       "    </tr>\n",
       "    <tr>\n",
       "      <th>21956</th>\n",
       "      <td>1432234834</td>\n",
       "      <td>541</td>\n",
       "      <td>11070</td>\n",
       "      <td>0.375</td>\n",
       "      <td>True</td>\n",
       "      <td>35.54</td>\n",
       "      <td>-364.83</td>\n",
       "      <td>480.69</td>\n",
       "    </tr>\n",
       "  </tbody>\n",
       "</table>\n",
       "</div>"
      ],
      "text/plain": [
       "         event_id  sensor_id   time  charge  auxiliary       x       y       z\n",
       "0      1432234834       1420   5893   1.575       True -245.65 -190.49 -178.97\n",
       "6198   1432234834       5143   6010   1.075       True  -10.97    6.72 -388.28\n",
       "17100  1432234834        842   6332   0.975       True -290.66 -307.38  469.98\n",
       "21955  1432234834        541   6732   0.825       True   35.54 -364.83  480.69\n",
       "21956  1432234834        541  11070   0.375       True   35.54 -364.83  480.69"
      ]
     },
     "execution_count": 155,
     "metadata": {},
     "output_type": "execute_result"
    }
   ],
   "source": [
    "batch_event.head()"
   ]
  },
  {
   "cell_type": "code",
   "execution_count": 156,
   "id": "162a43e0-5866-40c9-bcab-2d5fff7379d3",
   "metadata": {},
   "outputs": [
    {
     "data": {
      "text/plain": [
       "True     45\n",
       "False     7\n",
       "Name: auxiliary, dtype: int64"
      ]
     },
     "execution_count": 156,
     "metadata": {},
     "output_type": "execute_result"
    }
   ],
   "source": [
    "batch_event[\"auxiliary\"].value_counts()"
   ]
  },
  {
   "cell_type": "code",
   "execution_count": 157,
   "id": "14cf3ab9-eca1-4a8f-9423-5891f13ab069",
   "metadata": {},
   "outputs": [
    {
     "data": {
      "image/png": "[encoded data removed]",
      "text/plain": [
       "<Figure size 800x800 with 2 Axes>"
      ]
     },
     "metadata": {},
     "output_type": "display_data"
    }
   ],
   "source": [
    "fig = plt.figure(figsize=(8, 8))\n",
    "\n",
    "ax = fig.add_subplot(projection=\"3d\")\n",
    "ax.set_title(\"Event plot\")\n",
    "\n",
    "ax.set_xlabel(\"x\")\n",
    "ax.set_ylabel(\"y\")\n",
    "ax.set_zlabel(\"z\")\n",
    "\n",
    "ax.set_xticks([-600, -300, 0.0, 300, 600])\n",
    "ax.set_yticks([-600, -300, 0.0, 300, 600])\n",
    "ax.set_zticks([-600, -300, 0.0, 300, 600])\n",
    "\n",
    "# 散布図を描画\n",
    "scatter = ax.scatter(\n",
    "    batch_event[\"x\"],\n",
    "    batch_event[\"y\"],\n",
    "    batch_event[\"z\"],\n",
    "    s=batch_event[\"charge\"] * 50,\n",
    "    c=batch_event[\"time\"],\n",
    ")\n",
    "\n",
    "ax.plot3D(\n",
    "    xs=line_x_details,\n",
    "    ys=line_y_details,\n",
    "    zs=line_z_details,\n",
    "    color=line_color,\n",
    "    linestyle=line_style,\n",
    "    linewidth=line_width,\n",
    ")\n",
    "\n",
    "\n",
    "cbar = fig.colorbar(scatter, shrink=0.5, pad=0.1)\n",
    "cbar.set_label(\"Time\")\n",
    "\n",
    "plt.show()"
   ]
  },
  {
   "cell_type": "code",
   "execution_count": null,
   "id": "8c223534-9ee8-4d69-8339-420bd43fc576",
   "metadata": {},
   "outputs": [],
   "source": []
  },
  {
   "cell_type": "markdown",
   "id": "c689b013-c599-4369-8b92-1644389ab121",
   "metadata": {},
   "source": [
    "### 階層的クラスタリング"
   ]
  },
  {
   "cell_type": "code",
   "execution_count": 28,
   "id": "d7a7da23",
   "metadata": {},
   "outputs": [],
   "source": [
    "time_dist = cdist(batch_event[[\"time\"]] * 0.3, batch_event[[\"time\"]] * 0.3)"
   ]
  },
  {
   "cell_type": "code",
   "execution_count": 29,
   "id": "9c5baf13",
   "metadata": {},
   "outputs": [
    {
     "data": {
      "text/plain": [
       "(52, 52)"
      ]
     },
     "execution_count": 29,
     "metadata": {},
     "output_type": "execute_result"
    }
   ],
   "source": [
    "time_dist.shape"
   ]
  },
  {
   "cell_type": "code",
   "execution_count": 30,
   "id": "ef18d084",
   "metadata": {},
   "outputs": [
    {
     "data": {
      "text/plain": [
       "(0.0, 2902.5)"
      ]
     },
     "execution_count": 30,
     "metadata": {},
     "output_type": "execute_result"
    }
   ],
   "source": [
    "time_dist.min(), time_dist.max()"
   ]
  },
  {
   "cell_type": "code",
   "execution_count": 31,
   "id": "3b0773b9",
   "metadata": {},
   "outputs": [],
   "source": [
    "space_dist = cdist(batch_event[[\"x\", \"y\", \"z\"]], batch_event[[\"x\", \"y\", \"z\"]])"
   ]
  },
  {
   "cell_type": "code",
   "execution_count": 32,
   "id": "e403a656",
   "metadata": {},
   "outputs": [
    {
     "data": {
      "text/plain": [
       "(52, 52)"
      ]
     },
     "execution_count": 32,
     "metadata": {},
     "output_type": "execute_result"
    }
   ],
   "source": [
    "space_dist.shape"
   ]
  },
  {
   "cell_type": "code",
   "execution_count": 33,
   "id": "4ae3e210",
   "metadata": {},
   "outputs": [
    {
     "data": {
      "text/plain": [
       "(0.0, 1293.938492703575)"
      ]
     },
     "execution_count": 33,
     "metadata": {},
     "output_type": "execute_result"
    }
   ],
   "source": [
    "space_dist.min(), space_dist.max()"
   ]
  },
  {
   "cell_type": "code",
   "execution_count": 34,
   "id": "b6f66b34",
   "metadata": {},
   "outputs": [],
   "source": [
    "world_dist = space_dist / (time_dist + 1e-8)"
   ]
  },
  {
   "cell_type": "code",
   "execution_count": 35,
   "id": "f8099adf",
   "metadata": {},
   "outputs": [],
   "source": [
    "world_dist = squareform(world_dist)"
   ]
  },
  {
   "cell_type": "code",
   "execution_count": null,
   "id": "cf3f2558",
   "metadata": {},
   "outputs": [],
   "source": []
  },
  {
   "cell_type": "code",
   "execution_count": 158,
   "id": "b4afb392",
   "metadata": {},
   "outputs": [
    {
     "name": "stderr",
     "output_type": "stream",
     "text": [
      "/opt/conda/lib/python3.7/site-packages/pandas/core/indexing.py:1884: SettingWithCopyWarning: \n",
      "A value is trying to be set on a copy of a slice from a DataFrame.\n",
      "Try using .loc[row_indexer,col_indexer] = value instead\n",
      "\n",
      "See the caveats in the documentation: https://pandas.pydata.org/pandas-docs/stable/user_guide/indexing.html#returning-a-view-versus-a-copy\n",
      "  self._setitem_single_column(loc, val, pi)\n"
     ]
    }
   ],
   "source": [
    "batch_event.loc[:, [\"x\", \"y\", \"z\"]] = batch_event[[\"x\", \"y\", \"z\"]] / 500.0"
   ]
  },
  {
   "cell_type": "code",
   "execution_count": 159,
   "id": "10188ee7",
   "metadata": {},
   "outputs": [
    {
     "name": "stderr",
     "output_type": "stream",
     "text": [
      "/opt/conda/lib/python3.7/site-packages/pandas/core/indexing.py:1773: SettingWithCopyWarning: \n",
      "A value is trying to be set on a copy of a slice from a DataFrame.\n",
      "Try using .loc[row_indexer,col_indexer] = value instead\n",
      "\n",
      "See the caveats in the documentation: https://pandas.pydata.org/pandas-docs/stable/user_guide/indexing.html#returning-a-view-versus-a-copy\n",
      "  self._setitem_single_column(ilocs[0], value, pi)\n"
     ]
    }
   ],
   "source": [
    "batch_event.loc[:, \"time\"] = (batch_event[\"time\"] - 1e4) / 3e4"
   ]
  },
  {
   "cell_type": "code",
   "execution_count": null,
   "id": "2b4e219d",
   "metadata": {},
   "outputs": [],
   "source": []
  },
  {
   "cell_type": "code",
   "execution_count": null,
   "id": "dfcef894",
   "metadata": {},
   "outputs": [],
   "source": []
  },
  {
   "cell_type": "code",
   "execution_count": 108,
   "id": "f0891533",
   "metadata": {},
   "outputs": [],
   "source": [
    "def world_dist(u, v):\n",
    "    \"\"\"\n",
    "    2つのベクトルの世界距離を計算する\n",
    "    各ベクトルは時刻(1次元)と空間(3次元)の値を持つこと。\n",
    "    \"\"\"\n",
    "    assert u.shape[0] == 4\n",
    "    assert v.shape[0] == 4\n",
    "\n",
    "    # ここでは時間は ナノ秒単位\n",
    "    # 光は 1ナノ秒で 約0.3m 進む\n",
    "    time = 0.3 * (u[0] - v[0]) ** 2 + 1e-8\n",
    "    space = euclidean(u[1:], v[1:])\n",
    "    return space / time"
   ]
  },
  {
   "cell_type": "code",
   "execution_count": 160,
   "id": "a5457860-3ea6-4bb5-a5f8-2325e79bf032",
   "metadata": {},
   "outputs": [],
   "source": [
    "h_cluster = linkage(batch_event[[\"time\", \"x\", \"y\", \"z\"]])\n",
    "# h_cluster = linkage(batch_event[[\"time\", \"x\", \"y\", \"z\"]], metric=world_dist)\n",
    "# h_cluster = linkage(world_dist)"
   ]
  },
  {
   "cell_type": "code",
   "execution_count": 161,
   "id": "b430f8a2-aa70-4305-b71c-22aeb3cf60fa",
   "metadata": {},
   "outputs": [
    {
     "data": {
      "image/png": "[encoded data removed]",
      "text/plain": [
       "<Figure size 640x480 with 1 Axes>"
      ]
     },
     "metadata": {},
     "output_type": "display_data"
    }
   ],
   "source": [
    "dendrogram(h_cluster)\n",
    "plt.title(\"Dedrogram\")\n",
    "plt.ylabel(\"Threshold\")\n",
    "plt.show()"
   ]
  },
  {
   "cell_type": "code",
   "execution_count": 162,
   "id": "fa625317-e0d9-4a88-a78f-2d223c20c461",
   "metadata": {},
   "outputs": [
    {
     "name": "stderr",
     "output_type": "stream",
     "text": [
      "/opt/conda/lib/python3.7/site-packages/pandas/core/indexing.py:1667: SettingWithCopyWarning: \n",
      "A value is trying to be set on a copy of a slice from a DataFrame.\n",
      "Try using .loc[row_indexer,col_indexer] = value instead\n",
      "\n",
      "See the caveats in the documentation: https://pandas.pydata.org/pandas-docs/stable/user_guide/indexing.html#returning-a-view-versus-a-copy\n",
      "  self.obj[key] = value\n"
     ]
    }
   ],
   "source": [
    "# batch_event.loc[:, \"h_labels\"] = fcluster(h_cluster, 0.01, criterion=\"distance\")\n",
    "batch_event.loc[:, \"h_labels\"] = fcluster(h_cluster, 1)"
   ]
  },
  {
   "cell_type": "code",
   "execution_count": 163,
   "id": "7786d3c6-a539-4248-8bcb-97ecbf1e7ac1",
   "metadata": {},
   "outputs": [
    {
     "data": {
      "text/plain": [
       "9"
      ]
     },
     "execution_count": 163,
     "metadata": {},
     "output_type": "execute_result"
    }
   ],
   "source": [
    "batch_event[\"h_labels\"].value_counts().idxmax()"
   ]
  },
  {
   "cell_type": "code",
   "execution_count": 164,
   "id": "ba0d8eda-ff53-4607-b6e9-6c2df0a664d5",
   "metadata": {},
   "outputs": [
    {
     "data": {
      "text/plain": [
       "9     12\n",
       "3     12\n",
       "8      9\n",
       "1      4\n",
       "7      3\n",
       "5      2\n",
       "2      2\n",
       "10     2\n",
       "4      2\n",
       "6      1\n",
       "13     1\n",
       "12     1\n",
       "11     1\n",
       "Name: h_labels, dtype: int64"
      ]
     },
     "execution_count": 164,
     "metadata": {},
     "output_type": "execute_result"
    }
   ],
   "source": [
    "batch_event[\"h_labels\"].value_counts()"
   ]
  },
  {
   "cell_type": "code",
   "execution_count": 165,
   "id": "c8aabf0c-5b0c-47c0-96ef-faed211308df",
   "metadata": {},
   "outputs": [],
   "source": [
    "#batch_event_ = batch_event[batch_event.duplicated(subset=[\"h_labels\"], keep=False)]\n",
    "batch_event_ = batch_event[\n",
    "    batch_event[\"h_labels\"] == batch_event[\"h_labels\"].value_counts().idxmax()\n",
    "]"
   ]
  },
  {
   "cell_type": "code",
   "execution_count": 166,
   "id": "ad34a7a9-0c33-4907-a2db-419a240d834f",
   "metadata": {},
   "outputs": [
    {
     "data": {
      "text/plain": [
       "(12, 9)"
      ]
     },
     "execution_count": 166,
     "metadata": {},
     "output_type": "execute_result"
    }
   ],
   "source": [
    "batch_event_.shape"
   ]
  },
  {
   "cell_type": "code",
   "execution_count": 167,
   "id": "72e0b1b2",
   "metadata": {},
   "outputs": [],
   "source": [
    "batch_event_.loc[:, [\"x\", \"y\", \"z\"]] = batch_event_[[\"x\", \"y\", \"z\"]] * 500.0"
   ]
  },
  {
   "cell_type": "code",
   "execution_count": 168,
   "id": "6444824e-32a8-4eb3-8a29-f6f3deefd6b7",
   "metadata": {},
   "outputs": [
    {
     "data": {
      "image/png": "[encoded data removed]",
      "text/plain": [
       "<Figure size 800x800 with 2 Axes>"
      ]
     },
     "metadata": {},
     "output_type": "display_data"
    }
   ],
   "source": [
    "fig = plt.figure(figsize=(8, 8))\n",
    "\n",
    "ax = fig.add_subplot(projection=\"3d\")\n",
    "ax.set_title(\"Event plot\")\n",
    "\n",
    "ax.set_xlabel(\"x\")\n",
    "ax.set_ylabel(\"y\")\n",
    "ax.set_zlabel(\"z\")\n",
    "\n",
    "#ax.set_xticks([-600, -300, 0.0, 300, 600])\n",
    "#ax.set_yticks([-600, -300, 0.0, 300, 600])\n",
    "#ax.set_zticks([-600, -300, 0.0, 300, 600])\n",
    "\n",
    "# 散布図を描画\n",
    "scatter = ax.scatter(\n",
    "    batch_event_[\"x\"],\n",
    "    batch_event_[\"y\"],\n",
    "    batch_event_[\"z\"],\n",
    "    s=batch_event_[\"charge\"] * 50,\n",
    "    c=batch_event_[\"time\"],\n",
    ")\n",
    "\n",
    "ax.plot3D(\n",
    "    xs=line_x_details,\n",
    "    ys=line_y_details,\n",
    "    zs=line_z_details,\n",
    "    color=line_color,\n",
    "    linestyle=line_style,\n",
    "    linewidth=line_width,\n",
    ")\n",
    "\n",
    "\n",
    "cbar = fig.colorbar(scatter, shrink=0.5, pad=0.1)\n",
    "cbar.set_label(\"Time\")\n",
    "\n",
    "plt.show()"
   ]
  },
  {
   "cell_type": "code",
   "execution_count": 144,
   "id": "cda7cb8f-e506-4012-8782-8f93dd353226",
   "metadata": {},
   "outputs": [
    {
     "data": {
      "text/html": [
       "<div>\n",
       "<style scoped>\n",
       "    .dataframe tbody tr th:only-of-type {\n",
       "        vertical-align: middle;\n",
       "    }\n",
       "\n",
       "    .dataframe tbody tr th {\n",
       "        vertical-align: top;\n",
       "    }\n",
       "\n",
       "    .dataframe thead th {\n",
       "        text-align: right;\n",
       "    }\n",
       "</style>\n",
       "<table border=\"1\" class=\"dataframe\">\n",
       "  <thead>\n",
       "    <tr style=\"text-align: right;\">\n",
       "      <th></th>\n",
       "      <th>event_id</th>\n",
       "      <th>sensor_id</th>\n",
       "      <th>time</th>\n",
       "      <th>charge</th>\n",
       "      <th>auxiliary</th>\n",
       "      <th>x</th>\n",
       "      <th>y</th>\n",
       "      <th>z</th>\n",
       "      <th>h_labels</th>\n",
       "    </tr>\n",
       "  </thead>\n",
       "  <tbody>\n",
       "    <tr>\n",
       "      <th>0</th>\n",
       "      <td>1432234834</td>\n",
       "      <td>1420</td>\n",
       "      <td>-0.136900</td>\n",
       "      <td>1.575</td>\n",
       "      <td>True</td>\n",
       "      <td>-0.49130</td>\n",
       "      <td>-0.38098</td>\n",
       "      <td>-0.35794</td>\n",
       "      <td>9</td>\n",
       "    </tr>\n",
       "    <tr>\n",
       "      <th>6198</th>\n",
       "      <td>1432234834</td>\n",
       "      <td>5143</td>\n",
       "      <td>-0.133000</td>\n",
       "      <td>1.075</td>\n",
       "      <td>True</td>\n",
       "      <td>-0.02194</td>\n",
       "      <td>0.01344</td>\n",
       "      <td>-0.77656</td>\n",
       "      <td>9</td>\n",
       "    </tr>\n",
       "    <tr>\n",
       "      <th>17100</th>\n",
       "      <td>1432234834</td>\n",
       "      <td>842</td>\n",
       "      <td>-0.122267</td>\n",
       "      <td>0.975</td>\n",
       "      <td>True</td>\n",
       "      <td>-0.58132</td>\n",
       "      <td>-0.61476</td>\n",
       "      <td>0.93996</td>\n",
       "      <td>8</td>\n",
       "    </tr>\n",
       "    <tr>\n",
       "      <th>21955</th>\n",
       "      <td>1432234834</td>\n",
       "      <td>541</td>\n",
       "      <td>-0.108933</td>\n",
       "      <td>0.825</td>\n",
       "      <td>True</td>\n",
       "      <td>0.07108</td>\n",
       "      <td>-0.72966</td>\n",
       "      <td>0.96138</td>\n",
       "      <td>1</td>\n",
       "    </tr>\n",
       "    <tr>\n",
       "      <th>21956</th>\n",
       "      <td>1432234834</td>\n",
       "      <td>541</td>\n",
       "      <td>0.035667</td>\n",
       "      <td>0.375</td>\n",
       "      <td>True</td>\n",
       "      <td>0.07108</td>\n",
       "      <td>-0.72966</td>\n",
       "      <td>0.96138</td>\n",
       "      <td>1</td>\n",
       "    </tr>\n",
       "    <tr>\n",
       "      <th>32511</th>\n",
       "      <td>1432234834</td>\n",
       "      <td>2544</td>\n",
       "      <td>-0.102667</td>\n",
       "      <td>1.025</td>\n",
       "      <td>True</td>\n",
       "      <td>-0.55906</td>\n",
       "      <td>0.04634</td>\n",
       "      <td>0.18822</td>\n",
       "      <td>7</td>\n",
       "    </tr>\n",
       "    <tr>\n",
       "      <th>37760</th>\n",
       "      <td>1432234834</td>\n",
       "      <td>5062</td>\n",
       "      <td>-0.091767</td>\n",
       "      <td>1.125</td>\n",
       "      <td>True</td>\n",
       "      <td>-0.01936</td>\n",
       "      <td>-0.15900</td>\n",
       "      <td>-0.48102</td>\n",
       "      <td>9</td>\n",
       "    </tr>\n",
       "    <tr>\n",
       "      <th>46143</th>\n",
       "      <td>1432234834</td>\n",
       "      <td>3021</td>\n",
       "      <td>-0.060000</td>\n",
       "      <td>1.275</td>\n",
       "      <td>True</td>\n",
       "      <td>-0.96320</td>\n",
       "      <td>0.20278</td>\n",
       "      <td>0.28924</td>\n",
       "      <td>7</td>\n",
       "    </tr>\n",
       "    <tr>\n",
       "      <th>52024</th>\n",
       "      <td>1432234834</td>\n",
       "      <td>850</td>\n",
       "      <td>-0.042467</td>\n",
       "      <td>0.675</td>\n",
       "      <td>True</td>\n",
       "      <td>-0.58132</td>\n",
       "      <td>-0.61476</td>\n",
       "      <td>0.66764</td>\n",
       "      <td>8</td>\n",
       "    </tr>\n",
       "    <tr>\n",
       "      <th>52025</th>\n",
       "      <td>1432234834</td>\n",
       "      <td>850</td>\n",
       "      <td>-0.042033</td>\n",
       "      <td>0.975</td>\n",
       "      <td>True</td>\n",
       "      <td>-0.58132</td>\n",
       "      <td>-0.61476</td>\n",
       "      <td>0.66764</td>\n",
       "      <td>8</td>\n",
       "    </tr>\n",
       "    <tr>\n",
       "      <th>52026</th>\n",
       "      <td>1432234834</td>\n",
       "      <td>850</td>\n",
       "      <td>0.085867</td>\n",
       "      <td>0.425</td>\n",
       "      <td>True</td>\n",
       "      <td>-0.58132</td>\n",
       "      <td>-0.61476</td>\n",
       "      <td>0.66764</td>\n",
       "      <td>8</td>\n",
       "    </tr>\n",
       "    <tr>\n",
       "      <th>56677</th>\n",
       "      <td>1432234834</td>\n",
       "      <td>372</td>\n",
       "      <td>-0.029700</td>\n",
       "      <td>1.325</td>\n",
       "      <td>True</td>\n",
       "      <td>-0.66960</td>\n",
       "      <td>-0.84900</td>\n",
       "      <td>0.59270</td>\n",
       "      <td>8</td>\n",
       "    </tr>\n",
       "    <tr>\n",
       "      <th>62952</th>\n",
       "      <td>1432234834</td>\n",
       "      <td>4975</td>\n",
       "      <td>-0.029467</td>\n",
       "      <td>0.925</td>\n",
       "      <td>True</td>\n",
       "      <td>0.22638</td>\n",
       "      <td>-0.12094</td>\n",
       "      <td>-0.95296</td>\n",
       "      <td>9</td>\n",
       "    </tr>\n",
       "    <tr>\n",
       "      <th>76808</th>\n",
       "      <td>1432234834</td>\n",
       "      <td>385</td>\n",
       "      <td>-0.025133</td>\n",
       "      <td>0.375</td>\n",
       "      <td>True</td>\n",
       "      <td>-0.66960</td>\n",
       "      <td>-0.84900</td>\n",
       "      <td>0.15016</td>\n",
       "      <td>8</td>\n",
       "    </tr>\n",
       "    <tr>\n",
       "      <th>76809</th>\n",
       "      <td>1432234834</td>\n",
       "      <td>385</td>\n",
       "      <td>0.116333</td>\n",
       "      <td>0.425</td>\n",
       "      <td>True</td>\n",
       "      <td>-0.66960</td>\n",
       "      <td>-0.84900</td>\n",
       "      <td>0.15016</td>\n",
       "      <td>8</td>\n",
       "    </tr>\n",
       "    <tr>\n",
       "      <th>82646</th>\n",
       "      <td>1432234834</td>\n",
       "      <td>1159</td>\n",
       "      <td>-0.018367</td>\n",
       "      <td>0.575</td>\n",
       "      <td>True</td>\n",
       "      <td>0.65370</td>\n",
       "      <td>-0.41814</td>\n",
       "      <td>0.35006</td>\n",
       "      <td>5</td>\n",
       "    </tr>\n",
       "    <tr>\n",
       "      <th>82647</th>\n",
       "      <td>1432234834</td>\n",
       "      <td>1159</td>\n",
       "      <td>0.099967</td>\n",
       "      <td>0.425</td>\n",
       "      <td>True</td>\n",
       "      <td>0.65370</td>\n",
       "      <td>-0.41814</td>\n",
       "      <td>0.35006</td>\n",
       "      <td>5</td>\n",
       "    </tr>\n",
       "    <tr>\n",
       "      <th>88634</th>\n",
       "      <td>1432234834</td>\n",
       "      <td>4591</td>\n",
       "      <td>-0.017533</td>\n",
       "      <td>1.025</td>\n",
       "      <td>True</td>\n",
       "      <td>-0.20212</td>\n",
       "      <td>0.98044</td>\n",
       "      <td>-0.05232</td>\n",
       "      <td>9</td>\n",
       "    </tr>\n",
       "    <tr>\n",
       "      <th>92687</th>\n",
       "      <td>1432234834</td>\n",
       "      <td>3</td>\n",
       "      <td>-0.016633</td>\n",
       "      <td>0.625</td>\n",
       "      <td>True</td>\n",
       "      <td>-0.51228</td>\n",
       "      <td>-1.04216</td>\n",
       "      <td>0.88994</td>\n",
       "      <td>8</td>\n",
       "    </tr>\n",
       "    <tr>\n",
       "      <th>97346</th>\n",
       "      <td>1432234834</td>\n",
       "      <td>3500</td>\n",
       "      <td>-0.004300</td>\n",
       "      <td>0.975</td>\n",
       "      <td>True</td>\n",
       "      <td>1.01054</td>\n",
       "      <td>0.51576</td>\n",
       "      <td>0.33164</td>\n",
       "      <td>3</td>\n",
       "    </tr>\n",
       "    <tr>\n",
       "      <th>103713</th>\n",
       "      <td>1432234834</td>\n",
       "      <td>2960</td>\n",
       "      <td>-0.003833</td>\n",
       "      <td>0.525</td>\n",
       "      <td>False</td>\n",
       "      <td>1.15274</td>\n",
       "      <td>0.34184</td>\n",
       "      <td>0.30726</td>\n",
       "      <td>3</td>\n",
       "    </tr>\n",
       "    <tr>\n",
       "      <th>103714</th>\n",
       "      <td>1432234834</td>\n",
       "      <td>2960</td>\n",
       "      <td>-0.003533</td>\n",
       "      <td>0.725</td>\n",
       "      <td>False</td>\n",
       "      <td>1.15274</td>\n",
       "      <td>0.34184</td>\n",
       "      <td>0.30726</td>\n",
       "      <td>3</td>\n",
       "    </tr>\n",
       "    <tr>\n",
       "      <th>109490</th>\n",
       "      <td>1432234834</td>\n",
       "      <td>2962</td>\n",
       "      <td>-0.001433</td>\n",
       "      <td>0.625</td>\n",
       "      <td>False</td>\n",
       "      <td>1.15274</td>\n",
       "      <td>0.34184</td>\n",
       "      <td>0.23918</td>\n",
       "      <td>3</td>\n",
       "    </tr>\n",
       "    <tr>\n",
       "      <th>115181</th>\n",
       "      <td>1432234834</td>\n",
       "      <td>2958</td>\n",
       "      <td>-0.001300</td>\n",
       "      <td>0.675</td>\n",
       "      <td>False</td>\n",
       "      <td>1.15274</td>\n",
       "      <td>0.34184</td>\n",
       "      <td>0.37534</td>\n",
       "      <td>3</td>\n",
       "    </tr>\n",
       "    <tr>\n",
       "      <th>120407</th>\n",
       "      <td>1432234834</td>\n",
       "      <td>2961</td>\n",
       "      <td>-0.001300</td>\n",
       "      <td>0.925</td>\n",
       "      <td>False</td>\n",
       "      <td>1.15274</td>\n",
       "      <td>0.34184</td>\n",
       "      <td>0.27322</td>\n",
       "      <td>3</td>\n",
       "    </tr>\n",
       "    <tr>\n",
       "      <th>132380</th>\n",
       "      <td>1432234834</td>\n",
       "      <td>2903</td>\n",
       "      <td>0.009800</td>\n",
       "      <td>0.875</td>\n",
       "      <td>True</td>\n",
       "      <td>0.94410</td>\n",
       "      <td>0.25580</td>\n",
       "      <td>0.22560</td>\n",
       "      <td>3</td>\n",
       "    </tr>\n",
       "    <tr>\n",
       "      <th>138245</th>\n",
       "      <td>1432234834</td>\n",
       "      <td>2897</td>\n",
       "      <td>0.011067</td>\n",
       "      <td>0.875</td>\n",
       "      <td>False</td>\n",
       "      <td>0.94410</td>\n",
       "      <td>0.25580</td>\n",
       "      <td>0.42984</td>\n",
       "      <td>3</td>\n",
       "    </tr>\n",
       "    <tr>\n",
       "      <th>143672</th>\n",
       "      <td>1432234834</td>\n",
       "      <td>2355</td>\n",
       "      <td>0.016067</td>\n",
       "      <td>1.175</td>\n",
       "      <td>True</td>\n",
       "      <td>1.08814</td>\n",
       "      <td>0.11178</td>\n",
       "      <td>0.49494</td>\n",
       "      <td>3</td>\n",
       "    </tr>\n",
       "    <tr>\n",
       "      <th>149128</th>\n",
       "      <td>1432234834</td>\n",
       "      <td>2307</td>\n",
       "      <td>0.025700</td>\n",
       "      <td>0.325</td>\n",
       "      <td>True</td>\n",
       "      <td>0.82362</td>\n",
       "      <td>0.02600</td>\n",
       "      <td>0.08434</td>\n",
       "      <td>3</td>\n",
       "    </tr>\n",
       "    <tr>\n",
       "      <th>154987</th>\n",
       "      <td>1432234834</td>\n",
       "      <td>1548</td>\n",
       "      <td>0.026267</td>\n",
       "      <td>0.875</td>\n",
       "      <td>True</td>\n",
       "      <td>0.00342</td>\n",
       "      <td>-0.30126</td>\n",
       "      <td>-0.63948</td>\n",
       "      <td>9</td>\n",
       "    </tr>\n",
       "    <tr>\n",
       "      <th>164306</th>\n",
       "      <td>1432234834</td>\n",
       "      <td>2898</td>\n",
       "      <td>0.027000</td>\n",
       "      <td>0.475</td>\n",
       "      <td>False</td>\n",
       "      <td>0.94410</td>\n",
       "      <td>0.25580</td>\n",
       "      <td>0.39580</td>\n",
       "      <td>3</td>\n",
       "    </tr>\n",
       "    <tr>\n",
       "      <th>170069</th>\n",
       "      <td>1432234834</td>\n",
       "      <td>2361</td>\n",
       "      <td>0.030633</td>\n",
       "      <td>0.725</td>\n",
       "      <td>True</td>\n",
       "      <td>1.08814</td>\n",
       "      <td>0.11178</td>\n",
       "      <td>0.29070</td>\n",
       "      <td>3</td>\n",
       "    </tr>\n",
       "    <tr>\n",
       "      <th>176464</th>\n",
       "      <td>1432234834</td>\n",
       "      <td>5095</td>\n",
       "      <td>0.039167</td>\n",
       "      <td>0.675</td>\n",
       "      <td>True</td>\n",
       "      <td>-0.01936</td>\n",
       "      <td>-0.15900</td>\n",
       "      <td>-0.94360</td>\n",
       "      <td>9</td>\n",
       "    </tr>\n",
       "    <tr>\n",
       "      <th>190825</th>\n",
       "      <td>1432234834</td>\n",
       "      <td>4468</td>\n",
       "      <td>0.050400</td>\n",
       "      <td>1.175</td>\n",
       "      <td>True</td>\n",
       "      <td>-0.69576</td>\n",
       "      <td>0.90304</td>\n",
       "      <td>0.05084</td>\n",
       "      <td>9</td>\n",
       "    </tr>\n",
       "    <tr>\n",
       "      <th>197260</th>\n",
       "      <td>1432234834</td>\n",
       "      <td>3423</td>\n",
       "      <td>0.072700</td>\n",
       "      <td>1.025</td>\n",
       "      <td>True</td>\n",
       "      <td>0.76470</td>\n",
       "      <td>0.47780</td>\n",
       "      <td>0.89496</td>\n",
       "      <td>2</td>\n",
       "    </tr>\n",
       "    <tr>\n",
       "      <th>202207</th>\n",
       "      <td>1432234834</td>\n",
       "      <td>4702</td>\n",
       "      <td>0.081200</td>\n",
       "      <td>1.125</td>\n",
       "      <td>True</td>\n",
       "      <td>0.06250</td>\n",
       "      <td>-0.14586</td>\n",
       "      <td>-0.48646</td>\n",
       "      <td>9</td>\n",
       "    </tr>\n",
       "    <tr>\n",
       "      <th>208664</th>\n",
       "      <td>1432234834</td>\n",
       "      <td>3809</td>\n",
       "      <td>0.084400</td>\n",
       "      <td>0.725</td>\n",
       "      <td>True</td>\n",
       "      <td>0.10852</td>\n",
       "      <td>0.58594</td>\n",
       "      <td>0.06190</td>\n",
       "      <td>9</td>\n",
       "    </tr>\n",
       "    <tr>\n",
       "      <th>214575</th>\n",
       "      <td>1432234834</td>\n",
       "      <td>3167</td>\n",
       "      <td>0.085167</td>\n",
       "      <td>1.175</td>\n",
       "      <td>True</td>\n",
       "      <td>-0.46990</td>\n",
       "      <td>0.28088</td>\n",
       "      <td>-0.59982</td>\n",
       "      <td>9</td>\n",
       "    </tr>\n",
       "    <tr>\n",
       "      <th>224556</th>\n",
       "      <td>1432234834</td>\n",
       "      <td>225</td>\n",
       "      <td>0.105133</td>\n",
       "      <td>0.575</td>\n",
       "      <td>True</td>\n",
       "      <td>0.22878</td>\n",
       "      <td>-0.92398</td>\n",
       "      <td>-0.53454</td>\n",
       "      <td>10</td>\n",
       "    </tr>\n",
       "    <tr>\n",
       "      <th>231537</th>\n",
       "      <td>1432234834</td>\n",
       "      <td>3303</td>\n",
       "      <td>0.110633</td>\n",
       "      <td>0.575</td>\n",
       "      <td>True</td>\n",
       "      <td>0.26406</td>\n",
       "      <td>0.40596</td>\n",
       "      <td>0.90334</td>\n",
       "      <td>2</td>\n",
       "    </tr>\n",
       "    <tr>\n",
       "      <th>237419</th>\n",
       "      <td>1432234834</td>\n",
       "      <td>2126</td>\n",
       "      <td>0.135933</td>\n",
       "      <td>1.325</td>\n",
       "      <td>True</td>\n",
       "      <td>0.09258</td>\n",
       "      <td>-0.06976</td>\n",
       "      <td>0.11688</td>\n",
       "      <td>9</td>\n",
       "    </tr>\n",
       "    <tr>\n",
       "      <th>243262</th>\n",
       "      <td>1432234834</td>\n",
       "      <td>185</td>\n",
       "      <td>0.140733</td>\n",
       "      <td>0.975</td>\n",
       "      <td>True</td>\n",
       "      <td>0.22878</td>\n",
       "      <td>-0.92398</td>\n",
       "      <td>0.82712</td>\n",
       "      <td>1</td>\n",
       "    </tr>\n",
       "    <tr>\n",
       "      <th>256247</th>\n",
       "      <td>1432234834</td>\n",
       "      <td>1871</td>\n",
       "      <td>0.163767</td>\n",
       "      <td>0.825</td>\n",
       "      <td>True</td>\n",
       "      <td>-0.89548</td>\n",
       "      <td>-0.22626</td>\n",
       "      <td>0.62690</td>\n",
       "      <td>8</td>\n",
       "    </tr>\n",
       "    <tr>\n",
       "      <th>261702</th>\n",
       "      <td>1432234834</td>\n",
       "      <td>675</td>\n",
       "      <td>0.166233</td>\n",
       "      <td>0.575</td>\n",
       "      <td>True</td>\n",
       "      <td>0.56436</td>\n",
       "      <td>-0.65148</td>\n",
       "      <td>0.48626</td>\n",
       "      <td>4</td>\n",
       "    </tr>\n",
       "    <tr>\n",
       "      <th>261703</th>\n",
       "      <td>1432234834</td>\n",
       "      <td>675</td>\n",
       "      <td>0.166633</td>\n",
       "      <td>0.675</td>\n",
       "      <td>True</td>\n",
       "      <td>0.56436</td>\n",
       "      <td>-0.65148</td>\n",
       "      <td>0.48626</td>\n",
       "      <td>4</td>\n",
       "    </tr>\n",
       "    <tr>\n",
       "      <th>276323</th>\n",
       "      <td>1432234834</td>\n",
       "      <td>3147</td>\n",
       "      <td>0.175633</td>\n",
       "      <td>0.975</td>\n",
       "      <td>True</td>\n",
       "      <td>-0.46990</td>\n",
       "      <td>0.28088</td>\n",
       "      <td>0.08100</td>\n",
       "      <td>7</td>\n",
       "    </tr>\n",
       "    <tr>\n",
       "      <th>281716</th>\n",
       "      <td>1432234834</td>\n",
       "      <td>1500</td>\n",
       "      <td>0.180067</td>\n",
       "      <td>0.525</td>\n",
       "      <td>True</td>\n",
       "      <td>0.00342</td>\n",
       "      <td>-0.30126</td>\n",
       "      <td>0.99450</td>\n",
       "      <td>1</td>\n",
       "    </tr>\n",
       "    <tr>\n",
       "      <th>285990</th>\n",
       "      <td>1432234834</td>\n",
       "      <td>768</td>\n",
       "      <td>0.185600</td>\n",
       "      <td>0.975</td>\n",
       "      <td>True</td>\n",
       "      <td>0.81166</td>\n",
       "      <td>-0.61276</td>\n",
       "      <td>-0.64372</td>\n",
       "      <td>10</td>\n",
       "    </tr>\n",
       "  </tbody>\n",
       "</table>\n",
       "</div>"
      ],
      "text/plain": [
       "          event_id  sensor_id      time  charge  auxiliary        x        y  \\\n",
       "0       1432234834       1420 -0.136900   1.575       True -0.49130 -0.38098   \n",
       "6198    1432234834       5143 -0.133000   1.075       True -0.02194  0.01344   \n",
       "17100   1432234834        842 -0.122267   0.975       True -0.58132 -0.61476   \n",
       "21955   1432234834        541 -0.108933   0.825       True  0.07108 -0.72966   \n",
       "21956   1432234834        541  0.035667   0.375       True  0.07108 -0.72966   \n",
       "32511   1432234834       2544 -0.102667   1.025       True -0.55906  0.04634   \n",
       "37760   1432234834       5062 -0.091767   1.125       True -0.01936 -0.15900   \n",
       "46143   1432234834       3021 -0.060000   1.275       True -0.96320  0.20278   \n",
       "52024   1432234834        850 -0.042467   0.675       True -0.58132 -0.61476   \n",
       "52025   1432234834        850 -0.042033   0.975       True -0.58132 -0.61476   \n",
       "52026   1432234834        850  0.085867   0.425       True -0.58132 -0.61476   \n",
       "56677   1432234834        372 -0.029700   1.325       True -0.66960 -0.84900   \n",
       "62952   1432234834       4975 -0.029467   0.925       True  0.22638 -0.12094   \n",
       "76808   1432234834        385 -0.025133   0.375       True -0.66960 -0.84900   \n",
       "76809   1432234834        385  0.116333   0.425       True -0.66960 -0.84900   \n",
       "82646   1432234834       1159 -0.018367   0.575       True  0.65370 -0.41814   \n",
       "82647   1432234834       1159  0.099967   0.425       True  0.65370 -0.41814   \n",
       "88634   1432234834       4591 -0.017533   1.025       True -0.20212  0.98044   \n",
       "92687   1432234834          3 -0.016633   0.625       True -0.51228 -1.04216   \n",
       "97346   1432234834       3500 -0.004300   0.975       True  1.01054  0.51576   \n",
       "103713  1432234834       2960 -0.003833   0.525      False  1.15274  0.34184   \n",
       "103714  1432234834       2960 -0.003533   0.725      False  1.15274  0.34184   \n",
       "109490  1432234834       2962 -0.001433   0.625      False  1.15274  0.34184   \n",
       "115181  1432234834       2958 -0.001300   0.675      False  1.15274  0.34184   \n",
       "120407  1432234834       2961 -0.001300   0.925      False  1.15274  0.34184   \n",
       "132380  1432234834       2903  0.009800   0.875       True  0.94410  0.25580   \n",
       "138245  1432234834       2897  0.011067   0.875      False  0.94410  0.25580   \n",
       "143672  1432234834       2355  0.016067   1.175       True  1.08814  0.11178   \n",
       "149128  1432234834       2307  0.025700   0.325       True  0.82362  0.02600   \n",
       "154987  1432234834       1548  0.026267   0.875       True  0.00342 -0.30126   \n",
       "164306  1432234834       2898  0.027000   0.475      False  0.94410  0.25580   \n",
       "170069  1432234834       2361  0.030633   0.725       True  1.08814  0.11178   \n",
       "176464  1432234834       5095  0.039167   0.675       True -0.01936 -0.15900   \n",
       "190825  1432234834       4468  0.050400   1.175       True -0.69576  0.90304   \n",
       "197260  1432234834       3423  0.072700   1.025       True  0.76470  0.47780   \n",
       "202207  1432234834       4702  0.081200   1.125       True  0.06250 -0.14586   \n",
       "208664  1432234834       3809  0.084400   0.725       True  0.10852  0.58594   \n",
       "214575  1432234834       3167  0.085167   1.175       True -0.46990  0.28088   \n",
       "224556  1432234834        225  0.105133   0.575       True  0.22878 -0.92398   \n",
       "231537  1432234834       3303  0.110633   0.575       True  0.26406  0.40596   \n",
       "237419  1432234834       2126  0.135933   1.325       True  0.09258 -0.06976   \n",
       "243262  1432234834        185  0.140733   0.975       True  0.22878 -0.92398   \n",
       "256247  1432234834       1871  0.163767   0.825       True -0.89548 -0.22626   \n",
       "261702  1432234834        675  0.166233   0.575       True  0.56436 -0.65148   \n",
       "261703  1432234834        675  0.166633   0.675       True  0.56436 -0.65148   \n",
       "276323  1432234834       3147  0.175633   0.975       True -0.46990  0.28088   \n",
       "281716  1432234834       1500  0.180067   0.525       True  0.00342 -0.30126   \n",
       "285990  1432234834        768  0.185600   0.975       True  0.81166 -0.61276   \n",
       "\n",
       "              z  h_labels  \n",
       "0      -0.35794         9  \n",
       "6198   -0.77656         9  \n",
       "17100   0.93996         8  \n",
       "21955   0.96138         1  \n",
       "21956   0.96138         1  \n",
       "32511   0.18822         7  \n",
       "37760  -0.48102         9  \n",
       "46143   0.28924         7  \n",
       "52024   0.66764         8  \n",
       "52025   0.66764         8  \n",
       "52026   0.66764         8  \n",
       "56677   0.59270         8  \n",
       "62952  -0.95296         9  \n",
       "76808   0.15016         8  \n",
       "76809   0.15016         8  \n",
       "82646   0.35006         5  \n",
       "82647   0.35006         5  \n",
       "88634  -0.05232         9  \n",
       "92687   0.88994         8  \n",
       "97346   0.33164         3  \n",
       "103713  0.30726         3  \n",
       "103714  0.30726         3  \n",
       "109490  0.23918         3  \n",
       "115181  0.37534         3  \n",
       "120407  0.27322         3  \n",
       "132380  0.22560         3  \n",
       "138245  0.42984         3  \n",
       "143672  0.49494         3  \n",
       "149128  0.08434         3  \n",
       "154987 -0.63948         9  \n",
       "164306  0.39580         3  \n",
       "170069  0.29070         3  \n",
       "176464 -0.94360         9  \n",
       "190825  0.05084         9  \n",
       "197260  0.89496         2  \n",
       "202207 -0.48646         9  \n",
       "208664  0.06190         9  \n",
       "214575 -0.59982         9  \n",
       "224556 -0.53454        10  \n",
       "231537  0.90334         2  \n",
       "237419  0.11688         9  \n",
       "243262  0.82712         1  \n",
       "256247  0.62690         8  \n",
       "261702  0.48626         4  \n",
       "261703  0.48626         4  \n",
       "276323  0.08100         7  \n",
       "281716  0.99450         1  \n",
       "285990 -0.64372        10  "
      ]
     },
     "execution_count": 144,
     "metadata": {},
     "output_type": "execute_result"
    }
   ],
   "source": [
    "batch_event_"
   ]
  },
  {
   "cell_type": "code",
   "execution_count": null,
   "id": "be431671",
   "metadata": {},
   "outputs": [],
   "source": []
  },
  {
   "cell_type": "markdown",
   "id": "65c27185-da6a-47f1-96c2-10182dd92442",
   "metadata": {},
   "source": [
    "## Stage 2\n"
   ]
  },
  {
   "cell_type": "code",
   "execution_count": 19,
   "id": "d5bad7c8-6dfa-4df6-a53a-1f512df1ffe9",
   "metadata": {},
   "outputs": [
    {
     "data": {
      "text/plain": [
       "((200000, 9), (148532, 9))"
      ]
     },
     "execution_count": 19,
     "metadata": {},
     "output_type": "execute_result"
    }
   ],
   "source": [
    "results.shape, results2.shape"
   ]
  },
  {
   "cell_type": "code",
   "execution_count": 17,
   "id": "15511003",
   "metadata": {},
   "outputs": [
    {
     "data": {
      "text/plain": [
       "((200000, 3), (148532, 3))"
      ]
     },
     "execution_count": 17,
     "metadata": {},
     "output_type": "execute_result"
    }
   ],
   "source": [
    "valid_df.shape, valid2_df.shape"
   ]
  },
  {
   "cell_type": "code",
   "execution_count": 13,
   "id": "44991f55-6d24-418f-ac51-803efbaaeab5",
   "metadata": {},
   "outputs": [
    {
     "data": {
      "text/plain": [
       "((200000, 3), (148532, 3))"
      ]
     },
     "execution_count": 13,
     "metadata": {},
     "output_type": "execute_result"
    }
   ],
   "source": [
    "submission_df.shape, submission2_df.shape"
   ]
  },
  {
   "cell_type": "code",
   "execution_count": 16,
   "id": "f1ce0c3d",
   "metadata": {},
   "outputs": [
    {
     "data": {
      "text/plain": [
       "((148532, 3), (51468, 3), (132672, 3), (15860, 3))"
      ]
     },
     "execution_count": 16,
     "metadata": {},
     "output_type": "execute_result"
    }
   ],
   "source": [
    "submission_high_sigma.shape, submission_low_sigma.shape, submission_high_sigma2.shape, submission_low_sigma2.shape"
   ]
  },
  {
   "cell_type": "code",
   "execution_count": 20,
   "id": "85d84f2d",
   "metadata": {},
   "outputs": [
    {
     "data": {
      "text/plain": [
       "(Index(['Unnamed: 0', 'direction_x', 'direction_y', 'direction_z',\n",
       "        'direction_kappa', 'event_id', 'zenith', 'azimuth', 'sigma'],\n",
       "       dtype='object'),\n",
       " Index(['event_id', 'azimuth', 'zenith'], dtype='object'),\n",
       " Index(['event_id', 'azimuth', 'zenith'], dtype='object'))"
      ]
     },
     "execution_count": 20,
     "metadata": {},
     "output_type": "execute_result"
    }
   ],
   "source": [
    "results.columns, valid_df.columns, submission_df.columns"
   ]
  },
  {
   "cell_type": "code",
   "execution_count": 16,
   "id": "59d646b9",
   "metadata": {},
   "outputs": [],
   "source": [
    "def angular_dist_df(az_true, zen_true, az_pred, zen_pred):\n",
    "    if not (\n",
    "        np.all(np.isfinite(az_true))\n",
    "        and np.all(np.isfinite(zen_true))\n",
    "        and np.all(np.isfinite(az_pred))\n",
    "        and np.all(np.isfinite(zen_pred))\n",
    "    ):\n",
    "        raise ValueError(\"All arguments must be finite\")\n",
    "\n",
    "    # pre-compute all sine and cosine values\n",
    "    sa1 = np.sin(az_true)\n",
    "    ca1 = np.cos(az_true)\n",
    "    sz1 = np.sin(zen_true)\n",
    "    cz1 = np.cos(zen_true)\n",
    "\n",
    "    sa2 = np.sin(az_pred)\n",
    "    ca2 = np.cos(az_pred)\n",
    "    sz2 = np.sin(zen_pred)\n",
    "    cz2 = np.cos(zen_pred)\n",
    "\n",
    "    # scalar product of the two cartesian vectors (x = sz*ca, y = sz*sa, z = cz)\n",
    "    scalar_prod = sz1 * sz2 * (ca1 * ca2 + sa1 * sa2) + (cz1 * cz2)\n",
    "\n",
    "    # scalar product of two unit vectors is always between -1 and 1, this is against nummerical instability\n",
    "    # that might otherwise occure from the finite precision of the sine and cosine functions\n",
    "    scalar_prod = np.clip(scalar_prod, -1, 1)\n",
    "\n",
    "    # convert back to an angle (in radian)\n",
    "    return np.abs(np.arccos(scalar_prod))"
   ]
  },
  {
   "cell_type": "code",
   "execution_count": 17,
   "id": "c7ce7228",
   "metadata": {},
   "outputs": [],
   "source": [
    "score = angular_dist_df(valid_df[\"azimuth\"], valid_df[\"zenith\"], submission_df[\"azimuth\"], submission_df[\"zenith\"])"
   ]
  },
  {
   "cell_type": "code",
   "execution_count": 14,
   "id": "8ac826e2",
   "metadata": {},
   "outputs": [],
   "source": [
    "score2 = angular_dist_df(valid2_df[\"azimuth\"], valid2_df[\"zenith\"], submission2_df[\"azimuth\"], submission2_df[\"zenith\"])"
   ]
  },
  {
   "cell_type": "code",
   "execution_count": 56,
   "id": "dd780729",
   "metadata": {},
   "outputs": [
    {
     "data": {
      "text/plain": [
       "((200000,), (148532,))"
      ]
     },
     "execution_count": 56,
     "metadata": {},
     "output_type": "execute_result"
    }
   ],
   "source": [
    "score.shape, score2.shape"
   ]
  },
  {
   "cell_type": "code",
   "execution_count": 18,
   "id": "e9317f78",
   "metadata": {},
   "outputs": [
    {
     "data": {
      "text/plain": [
       "<seaborn.axisgrid.FacetGrid at 0x7fdd40565f10>"
      ]
     },
     "execution_count": 18,
     "metadata": {},
     "output_type": "execute_result"
    },
    {
     "data": {
      "image/png": "[encoded data removed]",
      "text/plain": [
       "<Figure size 500x500 with 1 Axes>"
      ]
     },
     "metadata": {},
     "output_type": "display_data"
    }
   ],
   "source": [
    "sns.displot(score)"
   ]
  },
  {
   "cell_type": "code",
   "execution_count": 16,
   "id": "b2476d3a",
   "metadata": {},
   "outputs": [
    {
     "data": {
      "text/plain": [
       "<seaborn.axisgrid.FacetGrid at 0x7f9355cbb750>"
      ]
     },
     "execution_count": 16,
     "metadata": {},
     "output_type": "execute_result"
    },
    {
     "data": {
      "image/png": "[encoded data removed]",
      "text/plain": [
       "<Figure size 500x500 with 1 Axes>"
      ]
     },
     "metadata": {},
     "output_type": "display_data"
    }
   ],
   "source": [
    "sns.displot(score2)"
   ]
  },
  {
   "cell_type": "code",
   "execution_count": 17,
   "id": "bae89fd6",
   "metadata": {},
   "outputs": [],
   "source": [
    "results[\"event_id\"] = results[\"event_id\"].astype(int)\n",
    "results2[\"event_id\"] = results2[\"event_id\"].astype(int)"
   ]
  },
  {
   "cell_type": "code",
   "execution_count": 18,
   "id": "c48140c3",
   "metadata": {},
   "outputs": [],
   "source": [
    "results.set_index(\"event_id\", inplace=True)\n",
    "results2.set_index(\"event_id\", inplace=True)"
   ]
  },
  {
   "cell_type": "code",
   "execution_count": 24,
   "id": "97ec3549",
   "metadata": {},
   "outputs": [
    {
     "data": {
      "text/html": [
       "<div>\n",
       "<style scoped>\n",
       "    .dataframe tbody tr th:only-of-type {\n",
       "        vertical-align: middle;\n",
       "    }\n",
       "\n",
       "    .dataframe tbody tr th {\n",
       "        vertical-align: top;\n",
       "    }\n",
       "\n",
       "    .dataframe thead th {\n",
       "        text-align: right;\n",
       "    }\n",
       "</style>\n",
       "<table border=\"1\" class=\"dataframe\">\n",
       "  <thead>\n",
       "    <tr style=\"text-align: right;\">\n",
       "      <th></th>\n",
       "      <th>Unnamed: 0</th>\n",
       "      <th>direction_x</th>\n",
       "      <th>direction_y</th>\n",
       "      <th>direction_z</th>\n",
       "      <th>direction_kappa</th>\n",
       "      <th>azimuth</th>\n",
       "      <th>azimuth_kappa</th>\n",
       "      <th>zenith</th>\n",
       "      <th>zenith_kappa</th>\n",
       "      <th>event_id</th>\n",
       "      <th>sigma</th>\n",
       "    </tr>\n",
       "  </thead>\n",
       "  <tbody>\n",
       "    <tr>\n",
       "      <th>0</th>\n",
       "      <td>0</td>\n",
       "      <td>0.901128</td>\n",
       "      <td>0.359141</td>\n",
       "      <td>0.242868</td>\n",
       "      <td>1.555977</td>\n",
       "      <td>0.379253</td>\n",
       "      <td>1.015917</td>\n",
       "      <td>1.325475</td>\n",
       "      <td>5.390041</td>\n",
       "      <td>1.432235e+09</td>\n",
       "      <td>0.801675</td>\n",
       "    </tr>\n",
       "    <tr>\n",
       "      <th>1</th>\n",
       "      <td>1</td>\n",
       "      <td>0.544742</td>\n",
       "      <td>0.675345</td>\n",
       "      <td>0.497157</td>\n",
       "      <td>0.502275</td>\n",
       "      <td>0.892036</td>\n",
       "      <td>0.370466</td>\n",
       "      <td>1.050477</td>\n",
       "      <td>2.986767</td>\n",
       "      <td>1.432235e+09</td>\n",
       "      <td>1.411007</td>\n",
       "    </tr>\n",
       "    <tr>\n",
       "      <th>2</th>\n",
       "      <td>2</td>\n",
       "      <td>0.115132</td>\n",
       "      <td>-0.031743</td>\n",
       "      <td>0.992843</td>\n",
       "      <td>1.456253</td>\n",
       "      <td>6.014162</td>\n",
       "      <td>0.130991</td>\n",
       "      <td>0.119714</td>\n",
       "      <td>2.870079</td>\n",
       "      <td>1.432235e+09</td>\n",
       "      <td>0.828670</td>\n",
       "    </tr>\n",
       "    <tr>\n",
       "      <th>3</th>\n",
       "      <td>3</td>\n",
       "      <td>-0.015442</td>\n",
       "      <td>-0.723127</td>\n",
       "      <td>0.690543</td>\n",
       "      <td>3.614192</td>\n",
       "      <td>4.691038</td>\n",
       "      <td>1.913141</td>\n",
       "      <td>0.808557</td>\n",
       "      <td>5.030271</td>\n",
       "      <td>1.432235e+09</td>\n",
       "      <td>0.526010</td>\n",
       "    </tr>\n",
       "    <tr>\n",
       "      <th>4</th>\n",
       "      <td>4</td>\n",
       "      <td>-0.256567</td>\n",
       "      <td>0.932382</td>\n",
       "      <td>-0.254633</td>\n",
       "      <td>100.899757</td>\n",
       "      <td>1.839324</td>\n",
       "      <td>76.295578</td>\n",
       "      <td>1.828265</td>\n",
       "      <td>92.478012</td>\n",
       "      <td>1.432235e+09</td>\n",
       "      <td>0.099553</td>\n",
       "    </tr>\n",
       "  </tbody>\n",
       "</table>\n",
       "</div>"
      ],
      "text/plain": [
       "   Unnamed: 0  direction_x  direction_y  direction_z  direction_kappa  \\\n",
       "0           0     0.901128     0.359141     0.242868         1.555977   \n",
       "1           1     0.544742     0.675345     0.497157         0.502275   \n",
       "2           2     0.115132    -0.031743     0.992843         1.456253   \n",
       "3           3    -0.015442    -0.723127     0.690543         3.614192   \n",
       "4           4    -0.256567     0.932382    -0.254633       100.899757   \n",
       "\n",
       "    azimuth  azimuth_kappa    zenith  zenith_kappa      event_id     sigma  \n",
       "0  0.379253       1.015917  1.325475      5.390041  1.432235e+09  0.801675  \n",
       "1  0.892036       0.370466  1.050477      2.986767  1.432235e+09  1.411007  \n",
       "2  6.014162       0.130991  0.119714      2.870079  1.432235e+09  0.828670  \n",
       "3  4.691038       1.913141  0.808557      5.030271  1.432235e+09  0.526010  \n",
       "4  1.839324      76.295578  1.828265     92.478012  1.432235e+09  0.099553  "
      ]
     },
     "execution_count": 24,
     "metadata": {},
     "output_type": "execute_result"
    }
   ],
   "source": [
    "results.head()"
   ]
  },
  {
   "cell_type": "code",
   "execution_count": 62,
   "id": "c415bf79",
   "metadata": {
    "scrolled": true
   },
   "outputs": [
    {
     "data": {
      "text/html": [
       "<div>\n",
       "<style scoped>\n",
       "    .dataframe tbody tr th:only-of-type {\n",
       "        vertical-align: middle;\n",
       "    }\n",
       "\n",
       "    .dataframe tbody tr th {\n",
       "        vertical-align: top;\n",
       "    }\n",
       "\n",
       "    .dataframe thead th {\n",
       "        text-align: right;\n",
       "    }\n",
       "</style>\n",
       "<table border=\"1\" class=\"dataframe\">\n",
       "  <thead>\n",
       "    <tr style=\"text-align: right;\">\n",
       "      <th></th>\n",
       "      <th>Unnamed: 0</th>\n",
       "      <th>direction_x</th>\n",
       "      <th>direction_y</th>\n",
       "      <th>direction_z</th>\n",
       "      <th>direction_kappa</th>\n",
       "      <th>zenith</th>\n",
       "      <th>azimuth</th>\n",
       "      <th>sigma</th>\n",
       "    </tr>\n",
       "    <tr>\n",
       "      <th>event_id</th>\n",
       "      <th></th>\n",
       "      <th></th>\n",
       "      <th></th>\n",
       "      <th></th>\n",
       "      <th></th>\n",
       "      <th></th>\n",
       "      <th></th>\n",
       "      <th></th>\n",
       "    </tr>\n",
       "  </thead>\n",
       "  <tbody>\n",
       "    <tr>\n",
       "      <th>1432234834</th>\n",
       "      <td>0</td>\n",
       "      <td>-0.124022</td>\n",
       "      <td>0.992091</td>\n",
       "      <td>0.019362</td>\n",
       "      <td>2.894616</td>\n",
       "      <td>1.551433</td>\n",
       "      <td>1.695162</td>\n",
       "      <td>0.587766</td>\n",
       "    </tr>\n",
       "    <tr>\n",
       "      <th>1432234838</th>\n",
       "      <td>1</td>\n",
       "      <td>0.586491</td>\n",
       "      <td>0.727754</td>\n",
       "      <td>0.355531</td>\n",
       "      <td>0.833539</td>\n",
       "      <td>1.207314</td>\n",
       "      <td>0.892474</td>\n",
       "      <td>1.095310</td>\n",
       "    </tr>\n",
       "    <tr>\n",
       "      <th>1432234846</th>\n",
       "      <td>2</td>\n",
       "      <td>0.166472</td>\n",
       "      <td>-0.066723</td>\n",
       "      <td>0.983786</td>\n",
       "      <td>0.812608</td>\n",
       "      <td>0.180322</td>\n",
       "      <td>5.901983</td>\n",
       "      <td>1.109327</td>\n",
       "    </tr>\n",
       "    <tr>\n",
       "      <th>1432234917</th>\n",
       "      <td>3</td>\n",
       "      <td>-0.786503</td>\n",
       "      <td>-0.596931</td>\n",
       "      <td>-0.158386</td>\n",
       "      <td>0.267635</td>\n",
       "      <td>1.729852</td>\n",
       "      <td>3.790809</td>\n",
       "      <td>1.932985</td>\n",
       "    </tr>\n",
       "    <tr>\n",
       "      <th>1432234937</th>\n",
       "      <td>4</td>\n",
       "      <td>0.644464</td>\n",
       "      <td>-0.105048</td>\n",
       "      <td>-0.757382</td>\n",
       "      <td>0.096373</td>\n",
       "      <td>2.430093</td>\n",
       "      <td>6.121606</td>\n",
       "      <td>3.221237</td>\n",
       "    </tr>\n",
       "  </tbody>\n",
       "</table>\n",
       "</div>"
      ],
      "text/plain": [
       "            Unnamed: 0  direction_x  direction_y  direction_z  \\\n",
       "event_id                                                        \n",
       "1432234834           0    -0.124022     0.992091     0.019362   \n",
       "1432234838           1     0.586491     0.727754     0.355531   \n",
       "1432234846           2     0.166472    -0.066723     0.983786   \n",
       "1432234917           3    -0.786503    -0.596931    -0.158386   \n",
       "1432234937           4     0.644464    -0.105048    -0.757382   \n",
       "\n",
       "            direction_kappa    zenith   azimuth     sigma  \n",
       "event_id                                                   \n",
       "1432234834         2.894616  1.551433  1.695162  0.587766  \n",
       "1432234838         0.833539  1.207314  0.892474  1.095310  \n",
       "1432234846         0.812608  0.180322  5.901983  1.109327  \n",
       "1432234917         0.267635  1.729852  3.790809  1.932985  \n",
       "1432234937         0.096373  2.430093  6.121606  3.221237  "
      ]
     },
     "execution_count": 62,
     "metadata": {},
     "output_type": "execute_result"
    }
   ],
   "source": [
    "results2.head()"
   ]
  },
  {
   "cell_type": "code",
   "execution_count": 19,
   "id": "b565b294",
   "metadata": {},
   "outputs": [
    {
     "data": {
      "text/plain": [
       "(148532, 8)"
      ]
     },
     "execution_count": 19,
     "metadata": {},
     "output_type": "execute_result"
    }
   ],
   "source": [
    "results_by2 = results.loc[results2.index, :]\n",
    "results_by2.shape"
   ]
  },
  {
   "cell_type": "code",
   "execution_count": 20,
   "id": "0dbea157",
   "metadata": {},
   "outputs": [
    {
     "data": {
      "text/html": [
       "<div>\n",
       "<style scoped>\n",
       "    .dataframe tbody tr th:only-of-type {\n",
       "        vertical-align: middle;\n",
       "    }\n",
       "\n",
       "    .dataframe tbody tr th {\n",
       "        vertical-align: top;\n",
       "    }\n",
       "\n",
       "    .dataframe thead th {\n",
       "        text-align: right;\n",
       "    }\n",
       "</style>\n",
       "<table border=\"1\" class=\"dataframe\">\n",
       "  <thead>\n",
       "    <tr style=\"text-align: right;\">\n",
       "      <th></th>\n",
       "      <th>Unnamed: 0</th>\n",
       "      <th>direction_x</th>\n",
       "      <th>direction_y</th>\n",
       "      <th>direction_z</th>\n",
       "      <th>direction_kappa</th>\n",
       "      <th>zenith</th>\n",
       "      <th>azimuth</th>\n",
       "      <th>sigma</th>\n",
       "    </tr>\n",
       "    <tr>\n",
       "      <th>event_id</th>\n",
       "      <th></th>\n",
       "      <th></th>\n",
       "      <th></th>\n",
       "      <th></th>\n",
       "      <th></th>\n",
       "      <th></th>\n",
       "      <th></th>\n",
       "      <th></th>\n",
       "    </tr>\n",
       "  </thead>\n",
       "  <tbody>\n",
       "    <tr>\n",
       "      <th>1432234834</th>\n",
       "      <td>0.0</td>\n",
       "      <td>-0.102788</td>\n",
       "      <td>0.994183</td>\n",
       "      <td>-0.004348</td>\n",
       "      <td>2.894502</td>\n",
       "      <td>1.575146</td>\n",
       "      <td>1.673818</td>\n",
       "      <td>0.587778</td>\n",
       "    </tr>\n",
       "    <tr>\n",
       "      <th>1432234838</th>\n",
       "      <td>1.0</td>\n",
       "      <td>0.597660</td>\n",
       "      <td>0.667917</td>\n",
       "      <td>-0.441147</td>\n",
       "      <td>0.188733</td>\n",
       "      <td>2.028100</td>\n",
       "      <td>0.840431</td>\n",
       "      <td>2.304098</td>\n",
       "    </tr>\n",
       "    <tr>\n",
       "      <th>1432234846</th>\n",
       "      <td>2.0</td>\n",
       "      <td>-0.115796</td>\n",
       "      <td>-0.434503</td>\n",
       "      <td>0.875112</td>\n",
       "      <td>0.678009</td>\n",
       "      <td>0.490743</td>\n",
       "      <td>4.520961</td>\n",
       "      <td>1.218681</td>\n",
       "    </tr>\n",
       "    <tr>\n",
       "      <th>1432234917</th>\n",
       "      <td>4.0</td>\n",
       "      <td>-0.862538</td>\n",
       "      <td>-0.491403</td>\n",
       "      <td>-0.041865</td>\n",
       "      <td>0.345676</td>\n",
       "      <td>1.612849</td>\n",
       "      <td>3.659708</td>\n",
       "      <td>1.705794</td>\n",
       "    </tr>\n",
       "    <tr>\n",
       "      <th>1432234937</th>\n",
       "      <td>6.0</td>\n",
       "      <td>-0.182318</td>\n",
       "      <td>-0.040937</td>\n",
       "      <td>-0.981761</td>\n",
       "      <td>0.260817</td>\n",
       "      <td>2.952062</td>\n",
       "      <td>3.345256</td>\n",
       "      <td>1.959414</td>\n",
       "    </tr>\n",
       "  </tbody>\n",
       "</table>\n",
       "</div>"
      ],
      "text/plain": [
       "            Unnamed: 0  direction_x  direction_y  direction_z  \\\n",
       "event_id                                                        \n",
       "1432234834         0.0    -0.102788     0.994183    -0.004348   \n",
       "1432234838         1.0     0.597660     0.667917    -0.441147   \n",
       "1432234846         2.0    -0.115796    -0.434503     0.875112   \n",
       "1432234917         4.0    -0.862538    -0.491403    -0.041865   \n",
       "1432234937         6.0    -0.182318    -0.040937    -0.981761   \n",
       "\n",
       "            direction_kappa    zenith   azimuth     sigma  \n",
       "event_id                                                   \n",
       "1432234834         2.894502  1.575146  1.673818  0.587778  \n",
       "1432234838         0.188733  2.028100  0.840431  2.304098  \n",
       "1432234846         0.678009  0.490743  4.520961  1.218681  \n",
       "1432234917         0.345676  1.612849  3.659708  1.705794  \n",
       "1432234937         0.260817  2.952062  3.345256  1.959414  "
      ]
     },
     "execution_count": 20,
     "metadata": {},
     "output_type": "execute_result"
    }
   ],
   "source": [
    "results_merge_1_2 = (results_by2 + results2) / 2\n",
    "results_merge_1_2.head()"
   ]
  },
  {
   "cell_type": "code",
   "execution_count": 22,
   "id": "92b0318e",
   "metadata": {},
   "outputs": [
    {
     "name": "stderr",
     "output_type": "stream",
     "text": [
      "/home/jovyan/working/src/ice_cube/submission.py:16: SettingWithCopyWarning: \n",
      "A value is trying to be set on a copy of a slice from a DataFrame\n",
      "\n",
      "See the caveats in the documentation: https://pandas.pydata.org/pandas-docs/stable/user_guide/indexing.html#returning-a-view-versus-a-copy\n",
      "  df[\"azimuth\" + angle_post_fix][df[\"azimuth\" + angle_post_fix] < 0] + 2 * np.pi\n"
     ]
    }
   ],
   "source": [
    "submission_merge_1_2 = to_submission_df(results_merge_1_2.reset_index())"
   ]
  },
  {
   "cell_type": "code",
   "execution_count": 23,
   "id": "22ae2511",
   "metadata": {},
   "outputs": [
    {
     "data": {
      "text/html": [
       "<div>\n",
       "<style scoped>\n",
       "    .dataframe tbody tr th:only-of-type {\n",
       "        vertical-align: middle;\n",
       "    }\n",
       "\n",
       "    .dataframe tbody tr th {\n",
       "        vertical-align: top;\n",
       "    }\n",
       "\n",
       "    .dataframe thead th {\n",
       "        text-align: right;\n",
       "    }\n",
       "</style>\n",
       "<table border=\"1\" class=\"dataframe\">\n",
       "  <thead>\n",
       "    <tr style=\"text-align: right;\">\n",
       "      <th></th>\n",
       "      <th>azimuth</th>\n",
       "      <th>zenith</th>\n",
       "    </tr>\n",
       "    <tr>\n",
       "      <th>event_id</th>\n",
       "      <th></th>\n",
       "      <th></th>\n",
       "    </tr>\n",
       "  </thead>\n",
       "  <tbody>\n",
       "    <tr>\n",
       "      <th>1432234834</th>\n",
       "      <td>1.673820</td>\n",
       "      <td>1.575147</td>\n",
       "    </tr>\n",
       "    <tr>\n",
       "      <th>1432234838</th>\n",
       "      <td>0.840855</td>\n",
       "      <td>2.028185</td>\n",
       "    </tr>\n",
       "    <tr>\n",
       "      <th>1432234846</th>\n",
       "      <td>4.451941</td>\n",
       "      <td>0.474659</td>\n",
       "    </tr>\n",
       "    <tr>\n",
       "      <th>1432234917</th>\n",
       "      <td>3.659448</td>\n",
       "      <td>1.612945</td>\n",
       "    </tr>\n",
       "    <tr>\n",
       "      <th>1432234937</th>\n",
       "      <td>3.362466</td>\n",
       "      <td>2.953513</td>\n",
       "    </tr>\n",
       "    <tr>\n",
       "      <th>...</th>\n",
       "      <td>...</td>\n",
       "      <td>...</td>\n",
       "    </tr>\n",
       "    <tr>\n",
       "      <th>1435497073</th>\n",
       "      <td>5.068901</td>\n",
       "      <td>0.057701</td>\n",
       "    </tr>\n",
       "    <tr>\n",
       "      <th>1435497074</th>\n",
       "      <td>6.127422</td>\n",
       "      <td>0.589909</td>\n",
       "    </tr>\n",
       "    <tr>\n",
       "      <th>1435497101</th>\n",
       "      <td>3.436867</td>\n",
       "      <td>0.297920</td>\n",
       "    </tr>\n",
       "    <tr>\n",
       "      <th>1435497111</th>\n",
       "      <td>2.017393</td>\n",
       "      <td>1.085265</td>\n",
       "    </tr>\n",
       "    <tr>\n",
       "      <th>1435497125</th>\n",
       "      <td>4.399619</td>\n",
       "      <td>0.650725</td>\n",
       "    </tr>\n",
       "  </tbody>\n",
       "</table>\n",
       "<p>148532 rows × 2 columns</p>\n",
       "</div>"
      ],
      "text/plain": [
       "             azimuth    zenith\n",
       "event_id                      \n",
       "1432234834  1.673820  1.575147\n",
       "1432234838  0.840855  2.028185\n",
       "1432234846  4.451941  0.474659\n",
       "1432234917  3.659448  1.612945\n",
       "1432234937  3.362466  2.953513\n",
       "...              ...       ...\n",
       "1435497073  5.068901  0.057701\n",
       "1435497074  6.127422  0.589909\n",
       "1435497101  3.436867  0.297920\n",
       "1435497111  2.017393  1.085265\n",
       "1435497125  4.399619  0.650725\n",
       "\n",
       "[148532 rows x 2 columns]"
      ]
     },
     "execution_count": 23,
     "metadata": {},
     "output_type": "execute_result"
    }
   ],
   "source": [
    "submission_merge_1_2"
   ]
  },
  {
   "cell_type": "code",
   "execution_count": 21,
   "id": "3b10fbf1",
   "metadata": {},
   "outputs": [],
   "source": [
    "valid_df.set_index(\"event_id\", inplace=True)\n",
    "valid2_df.set_index(\"event_id\", inplace=True)"
   ]
  },
  {
   "cell_type": "code",
   "execution_count": 24,
   "id": "013c8eae",
   "metadata": {},
   "outputs": [],
   "source": [
    "score_merge_1_2 = angular_dist_df(\n",
    "    valid2_df[\"azimuth\"], valid2_df[\"zenith\"], submission_merge_1_2[\"azimuth\"], submission_merge_1_2[\"zenith\"])"
   ]
  },
  {
   "cell_type": "code",
   "execution_count": 25,
   "id": "8e5e47fe",
   "metadata": {},
   "outputs": [
    {
     "data": {
      "text/plain": [
       "<seaborn.axisgrid.FacetGrid at 0x7f95b7ee6390>"
      ]
     },
     "execution_count": 25,
     "metadata": {},
     "output_type": "execute_result"
    },
    {
     "data": {
      "image/png": "[encoded data removed]",
      "text/plain": [
       "<Figure size 500x500 with 1 Axes>"
      ]
     },
     "metadata": {},
     "output_type": "display_data"
    }
   ],
   "source": [
    "sns.displot(score_merge_1_2)"
   ]
  },
  {
   "cell_type": "code",
   "execution_count": 26,
   "id": "851e5c0d",
   "metadata": {},
   "outputs": [],
   "source": [
    "# results.loc[results2.index, :] = results2\n",
    "results.loc[results2.index, :] = results_merge_1_2"
   ]
  },
  {
   "cell_type": "code",
   "execution_count": 27,
   "id": "a6d4db43",
   "metadata": {
    "scrolled": true
   },
   "outputs": [
    {
     "name": "stderr",
     "output_type": "stream",
     "text": [
      "/home/jovyan/working/src/ice_cube/submission.py:16: SettingWithCopyWarning: \n",
      "A value is trying to be set on a copy of a slice from a DataFrame\n",
      "\n",
      "See the caveats in the documentation: https://pandas.pydata.org/pandas-docs/stable/user_guide/indexing.html#returning-a-view-versus-a-copy\n",
      "  df[\"azimuth\" + angle_post_fix][df[\"azimuth\" + angle_post_fix] < 0] + 2 * np.pi\n"
     ]
    }
   ],
   "source": [
    "submission_merge_1_2 = to_submission_df(results.reset_index())"
   ]
  },
  {
   "cell_type": "code",
   "execution_count": 28,
   "id": "e29dd312",
   "metadata": {},
   "outputs": [
    {
     "data": {
      "text/html": [
       "<div>\n",
       "<style scoped>\n",
       "    .dataframe tbody tr th:only-of-type {\n",
       "        vertical-align: middle;\n",
       "    }\n",
       "\n",
       "    .dataframe tbody tr th {\n",
       "        vertical-align: top;\n",
       "    }\n",
       "\n",
       "    .dataframe thead th {\n",
       "        text-align: right;\n",
       "    }\n",
       "</style>\n",
       "<table border=\"1\" class=\"dataframe\">\n",
       "  <thead>\n",
       "    <tr style=\"text-align: right;\">\n",
       "      <th></th>\n",
       "      <th>azimuth</th>\n",
       "      <th>zenith</th>\n",
       "    </tr>\n",
       "    <tr>\n",
       "      <th>event_id</th>\n",
       "      <th></th>\n",
       "      <th></th>\n",
       "    </tr>\n",
       "  </thead>\n",
       "  <tbody>\n",
       "    <tr>\n",
       "      <th>1432234834</th>\n",
       "      <td>1.673820</td>\n",
       "      <td>1.575147</td>\n",
       "    </tr>\n",
       "    <tr>\n",
       "      <th>1432234838</th>\n",
       "      <td>0.840855</td>\n",
       "      <td>2.028185</td>\n",
       "    </tr>\n",
       "    <tr>\n",
       "      <th>1432234846</th>\n",
       "      <td>4.451941</td>\n",
       "      <td>0.474659</td>\n",
       "    </tr>\n",
       "    <tr>\n",
       "      <th>1432234854</th>\n",
       "      <td>4.588594</td>\n",
       "      <td>1.065593</td>\n",
       "    </tr>\n",
       "    <tr>\n",
       "      <th>1432234879</th>\n",
       "      <td>1.863749</td>\n",
       "      <td>1.833284</td>\n",
       "    </tr>\n",
       "    <tr>\n",
       "      <th>...</th>\n",
       "      <td>...</td>\n",
       "      <td>...</td>\n",
       "    </tr>\n",
       "    <tr>\n",
       "      <th>1435497101</th>\n",
       "      <td>3.436867</td>\n",
       "      <td>0.297920</td>\n",
       "    </tr>\n",
       "    <tr>\n",
       "      <th>1435497102</th>\n",
       "      <td>2.605219</td>\n",
       "      <td>2.510653</td>\n",
       "    </tr>\n",
       "    <tr>\n",
       "      <th>1435497111</th>\n",
       "      <td>2.017393</td>\n",
       "      <td>1.085265</td>\n",
       "    </tr>\n",
       "    <tr>\n",
       "      <th>1435497125</th>\n",
       "      <td>4.399619</td>\n",
       "      <td>0.650725</td>\n",
       "    </tr>\n",
       "    <tr>\n",
       "      <th>1435497129</th>\n",
       "      <td>5.605618</td>\n",
       "      <td>1.873144</td>\n",
       "    </tr>\n",
       "  </tbody>\n",
       "</table>\n",
       "<p>200000 rows × 2 columns</p>\n",
       "</div>"
      ],
      "text/plain": [
       "             azimuth    zenith\n",
       "event_id                      \n",
       "1432234834  1.673820  1.575147\n",
       "1432234838  0.840855  2.028185\n",
       "1432234846  4.451941  0.474659\n",
       "1432234854  4.588594  1.065593\n",
       "1432234879  1.863749  1.833284\n",
       "...              ...       ...\n",
       "1435497101  3.436867  0.297920\n",
       "1435497102  2.605219  2.510653\n",
       "1435497111  2.017393  1.085265\n",
       "1435497125  4.399619  0.650725\n",
       "1435497129  5.605618  1.873144\n",
       "\n",
       "[200000 rows x 2 columns]"
      ]
     },
     "execution_count": 28,
     "metadata": {},
     "output_type": "execute_result"
    }
   ],
   "source": [
    "submission_merge_1_2"
   ]
  },
  {
   "cell_type": "code",
   "execution_count": 29,
   "id": "2df12638",
   "metadata": {},
   "outputs": [],
   "source": [
    "score_merge_1_2 = angular_dist_df(valid_df[\"azimuth\"], valid_df[\"zenith\"], submission_merge_1_2[\"azimuth\"], submission_merge_1_2[\"zenith\"])"
   ]
  },
  {
   "cell_type": "code",
   "execution_count": 30,
   "id": "fc756c17",
   "metadata": {},
   "outputs": [
    {
     "data": {
      "text/plain": [
       "event_id\n",
       "1.432235e+09    0.611386\n",
       "1.432235e+09    1.183810\n",
       "1.432235e+09    1.357970\n",
       "1.432235e+09    0.049841\n",
       "1.432235e+09    0.046228\n",
       "                  ...   \n",
       "1.435497e+09    2.733143\n",
       "1.435497e+09    0.040609\n",
       "1.435497e+09    0.668985\n",
       "1.435497e+09    0.990985\n",
       "1.435497e+09    0.200903\n",
       "Length: 200000, dtype: float64"
      ]
     },
     "execution_count": 30,
     "metadata": {},
     "output_type": "execute_result"
    }
   ],
   "source": [
    "score_merge_1_2"
   ]
  },
  {
   "cell_type": "code",
   "execution_count": 31,
   "id": "b848bf6e",
   "metadata": {},
   "outputs": [
    {
     "data": {
      "text/plain": [
       "<seaborn.axisgrid.FacetGrid at 0x7f95b79ea210>"
      ]
     },
     "execution_count": 31,
     "metadata": {},
     "output_type": "execute_result"
    },
    {
     "data": {
      "image/png": "[encoded data removed]",
      "text/plain": [
       "<Figure size 500x500 with 1 Axes>"
      ]
     },
     "metadata": {},
     "output_type": "display_data"
    }
   ],
   "source": [
    "sns.displot(score_merge_1_2)"
   ]
  },
  {
   "cell_type": "code",
   "execution_count": 32,
   "id": "a43ad4c5",
   "metadata": {},
   "outputs": [
    {
     "data": {
      "text/plain": [
       "1.0181866998046665"
      ]
     },
     "execution_count": 32,
     "metadata": {},
     "output_type": "execute_result"
    }
   ],
   "source": [
    "angular_dist_score(valid_df[\"azimuth\"], valid_df[\"zenith\"], submission_merge_1_2[\"azimuth\"], submission_merge_1_2[\"zenith\"])"
   ]
  },
  {
   "cell_type": "code",
   "execution_count": null,
   "id": "99db6a69",
   "metadata": {},
   "outputs": [],
   "source": []
  },
  {
   "cell_type": "code",
   "execution_count": 13,
   "id": "2b2d9d4d",
   "metadata": {},
   "outputs": [
    {
     "data": {
      "text/html": [
       "<div>\n",
       "<style scoped>\n",
       "    .dataframe tbody tr th:only-of-type {\n",
       "        vertical-align: middle;\n",
       "    }\n",
       "\n",
       "    .dataframe tbody tr th {\n",
       "        vertical-align: top;\n",
       "    }\n",
       "\n",
       "    .dataframe thead th {\n",
       "        text-align: right;\n",
       "    }\n",
       "</style>\n",
       "<table border=\"1\" class=\"dataframe\">\n",
       "  <thead>\n",
       "    <tr style=\"text-align: right;\">\n",
       "      <th></th>\n",
       "      <th>Unnamed: 0</th>\n",
       "      <th>direction_x</th>\n",
       "      <th>direction_y</th>\n",
       "      <th>direction_z</th>\n",
       "      <th>direction_kappa</th>\n",
       "      <th>azimuth</th>\n",
       "      <th>azimuth_kappa</th>\n",
       "      <th>zenith</th>\n",
       "      <th>zenith_kappa</th>\n",
       "      <th>event_id</th>\n",
       "      <th>sigma</th>\n",
       "    </tr>\n",
       "  </thead>\n",
       "  <tbody>\n",
       "    <tr>\n",
       "      <th>0</th>\n",
       "      <td>0</td>\n",
       "      <td>0.901128</td>\n",
       "      <td>0.359141</td>\n",
       "      <td>0.242868</td>\n",
       "      <td>1.555977</td>\n",
       "      <td>0.379253</td>\n",
       "      <td>1.015917</td>\n",
       "      <td>1.325475</td>\n",
       "      <td>5.390041</td>\n",
       "      <td>1.432235e+09</td>\n",
       "      <td>0.801675</td>\n",
       "    </tr>\n",
       "    <tr>\n",
       "      <th>1</th>\n",
       "      <td>1</td>\n",
       "      <td>0.544742</td>\n",
       "      <td>0.675345</td>\n",
       "      <td>0.497157</td>\n",
       "      <td>0.502275</td>\n",
       "      <td>0.892036</td>\n",
       "      <td>0.370466</td>\n",
       "      <td>1.050477</td>\n",
       "      <td>2.986767</td>\n",
       "      <td>1.432235e+09</td>\n",
       "      <td>1.411007</td>\n",
       "    </tr>\n",
       "    <tr>\n",
       "      <th>2</th>\n",
       "      <td>2</td>\n",
       "      <td>0.115132</td>\n",
       "      <td>-0.031743</td>\n",
       "      <td>0.992843</td>\n",
       "      <td>1.456253</td>\n",
       "      <td>6.014162</td>\n",
       "      <td>0.130991</td>\n",
       "      <td>0.119714</td>\n",
       "      <td>2.870079</td>\n",
       "      <td>1.432235e+09</td>\n",
       "      <td>0.828670</td>\n",
       "    </tr>\n",
       "    <tr>\n",
       "      <th>3</th>\n",
       "      <td>3</td>\n",
       "      <td>-0.015442</td>\n",
       "      <td>-0.723127</td>\n",
       "      <td>0.690543</td>\n",
       "      <td>3.614192</td>\n",
       "      <td>4.691038</td>\n",
       "      <td>1.913141</td>\n",
       "      <td>0.808557</td>\n",
       "      <td>5.030271</td>\n",
       "      <td>1.432235e+09</td>\n",
       "      <td>0.526010</td>\n",
       "    </tr>\n",
       "    <tr>\n",
       "      <th>4</th>\n",
       "      <td>4</td>\n",
       "      <td>-0.256567</td>\n",
       "      <td>0.932382</td>\n",
       "      <td>-0.254633</td>\n",
       "      <td>100.899757</td>\n",
       "      <td>1.839324</td>\n",
       "      <td>76.295578</td>\n",
       "      <td>1.828265</td>\n",
       "      <td>92.478012</td>\n",
       "      <td>1.432235e+09</td>\n",
       "      <td>0.099553</td>\n",
       "    </tr>\n",
       "  </tbody>\n",
       "</table>\n",
       "</div>"
      ],
      "text/plain": [
       "   Unnamed: 0  direction_x  direction_y  direction_z  direction_kappa  \\\n",
       "0           0     0.901128     0.359141     0.242868         1.555977   \n",
       "1           1     0.544742     0.675345     0.497157         0.502275   \n",
       "2           2     0.115132    -0.031743     0.992843         1.456253   \n",
       "3           3    -0.015442    -0.723127     0.690543         3.614192   \n",
       "4           4    -0.256567     0.932382    -0.254633       100.899757   \n",
       "\n",
       "    azimuth  azimuth_kappa    zenith  zenith_kappa      event_id     sigma  \n",
       "0  0.379253       1.015917  1.325475      5.390041  1.432235e+09  0.801675  \n",
       "1  0.892036       0.370466  1.050477      2.986767  1.432235e+09  1.411007  \n",
       "2  6.014162       0.130991  0.119714      2.870079  1.432235e+09  0.828670  \n",
       "3  4.691038       1.913141  0.808557      5.030271  1.432235e+09  0.526010  \n",
       "4  1.839324      76.295578  1.828265     92.478012  1.432235e+09  0.099553  "
      ]
     },
     "execution_count": 13,
     "metadata": {},
     "output_type": "execute_result"
    }
   ],
   "source": [
    "results.head()"
   ]
  },
  {
   "cell_type": "code",
   "execution_count": 16,
   "id": "6bedbdf9",
   "metadata": {},
   "outputs": [
    {
     "data": {
      "text/html": [
       "<div>\n",
       "<style scoped>\n",
       "    .dataframe tbody tr th:only-of-type {\n",
       "        vertical-align: middle;\n",
       "    }\n",
       "\n",
       "    .dataframe tbody tr th {\n",
       "        vertical-align: top;\n",
       "    }\n",
       "\n",
       "    .dataframe thead th {\n",
       "        text-align: right;\n",
       "    }\n",
       "</style>\n",
       "<table border=\"1\" class=\"dataframe\">\n",
       "  <thead>\n",
       "    <tr style=\"text-align: right;\">\n",
       "      <th></th>\n",
       "      <th>Unnamed: 0</th>\n",
       "      <th>direction_x</th>\n",
       "      <th>direction_y</th>\n",
       "      <th>direction_z</th>\n",
       "      <th>direction_kappa</th>\n",
       "      <th>event_id</th>\n",
       "      <th>zenith</th>\n",
       "      <th>azimuth</th>\n",
       "      <th>sigma</th>\n",
       "    </tr>\n",
       "  </thead>\n",
       "  <tbody>\n",
       "    <tr>\n",
       "      <th>0</th>\n",
       "      <td>0</td>\n",
       "      <td>-0.074376</td>\n",
       "      <td>0.996926</td>\n",
       "      <td>-0.024626</td>\n",
       "      <td>2.870604</td>\n",
       "      <td>1.432235e+09</td>\n",
       "      <td>1.595425</td>\n",
       "      <td>1.645264</td>\n",
       "      <td>0.590219</td>\n",
       "    </tr>\n",
       "    <tr>\n",
       "      <th>1</th>\n",
       "      <td>1</td>\n",
       "      <td>0.594332</td>\n",
       "      <td>0.694523</td>\n",
       "      <td>-0.405470</td>\n",
       "      <td>0.198440</td>\n",
       "      <td>1.432235e+09</td>\n",
       "      <td>1.988289</td>\n",
       "      <td>0.862979</td>\n",
       "      <td>2.244841</td>\n",
       "    </tr>\n",
       "    <tr>\n",
       "      <th>2</th>\n",
       "      <td>2</td>\n",
       "      <td>-0.265701</td>\n",
       "      <td>-0.512691</td>\n",
       "      <td>0.816425</td>\n",
       "      <td>0.612693</td>\n",
       "      <td>1.432235e+09</td>\n",
       "      <td>0.615603</td>\n",
       "      <td>4.234250</td>\n",
       "      <td>1.277552</td>\n",
       "    </tr>\n",
       "    <tr>\n",
       "      <th>3</th>\n",
       "      <td>3</td>\n",
       "      <td>-0.108214</td>\n",
       "      <td>-0.868300</td>\n",
       "      <td>0.484092</td>\n",
       "      <td>57.566296</td>\n",
       "      <td>1.432235e+09</td>\n",
       "      <td>1.065472</td>\n",
       "      <td>4.588400</td>\n",
       "      <td>0.131800</td>\n",
       "    </tr>\n",
       "    <tr>\n",
       "      <th>4</th>\n",
       "      <td>4</td>\n",
       "      <td>-0.278886</td>\n",
       "      <td>0.924595</td>\n",
       "      <td>-0.259510</td>\n",
       "      <td>112.786552</td>\n",
       "      <td>1.432235e+09</td>\n",
       "      <td>1.833312</td>\n",
       "      <td>1.863748</td>\n",
       "      <td>0.094161</td>\n",
       "    </tr>\n",
       "  </tbody>\n",
       "</table>\n",
       "</div>"
      ],
      "text/plain": [
       "   Unnamed: 0  direction_x  direction_y  direction_z  direction_kappa  \\\n",
       "0           0    -0.074376     0.996926    -0.024626         2.870604   \n",
       "1           1     0.594332     0.694523    -0.405470         0.198440   \n",
       "2           2    -0.265701    -0.512691     0.816425         0.612693   \n",
       "3           3    -0.108214    -0.868300     0.484092        57.566296   \n",
       "4           4    -0.278886     0.924595    -0.259510       112.786552   \n",
       "\n",
       "       event_id    zenith   azimuth     sigma  \n",
       "0  1.432235e+09  1.595425  1.645264  0.590219  \n",
       "1  1.432235e+09  1.988289  0.862979  2.244841  \n",
       "2  1.432235e+09  0.615603  4.234250  1.277552  \n",
       "3  1.432235e+09  1.065472  4.588400  0.131800  \n",
       "4  1.432235e+09  1.833312  1.863748  0.094161  "
      ]
     },
     "execution_count": 16,
     "metadata": {},
     "output_type": "execute_result"
    }
   ],
   "source": [
    "results_pub.head()"
   ]
  },
  {
   "cell_type": "code",
   "execution_count": 17,
   "id": "f6da7ae5",
   "metadata": {},
   "outputs": [],
   "source": [
    "res = (results + results_pub) / 2"
   ]
  },
  {
   "cell_type": "code",
   "execution_count": 18,
   "id": "e2865af0",
   "metadata": {},
   "outputs": [],
   "source": [
    "sub = to_submission_df(res)"
   ]
  },
  {
   "cell_type": "code",
   "execution_count": 14,
   "id": "3d15a537",
   "metadata": {},
   "outputs": [],
   "source": [
    "valid_df.set_index(\"event_id\", inplace=True)"
   ]
  },
  {
   "cell_type": "code",
   "execution_count": 19,
   "id": "ce697edc",
   "metadata": {},
   "outputs": [
    {
     "data": {
      "text/plain": [
       "1.145700295925219"
      ]
     },
     "execution_count": 19,
     "metadata": {},
     "output_type": "execute_result"
    }
   ],
   "source": [
    "angular_dist_score(valid_df[\"azimuth\"], valid_df[\"zenith\"], sub[\"azimuth\"], sub[\"zenith\"])"
   ]
  },
  {
   "cell_type": "code",
   "execution_count": null,
   "id": "b19e94ed",
   "metadata": {},
   "outputs": [],
   "source": []
  },
  {
   "cell_type": "code",
   "execution_count": 11,
   "id": "00a04973",
   "metadata": {},
   "outputs": [
    {
     "name": "stdout",
     "output_type": "stream",
     "text": [
      "<class 'pandas.core.frame.DataFrame'>\n",
      "RangeIndex: 2000000 entries, 0 to 1999999\n",
      "Data columns (total 7 columns):\n",
      " #   Column           Dtype  \n",
      "---  ------           -----  \n",
      " 0   Unnamed: 0       int64  \n",
      " 1   direction_x      float64\n",
      " 2   direction_y      float64\n",
      " 3   direction_z      float64\n",
      " 4   direction_kappa  float64\n",
      " 5   event_id         float64\n",
      " 6   sigma            float64\n",
      "dtypes: float64(6), int64(1)\n",
      "memory usage: 106.8 MB\n"
     ]
    }
   ],
   "source": [
    "results.info()"
   ]
  },
  {
   "cell_type": "code",
   "execution_count": 12,
   "id": "116ab4a0",
   "metadata": {},
   "outputs": [
    {
     "name": "stdout",
     "output_type": "stream",
     "text": [
      "<class 'pandas.core.frame.DataFrame'>\n",
      "RangeIndex: 2000000 entries, 0 to 1999999\n",
      "Data columns (total 3 columns):\n",
      " #   Column    Dtype  \n",
      "---  ------    -----  \n",
      " 0   event_id  float64\n",
      " 1   azimuth   float64\n",
      " 2   zenith    float64\n",
      "dtypes: float64(3)\n",
      "memory usage: 45.8 MB\n"
     ]
    }
   ],
   "source": [
    "submission_df.info()"
   ]
  },
  {
   "cell_type": "code",
   "execution_count": 13,
   "id": "8bf1b624",
   "metadata": {},
   "outputs": [
    {
     "name": "stdout",
     "output_type": "stream",
     "text": [
      "<class 'pandas.core.frame.DataFrame'>\n",
      "RangeIndex: 2000000 entries, 0 to 1999999\n",
      "Data columns (total 3 columns):\n",
      " #   Column    Dtype  \n",
      "---  ------    -----  \n",
      " 0   event_id  float64\n",
      " 1   azimuth   float64\n",
      " 2   zenith    float64\n",
      "dtypes: float64(3)\n",
      "memory usage: 45.8 MB\n"
     ]
    }
   ],
   "source": [
    "valid_df.info()"
   ]
  },
  {
   "cell_type": "code",
   "execution_count": 14,
   "id": "b926d009",
   "metadata": {},
   "outputs": [
    {
     "data": {
      "text/plain": [
       "count    2.000000e+06\n",
       "mean     1.349531e+00\n",
       "std      1.086744e+00\n",
       "min      5.232671e-02\n",
       "25%      4.717798e-01\n",
       "50%      1.132926e+00\n",
       "75%      2.076096e+00\n",
       "max      2.598794e+01\n",
       "Name: sigma, dtype: float64"
      ]
     },
     "execution_count": 14,
     "metadata": {},
     "output_type": "execute_result"
    }
   ],
   "source": [
    "results[\"sigma\"].describe()"
   ]
  },
  {
   "cell_type": "code",
   "execution_count": 15,
   "id": "c6d59330",
   "metadata": {},
   "outputs": [
    {
     "data": {
      "text/plain": [
       "<seaborn.axisgrid.FacetGrid at 0x7fdd37fd7c10>"
      ]
     },
     "execution_count": 15,
     "metadata": {},
     "output_type": "execute_result"
    },
    {
     "data": {
      "image/png": "[encoded data removed]",
      "text/plain": [
       "<Figure size 500x500 with 1 Axes>"
      ]
     },
     "metadata": {},
     "output_type": "display_data"
    }
   ],
   "source": [
    "sns.displot(results[\"sigma\"])"
   ]
  },
  {
   "cell_type": "code",
   "execution_count": 22,
   "id": "a136c9eb",
   "metadata": {},
   "outputs": [
    {
     "name": "stderr",
     "output_type": "stream",
     "text": [
      "/opt/conda/lib/python3.7/site-packages/pandas/core/indexing.py:1667: SettingWithCopyWarning: \n",
      "A value is trying to be set on a copy of a slice from a DataFrame.\n",
      "Try using .loc[row_indexer,col_indexer] = value instead\n",
      "\n",
      "See the caveats in the documentation: https://pandas.pydata.org/pandas-docs/stable/user_guide/indexing.html#returning-a-view-versus-a-copy\n",
      "  self.obj[key] = value\n",
      "/opt/conda/lib/python3.7/site-packages/pandas/core/indexing.py:1773: SettingWithCopyWarning: \n",
      "A value is trying to be set on a copy of a slice from a DataFrame.\n",
      "Try using .loc[row_indexer,col_indexer] = value instead\n",
      "\n",
      "See the caveats in the documentation: https://pandas.pydata.org/pandas-docs/stable/user_guide/indexing.html#returning-a-view-versus-a-copy\n",
      "  self._setitem_single_column(ilocs[0], value, pi)\n"
     ]
    }
   ],
   "source": [
    "submission_low_sigma = to_submission_df(results[results[\"sigma\"] <= 0.5].copy())"
   ]
  },
  {
   "cell_type": "code",
   "execution_count": 20,
   "id": "f6871843",
   "metadata": {},
   "outputs": [],
   "source": [
    "def to_submission_df(df) -> pd.DataFrame:\n",
    "    if \"azimuth\" in df.columns and \"zenith\" in df.columns:\n",
    "        ...\n",
    "        # 天頂角、方位角の推論結果を 座標に変換する\n",
    "        # df[\"direction_x_az\"] = np.cos(df[\"azimuth\"]) * np.sin(df[\"zenith\"])\n",
    "        # df[\"direction_y_az\"] = np.sin(df[\"azimuth\"]) * np.sin(df[\"zenith\"])\n",
    "        # df[\"direction_z_az\"] = np.cos(df[\"zenith\"])\n",
    "\n",
    "        # 座標推論結果と平均する\n",
    "        # df[\"direction_x\"] = (df[\"direction_x\"] + df[\"direction_x_az\"]) / 2\n",
    "        # df[\"direction_y\"] = (df[\"direction_y\"] + df[\"direction_y_az\"]) / 2\n",
    "        # df[\"direction_z\"] = (df[\"direction_z\"] + df[\"direction_z_az\"]) / 2\n",
    "\n",
    "    # 座標を天頂角、方位角に変換する\n",
    "    r = np.sqrt(df[\"direction_x\"] ** 2 + df[\"direction_y\"] ** 2 + df[\"direction_z\"] ** 2)\n",
    "\n",
    "    df.loc[:, \"zenith\"] = np.arccos(df[\"direction_z\"] / r)\n",
    "    df.loc[:, \"azimuth\"] = np.arctan2(df[\"direction_y\"], df[\"direction_x\"])\n",
    "\n",
    "    # 方位角を 0-360 に補正\n",
    "    df.loc[df[\"azimuth\"] < 0, \"azimuth\"] = df[\"azimuth\"][df[\"azimuth\"] < 0] + 2 * np.pi\n",
    "\n",
    "    drop_these_columns = []\n",
    "    for column in df.columns:\n",
    "        if column not in [\"event_id\", \"zenith\", \"azimuth\"]:\n",
    "            drop_these_columns.append(column)\n",
    "\n",
    "    return df.drop(columns=drop_these_columns).loc[:, [\"event_id\", \"azimuth\", \"zenith\"]].set_index(\"event_id\")"
   ]
  }
 ],
 "metadata": {
  "kernelspec": {
   "display_name": "Python 3 (ipykernel)",
   "language": "python",
   "name": "python3"
  },
  "language_info": {
   "codemirror_mode": {
    "name": "ipython",
    "version": 3
   },
   "file_extension": ".py",
   "mimetype": "text/x-python",
   "name": "python",
   "nbconvert_exporter": "python",
   "pygments_lexer": "ipython3",
   "version": "3.7.12"
  }
 },
 "nbformat": 4,
 "nbformat_minor": 5
}
